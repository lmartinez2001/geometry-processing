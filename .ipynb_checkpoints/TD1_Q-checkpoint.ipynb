{
 "cells": [
  {
   "cell_type": "markdown",
   "id": "bfbfcb15",
   "metadata": {},
   "source": [
    "In this practical session, we explore the use of the Laplacian operator on a surface, in order to solve heat diffusision, to perform shape matching, or even to compute geodesic distances !\n",
    "\n",
    "In a first step, we learn how to read and store triangulated surfaces (*meshes*), and how to build the discrete Laplace-Beltrami Operator. \n",
    "\n",
    "We then seek to use this operator in different practical scenarios."
   ]
  },
  {
   "cell_type": "markdown",
   "id": "0ebd5e60",
   "metadata": {},
   "source": [
    "# Setup envionment "
   ]
  },
  {
   "cell_type": "markdown",
   "id": "f1bf9d22",
   "metadata": {},
   "source": [
    "Your Python environment should include `numpy`, `scipy`, `matplotlib` and `meshplot`. The latter can be installed from conda using:\n",
    "><code> conda install -c conda-forge meshplot\n",
    "</code>"
   ]
  },
  {
   "cell_type": "markdown",
   "id": "ff93ece2",
   "metadata": {},
   "source": [
    "Please download [this zip file](https://www.lix.polytechnique.fr/Labo/Robin.Magnet/INF631/data.zip) and place all elements in the same folder as the notebook."
   ]
  },
  {
   "cell_type": "code",
   "execution_count": 1,
   "id": "5e5be496",
   "metadata": {},
   "outputs": [],
   "source": [
    "import numpy as np\n",
    "import scipy.sparse as sparse\n",
    "\n",
    "\n",
    "# If you did not put the elements of the zip file in the same folder as the the notebook add the next two lines\n",
    "# import sys\n",
    "# sys.path.append(\"PATH TO THE DIRECTORY WHERE YOU UNZIPED YOUR FILES\")\n",
    "import plot_utils as plu # Follow the above procedure"
   ]
  },
  {
   "cell_type": "markdown",
   "id": "a4fec583",
   "metadata": {},
   "source": [
    "# 0. Reading and storing a mesh "
   ]
  },
  {
   "cell_type": "markdown",
   "id": "6fa355ee",
   "metadata": {},
   "source": [
    "Unlike images, there are several ways to represent a discrete (triangulated) surface. In this session, we will stick to the most basic data structure which is made of:\n",
    "1. A list of vertex coordinates in $\\mathbb{R}^3$\n",
    "2. A list of triangles, each defined by 3 **ordered** vertex indices $i,j,k\\in\\mathbb{N}$. The order of the vertices define the direction of the normal.\n",
    "\n",
    "The `OFF` format, or **O**bject **F**ile **F**ormat, stores this information in a `.off` file, which we will use today. "
   ]
  },
  {
   "cell_type": "markdown",
   "id": "b17ea7d2",
   "metadata": {},
   "source": [
    "Open the `bunny.off` file using a text editor, where the structure will look like :\n",
    "<blockquote>\n",
    "    <code>OFF\n",
    "34834 69451 0\n",
    "-0.0378297 0.12794 0.00447467\n",
    "-0.0447794 0.128887 0.00190497\n",
    "...\n",
    "-0.0400442 0.15362 -0.00816685\n",
    "3 20463 20462 19669 \n",
    "3 8845 8935 14299 \n",
    "...</code>\n",
    "</blockquote>\n",
    "\n",
    "As you may already understand, our `.off` file is presented as follows:\n",
    "<ol>\n",
    "    <li> First Line: <code>OFF</code> letters</li>\n",
    "    <li> Second Line:  <code>n m 0</code>, with $n$ the numbers of <b>vertices</b> and $m$ the number of <b>triangles</b></li>\n",
    "    <li> Next $n$ lines: <code>X Y Z</code> coordinates for each <b>vertex</b></li>\n",
    "    <li> Next $m$ lines: <code>3 i j k</code> indices of the vertices constituting each <b>face</b></li>\n",
    "</ol>\n",
    "\n",
    "In practice, the `OFF` file format can include some more information as you can see on [here](https://en.wikipedia.org/wiki/OFF_(file_format)) if you are interested."
   ]
  },
  {
   "cell_type": "markdown",
   "id": "7b0453a9",
   "metadata": {},
   "source": [
    "### QUESTION 1\n",
    "<b> Write the function `read_off` which can read a basic `.off` file.</b>"
   ]
  },
  {
   "cell_type": "markdown",
   "id": "303e78b4",
   "metadata": {},
   "source": [
    "**Tips** :\n",
    "<ol>\n",
    "    <li> You can use the <code>with</code> statement to efficiently process a file: <br>\n",
    "        <code>with open(filepath, 'r') as f:\n",
    "   # compute operation on file</code>\n",
    "    </li>\n",
    "    <li> <code>f.readline()</code> returns the next line</li>\n",
    "    <li> <code>text.strip().split()</code> removes breakline characters from <code>text</code> and splits with respect to spaces. Try it with <code>text=\"1 2 3\\n\"</code> to see what happens.</li>\n",
    "</ol>"
   ]
  },
  {
   "cell_type": "code",
   "execution_count": 12,
   "id": "34ec0435",
   "metadata": {},
   "outputs": [],
   "source": [
    "def read_off(filepath):\n",
    "    \"\"\"\n",
    "    Reads a simple .off file\n",
    "    \n",
    "    Input\n",
    "    --------------\n",
    "    filepath : str - path to the .off file\n",
    "    \n",
    "    Output\n",
    "    --------------\n",
    "    vertices : (n,3) array of vertex coordinates (float)\n",
    "    faces    : (m,3) array of faces defined by vertices index (integers)\n",
    "    \"\"\"\n",
    "    ## TODO\n",
    "    # READ THE OFF FILE with path \"filepath\" and return vertex and faces information\n",
    "    with open(filepath, 'r') as f:\n",
    "        f.readline()\n",
    "        params = f.readline().strip().split()[:-1]\n",
    "        n, m = (int(p) for p in params)\n",
    "\n",
    "        vertices, faces = [], []\n",
    "\n",
    "        vertices = np.array([[float(p) for p in f.readline().strip().split()] for _ in range(n)])\n",
    "        faces = np.array([[int(p) for p in f.readline().strip().split()[1:]] for _ in range(m)])        \n",
    "      \n",
    "    return vertices, faces"
   ]
  },
  {
   "cell_type": "code",
   "execution_count": 13,
   "id": "b3d7518d-71a4-4418-a3af-5a857d07b862",
   "metadata": {},
   "outputs": [
    {
     "data": {
      "text/plain": [
       "((34834, 3), (69451, 3))"
      ]
     },
     "execution_count": 13,
     "metadata": {},
     "output_type": "execute_result"
    }
   ],
   "source": [
    "vertices, faces = read_off('bunny.off')\n",
    "vertices.shape, faces.shape"
   ]
  },
  {
   "cell_type": "markdown",
   "id": "45a77875",
   "metadata": {},
   "source": [
    "As we will have to deal with several components regarding a single mesh, it might be good to create a specific class in which all information will be stored."
   ]
  },
  {
   "cell_type": "code",
   "execution_count": 14,
   "id": "ff5e9e10",
   "metadata": {},
   "outputs": [],
   "source": [
    "class MyMesh:\n",
    "    def __init__(self, path):\n",
    "        \"\"\"\n",
    "        Initialize the mesh from a path\n",
    "        \"\"\"\n",
    "        self.vertices, self.faces = read_off(path)"
   ]
  },
  {
   "cell_type": "markdown",
   "id": "55935d4f",
   "metadata": {},
   "source": [
    "This way, if we define an instance of `MyMesh` as `mesh = MyMesh(filepath)`, the `__init__` function is automatically run with parameter `filepath` (ignore the `self` parameter).\n",
    "\n",
    "Then the mesh vertex coordinates can be accessed using `mesh.vertices`and its faces information with `mesh.faces`. These are the *properties* of our class.\n",
    "\n",
    "Let us load and visualize our bunny:"
   ]
  },
  {
   "cell_type": "code",
   "execution_count": 15,
   "id": "f00251ff",
   "metadata": {},
   "outputs": [],
   "source": [
    "mesh = MyMesh('bunny.off')"
   ]
  },
  {
   "cell_type": "code",
   "execution_count": 16,
   "id": "621d1f0c",
   "metadata": {},
   "outputs": [
    {
     "data": {
      "application/vnd.jupyter.widget-view+json": {
       "model_id": "e2276af39ecb4cca9dd22141d717adb4",
       "version_major": 2,
       "version_minor": 0
      },
      "text/plain": [
       "Renderer(camera=PerspectiveCamera(children=(DirectionalLight(color='white', intensity=0.6, position=(-0.016840…"
      ]
     },
     "metadata": {},
     "output_type": "display_data"
    },
    {
     "data": {
      "text/plain": [
       "<meshplot.Viewer.Viewer at 0x76adc3f23cd0>"
      ]
     },
     "execution_count": 16,
     "metadata": {},
     "output_type": "execute_result"
    }
   ],
   "source": [
    "plu.plot(mesh)"
   ]
  },
  {
   "cell_type": "markdown",
   "id": "70ce7fff",
   "metadata": {},
   "source": [
    "# 1. Discrete Operators"
   ]
  },
  {
   "cell_type": "markdown",
   "id": "495bdd36",
   "metadata": {},
   "source": [
    "As seen in class, the Laplacian of a mesh is ubiquitous in geometry processing. The discrete laplacian is defined as\n",
    "$$\n",
    "L = A^{-1}W\n",
    "$$\n",
    "with $A$ the (diagonal) area matrix, and $W$ the cotangent weight matrix"
   ]
  },
  {
   "cell_type": "markdown",
   "id": "d23b669a",
   "metadata": {},
   "source": [
    "**Notes for Sparse Matrices**<br>\n",
    "As the Laplace-Operator is a differential operator, it only locally acts at a point with respect to a local neighborhood. When storing it in a $n\\times n$ matrix, this results in numerous zero entries, which are useless to keep in memory.\n",
    "\n",
    "For both speed and memory efficiency, we use sparse matrices to represent such operators, where only non-zero entries are stored. The most basic structure for a sparse matrix is the **COO**rdinate format, which consists in three lists $I,J,V$ which respectively store the line index, column index and value for each non-zero entry.\n",
    "\n",
    "For algebra manipulations (matrix vector multiplications, linear system, ...), other format such as **C**ompressed **S**parse **R**ow (CSR) provide a substential speedup compared to COO. You can read about the CSR and CSC format [here](https://en.wikipedia.org/wiki/Sparse_matrix).\n",
    "\n",
    "In the [`scipy.sparse`](https://docs.scipy.org/doc/scipy/reference/sparse.html) library, you can generate COO, CSR or CSC matrices from the $I,J,V$ format using for instance<br>\n",
    "> <code>scipy.sparse.csr_matrix((V, (I,J)), shape=(N,N))</code>\n",
    "\n",
    "Note that depending on your python version, you might now have access to the more recent `scipy.sparse.csr_array` functions."
   ]
  },
  {
   "cell_type": "markdown",
   "id": "50004a0a",
   "metadata": {},
   "source": [
    "**Notes for numpy linear algebra**<br>\n",
    "A few tips for simpler reading of numpy\n",
    "<ol>\n",
    "    <li> <code>np.matmul(A, B)</code> and <code>A @ B</code> are the same </li>\n",
    "    <li><code>np.matmum(A, v)</code> and <code>A @ v</code> are the same</li>\n",
    "    <li><code>np.dot(u, v)</code> and <code>u @ v</code> are the same</li>\n",
    "    <li> <code>np.transpose(A)</code> and <code>A.T</code> are the same</li>\n",
    "</ol>\n",
    "\n",
    "This means <code>A @ B.T @ u</code> is the same as <code>np.matmul(A, np.matmul(np.transpose(B), u))</code>"
   ]
  },
  {
   "cell_type": "markdown",
   "id": "65ad31c4",
   "metadata": {},
   "source": [
    "## Question 2 \n",
    "<b> Fill the functions <code>compute_faces_areas</code> and <code>area_matrix</code> to respectively compute the area of each face and the vertex-wise area matrix $A$</b>"
   ]
  },
  {
   "cell_type": "markdown",
   "id": "e7f6f7fa",
   "metadata": {},
   "source": [
    "Recall the area matrix $A$ is a $n\\times n$ diagonal matrix where each entry provide the corresponding vertex area defined as:\n",
    "$$\n",
    "A_{ii} = \\frac{1}{3}\\sum_{f\\in\\mathcal{F}\\\\ i\\in f} \\text{Area}(f)\n",
    "$$\n",
    "\n",
    "**Tip**: There are multiple ways to compute the area of a triangle $ABC$, one of them being $\\frac{1}{2}\\|\\vec{AB}\\times \\vec{AC}\\|$"
   ]
  },
  {
   "cell_type": "code",
   "execution_count": 17,
   "id": "e0225464",
   "metadata": {},
   "outputs": [],
   "source": [
    "def compute_faces_areas(vertices, faces):\n",
    "    \"\"\"\n",
    "    Compute the area of each face\n",
    "    \n",
    "    Input\n",
    "    --------------\n",
    "    vertices : (n,3) - vertex coordinates\n",
    "    faces    : (m,3) - faces defined by vertex indices\n",
    "    \n",
    "    Output\n",
    "    --------------\n",
    "    faces_areas : (m,) - area of each face\n",
    "    \"\"\"\n",
    "    ## TODO\n",
    "    # Compute the area of each triangle of the mesh.\n",
    "    faces_areas = np.array([np.linalg.norm(np.cross(vertices[j]-vertices[i], vertices[k]-vertices[i])) for (i,j,k) in faces])\n",
    "\n",
    "    return faces_areas    \n",
    "\n",
    "\n",
    "def area_matrix(vertices, faces):\n",
    "    \"\"\"\n",
    "    Compute the diagonal area matrix\n",
    "    \n",
    "    Input\n",
    "    --------------\n",
    "    vertices : (n,3) - vertex coordinates\n",
    "    faces    : (m,3) - faces defined by vertex indices\n",
    "    \n",
    "    Output\n",
    "    --------------\n",
    "    A : (n,n) sparse matrix in DIAgonal format\n",
    "    \"\"\"\n",
    "    #TODO\n",
    "    # Compute the area of each vertex in the mesh.\n",
    "    # Use the formula above.\n",
    "\n",
    "    faces_areas = compute_faces_areas(vertices, faces)\n",
    "    vertex_areas = np.zeros(vertices.shape[0])\n",
    "    for face_idx in range(faces.shape[0]):\n",
    "        for vertex in faces[face_idx]:\n",
    "            vertex_areas[vertex] += faces_areas[face_idx]\n",
    "\n",
    "    vertex_areas /= 3\n",
    "    \n",
    "    # Create a SPARSE diagonal matix from vertex areas\n",
    "    N = vertices.shape[0]\n",
    "    A = sparse.dia_matrix((vertex_areas, 0), shape=(N, N))\n",
    "    return A\n"
   ]
  },
  {
   "cell_type": "markdown",
   "id": "6c4e29f9",
   "metadata": {},
   "source": [
    "<b>Sanity Check : Verify that your total area remains the same whether you sum all face areas or the entries of the area matrix</b>"
   ]
  },
  {
   "cell_type": "code",
   "execution_count": 18,
   "id": "733c35b9",
   "metadata": {},
   "outputs": [
    {
     "name": "stdout",
     "output_type": "stream",
     "text": [
      "True\n"
     ]
    }
   ],
   "source": [
    "faces_areas = compute_faces_areas(mesh.vertices, mesh.faces)\n",
    "\n",
    "A = area_matrix(mesh.vertices, mesh.faces)\n",
    "print(A.diagonal().sum() == faces_areas.sum())"
   ]
  },
  {
   "cell_type": "markdown",
   "id": "294063ca",
   "metadata": {},
   "source": [
    "## Question 3"
   ]
  },
  {
   "cell_type": "markdown",
   "id": "14e6f998",
   "metadata": {},
   "source": [
    "Recall the stiffness matrix $W$ is a $n\\times n$ sparse matrix. There are multiple ways to compute each entry, one of them being:\n",
    "$$\n",
    "W_{ij} = \\begin{cases}\n",
    "-\\sum_{k\\neq i} W_{ik} \\quad&\\text{if}\\quad i=j\\\\\n",
    "-\\frac{1}{2} \\left(\\cot(\\alpha_{ij}) + \\cot(\\beta_{ij})\\right)\\quad&\\text{if}\\quad ij\\in\\mathcal{E}\\\\\n",
    "0 \\quad&\\text{else}\n",
    "\\end{cases}\n",
    "$$\n",
    "\n",
    "where $\\alpha_{ij}$ and $\\beta_{ij}$ are the angles opposite to the edge $ij$. Note that actually $\\beta_{ij}=\\alpha_{ji}$. With other notations you can visualize this face on the image below"
   ]
  },
  {
   "cell_type": "markdown",
   "id": "9deef111",
   "metadata": {},
   "source": [
    "![title](https://www.researchgate.net/publication/361577236/figure/fig3/AS:1182638081617922@1658974299594/An-illustration-for-the-cotangent-weights.png)"
   ]
  },
  {
   "cell_type": "markdown",
   "id": "5db9c30e",
   "metadata": {},
   "source": [
    "### Question 3.1 "
   ]
  },
  {
   "cell_type": "markdown",
   "id": "f1ec8aad",
   "metadata": {},
   "source": [
    "<b> Fill the function <code>get_cotan_weights</code> to compute the cotangent weights for each face</b>"
   ]
  },
  {
   "cell_type": "code",
   "execution_count": 19,
   "id": "00bf77cd",
   "metadata": {
    "ExecuteTime": {
     "end_time": "2023-11-12T18:18:10.218170Z",
     "start_time": "2023-11-12T18:18:10.183275Z"
    }
   },
   "outputs": [],
   "source": [
    "def cotan_weights(vertices, faces):\n",
    "    \"\"\"\n",
    "    Compute cotangent weights for each face. Each vertex will carry the cotan of its angle.\n",
    "    \n",
    "    For a face [i, j, k], the output will be [alpha_{jk}, alpha_{ki}, alpha_{ij}].\n",
    "    \n",
    "    Input\n",
    "    ----------\n",
    "    vertices : (n,3) - The vertices of the mesh\n",
    "    faces : (m,3) The faces of the mesh\n",
    "    \n",
    "    Output\n",
    "    -------\n",
    "    cotan_weights : (m,3) The cotangent weights for each face\n",
    "    \"\"\"\n",
    "    ### TODO - Compute the cotangent weights\n",
    "    # This can be done in parallel using numpy, or by looping over the faces\n",
    "    cotan_weights = np.zeros((faces.shape[0], 3))\n",
    "\n",
    "    def cotan(v1, v2):\n",
    "        cos = np.dot(v1, v2) / (np.linalg.norm(v1) * np.linalg.norm(v2))\n",
    "        sin = np.sqrt(1 - cos**2)\n",
    "        return cos/sin\n",
    "    \n",
    "    for f_idx, face in enumerate(faces):\n",
    "         for i in range(3):\n",
    "             v1 = vertices[face[(i+1) % 3]] - vertices[face[i]]\n",
    "             v2 = vertices[face[(i+2) % 3]] - vertices[face[i]]\n",
    "             cotan_weights[f_idx][i] = cotan(v1,v2)\n",
    "\n",
    "    \n",
    "    return cotan_weights"
   ]
  },
  {
   "cell_type": "code",
   "execution_count": 27,
   "id": "d632f851-197c-4b7d-983e-64d38373c2b8",
   "metadata": {},
   "outputs": [
    {
     "data": {
      "text/plain": [
       "3.141592653589793"
      ]
     },
     "execution_count": 27,
     "metadata": {},
     "output_type": "execute_result"
    }
   ],
   "source": [
    "res = cotan_weights(mesh.vertices, mesh.faces)\n",
    "np.arctan(1/res[0]).sum()"
   ]
  },
  {
   "cell_type": "markdown",
   "id": "4c18cabe",
   "metadata": {},
   "source": [
    "### Question 3.2 "
   ]
  },
  {
   "cell_type": "markdown",
   "id": "788be618",
   "metadata": {},
   "source": [
    "<b> Fill the function <code>cotan_matrix</code> to compute the cotangent weight matrix $W$</b>"
   ]
  },
  {
   "cell_type": "code",
   "execution_count": 31,
   "id": "8374de34",
   "metadata": {},
   "outputs": [],
   "source": [
    "def cotan_matrix(vertices, faces):\n",
    "    \"\"\"\n",
    "    Compute the stiffness matrix\n",
    "    \n",
    "    Input\n",
    "    --------------\n",
    "    vertices : (n,3) - vertex coordinates\n",
    "    faces    : (m,3) - faces defined by vertex indices\n",
    "    \n",
    "    Output\n",
    "    --------------\n",
    "    W : (n,n) sparse matrix in CSC format\n",
    "    \"\"\"\n",
    "    # TODO\n",
    "    # Compute the entries I,J,V of the stiffness matrix\n",
    "    # Note that the same pair (i,j) of indices can appear multiple times in I,J\n",
    "    # The corresponding values in V are then summed by scipy\n",
    "    \n",
    "    cot_weights = cotan_weights(vertices, faces)\n",
    "    I, J, V = [], [], []\n",
    "    N = vertices.shape[0]\n",
    "\n",
    "    def append_val(row, col, val):\n",
    "        I.append(row)\n",
    "        J.append(col)\n",
    "        V.append(val)\n",
    "    \n",
    "    # i,j on the same edge\n",
    "    for f_idx, face in enumerate(faces):\n",
    "        for i in range(3):\n",
    "            partial_cot_weight = -0.5 * cot_weights[f_idx, (i+2)%3]\n",
    "            \n",
    "            append_val(face[i], face[(i+1)%3], partial_cot_weight) # (i,j)\n",
    "            append_val(face[(i+1)%3], face[i], partial_cot_weight) # (j,i)\n",
    "            append_val(face[i], face[i], -partial_cot_weight) # (i,i)\n",
    "            append_val(face[(i+1)%3], face[(i+1)%3], -partial_cot_weight) # (j,j)            \n",
    "            \n",
    "    W = sparse.csr_matrix((V, (I,J)), shape=(N,N))            \n",
    "\n",
    "    return W\n"
   ]
  },
  {
   "cell_type": "markdown",
   "id": "cd6fec61",
   "metadata": {},
   "source": [
    "**Sanity Check : Ensure all terms sum to 0**"
   ]
  },
  {
   "cell_type": "code",
   "execution_count": 32,
   "id": "faf32f8b",
   "metadata": {},
   "outputs": [
    {
     "data": {
      "text/plain": [
       "True"
      ]
     },
     "execution_count": 32,
     "metadata": {},
     "output_type": "execute_result"
    }
   ],
   "source": [
    "np.isclose(cotan_matrix(mesh.vertices, mesh.faces).sum(), 0)"
   ]
  },
  {
   "cell_type": "markdown",
   "id": "08e089e7",
   "metadata": {},
   "source": [
    "Let us now integrate this Laplacian into our mesh class (nothing to change here):"
   ]
  },
  {
   "cell_type": "code",
   "execution_count": 33,
   "id": "417e9a77",
   "metadata": {},
   "outputs": [],
   "source": [
    "class MyMesh:\n",
    "    def __init__(self, path):\n",
    "        \"\"\"\n",
    "        Initialize the mesh from a path\n",
    "        \"\"\"\n",
    "        self.vertices, self.faces = read_off(path)\n",
    "        \n",
    "    def compute_laplacian(self):\n",
    "        self.A = area_matrix(self.vertices, self.faces)\n",
    "        self.W = cotan_matrix(self.vertices, self.faces)"
   ]
  },
  {
   "cell_type": "markdown",
   "id": "60d85139",
   "metadata": {},
   "source": [
    "The function `compute_laplacian` is called a *method* of the class `MyMesh`, and can be called as follows:"
   ]
  },
  {
   "cell_type": "code",
   "execution_count": 34,
   "id": "3e16fd82",
   "metadata": {},
   "outputs": [],
   "source": [
    "mesh = MyMesh('bunny.off')\n",
    "mesh.compute_laplacian()"
   ]
  },
  {
   "cell_type": "markdown",
   "id": "d423c131",
   "metadata": {},
   "source": [
    "The `self` parameter actually defined the instance of the class `MyMesh` on which the method is called.\n",
    "Equivalentely, one could run `MyMesh.compute_laplacian(mesh)` instead of `mesh.compute_laplacian()`."
   ]
  },
  {
   "cell_type": "markdown",
   "id": "b911bcab",
   "metadata": {},
   "source": [
    "# 2. Diffusion on Surface "
   ]
  },
  {
   "cell_type": "markdown",
   "id": "3db358fe",
   "metadata": {},
   "source": [
    "## 2.1 Exact Diffusion "
   ]
  },
  {
   "cell_type": "markdown",
   "id": "1392175f",
   "metadata": {},
   "source": [
    "Perhaps, the most common use of the Laplace-Beltrami operator is to simulate heat diffusion on an arbitrary surface.\n",
    "\n",
    "Recall that the Heat Equation is defined as\n",
    "$$\n",
    "\\frac{\\partial u}{\\partial t} = \\Delta u\n",
    "$$\n",
    "\n",
    "Given an initial function $u_0$, the values $u_t$ at time $t$ can be obtained by discretizing the equation using single backward Euler Step, which leads to \n",
    "$$\n",
    "\\left(I_d - t\\Delta \\right) u_t = u_0\n",
    "$$\n",
    "\n",
    "Note however that the mathematical laplacian $\\Delta$ is <b>negative semidefinite</b>, while our laplacian $L$ is <b>positive semidefinite</b>, and $L\\simeq -\\Delta$. \n",
    "\n",
    "Replacing $\\Delta$ by $-L$ and multiplying the left and right side of the equation by $A$, which removes the inverse $A^{-1}$, we obtain\n",
    "\n",
    "$$\n",
    "\\left(A + tW \\right) u_t = A u_0\n",
    "$$\n",
    "\n",
    "Therefore, given $u_0$, the value of $u$ at time $t$ can be obtained by solving this **sparse** linear system (as the matrix $A + tW$ we want to invert is sparse).\n",
    "\n",
    "While the system is made of $n$ equations,  where $n$ is the number of vertices which can grow very large, the fact it is **sparse** enables the use of significanly faster solver than for dense systems of the same size. Note that solving the system **does not** require to actually invert $A + tW$.\n",
    "\n"
   ]
  },
  {
   "cell_type": "markdown",
   "id": "cc4a5d09",
   "metadata": {},
   "source": [
    "## Question 4\n",
    "<b> Fill the function <code>diffuse_full</code> to compute diffusion of an initial function $f$ for time $t$</b>"
   ]
  },
  {
   "cell_type": "markdown",
   "id": "9ea5a89d",
   "metadata": {},
   "source": [
    "**Tip**: Use [`sparse.linalg.spsolve`](https://docs.scipy.org/doc/scipy/reference/generated/scipy.sparse.linalg.spsolve.html)"
   ]
  },
  {
   "cell_type": "code",
   "execution_count": 37,
   "id": "d125fb82",
   "metadata": {},
   "outputs": [],
   "source": [
    "def diffuse_full(f, mesh, t):\n",
    "    \"\"\"\n",
    "    Diffuse a function f on a mesh for time t\n",
    "    \n",
    "    Input\n",
    "    --------------\n",
    "    f       : (n,) - function values\n",
    "    mesh    : MyMesh - mesh on which to diffuse\n",
    "    t       : float - time for which to diffuse\n",
    "    \n",
    "    Output\n",
    "    --------------\n",
    "    f_diffuse : (n,) values of f after diffusion\n",
    "    \"\"\"\n",
    "    # TODO\n",
    "    # Solve the Diffusion process using the formula above\n",
    "    # Assume laplcaian already computed\n",
    "    f_diffuse = sparse.linalg.spsolve(mesh.A + t * mesh.W, mesh.A @ f)\n",
    "    return f_diffuse"
   ]
  },
  {
   "cell_type": "code",
   "execution_count": 74,
   "id": "80434d32-d903-47d6-b7a5-51193971229a",
   "metadata": {},
   "outputs": [
    {
     "data": {
      "text/plain": [
       "(34834, 34834)"
      ]
     },
     "execution_count": 74,
     "metadata": {},
     "output_type": "execute_result"
    }
   ],
   "source": [
    "A.shape"
   ]
  },
  {
   "cell_type": "markdown",
   "id": "31f2b231",
   "metadata": {},
   "source": [
    "## Question 4\n",
    "<b> See what happens when diffusing a dirac function</b>\n",
    "\n",
    "**Tip**:\n",
    "<ol>\n",
    "    <li> Plotting the dirac function centered on index <code>ind</code> can be done with <code>plu.plot(mesh, points=ind)</code> </li>\n",
    "    <li> Plotting the diffused function <code>f_diffuse</code> can be done with <code>plu.plot(mesh, f_diffuse, colormap='Reds')</code> </li>"
   ]
  },
  {
   "cell_type": "code",
   "execution_count": 173,
   "id": "79822a34",
   "metadata": {},
   "outputs": [
    {
     "data": {
      "application/vnd.jupyter.widget-view+json": {
       "model_id": "6a3a87cb1b154d5385776dc9f77ef6ed",
       "version_major": 2,
       "version_minor": 0
      },
      "text/plain": [
       "Renderer(camera=PerspectiveCamera(children=(DirectionalLight(color='white', intensity=0.6, position=(-0.016840…"
      ]
     },
     "metadata": {},
     "output_type": "display_data"
    },
    {
     "data": {
      "text/plain": [
       "<meshplot.Viewer.Viewer at 0x76ad4ed7a920>"
      ]
     },
     "execution_count": 173,
     "metadata": {},
     "output_type": "execute_result"
    }
   ],
   "source": [
    "## TODO\n",
    "ind = np.random.randint(0, mesh.vertices.shape[0])\n",
    "t = np.random.rand()\n",
    "\n",
    "# plu.plot(mesh, points=ind)\n",
    "f = np.insert(np.zeros(mesh.vertices.shape[0] - 1), ind, 1) # [0, ..., 0, 1, 0, ..., 0]\n",
    "f_diffuse = diffuse_full(f, mesh, t)\n",
    "\n",
    "plu.plot(mesh, f_diffuse, colormap='Reds')"
   ]
  },
  {
   "cell_type": "markdown",
   "id": "0a4ffdaf",
   "metadata": {},
   "source": [
    "## 2.2 Approximate Diffusion "
   ]
  },
  {
   "cell_type": "markdown",
   "id": "e9ffe99d",
   "metadata": {},
   "source": [
    "As seen in class, the spectrum of the Laplace-Beltrami operator provides a functional basis which generalizes the standard Fourier Analysis to all surfaces.\n",
    "\n",
    "As the Laplacian is only positive **semidefinite**, its spectrum is obtained by solving the **generalized** eigenvalue problem $W\\phi = \\lambda A \\phi$.\n",
    "\n",
    "This spectrum consists in eigenvalues - eigenfunctions pairs $\\left(\\lambda_j, \\phi_j\\right)_j$.\n",
    "\n",
    "In practice, we only compute the first $K$ eigenfunctions where $K$ lies in $[10,100]$. This defines an **orthogonal** basis (with respect to the standard inner product defined by $A$), which already provides good approximations of many functions.\n",
    "\n",
    "In practice, the spectrum is stored as follows:\n",
    "<ol>\n",
    "    <li>The eigenvalues $\\left(\\lambda_j\\right)_j$ are stored in a list and seen as a diagonal matrix $\\Lambda$</li>\n",
    "    <li>The eigenvectors $\\left(\\phi_j\\right)_j$ are stored as columns of matrix $\\Phi$</li>\n",
    "</ol>\n",
    "\n",
    "and proposes the following properties:\n",
    "<ul>\n",
    "    <li><b>Orthogonality</b> of the inner product defined by $A$: $\\Phi^\\top A \\Phi = I_K$. This is the discrete translation of $\\langle \\phi_i, \\phi_j\\rangle_{A} = \\delta_{ij}$, where $\\delta$ is here the Kronecker symbol</li>\n",
    "    <li><b>Eigendecomposition</b>: $L\\Phi = \\Phi \\Lambda$ (or $W\\Phi = A\\Phi \\Lambda$). This is the discrete translation of $L\\phi_i=\\lambda_i\\phi_i$</li>\n",
    "    <li>The <b>projection</b> $\\alpha\\in\\mathbb{R}^K$ of a function $f\\in\\mathbb{R}^n$ on the basis is: $\\alpha = \\Phi^\\top A f$. This is the translation of $\\alpha_i=\\langle\\phi_i, f\\rangle_A$</li>\n",
    "    <li>Coefficients $\\alpha\\in\\mathbb{R}^K$ in the basis define a function $f\\in\\mathbb{R}^n$ on the shape as: $\\Phi\\alpha = f$. This is the translation of $f=\\sum_{i=0}^K \\alpha_i\\phi_i$</li>\n",
    "</ul>"
   ]
  },
  {
   "cell_type": "markdown",
   "id": "6a0b4e7c",
   "metadata": {},
   "source": [
    "Let's add the eigendecomposition of the Laplacian to the mesh class as a new method."
   ]
  },
  {
   "cell_type": "code",
   "execution_count": 120,
   "id": "fed82ec6",
   "metadata": {},
   "outputs": [],
   "source": [
    "class MyMesh:\n",
    "    def __init__(self, path):\n",
    "        \"\"\"\n",
    "        Initialize the mesh from a path\n",
    "        \"\"\"\n",
    "        self.vertices, self.faces = read_off(path)\n",
    "        \n",
    "    def compute_laplacian(self):\n",
    "        self.A = area_matrix(self.vertices, self.faces)\n",
    "        self.W = cotan_matrix(self.vertices, self.faces)\n",
    "        \n",
    "    def compute_eigendecomposition(self, K):\n",
    "        self.eigenvalues, self.eigenvectors = sparse.linalg.eigsh(self.W, M=self.A,\n",
    "                                                                  k=K, sigma=-0.01)\n",
    "        # The sigma parameter allows to stabilize the eigendecomposition\n",
    "        "
   ]
  },
  {
   "cell_type": "code",
   "execution_count": 219,
   "id": "aa2b1a76",
   "metadata": {},
   "outputs": [],
   "source": [
    "mesh = MyMesh(\"bunny.off\")\n",
    "mesh.compute_laplacian()\n",
    "mesh.compute_eigendecomposition(100)  ## This can take some time"
   ]
  },
  {
   "cell_type": "markdown",
   "id": "f9d0f744",
   "metadata": {},
   "source": [
    "## Question 6\n",
    "<ol>\n",
    "    <li><b> Visualize some eigenfunctios of the Laplacian.</b></li>\n",
    "    <li><b> Visualize the effect of projecting a dirac function on a basis of different size</b>. Use the above explanations to project</li>\n",
    "</ol>\n",
    "\n",
    "**Tip** To plot a general function, it is good to use a simple colormap like `\"coolwarm\"`: <code>plu.plot(mesh, function, colormap=\"coolwarm\")</code>"
   ]
  },
  {
   "cell_type": "code",
   "execution_count": 139,
   "id": "28925ffb",
   "metadata": {},
   "outputs": [
    {
     "data": {
      "application/vnd.jupyter.widget-view+json": {
       "model_id": "2d88173f8576412c8b85b47cec3c3a41",
       "version_major": 2,
       "version_minor": 0
      },
      "text/plain": [
       "Renderer(camera=PerspectiveCamera(children=(DirectionalLight(color='white', intensity=0.6, position=(-0.016840…"
      ]
     },
     "metadata": {},
     "output_type": "display_data"
    },
    {
     "data": {
      "application/vnd.jupyter.widget-view+json": {
       "model_id": "8bdae6ba2a604187ab5568ccd7448501",
       "version_major": 2,
       "version_minor": 0
      },
      "text/plain": [
       "Renderer(camera=PerspectiveCamera(children=(DirectionalLight(color='white', intensity=0.6, position=(-0.016840…"
      ]
     },
     "metadata": {},
     "output_type": "display_data"
    },
    {
     "data": {
      "application/vnd.jupyter.widget-view+json": {
       "model_id": "e971b7aaeb5b4b17bee7cc7acca47f11",
       "version_major": 2,
       "version_minor": 0
      },
      "text/plain": [
       "Renderer(camera=PerspectiveCamera(children=(DirectionalLight(color='white', intensity=0.6, position=(-0.016840…"
      ]
     },
     "metadata": {},
     "output_type": "display_data"
    },
    {
     "data": {
      "application/vnd.jupyter.widget-view+json": {
       "model_id": "689747458cb24efeae71d173b1d2f881",
       "version_major": 2,
       "version_minor": 0
      },
      "text/plain": [
       "Renderer(camera=PerspectiveCamera(children=(DirectionalLight(color='white', intensity=0.6, position=(-0.016840…"
      ]
     },
     "metadata": {},
     "output_type": "display_data"
    },
    {
     "data": {
      "application/vnd.jupyter.widget-view+json": {
       "model_id": "4fd5fc3a3dc5414ab04e2a54d0ed7f29",
       "version_major": 2,
       "version_minor": 0
      },
      "text/plain": [
       "Renderer(camera=PerspectiveCamera(children=(DirectionalLight(color='white', intensity=0.6, position=(-0.016840…"
      ]
     },
     "metadata": {},
     "output_type": "display_data"
    },
    {
     "data": {
      "application/vnd.jupyter.widget-view+json": {
       "model_id": "9f1d4cf5064d4424ba83e2a1cfb1609c",
       "version_major": 2,
       "version_minor": 0
      },
      "text/plain": [
       "Renderer(camera=PerspectiveCamera(children=(DirectionalLight(color='white', intensity=0.6, position=(-0.016840…"
      ]
     },
     "metadata": {},
     "output_type": "display_data"
    },
    {
     "data": {
      "application/vnd.jupyter.widget-view+json": {
       "model_id": "e7aa799afeea4980acff8af9e4c673f9",
       "version_major": 2,
       "version_minor": 0
      },
      "text/plain": [
       "Renderer(camera=PerspectiveCamera(children=(DirectionalLight(color='white', intensity=0.6, position=(-0.016840…"
      ]
     },
     "metadata": {},
     "output_type": "display_data"
    },
    {
     "data": {
      "application/vnd.jupyter.widget-view+json": {
       "model_id": "e44761d422a44ed5933e5843fd7b4c23",
       "version_major": 2,
       "version_minor": 0
      },
      "text/plain": [
       "Renderer(camera=PerspectiveCamera(children=(DirectionalLight(color='white', intensity=0.6, position=(-0.016840…"
      ]
     },
     "metadata": {},
     "output_type": "display_data"
    },
    {
     "data": {
      "application/vnd.jupyter.widget-view+json": {
       "model_id": "1befa586718f43bc97bedfdfb95458fe",
       "version_major": 2,
       "version_minor": 0
      },
      "text/plain": [
       "Renderer(camera=PerspectiveCamera(children=(DirectionalLight(color='white', intensity=0.6, position=(-0.016840…"
      ]
     },
     "metadata": {},
     "output_type": "display_data"
    }
   ],
   "source": [
    "## TODO Plot projected dirac\n",
    "modes = [10 * i for i in range(1, 10)]\n",
    "for mode in modes:\n",
    "    plu.plot(mesh, mesh.eigenvectors[:,mode], colormap='coolwarm')"
   ]
  },
  {
   "cell_type": "markdown",
   "id": "daa4600a",
   "metadata": {},
   "source": [
    "Coming back to Diffusion, we wish to solve the Diffusion process using spectral analysis. Recall the discretized diffusion equation was\n",
    "$$\n",
    "\\left(A + tW \\right) u_t = A u_0\n",
    "$$\n",
    "\n",
    "If we consider $u_t$ to lie in a basis of size $K$ - that is $u_t =\\Phi\\alpha_t$, multiplying by $\\Phi^\\top$ on the left gives\n",
    "$$\n",
    "\\left(I_K + t\\Lambda \\right) \\alpha_t = \\Phi^\\top A u_0\n",
    "$$\n",
    "\n",
    "Since the leftmost term is diagonal, this means $u_t =\\Phi\\alpha_t$ with the element-wise value:\n",
    "$$\n",
    "(\\alpha_t)_j = \\frac{\\beta_j}{1+\\lambda_j}\n",
    "$$\n",
    "\n",
    "where $\\beta=\\Phi^\\top A u_0$ is actually the **projection** of $u_0$ in the basis.\n",
    "\n",
    "Note that <b>this only requires elementary matrix multiplications</b> and not solving a linear system."
   ]
  },
  {
   "cell_type": "markdown",
   "id": "5ffd21b9",
   "metadata": {},
   "source": [
    "**Note**: In practice we can have a better approximation by coming back to the original heat equation $\\frac{\\partial u_t}{\\partial t} = \\Delta u_t$.\n",
    "\n",
    "Using $u_t =\\Phi\\alpha_t$ and $\\Delta\\Phi=-\\Phi\\Lambda$, we can obtain $\\frac{\\partial \\alpha_t}{\\partial t} = -\\Lambda \\alpha_t$, with $\\Lambda$ being a diagonal matrix. We then obtain\n",
    "$$\n",
    "(\\alpha_t)_j = \\exp(-\\lambda_j t) \\beta_j\n",
    "$$"
   ]
  },
  {
   "cell_type": "markdown",
   "id": "6e6c1e40",
   "metadata": {},
   "source": [
    "## Question 7\n",
    "<b> Fill the function <code>diffuse_spectral</code> which diffuses a function f for a time t</b>\n"
   ]
  },
  {
   "cell_type": "code",
   "execution_count": 220,
   "id": "e0015e00-53f0-46b0-a055-2df3e0c826be",
   "metadata": {},
   "outputs": [],
   "source": [
    "\n",
    "def diffuse_spectral(f, mesh, t, k):\n",
    "    \"\"\"\n",
    "    Diffuse a function f on a mesh for time t\n",
    "    \n",
    "    Input\n",
    "    --------------\n",
    "    f       : (n,) - function values\n",
    "    mesh    : MyMesh - mesh on which to diffuse\n",
    "    t       : float - time for which to diffuse\n",
    "    k       : int - size of the basis to use for diffusion\n",
    "    \n",
    "    Output\n",
    "    --------------\n",
    "    f_diffuse : (n,) values of f after diffusion\n",
    "    \"\"\"\n",
    "    # TODO\n",
    "    # Solve the Diffusion process using spectral analysis.\n",
    "    # Use the formula above.\n",
    "    # Note that you should return the function u_t, NOT alpha_t !\n",
    "    mesh.compute_eigendecomposition(k)  ## This can take some time \n",
    "    \n",
    "    lamb = mesh.eigenvalues # K\n",
    "    phi = mesh.eigenvectors # n*K \n",
    "    A = mesh.A # n*n\n",
    "    W = mesh.W # n*n\n",
    "\n",
    "    beta = phi.T @ A @ f # K*n @ n*n @ n -> (K,)\n",
    "    alpha = np.exp(-lamb * t) * beta  \n",
    "\n",
    "    f_diffuse = phi @ alpha    \n",
    "    \n",
    "    return f_diffuse"
   ]
  },
  {
   "cell_type": "markdown",
   "id": "4fad75ac",
   "metadata": {},
   "source": [
    "## Question 8\n",
    "<b>Compare the results of the diffusion using the exact and spectral approach on :</b>\n",
    "<ol>\n",
    "    <li> <b>a dirac function</b>.</li>\n",
    "    <li> <b> a function $\\Phi\\alpha$ with $\\alpha\\sim \\otimes^k\\mathcal{U}(0,1)$ </b>"
   ]
  },
  {
   "cell_type": "markdown",
   "id": "8964b70d",
   "metadata": {},
   "source": [
    "Note that similarly to standard Fourier analysis, a dirac function require the entire range of frequencies to be represented in the basis."
   ]
  },
  {
   "cell_type": "code",
   "execution_count": 249,
   "id": "493b28ab",
   "metadata": {},
   "outputs": [
    {
     "data": {
      "application/vnd.jupyter.widget-view+json": {
       "model_id": "9bf4e91be22740afb77af3dd47be6273",
       "version_major": 2,
       "version_minor": 0
      },
      "text/plain": [
       "Renderer(camera=PerspectiveCamera(children=(DirectionalLight(color='white', intensity=0.6, position=(-0.016840…"
      ]
     },
     "metadata": {},
     "output_type": "display_data"
    },
    {
     "data": {
      "application/vnd.jupyter.widget-view+json": {
       "model_id": "ab58da2c03e54edf977d361b1e22dd1d",
       "version_major": 2,
       "version_minor": 0
      },
      "text/plain": [
       "Renderer(camera=PerspectiveCamera(children=(DirectionalLight(color='white', intensity=0.6, position=(-0.016840…"
      ]
     },
     "metadata": {},
     "output_type": "display_data"
    },
    {
     "data": {
      "application/vnd.jupyter.widget-view+json": {
       "model_id": "6fe4cdcb605b4e129d04f09aef4a8faa",
       "version_major": 2,
       "version_minor": 0
      },
      "text/plain": [
       "Renderer(camera=PerspectiveCamera(children=(DirectionalLight(color='white', intensity=0.6, position=(-0.016840…"
      ]
     },
     "metadata": {},
     "output_type": "display_data"
    },
    {
     "data": {
      "application/vnd.jupyter.widget-view+json": {
       "model_id": "820a92c981d342268b448ed60df4c234",
       "version_major": 2,
       "version_minor": 0
      },
      "text/plain": [
       "Renderer(camera=PerspectiveCamera(children=(DirectionalLight(color='white', intensity=0.6, position=(-0.016840…"
      ]
     },
     "metadata": {},
     "output_type": "display_data"
    },
    {
     "data": {
      "application/vnd.jupyter.widget-view+json": {
       "model_id": "bc706bef9eaa4eb6b2908d39daf7c79f",
       "version_major": 2,
       "version_minor": 0
      },
      "text/plain": [
       "Renderer(camera=PerspectiveCamera(children=(DirectionalLight(color='white', intensity=0.6, position=(-0.016840…"
      ]
     },
     "metadata": {},
     "output_type": "display_data"
    }
   ],
   "source": [
    "## TODO\n",
    "ind = 8040 # Top of the ear\n",
    "k = 200\n",
    "times = [0., 0.02, 0.1, 2, 30]\n",
    "\n",
    "# dirac\n",
    "f = np.insert(np.zeros(mesh.vertices.shape[0]-1), ind, 1)\n",
    "for t in times:\n",
    "    f_diffuse = diffuse_spectral(f, mesh, t, k)\n",
    "    plu.plot(mesh, f_diffuse, colormap='coolwarm')"
   ]
  },
  {
   "cell_type": "code",
   "execution_count": 250,
   "id": "6c1d1783-b90a-4d61-aec0-a6b99669ef32",
   "metadata": {},
   "outputs": [
    {
     "data": {
      "application/vnd.jupyter.widget-view+json": {
       "model_id": "b96e572c185a4d11afe33af19a674fb4",
       "version_major": 2,
       "version_minor": 0
      },
      "text/plain": [
       "Renderer(camera=PerspectiveCamera(children=(DirectionalLight(color='white', intensity=0.6, position=(-0.016840…"
      ]
     },
     "metadata": {},
     "output_type": "display_data"
    },
    {
     "data": {
      "application/vnd.jupyter.widget-view+json": {
       "model_id": "b24680b7b17c42e9873714026c0de937",
       "version_major": 2,
       "version_minor": 0
      },
      "text/plain": [
       "Renderer(camera=PerspectiveCamera(children=(DirectionalLight(color='white', intensity=0.6, position=(-0.016840…"
      ]
     },
     "metadata": {},
     "output_type": "display_data"
    },
    {
     "data": {
      "application/vnd.jupyter.widget-view+json": {
       "model_id": "02a9618a53a34b6f8d906798516ecbf8",
       "version_major": 2,
       "version_minor": 0
      },
      "text/plain": [
       "Renderer(camera=PerspectiveCamera(children=(DirectionalLight(color='white', intensity=0.6, position=(-0.016840…"
      ]
     },
     "metadata": {},
     "output_type": "display_data"
    },
    {
     "data": {
      "application/vnd.jupyter.widget-view+json": {
       "model_id": "7c29c5ee57354c51a82f021b4e012cd3",
       "version_major": 2,
       "version_minor": 0
      },
      "text/plain": [
       "Renderer(camera=PerspectiveCamera(children=(DirectionalLight(color='white', intensity=0.6, position=(-0.016840…"
      ]
     },
     "metadata": {},
     "output_type": "display_data"
    },
    {
     "data": {
      "application/vnd.jupyter.widget-view+json": {
       "model_id": "9e772d69518d463298ced6fc7bc67813",
       "version_major": 2,
       "version_minor": 0
      },
      "text/plain": [
       "Renderer(camera=PerspectiveCamera(children=(DirectionalLight(color='white', intensity=0.6, position=(-0.016840…"
      ]
     },
     "metadata": {},
     "output_type": "display_data"
    }
   ],
   "source": [
    "# Function phi * alpha\n",
    "\n",
    "mesh.compute_eigendecomposition(k) \n",
    "phi = mesh.eigenvectors\n",
    "alpha = np.random.uniform(0.0, 1.0, size=k)\n",
    "f = phi @ alpha\n",
    "\n",
    "for t in times:\n",
    "    f_diffuse = diffuse_spectral(f, mesh, t, k)\n",
    "    plu.plot(mesh, f_diffuse, colormap='coolwarm')"
   ]
  },
  {
   "cell_type": "markdown",
   "id": "12862a8a",
   "metadata": {},
   "source": [
    "# 3. The Heat Kernel Signature (Bonus, simple)"
   ]
  },
  {
   "cell_type": "markdown",
   "id": "864954b4",
   "metadata": {},
   "source": [
    "The [Heat Kernel Signature](http://www.lix.polytechnique.fr/~maks/papers/hks.pdf) (**HKS**) is a pointwise descriptor which provides local information invariant under isometry. In particular, this allows to compute correspondences between near-isometric surfaces.\n",
    "\n",
    "Given the spectrum $\\left(\\lambda_j, \\phi_j\\right)$ of the Laplacian of a shape, the HKS is defined as\n",
    "$$\n",
    "HKS(x,t) = C_t\\sum_j e^{-\\lambda_j t} \\phi_j(x)^2\n",
    "$$\n",
    "\n",
    "with $C_t^{-1} = \\sum_j  e^{-\\lambda_j t}$"
   ]
  },
  {
   "cell_type": "markdown",
   "id": "79af0e76",
   "metadata": {},
   "source": [
    "## Question 9\n",
    "<b>Fill the `compute_HKS` function to compute HKS descriptor for some time parameters $t$</b>"
   ]
  },
  {
   "cell_type": "code",
   "execution_count": 308,
   "id": "f43f2003",
   "metadata": {},
   "outputs": [],
   "source": [
    "def compute_HKS(mesh, n_times, k):\n",
    "    # Defines a list of time parameters at which to compute HKS\n",
    "    abs_ev = sorted(np.abs(mesh.eigenvalues[:k]))\n",
    "    t_list = np.geomspace(4*np.log(10)/abs_ev[-1], 4*np.log(10)/abs_ev[1], n_times)  # (n_times,)\n",
    "    t_list = t_list.reshape(1, 1, -1)\n",
    "    \n",
    "    ## TODO COMPUTE HKS\n",
    "    lamb = mesh.eigenvalues[:k].reshape(1, -1, 1)\n",
    "    phi = mesh.eigenvectors[:,:k]\n",
    "    \n",
    "    exp = np.exp(-lamb * t_list) # (1, k, n_times)\n",
    "\n",
    "    C = 1/np.sum(exp, axis=1).squeeze()\n",
    "\n",
    "    HKS = C * np.sum(phi[:,:,np.newaxis]**2 * exp, axis=1) # (n, n_times)\n",
    "    \n",
    "    return HKS"
   ]
  },
  {
   "cell_type": "code",
   "execution_count": 309,
   "id": "13ea93fc-3ce4-43f1-a190-af50e0f53ab4",
   "metadata": {},
   "outputs": [],
   "source": [
    "HKS = compute_HKS(mesh, 100, 10)"
   ]
  },
  {
   "cell_type": "code",
   "execution_count": 313,
   "id": "f3b16bff-a65d-4ce2-a398-14e55982d6fe",
   "metadata": {},
   "outputs": [
    {
     "data": {
      "text/plain": [
       "[<matplotlib.lines.Line2D at 0x76ad31ad5720>]"
      ]
     },
     "execution_count": 313,
     "metadata": {},
     "output_type": "execute_result"
    },
    {
     "data": {
      "image/png": "[encoded data removed]",
      "text/plain": [
       "<Figure size 640x480 with 1 Axes>"
      ]
     },
     "metadata": {},
     "output_type": "display_data"
    }
   ],
   "source": [
    "plt.plot(HKS[])"
   ]
  },
  {
   "cell_type": "code",
   "execution_count": 304,
   "id": "6b630f2c-8637-4705-ad4f-55dcdb05028f",
   "metadata": {},
   "outputs": [],
   "source": [
    "k=10\n",
    "n_times=100\n",
    "abs_ev = sorted(np.abs(mesh.eigenvalues[:k]))\n",
    "t_list = np.geomspace(4*np.log(10)/abs_ev[-1], 4*np.log(10)/abs_ev[1], n_times)  # (n_times,)\n",
    "t_list = t_list.reshape(1, 1, -1)\n",
    "\n",
    "## TODO COMPUTE HKS\n",
    "lamb = mesh.eigenvalues[:k].reshape(1, -1, 1)\n",
    "phi = mesh.eigenvectors[:,:k]\n",
    "\n",
    "exp = np.exp(-lamb * t_list) # (1, k, n_times)\n",
    "\n",
    "HKS = np.sum(phi[:,:,np.newaxis]**2 * exp, axis=1) # (n, n_times)"
   ]
  },
  {
   "cell_type": "markdown",
   "id": "41c69e1f",
   "metadata": {},
   "source": [
    "HKS can later be used as a means to compute shape correspondence. Given two shapes $\\mathcal{X}$ and $\\mathcal{Y}$, we define the HKS distance between $x\\in\\mathcal{X}$ and $y\\in\\mathcal{Y}$ as\n",
    "$$\n",
    "d_{HKS}(x,y) = \\int_t |HKS_\\mathcal{X}(x,t) -  HKS_\\mathcal{Y}(y,t)|d\\log t\n",
    "$$\n",
    "\n",
    "The logarithmic sampling in `compute_HKS` naturally amounts for the $d\\log t$ integration, so two embeddings obtained with our function `compute_HKS` can simply be compared using the standard norm of the difference.\n",
    "\n",
    "Eventually, correspondences $T_{\\mathcal{Y}\\mathcal{X}}$ from $\\mathcal{Y}$ to $\\mathcal{X}$ can be obtained by setting\n",
    "$$\n",
    "T_{\\mathcal{Y}\\mathcal{X}}(y) = \\underset{y\\in\\mathcal{Y}}{\\text{argmin}}\\ d_{HKS}(x,y)\n",
    "$$"
   ]
  },
  {
   "cell_type": "markdown",
   "id": "c513ad46",
   "metadata": {},
   "source": [
    "## Question 10\n",
    "<b>Use HKS to compute correspondences between two surfaces</b>\n",
    "\n",
    "**Tips**: \n",
    "<ol>\n",
    "    <li> $T_{\\mathcal{Y}\\mathcal{X}}$ is stored as a $n_\\mathcal{Y}$ dimensional array where the $i$-th entry gives the index of the image of $y_i$ in $\\mathcal{X}$ </li>\n",
    "    <li> Plot correspondences $T_{\\mathcal{Y}\\mathcal{X}}$ using <code>plu.plot_p2p(mesh1, mesh2, T_YX)</code></li>\n",
    "    \n",
    "</ol>"
   ]
  },
  {
   "cell_type": "code",
   "execution_count": null,
   "id": "1aae0754",
   "metadata": {},
   "outputs": [],
   "source": [
    "mesh1 = MyMesh(\"hand1\")\n",
    "mesh2 = MyMesh(\"hand2\")"
   ]
  },
  {
   "cell_type": "markdown",
   "id": "22269bd8",
   "metadata": {},
   "source": [
    "# 4. Heat Method for geodesic (BONUS) "
   ]
  },
  {
   "cell_type": "markdown",
   "id": "09edf12a",
   "metadata": {},
   "source": [
    "The [Heat method](https://www.cs.cmu.edu/~kmcrane/Projects/HeatMethod/paperCACM.pdf) uses the diffusion process of a dirac function to compute geodesic distances across a mesh. One advantage of this method is speed and a formulation independant from the specific triangulation of the mesh as long as differential operators are defined (**results are not though**).\n",
    "\n",
    "Given a point $x$, we start from a diract function $\\delta_x$ centered on $x$. The heat method is solved as follows:\n",
    "\n",
    "<ol>\n",
    "    <li> Integrate the heat equation with $u_0=\\delta_x$, that is solve $\\left(A + tW \\right) u_t = A \\delta_x$. This diffuses a lot heat to points close to $x$ and the value decreases as we for further away points. </li>\n",
    "    <li> Evaluate the vector field $X=-\\nabla u_t / \\|\\nabla u_t \\|$ which gives the (opposite) normalized direction of diffusion, hopefully going *geodesically* towards $x$ </li>\n",
    "    <li> Solve the Poisson Equation $\\Delta \\varphi = \\nabla\\cdot X$ to obtain the geodesic distance $\\varphi$ ensuring the distance to $x$ is $0$ by adding the necessary constant</li>\n",
    "</ol>\n",
    "\n",
    "The time of diffusion $t$ is usually set as $h^2$ with $h$ the average edge length of the mesh."
   ]
  },
  {
   "cell_type": "markdown",
   "id": "5526fe1d",
   "metadata": {},
   "source": [
    "## Question 11 (Bonus)\n",
    "**Implement the heat method usng the gradient and divergence operator we provide**"
   ]
  },
  {
   "cell_type": "code",
   "execution_count": null,
   "id": "f5f81184",
   "metadata": {},
   "outputs": [],
   "source": [
    "def grad_f(f, vertices, faces, normals):\n",
    "    \"\"\"\n",
    "    Compute the gradient of a function on a mesh\n",
    "\n",
    "    Parameters\n",
    "    --------------------------\n",
    "    f          : (n,) function value on each vertex\n",
    "    vertices   : (n,3) coordinates of vertices\n",
    "    faces      : (m,3) indices of vertices for each face\n",
    "    normals    : (m,3) normals coordinate for each face\n",
    "    face_area : (m,) - Optional, array of per-face area, for faster computation\n",
    "    use_sym    : bool - If true, uses the (slower but) symmetric expression\n",
    "                 of the gradient\n",
    "\n",
    "    Output\n",
    "    --------------------------\n",
    "    gradient : (m,3) gradient of f on the mesh\n",
    "    \"\"\"\n",
    "    v1 = vertices[faces[:,0]]  # (m,3)\n",
    "    v2 = vertices[faces[:,1]]  # (m,3)\n",
    "    v3 = vertices[faces[:,2]]  # (m,3)\n",
    "\n",
    "    f1 = f[faces[:,0]]  # (m,)\n",
    "    f2 = f[faces[:,1]]  # (m,)\n",
    "    f3 = f[faces[:,2]]  # (m,)\n",
    "\n",
    "    # Compute area for each face\n",
    "    face_areas = 0.5 * np.linalg.norm(np.cross(v2-v1,v3-v1),axis=1)  # (m)\n",
    "\n",
    "   \n",
    "\n",
    "    grad1 = np.cross(normals, v3-v2)/(2*face_areas[:,None])  # (m,3)\n",
    "    grad2 = np.cross(normals, v1-v3)/(2*face_areas[:,None])  # (m,3)\n",
    "    grad3 = np.cross(normals, v2-v1)/(2*face_areas[:,None])  # (m,3)\n",
    "\n",
    "    gradient = f1[:,None] * grad1 + f2[:,None] * grad2 + f3[:,None] * grad3\n",
    "\n",
    "    return gradient\n",
    "\n",
    "\n",
    "def div_f(f, vertices, faces, normals, vert_areas):\n",
    "    \"\"\"\n",
    "    Compute the divergence of a vector field on a mesh\n",
    "\n",
    "    Parameters\n",
    "    --------------------------\n",
    "    f          : (m,3) vector field on each face\n",
    "    vertices   : (n,3) coordinates of vertices\n",
    "    faces      : (m,3) indices of vertices for each face\n",
    "    normals    : (m,3) normals coordinate for each face\n",
    "    vert_area : (m,) - array of per-vertex area\n",
    "\n",
    "    Output\n",
    "    --------------------------\n",
    "    divergence : (n,) divergence of f on the mesh\n",
    "    \"\"\"\n",
    "    n_vertices = vertices.shape[0]\n",
    "\n",
    "    v1 = vertices[faces[:,0]]  # (m,3)\n",
    "    v2 = vertices[faces[:,1]]  # (m,3)\n",
    "    v3 = vertices[faces[:,2]]  # (m,3)\n",
    "\n",
    "    grad1 = np.einsum('ij,ij->i', np.cross(normals, v3 - v2) / 2, f)  # (m,)\n",
    "    grad2 = np.einsum('ij,ij->i', np.cross(normals, v1 - v3) / 2, f)  # (m,)\n",
    "    grad3 = np.einsum('ij,ij->i', np.cross(normals, v2 - v1) / 2, f)  # (m,)\n",
    "\n",
    "    I = np.concatenate([faces[:, 0], faces[:, 1], faces[:, 2]])  # (3*m)\n",
    "    J = np.zeros_like(I)\n",
    "    V = np.concatenate([grad1, grad2, grad3])\n",
    "\n",
    "    div_val = sparse.coo_matrix((V, (I, J)), shape=(n_vertices, 1)).todense()\n",
    "\n",
    "    return np.asarray(div_val).flatten() / vert_areas"
   ]
  },
  {
   "cell_type": "code",
   "execution_count": null,
   "id": "a8ea6b18",
   "metadata": {},
   "outputs": [],
   "source": []
  }
 ],
 "metadata": {
  "kernelspec": {
   "display_name": "Python 3 (ipykernel)",
   "language": "python",
   "name": "python3"
  },
  "language_info": {
   "codemirror_mode": {
    "name": "ipython",
    "version": 3
   },
   "file_extension": ".py",
   "mimetype": "text/x-python",
   "name": "python",
   "nbconvert_exporter": "python",
   "pygments_lexer": "ipython3",
   "version": "3.10.14"
  },
  "toc": {
   "base_numbering": 1,
   "nav_menu": {},
   "number_sections": true,
   "sideBar": true,
   "skip_h1_title": false,
   "title_cell": "Table of Contents",
   "title_sidebar": "Contents",
   "toc_cell": false,
   "toc_position": {},
   "toc_section_display": true,
   "toc_window_display": false
  }
 },
 "nbformat": 4,
 "nbformat_minor": 5
}
