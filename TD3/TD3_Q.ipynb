{
 "cells": [
  {
   "cell_type": "markdown",
   "id": "7e3b4c18",
   "metadata": {
    "id": "7e3b4c18"
   },
   "source": [
    "In this lab, we will build a model to perform segmentation of RNA molecules, seen as surfaces.\n",
    "\n",
    "![](https://www.lix.polytechnique.fr/Labo/Robin.Magnet/INF631/rna_image.png)\n",
    "\n",
    "For this, we will first build a network able to process these surfaces, and then train it on the dataset.\n",
    "We will additionnally try some small variations and check their effects."
   ]
  },
  {
   "cell_type": "markdown",
   "id": "R34bkvYoDFGe",
   "metadata": {
    "id": "R34bkvYoDFGe"
   },
   "source": [
    "# Environment and data"
   ]
  },
  {
   "cell_type": "markdown",
   "id": "iF1oxQPdDKAD",
   "metadata": {
    "id": "iF1oxQPdDKAD"
   },
   "source": [
    "Let's download the dataset and additional necessary packages.\n",
    "\n",
    "Please use a GPU for this Lab. You can obtain one with Google Colab. \n",
    "The next two cells are for colab. The TD should work with recent versions of Pytorch, but to avoid unnecessary debugging, we recommend using torch 1.12. The execution may take some time/you may need to restart colab"
   ]
  },
  {
   "cell_type": "code",
   "execution_count": 2,
   "id": "dueiL2hoowVF",
   "metadata": {
    "colab": {
     "base_uri": "https://localhost:8080/",
     "height": 261
    },
    "id": "dueiL2hoowVF",
    "outputId": "b1ef1f07-f5ff-404c-8460-27e142da31f8"
   },
   "outputs": [
    {
     "name": "stdout",
     "output_type": "stream",
     "text": [
      "Python 3.10.12\n",
      "\u001b[2K\u001b[2mResolved \u001b[1m10 packages\u001b[0m \u001b[2min 1.27s\u001b[0m\u001b[0m                                        \u001b[0m\n",
      "\u001b[2K\u001b[2mPrepared \u001b[1m4 packages\u001b[0m \u001b[2min 21.93s\u001b[0m\u001b[0m                                            \n",
      "\u001b[2K\u001b[2mInstalled \u001b[1m4 packages\u001b[0m \u001b[2min 199ms\u001b[0m\u001b[0m                               \u001b[0m\n",
      " \u001b[32m+\u001b[39m \u001b[1mnumpy\u001b[0m\u001b[2m==1.26.3\u001b[0m\n",
      " \u001b[32m+\u001b[39m \u001b[1mpillow\u001b[0m\u001b[2m==10.2.0\u001b[0m\n",
      " \u001b[32m+\u001b[39m \u001b[1mtorch\u001b[0m\u001b[2m==1.12.0+cu116\u001b[0m\n",
      " \u001b[32m+\u001b[39m \u001b[1mtorchvision\u001b[0m\u001b[2m==0.13.0+cu116\u001b[0m\n"
     ]
    },
    {
     "data": {
      "text/plain": [
       "'1.12.0+cu116'"
      ]
     },
     "execution_count": 2,
     "metadata": {},
     "output_type": "execute_result"
    }
   ],
   "source": [
    "!python --version\n",
    "# !uv pip install torch==1.12.0+cu116 torchvision==0.13.0+cu116 torchaudio==0.12.0 --extra-index-url https://download.pytorch.org/whl/cu116\n",
    "!uv pip install torch==1.12.0+cu116 torchvision==0.13.0+cu116 --extra-index-url https://download.pytorch.org/whl/cu116\n",
    "\n",
    "import torch\n",
    "torch.__version__"
   ]
  },
  {
   "cell_type": "code",
   "execution_count": 4,
   "id": "lPtegTJLDBKi",
   "metadata": {
    "colab": {
     "base_uri": "https://localhost:8080/"
    },
    "id": "lPtegTJLDBKi",
    "outputId": "16016f2f-3320-4cec-8751-af38d99193f5"
   },
   "outputs": [
    {
     "name": "stdout",
     "output_type": "stream",
     "text": [
      "\u001b[2mAudited \u001b[1m1 package\u001b[0m \u001b[2min 2ms\u001b[0m\u001b[0m\n",
      "\u001b[2K\u001b[2mResolved \u001b[1m1 package\u001b[0m \u001b[2min 530ms\u001b[0m\u001b[0m                                          \u001b[0m\n",
      "\u001b[2mAudited \u001b[1m1 package\u001b[0m \u001b[2min 0.05ms\u001b[0m\u001b[0m\n",
      "\u001b[2mAudited \u001b[1m1 package\u001b[0m \u001b[2min 3ms\u001b[0m\u001b[0m\n",
      "--2024-10-17 11:03:02--  https://www.lix.polytechnique.fr/Labo/Robin.Magnet/INF631/RNADataset.zip\n",
      "Loaded CA certificate '/etc/ssl/certs/ca-certificates.crt'\n",
      "Resolving www.lix.polytechnique.fr (www.lix.polytechnique.fr)... 193.55.176.29\n",
      "Connecting to www.lix.polytechnique.fr (www.lix.polytechnique.fr)|193.55.176.29|:443... connected.\n",
      "HTTP request sent, awaiting response... 200 OK\n",
      "Length: 210875575 (201M) [application/zip]\n",
      "Saving to: ‘RNADataset.zip’\n",
      "\n",
      "RNADataset.zip      100%[===================>] 201.11M   104MB/s    in 1.9s    \n",
      "\n",
      "2024-10-17 11:03:04 (104 MB/s) - ‘RNADataset.zip’ saved [210875575/210875575]\n",
      "\n",
      "--2024-10-17 11:03:04--  https://www.lix.polytechnique.fr/Labo/Robin.Magnet/INF631/material_TD3.zip\n",
      "Loaded CA certificate '/etc/ssl/certs/ca-certificates.crt'\n",
      "Resolving www.lix.polytechnique.fr (www.lix.polytechnique.fr)... 193.55.176.29\n",
      "Connecting to www.lix.polytechnique.fr (www.lix.polytechnique.fr)|193.55.176.29|:443... connected.\n",
      "HTTP request sent, awaiting response... 200 OK\n",
      "Length: 28224 (28K) [application/zip]\n",
      "Saving to: ‘material_TD3.zip’\n",
      "\n",
      "material_TD3.zip    100%[===================>]  27.56K  --.-KB/s    in 0.003s  \n",
      "\n",
      "2024-10-17 11:03:04 (8.85 MB/s) - ‘material_TD3.zip’ saved [28224/28224]\n",
      "\n"
     ]
    }
   ],
   "source": [
    "!uv pip install potpourri3d\n",
    "!uv pip install git+https://github.com/skoch9/meshplot.git\n",
    "!uv pip install pythreejs\n",
    "\n",
    "!wget https://www.lix.polytechnique.fr/Labo/Robin.Magnet/INF631/RNADataset.zip\n",
    "!wget https://www.lix.polytechnique.fr/Labo/Robin.Magnet/INF631/material_TD3.zip"
   ]
  },
  {
   "cell_type": "code",
   "execution_count": 7,
   "id": "AAnyCzTqqvTk",
   "metadata": {
    "colab": {
     "base_uri": "https://localhost:8080/"
    },
    "id": "AAnyCzTqqvTk",
    "outputId": "bc23fefc-b028-4417-c3ea-cbd4c1a01245"
   },
   "outputs": [],
   "source": [
    "!unzip -qq RNADataset\n",
    "!unzip -qq material_TD3.zip"
   ]
  },
  {
   "cell_type": "code",
   "execution_count": 10,
   "id": "cetELQFGD8fx",
   "metadata": {
    "id": "cetELQFGD8fx"
   },
   "outputs": [],
   "source": [
    "# from google.colab import output\n",
    "# output.enable_custom_widget_manager()\n",
    "\n",
    "import os\n",
    "\n",
    "import torch\n",
    "import torch.nn as nn\n",
    "\n",
    "import diffusion_utils"
   ]
  },
  {
   "cell_type": "markdown",
   "id": "8d5f2279",
   "metadata": {
    "id": "8d5f2279"
   },
   "source": [
    "# Part I - Implementing Diffusion DiffusionNet"
   ]
  },
  {
   "cell_type": "markdown",
   "id": "ea693dcc",
   "metadata": {
    "id": "ea693dcc"
   },
   "source": [
    "## Goal\n",
    "\n",
    "In this assignment we will focus on building [DiffusionNet](https://arxiv.org/pdf/2012.00888.pdf), which was presented during the lecture.\n",
    "This network uses differential geometry tools to compute per-vertex features which can later be used for several tasks such as classification, segmentation or matching.\n",
    "\n",
    "Recall that the DiffusionNet architechture can be visualized as follows :\n",
    "\n",
    "![](https://www.lix.polytechnique.fr/Labo/Robin.Magnet/INF631/TD3/DiffusionNet.PNG)\n",
    "\n",
    "\n",
    "Therefore, following this image, we will build the following objects using PyTorch:\n",
    "1. **Precomputed operators**. Most of them have been introduced in TD1, the gradient matrix is provided in the `diffusion_utils.py` file provided with this TD (do not modify it!).\n",
    "2. **Spatial Diffusion**. Using again TD1 (part on spectral diffusion).\n",
    "3. **Spatial Gradient features**. Using gradient matrices\n",
    "4. **Per-vertex MLP**. Basic PyTorch\n",
    "5. **DiffusionNet block** and **DiffusionNet** which consists in assembling the previous 4 parts."
   ]
  },
  {
   "cell_type": "markdown",
   "id": "e3677cc6",
   "metadata": {
    "id": "e3677cc6"
   },
   "source": [
    "## Reminders on PyTorch\n",
    "[Pytorch](https://pytorch.org/docs/stable/index.html) is a standard library to build and train neural networks. Two essential components are auto-differentiation and GPU support with parallelization of operations.\n",
    "\n",
    "A [`torch.Tensor`](https://pytorch.org/docs/stable/tensors.html) object is very similar to a `numpy.array`, and most existing operations in numpy have identical equivalent in PyTorch. However behaviors can be slightly different so always check the documentation ! Using built-in PyTorch functions instead of numpy enables automatic gradient computation.\n",
    "\n",
    "Note that PyTorch operations are built to be significantly accelerated on GPU by using parallel computing. This implies that the first dimension of a `torch.Tensor` is most often interpreted as the batch dimension and operations are applied *in parallel* to each element of the batch **independently**.\n",
    "For instance, given a tensor `A` of size `[M,N]` and a tensor `X` of size `[B,N,P]`, the output of `A @ X` will be of size `[B,M,P]`, where the matrix multiplication by `A` is applied to each of the `X[i]` in parallel.\n",
    "\n",
    "In DiffusionNet, some blocks (*eg* the diffusion block) can be applied to multiple surfaces in parallel so batches are made of surfaces. On the contrary the MLP or gradient features blocks are applied to each vertex independantly so the batches are made of vertices. This will require some particular care when coding."
   ]
  },
  {
   "cell_type": "markdown",
   "id": "13555438",
   "metadata": {
    "id": "13555438"
   },
   "source": [
    "## 1 - Implementing Diffusion Net\n",
    "\n",
    "In this section, we seek to implement a version of DiffusionNet which only handles oriented triangle meshes.\n",
    "\n",
    "It will be impossible for you to test that the output of the functions are the right ones before the complete pipeline is built. However, since shapes are provided in the description of each function, you can ensure each module outputs a tensor of the right shape."
   ]
  },
  {
   "cell_type": "markdown",
   "id": "b506dc73",
   "metadata": {
    "id": "b506dc73"
   },
   "source": [
    "## 1.1 - Some utils"
   ]
  },
  {
   "cell_type": "markdown",
   "id": "6a6e35a0",
   "metadata": {
    "id": "6a6e35a0"
   },
   "source": [
    "We here code 2 utility functions used in the diffusion block, which allow to project  (resp. unproject) functions to (resp. from) the spectral basis **taking the batch dimension** into account.\n",
    "\n",
    "For simplicity, we use a batch size = $1$ in this TD as it's tricky to combine functions defined on a mesh with $n_1$ vertices with functions defined on another mesh with $n_2$ vertices.\n",
    "\n",
    "\n",
    "**Projection**: Recall from TD1, that given functions on a mesh stored in a matrix $\\mathbf{f}\\in\\mathbb{R}^{n\\times p}$, the projection into the spectral basis of size $K$ can be done via the matrix multiplication $\\Phi^\\top A \\mathbf{f}$, where $\\Phi\\in\\mathbb{R}^{n\\times K}$ are the eigenvectors of the laplacian of the shape and A the area matrix of the shape.\n",
    "\n",
    "**Reverse projection**: Recall from TD1, that given spectral coefficients of functions on a mesh stored in a matrix $\\alpha\\in\\mathbb{R}^{K\\times p}$, the corresponding functions on the mesh are defined as $\\Phi \\alpha \\in\\mathbb{R}^{n\\times p}$."
   ]
  },
  {
   "cell_type": "markdown",
   "id": "f75cdc70",
   "metadata": {
    "id": "f75cdc70"
   },
   "source": [
    "### Question 1\n",
    "**Compute the projection and reverse projection functions, which take batch of functions**\n",
    "\n",
    "**Tips**:\n",
    "1. If `A` is to torch Tensor of shape `(B,N,M)`, then `A.mT` does batch-wise matrix transpose and has shape `(B,M,N)`\n",
    "2. Given a diagonal matrix $A$ and a function $f\\in\\mathbb{R}^n$, then $Af = \\left(A_{ii}f_i\\right)$, where $A_{ii}$ are the diagonal values of $A$ (vertex areas in our case). We therefore directly use the diagonal values as input.\n",
    "3. For matrix multiplication, multiple operations are possibly, namely torch.mm, torch.einsum or the traditional @ operator. Choose what you understand the most easily.\n"
   ]
  },
  {
   "cell_type": "code",
   "execution_count": 11,
   "id": "414ef071",
   "metadata": {
    "ExecuteTime": {
     "end_time": "2023-11-26T17:49:47.185527Z",
     "start_time": "2023-11-26T17:49:47.166603Z"
    },
    "id": "414ef071"
   },
   "outputs": [],
   "source": [
    "def project_to_basis(x, evecs, vertex_areas):\n",
    "    \"\"\"\n",
    "    Project an input sinal x to the spectral basis.\n",
    "\n",
    "\n",
    "    Parameters\n",
    "    -------------------\n",
    "    x            : (B, n, p) Tensor of input\n",
    "    evecs        : (B, n, K) Tensor of eigenvectors\n",
    "    vertex_areas : (B, n,) vertex areax\n",
    "\n",
    "    Output\n",
    "    -------------------\n",
    "    projected_values : (B, K, p) Tensor of coefficients in the basis\n",
    "    \"\"\"\n",
    "    projected_values = evecs.mT @ (vertex_areas[:,:,None] * x)\n",
    "    return projected_values\n",
    "\n",
    "\n",
    "\n",
    "\n",
    "def unproject_from_basis(coeffs, evecs):\n",
    "    \"\"\"\n",
    "    Transform input coefficients in basis into a signal on the complete shape.\n",
    "\n",
    "    Parameters\n",
    "    -------------------\n",
    "    coefs : (B, K, p) Tensor of coefficients in the spectral basis\n",
    "    evecs : (B, n, K) Tensor of eigenvectors\n",
    "\n",
    "    Output\n",
    "    -------------------\n",
    "    decoded_values : (B, n, p) values on each vertex\n",
    "    \"\"\"\n",
    "    decoded_values = evecs @ coeffs\n",
    "    return decoded_values"
   ]
  },
  {
   "cell_type": "markdown",
   "id": "f54bcb15",
   "metadata": {
    "id": "f54bcb15"
   },
   "source": [
    "## 1.2 - Spectral Diffusion module"
   ]
  },
  {
   "cell_type": "markdown",
   "id": "51283b7b",
   "metadata": {
    "id": "51283b7b"
   },
   "source": [
    "The DiffusionModule in Diffusion takes as input a mesh $M$ and set of functions $\\left(f_1,\\dots, f_p\\right)$  on the mesh - that is $f_j:M\\to\\mathbb{R}$ - and outputs $\\left(g_1,\\dots, g_p\\right)$ with $g_j:M\\to\\mathbb{R}$ and where $g_j$ the the **diffused version** of $f_j$ after time $t_j$.\n",
    "\n",
    "Note that each feature function $f_j$ is diffused for time $t_j$ where the time parameter **depends on the index of the function**.\n",
    "DiffusionNet proposes to **learn each time parameter** $t_1,\\dots, t_p$. There is therefore $p$ learnable parameters in this module.\n",
    "\n",
    "\n",
    "In order to compute Diffusion efficiently, we will use the spectral diffusion approximation introduced in TD1.\n",
    "\n",
    "Recall from that TD1 that the Laplacian eigenvectors of a mesh made of $N$ vertices can stored in a matrix $\\Phi\\in\\mathbb{R}^{N\\times K}$.\n",
    "Given an initial function $f_0$, its (spectral) diffused version $f_t$ after time $t$ can be written $f_t = \\Phi \\alpha_t$ with\n",
    "$$\n",
    "(\\alpha_t)_j = \\exp(-t\\lambda_j)\\beta_j\n",
    "$$\n",
    "\n",
    "where $\\beta=\\Phi^\\top A f_0 \\ \\in\\mathbb{R}^K$ is the projection of $f_0$ in the basis, and $A$ the diagonal area matrix."
   ]
  },
  {
   "cell_type": "markdown",
   "id": "0fef4fab",
   "metadata": {
    "id": "0fef4fab"
   },
   "source": [
    "### Question 2\n",
    "**Fill the SpectralDiffusion module which diffuses features with learnable time parameters.**\n",
    "\n",
    "**Clue:**\n",
    "1. Use [`nn.Parameter`](https://pytorch.org/docs/stable/generated/torch.nn.parameter.Parameter.html) to create learnable parameters in a module\n",
    "2. Use [`nn.init.constant_`](https://pytorch.org/docs/stable/nn.init.html#torch.nn.init.constant_) to initialize time parameters to 0\n",
    "3. Be careful about the dimension of inputs, outputs, intermediate tensors, ..."
   ]
  },
  {
   "cell_type": "code",
   "execution_count": 12,
   "id": "ae726841",
   "metadata": {
    "ExecuteTime": {
     "end_time": "2023-11-26T17:49:47.207259Z",
     "start_time": "2023-11-26T17:49:47.186933Z"
    },
    "id": "ae726841"
   },
   "outputs": [],
   "source": [
    "class SpectralDiffusion(nn.Module):\n",
    "\n",
    "    def __init__(self, n_channels):\n",
    "        \"\"\"\n",
    "        Initializes the module with time parameters to 0.\n",
    "\n",
    "        Parameters\n",
    "        ------------------\n",
    "        n_channels : int - number of input feature functions\n",
    "        \"\"\"\n",
    "        # This runs the __init__ function of nn.Module\n",
    "        super().__init__()\n",
    "\n",
    "        self.n_channels = n_channels\n",
    "\n",
    "        ## TODO DEFINE AND INITIALIZE THE Diffusion times as learnable parameters.\n",
    "        self.diffusion_times = nn.Parameter(torch.zeros(self.n_channels))\n",
    "\n",
    "\n",
    "    def forward(self, x, evals, evecs, vertex_areas):\n",
    "        \"\"\"\n",
    "        Given input features x and information on the current meshes\n",
    "        return diffused versions of the features.\n",
    "\n",
    "        Parameters\n",
    "        ------------------------\n",
    "        x     : (B, n, p) batch of input features. p = self.n_channels\n",
    "        evals : (B, K,) batch of eigenvalues\n",
    "        evecs : (B, n, K) batch of eigenvectors\n",
    "        vertex_areas : (B, n,) batch of vertex area\n",
    "\n",
    "\n",
    "        Output\n",
    "        ------------------------\n",
    "        x_diffuse : diffused version of each input feature\n",
    "        \"\"\"\n",
    "        # Remove negative diffusion times\n",
    "        with torch.no_grad():\n",
    "            self.diffusion_times.data = torch.clamp(self.diffusion_times, min=1e-8)\n",
    "\n",
    "        ## TODO DIFFUSE x\n",
    "        beta = project_to_basis(x, evecs, vertex_areas) # (B,K,p)\n",
    "        alpha = torch.exp(-self.diffusion_times[None,:] * evals[:,None]) * beta  # (B,K,p)\n",
    "        x_diffused = unproject_from_basis(alpha, evecs)\n",
    "        \n",
    "        return x_diffused"
   ]
  },
  {
   "cell_type": "markdown",
   "id": "43e0be0d",
   "metadata": {
    "id": "43e0be0d"
   },
   "source": [
    "## 1.3 Gradient Features module"
   ]
  },
  {
   "cell_type": "markdown",
   "id": "82c8be59",
   "metadata": {
    "id": "82c8be59"
   },
   "source": [
    "The gradient feature module allows to compute features from the gradient of the diffused feature. This module treats **each vertex independantly**. The batch size is here the number of vertices and not the shape as a whole.\n",
    "\n",
    "This modules takes as input **the gradient of each feature** at a vertex, and outputs **a real number for each feature** for this vertex.\n",
    "\n",
    "\n",
    "The gradient of the features is a **vector field**, so a pair of numbers at each vertex. In practice, the value at a vertex $v$ is stored as a complex number $z\\in\\mathbb{C}^n$. Because there are $p$ different features for each vertex, we concatenate the $p$ gradients (one for each feature) and obtain a per-vertex vector field $w_v\\in\\mathbb{C}^{p}$ as **input**.\n",
    "\n",
    "The gradient feature module therefore takes a vertex embedding $w_v$ as input and outputs a *real-valued* embedding $g_v\\in\\mathbb{R}^{p}$ where\n",
    "\n",
    "$$\n",
    "g_v = \\tanh\\left(\\langle w_v, B w_v\\rangle_{\\mathbb{C}}\\right)\n",
    "$$\n",
    "with $\\tanh$ and $\\langle\\rangle_{\\mathbb{C}}$ applied **element-wise**.\n",
    "\n",
    "\n",
    "Where $B$ is a **complex and learnable** matrix, and $\\langle\\rangle_{\\mathbb{C}}$ can be seen as the $\\mathbb{R}^2$ inner product when identifying $\\mathbb{C}$ with $\\mathbb{R}^2$. This means for $a,b,c,d\\in\\mathbb{R}$ that:\n",
    "$$\n",
    "\\langle a+ib, c+id\\rangle_{\\mathbb{C}} = ac + bd\n",
    "$$\n",
    "\n",
    "\n",
    "In summary, the gradient feature module:\n",
    " - Takes $w_v\\in\\mathbb{C}^{p}$ as input\n",
    " - Computes $g_v$ using the formula above\n",
    " - Has $B\\in\\mathbb{C}^p$ as a unique parameter"
   ]
  },
  {
   "cell_type": "markdown",
   "id": "5a3428d3",
   "metadata": {
    "id": "5a3428d3"
   },
   "source": [
    "### Question 3\n",
    "**Implement the Gradient Feature Module**\n",
    "\n",
    "**Tips**:\n",
    "\n",
    "1. In practice, use $w_v\\in\\mathbb{R}^{p\\times 2}$ and $B=B_{re}+iB_{im}$ where both matrix are real values $p\\times p$ matrices. Compute separately the real and imaginary part of $Bw_v$, then apply the inner product and hyperbolic tangent element-wise.\n",
    "2. A learnable matrix multipication can be represented as a [`nn.Linear`](https://pytorch.org/docs/stable/generated/torch.nn.Linear.html) layer"
   ]
  },
  {
   "cell_type": "code",
   "execution_count": 13,
   "id": "e10fc6fe",
   "metadata": {
    "ExecuteTime": {
     "end_time": "2023-11-26T17:49:47.403085Z",
     "start_time": "2023-11-26T17:49:47.371244Z"
    },
    "id": "e10fc6fe"
   },
   "outputs": [],
   "source": [
    "class SpatialGradient(nn.Module):\n",
    "    \"\"\"\n",
    "    Module which computes g_v from vertex embeddings.\n",
    "    \"\"\"\n",
    "    def __init__(self, n_channels):\n",
    "        \"\"\"\n",
    "        Initializes the module.\n",
    "\n",
    "        Parameters\n",
    "        ------------------\n",
    "        n_channels : int - number of input feature functions\n",
    "        \"\"\"\n",
    "\n",
    "        super().__init__()\n",
    "\n",
    "        self.n_channels = n_channels\n",
    "\n",
    "        # Real and Imaginary part of B\n",
    "        self.B_re = nn.Linear(self.n_channels, self.n_channels, bias=False)\n",
    "        self.B_im = nn.Linear(self.n_channels, self.n_channels, bias=False)\n",
    "\n",
    "    def forward(self, vects):\n",
    "        \"\"\"\n",
    "        Parameters\n",
    "        ----------------------\n",
    "        Vects : (N, P, 2) per-vertex vector field (w_v)\n",
    "\n",
    "        Output\n",
    "        ---------------------\n",
    "        features : (N, P) per-vertex scalar field\n",
    "        \"\"\"\n",
    "        vects_re = vects[...,0]  # (N,P) real part of w_v\n",
    "        vects_im = vects[...,1]  # (N,P) imaginary part of w_v\n",
    "\n",
    "        ## TODO Perform forward pass\n",
    "        Bw_re = self.B_re(vects_re) # (N,P)\n",
    "        Bw_im = self.B_im(vects_im) # (N,P)\n",
    "\n",
    "        w = torch.stack([vects_re, vects_im], dim=-1) # (N,P,2)\n",
    "        Bw = torch.stack([Bw_re, Bw_im], dim=-1) # (N,P,2)\n",
    "        \n",
    "        gradient_feature = torch.tanh(diffusion_utils.dot(w, Bw))\n",
    "\n",
    "        return gradient_feature"
   ]
  },
  {
   "cell_type": "markdown",
   "id": "be747853",
   "metadata": {
    "id": "be747853"
   },
   "source": [
    "## 1.4 MLP module"
   ]
  },
  {
   "cell_type": "markdown",
   "id": "d2b89301",
   "metadata": {
    "id": "d2b89301"
   },
   "source": [
    "The MLP module is a simple multi-layer perceptron which acts on **each vertex independantly**.\n",
    "\n",
    "This can be customizable using custom hidden layer sizes and droupout."
   ]
  },
  {
   "cell_type": "markdown",
   "id": "0248a6c1",
   "metadata": {
    "id": "0248a6c1"
   },
   "source": [
    "### Question 4\n",
    "**Code the MiniMLP module (with dropout and activation)**\n",
    "\n",
    "**Tip**:\n",
    "1. Activation is not applied to the last layer\n",
    "2. Given a list `layer_list` of `torch.nn` modules, one can generate a large layer using `nn.Sequential(*layer_list)`. See the [documentation](https://pytorch.org/docs/stable/generated/torch.nn.Sequential.html) for more info\n",
    "3. Batch is made of per-vertex embedding, not per surface."
   ]
  },
  {
   "cell_type": "code",
   "execution_count": 14,
   "id": "24c96134",
   "metadata": {
    "ExecuteTime": {
     "end_time": "2023-11-26T17:49:48.036040Z",
     "start_time": "2023-11-26T17:49:47.996455Z"
    },
    "id": "24c96134"
   },
   "outputs": [],
   "source": [
    "class MiniMLP(nn.Sequential):\n",
    "    '''\n",
    "    A simple MLP with activation and potential dropout\n",
    "    '''\n",
    "    def __init__(self, layer_sizes, dropout=False, activation=nn.ReLU):\n",
    "        \"\"\"\n",
    "        Activation and dropout is applied after all layer BUT the last one\n",
    "\n",
    "        Parameters\n",
    "        ---------------------------\n",
    "        layer_size : list of ints - list of sizes of the MLP\n",
    "        dropout    : bool - whether to add droupout or not\n",
    "        activation : nn.module : activation function\n",
    "        \"\"\"\n",
    "        super().__init__()\n",
    "\n",
    "        layer_list = []\n",
    "\n",
    "        for i in range(len(layer_sizes) - 1):\n",
    "          \n",
    "          if dropout and i > 0: # also try with dropout on the input layer\n",
    "            layer_list.append(nn.Dropout(p=0.5))\n",
    "\n",
    "          layer_list.append(nn.Linear(layer_sizes[i], layer_sizes[i+1]))\n",
    "\n",
    "          if i < len(layer_sizes) - 2:\n",
    "            layer_list.append(activation())\n",
    "\n",
    "\n",
    "        ## TODO FILL THE LAYER LIST\n",
    "        self.layer = nn.Sequential(*layer_list)\n",
    "\n",
    "    def forward(self, x):\n",
    "        \"\"\"\n",
    "        Parameters\n",
    "        --------------------\n",
    "        x : (n, p) - input features, batch size is the number of vertices !\n",
    "\n",
    "        Output\n",
    "        -------------------\n",
    "        y : (n,p') - output features\n",
    "        \"\"\"\n",
    "        # NOTHING TO DO HERE\n",
    "        return self.layer(x)"
   ]
  },
  {
   "cell_type": "markdown",
   "id": "7bdd46c1",
   "metadata": {
    "id": "7bdd46c1"
   },
   "source": [
    "## 1.5 DiffusionNet Block\n",
    "\n",
    "![](https://www.lix.polytechnique.fr/Labo/Robin.Magnet/INF631/TD3/DiffusionNet.PNG)\n",
    "\n",
    "Each diffusion block contains 3 main modules which were implemented in the preceeding three questions. Namely, (1) Learned spectral diffusion, (2) Gradient Feature module and (3) Point-wise features from the MLP module applied sequentially.\n",
    "\n",
    "Note the following points:\n",
    "1. Input and output are per-vertex scalars\n",
    "2. The width (or number of features) is the same as input and output\n",
    "3. The Diffusion module uses the input features as input.\n",
    "4. The Spatial Gradient module uses the **gradient** of the output of the Diffusion module as input\n",
    "5. The MiniMLP uses the **concatenation** of the input features, the output of the Diffusion module and the output of the Spatial Gradient module as input. Its input size is 3 times the number of features.\n",
    "6. The input features are **added** to the output using a **residual connection**.\n",
    "\n",
    "\n",
    "### Question 5\n",
    "\n",
    "**Assemble the Diffusion + Gradient + MLP modules to construct diffusion block using the image and explanation above**\n",
    "\n",
    "**Tip**\n",
    " - We pre-filled the code to compute the gradient of the features\n",
    " - We only provide the size of the **hidden** layers of the MLP. You must add the input and output dimension."
   ]
  },
  {
   "cell_type": "code",
   "execution_count": 15,
   "id": "eb895954",
   "metadata": {
    "ExecuteTime": {
     "end_time": "2023-11-26T17:49:48.379073Z",
     "start_time": "2023-11-26T17:49:48.340188Z"
    },
    "id": "eb895954"
   },
   "outputs": [],
   "source": [
    "class DiffusionNetBlock(nn.Module):\n",
    "    \"\"\"\n",
    "    Complete Diffusion block\n",
    "    \"\"\"\n",
    "\n",
    "    def __init__(self, n_channels, mlp_hidden_dims, dropout=True):\n",
    "        \"\"\"\n",
    "        Initializes the module.\n",
    "\n",
    "        Parameters\n",
    "        ------------------\n",
    "        n_channels      : int - number of feature functions (serves as both input and output)\n",
    "        mlp_hidden_dims : list of int - sizes of HIDDEN layers of the miniMLP.\n",
    "                          You should add the input and output dimension to it.\n",
    "        \"\"\"\n",
    "        super(DiffusionNetBlock, self).__init__()\n",
    "\n",
    "        # Specified dimensions\n",
    "        self.n_channels = n_channels\n",
    "\n",
    "        self.dropout = dropout\n",
    "\n",
    "        # Diffusion block\n",
    "        # TODO DEFINE THE 3 SUBPARTS\n",
    "        self.diffusion = SpectralDiffusion(self.n_channels)\n",
    "        self.gradient = SpatialGradient(self.n_channels)\n",
    "        self.mlp = MiniMLP([self.n_channels * 3] + mlp_hidden_dims + [self.n_channels], dropout=self.dropout)\n",
    "\n",
    "\n",
    "    def forward(self, x_in, vertex_areas, evals, evecs, gradX, gradY):\n",
    "        \"\"\"\n",
    "        Parameters\n",
    "        -------------------\n",
    "        x_in         : (B,n,p) - Tensor of input signal.\n",
    "        vertex_areas : (B,n) - Tensor of vertex areas\n",
    "        evals        : (B, K,) batch of eigenvalues\n",
    "        evecs        : (B, n, K) batch of eigenvectors\n",
    "        gradX        : Half of gradient matrix, sparse real tensor with dimension [B,N,N]\n",
    "        gradY        : Half of gradient matrix, sparse real tensor with dimension [B,N,N]\n",
    "\n",
    "        Output\n",
    "        -------------------\n",
    "        x_out : (B,n,p) - Tensor of output signal.\n",
    "        \"\"\"\n",
    "\n",
    "        # Manage dimensions\n",
    "        B = x_in.shape[0] # batch dimension\n",
    "\n",
    "        # Diffusion block\n",
    "        x_diffuse = self.diffusion(x_in, evals, evecs, vertex_areas) # DIFFUSED X_in  # (B,N,p)\n",
    "\n",
    "        # Compute the batch of gradients\n",
    "        x_grads = [] # Manually loop over the batch\n",
    "        for b in range(B):\n",
    "            # gradient after diffusion\n",
    "            x_gradX = torch.mm(gradX[b,...], x_diffuse[b,...])\n",
    "            x_gradY = torch.mm(gradY[b,...], x_diffuse[b,...])\n",
    "\n",
    "            x_grads.append(torch.stack((x_gradX, x_gradY), dim=-1))\n",
    "\n",
    "        x_grad = torch.stack(x_grads, dim=0)  # (B, N, P, 2)\n",
    "\n",
    "        # TODO EVALUATE GRADIENT FEATURES\n",
    "        gradient_features = self.gradient(x_grad) # (B,N,P)\n",
    "\n",
    "        # TODO APPLY THE MLP TO THE CONCATENATED FEATURES\n",
    "        mlp_input = torch.cat([x_in, x_diffuse, gradient_features], dim=-1) # (B,N,3P)\n",
    "        mlp_output = self.mlp(mlp_input) # (B,N,P)\n",
    "\n",
    "        # TODO APPLY THE RESIDUAL CONNECTION\n",
    "        output = x_in + mlp_output # (B,N,P)\n",
    "\n",
    "        return output"
   ]
  },
  {
   "cell_type": "markdown",
   "id": "00697162",
   "metadata": {
    "id": "00697162"
   },
   "source": [
    "## 1.6 - DiffusionNet\n",
    "\n",
    "Let's check again the architecture:\n",
    "![](https://www.lix.polytechnique.fr/Labo/Robin.Magnet/INF631/TD3/DiffusionNet.PNG)\n",
    "\n",
    "DiffusionNet takes as input per-vertex features of size $p_{in}$. Is first uses a linear layer to transform theses features into $p$-dimensional features, where $p$ is the width of DiffusionNet. There are then multiple blocks of DiffusionNetBlock to produce new features. Similarly to input features, a last linear layer transforms the $p$ dimensional features into vertex features of size $p_{out}$\n",
    "\n",
    "### Question 6\n",
    "\n",
    "**Build the DiffusionNet. It consists of an MLP in the first layer to reac with `N_block` of `DiffusionNetBlock` which was implemented in the previous cell.**"
   ]
  },
  {
   "cell_type": "code",
   "execution_count": 16,
   "id": "55cb0acf",
   "metadata": {
    "ExecuteTime": {
     "end_time": "2023-11-26T17:49:48.738367Z",
     "start_time": "2023-11-26T17:49:48.696662Z"
    },
    "id": "55cb0acf"
   },
   "outputs": [],
   "source": [
    "class DiffusionNet(nn.Module):\n",
    "\n",
    "    def __init__(self, p_in, p_out, n_channels=128, N_block=4, last_activation=None, mlp_hidden_dims=None, dropout=True):\n",
    "        \"\"\"\n",
    "        Construct a DiffusionNet.\n",
    "        Parameters\n",
    "        --------------------\n",
    "        p_in            : int - input dimension of the network\n",
    "        p_out           : int - output dimension  of the network\n",
    "        n_channels      : int - dimension of internal DiffusionNet blocks (default: 128)\n",
    "        N_block         : int - number of DiffusionNet blocks (default: 4)\n",
    "        last_activation : int - a function to apply to the final outputs of the network, such as torch.nn.functional.log_softmax\n",
    "        mlp_hidden_dims : list of int - a list of hidden layer sizes for MLPs (default: [C_width, C_width])\n",
    "        dropout         : bool - if True, internal MLPs use dropout (default: True)\n",
    "        \"\"\"\n",
    "\n",
    "        super(DiffusionNet, self).__init__()\n",
    "\n",
    "        ## Store parameters\n",
    "\n",
    "        # Basic parameters\n",
    "        self.p_in = p_in\n",
    "        self.p_out = p_out\n",
    "        self.n_channels = n_channels\n",
    "        self.N_block = N_block\n",
    "\n",
    "        # Outputs\n",
    "        self.last_activation = last_activation\n",
    "\n",
    "        # MLP options\n",
    "        if mlp_hidden_dims == None:\n",
    "            mlp_hidden_dims = [n_channels, n_channels]\n",
    "        self.mlp_hidden_dims = mlp_hidden_dims\n",
    "        self.dropout = dropout\n",
    "\n",
    "\n",
    "        ## TODO SETUP THE NETWORK (LINEAR LAYERS + BLOCKS)\n",
    "        self.blocks = [nn.Linear(self.p_in, self.n_channels)]\n",
    "        for i in range(self.N_block):\n",
    "            self.blocks.append(DiffusionNetBlock(self.n_channels, self.mlp_hidden_dims, self.dropout))\n",
    "        self.blocks.append(nn.Linear(self.n_channels, self.p_out))\n",
    "\n",
    "        self.net = nn.ModuleList(self.blocks) # you can then access each block by self.net[i]\n",
    " \n",
    "\n",
    "    def forward(self, x_in, vertex_areas, evals=None, evecs=None, gradX=None, gradY=None):\n",
    "        \"\"\"\n",
    "        Progapate a signal through the network.\n",
    "        Can handle input without batch dimension (will add a dummy dimension to set batch size to 1)\n",
    "\n",
    "        Parameters\n",
    "        --------------------\n",
    "        x_in         : (n,p) or (B,n,p) - Tensor of input signal.\n",
    "        vertex_areas : (n,) or (B,n) - Tensor of vertex areas\n",
    "        evals        : (B, K,) or (K,) batch of eigenvalues\n",
    "        evecs        : (B, n, K) or (n, K) batch of eigenvectors\n",
    "        gradX        : Half of gradient matrix, sparse real tensor with dimension [N,N] or [B,N,N]\n",
    "        gradY        : Half of gradient matrix, sparse real tensor with dimension [N,N] or [B,N,N]\n",
    "\n",
    "        Output\n",
    "        -----------------------\n",
    "        x_out (tensor):    Output with dimension [N,C_out] or [B,N,C_out]\n",
    "        \"\"\"\n",
    "\n",
    "\n",
    "        ## Check dimensions, and append batch dimension if not given\n",
    "        if x_in.shape[-1] != self.p_in:\n",
    "            raise ValueError(f\"DiffusionNet was constructed with p_in={self.p_in}, \"\n",
    "                             f\"but x_in has last dim={x_in.shape[-1]}\")\n",
    "        N = x_in.shape[-2]\n",
    "\n",
    "        if len(x_in.shape) == 2:\n",
    "            appended_batch_dim = True\n",
    "\n",
    "            # add a batch dim to all inputs\n",
    "            x_in = x_in.unsqueeze(0) # (B, N, P)\n",
    "            vertex_areas = vertex_areas.unsqueeze(0) # (B, N)\n",
    "            if evals != None: evals = evals.unsqueeze(0) # (B,K)\n",
    "            if evecs != None: evecs = evecs.unsqueeze(0) # (B,N,K)\n",
    "            if gradX != None: gradX = gradX.unsqueeze(0) # (B,N,N)\n",
    "            if gradY != None: gradY = gradY.unsqueeze(0) # (B,N,N)\n",
    "\n",
    "        elif len(x_in.shape) == 3:\n",
    "            appended_batch_dim = False\n",
    "\n",
    "        else: raise ValueError(\"x_in should be tensor with shape (n,p) or (B,n,p)\")\n",
    "\n",
    "        ##  TODO PROCESS THE INPUTS\n",
    "        x_in = self.net[0](x_in)\n",
    "        for block in self.net[1:-1]:\n",
    "            x_in = block(x_in, vertex_areas, evals, evecs, gradX, gradY)\n",
    "\n",
    "        x_out = self.net[-1](x_in)\n",
    "\n",
    "        if self.last_activation is not None:\n",
    "            x_out = self.last_activation(x_out)\n",
    "\n",
    "        # Remove batch dim if we added it\n",
    "        if appended_batch_dim:\n",
    "            x_out = x_out.squeeze(0) # (N, p_out)\n",
    "\n",
    "        return x_out"
   ]
  },
  {
   "cell_type": "markdown",
   "id": "604ee348-5246-4af2-bc12-0f6d4f6eeba8",
   "metadata": {
    "ExecuteTime": {
     "end_time": "2022-11-17T15:56:50.793420Z",
     "start_time": "2022-11-17T15:56:50.654554Z"
    },
    "id": "604ee348-5246-4af2-bc12-0f6d4f6eeba8"
   },
   "source": [
    "# Part II - RNA segmentation.\n",
    "\n",
    "**Given meshes of the molecular envelopes for RNA molecules, gathered from the PDB database, we will be segementing them. That is, each vertex is assigned a ground-truth segmentation label according to ~120 functional categories. See [1] for more details. We use this data as a representative task for 3D machine learning on surfaces, predicting the functional segmentation from only the molecule surface shape using DiffusionNet.**\n",
    "\n",
    "\n",
    "[1] https://hal.inria.fr/hal-02167454v2/document"
   ]
  },
  {
   "cell_type": "markdown",
   "id": "1f1f66cd",
   "metadata": {
    "id": "1f1f66cd"
   },
   "source": [
    "## 1. Visualize the data"
   ]
  },
  {
   "cell_type": "markdown",
   "id": "161711e5",
   "metadata": {
    "id": "161711e5"
   },
   "source": [
    "Here is some code to visualize the training data with segmentation of the surfaces."
   ]
  },
  {
   "cell_type": "code",
   "execution_count": 19,
   "id": "db20c6ce",
   "metadata": {
    "ExecuteTime": {
     "end_time": "2023-11-26T17:50:14.040764Z",
     "start_time": "2023-11-26T17:50:13.761343Z"
    },
    "id": "db20c6ce"
   },
   "outputs": [],
   "source": [
    "from rna_dataset import RNAMeshDataset\n",
    "from mesh_utils.mesh import TriMesh\n",
    "import matplotlib.pyplot as plt\n",
    "import plot_utils as plu"
   ]
  },
  {
   "cell_type": "code",
   "execution_count": 20,
   "id": "a0e53c70",
   "metadata": {
    "ExecuteTime": {
     "end_time": "2023-11-26T17:50:47.671985Z",
     "start_time": "2023-11-26T17:50:43.780037Z"
    },
    "colab": {
     "base_uri": "https://localhost:8080/"
    },
    "id": "a0e53c70",
    "outputId": "fc4faf67-a688-4376-ccd9-612ffba82332"
   },
   "outputs": [
    {
     "name": "stdout",
     "output_type": "stream",
     "text": [
      "loading 60 files: ['5JUO_D.off', '5T62_B.off', '4WCE_Y.off', '4V9K_BB.off', '5E81_16.off', '3J92_7.off', '4V7X_BB.off', '5T7V_C.off', '4TUE_RB.off', '5DGE_3.off', '4V7B_BB.off', '4U4O_3.off', '3JA1_LB.off', '3PIO_Y.off', '5EL7_16.off', '5MDY_3.off', '5H5U_B.off', '4U4O_7.off', '5TBW_AS.off', '5J30_RB.off', '4W4G_RB.off', '4V7J_AB.off', '4V8J_BB.off', '2OTJ_9.off', '4V7X_DB.off', '3J9Y_B.off', '1VQK_9.off', '1Q82_B.off', '4W2H_DB.off', '3G4S_9.off', '1NKW_9.off', '4V5J_BB.off', '3JBN_AB.off', '4V8E_CB.off', '4YZV_YB.off', '4V9P_CB.off', '5J5B_DB.off', '4U6F_7.off', '5OBM_7.off', '3JCD_B.off', '4V55_BA.off', '5IBB_16.off', '1VY7_BB.off', '5GAD_B.off', '4U4Q_3.off', '4WRA_1J.off', '5ADY_A.off', '4V70_BB.off', '4TUB_RB.off', '5AJ0_A4.off', '1KD1_B.off', '4V6N_AA.off', '4V8I_BB.off', '4W4G_YB.off', '4V8F_DB.off', '4V8P_E3.off', '4V5Y_BA.off', '4TUA_YB.off', '5DFE_RB.off', '4V5K_DB.off']\n"
     ]
    }
   ],
   "source": [
    "\n",
    "root_dir = './RNADataset/'\n",
    "\n",
    "train_dataset = RNAMeshDataset(root_dir, train=True, num_eig=128, op_cache_dir=None)"
   ]
  },
  {
   "cell_type": "code",
   "execution_count": 21,
   "id": "ad874a54",
   "metadata": {
    "ExecuteTime": {
     "end_time": "2023-11-26T18:01:02.195878Z",
     "start_time": "2023-11-26T18:01:02.107663Z"
    },
    "colab": {
     "base_uri": "https://localhost:8080/"
    },
    "id": "ad874a54",
    "outputId": "a330e2c6-b19e-40f8-93b2-a8dd416b2f46"
   },
   "outputs": [
    {
     "name": "stderr",
     "output_type": "stream",
     "text": [
      "/home/louis/dev/python/diffusion_utils.py:196: RuntimeWarning: invalid value encountered in divide\n",
      "  vertex_normals = vertex_normals / np.linalg.norm(vertex_normals,axis=-1,keepdims=True)\n"
     ]
    },
    {
     "name": "stdout",
     "output_type": "stream",
     "text": [
      "dict_keys(['vertices', 'faces', 'frames', 'vertex_area', 'L', 'evals', 'evecs', 'gradX', 'gradY', 'labels', 'labels_og'])\n"
     ]
    }
   ],
   "source": [
    "# This loads all operators\n",
    "\n",
    "data1 = train_dataset[19]\n",
    "mesh1 = TriMesh(data1['vertices'].numpy(), data1[\"faces\"].numpy())\n",
    "\n",
    "data2 = train_dataset[37]\n",
    "mesh2 = TriMesh(data2['vertices'].numpy(), data2[\"faces\"].numpy())\n",
    "\n",
    "\n",
    "## You can see what kind of information is provided\n",
    "print(data1.keys())"
   ]
  },
  {
   "cell_type": "code",
   "execution_count": 22,
   "id": "7d571da0",
   "metadata": {
    "ExecuteTime": {
     "end_time": "2023-11-26T17:51:04.660184Z",
     "start_time": "2023-11-26T17:51:04.599466Z"
    },
    "colab": {
     "base_uri": "https://localhost:8080/",
     "height": 978,
     "referenced_widgets": [
      "ac234ac67b1548b8986ceaf2315725e9",
      "652b3e8f8e6f47019a52b30c42ab63e1",
      "15995348f26c4f4586c8fd491bdffe4e",
      "327fdbd00c154baa90b8804a03668847",
      "b0ac259e6c494759a317b91758a72e1b",
      "8348e918718b4b828137a4c8b6603b80",
      "1ab4ccbc2ef04c549754ad9c5c261cd5",
      "a93aa23323e941048b307c8610d1d443",
      "465d0899466e48c1adec148b67727e72",
      "5bcb5b32a98f4603beadaa5535a14afa",
      "a9e01940fc3546169a491e13376731e3",
      "0a6f8b3b4df2408c8fe23dcf0d90011e",
      "80a415e5280c4ebe92e9dcd86dacac5a",
      "1d709c60642b4a2093584f5533772e6c"
     ]
    },
    "id": "7d571da0",
    "outputId": "453c0247-acef-40c0-93a7-1b265f6bd988"
   },
   "outputs": [
    {
     "data": {
      "application/vnd.jupyter.widget-view+json": {
       "model_id": "2e9cb12dadef4b7cac2cad135ea755cf",
       "version_major": 2,
       "version_minor": 0
      },
      "text/plain": [
       "Renderer(camera=PerspectiveCamera(children=(DirectionalLight(color='white', intensity=0.6, position=(0.0466284…"
      ]
     },
     "metadata": {},
     "output_type": "display_data"
    },
    {
     "data": {
      "text/plain": [
       "<meshplot.Viewer.Viewer at 0x7a3b840949a0>"
      ]
     },
     "execution_count": 22,
     "metadata": {},
     "output_type": "execute_result"
    }
   ],
   "source": [
    "\n",
    "cmap1 = plt.get_cmap(\"jet\")(data1[\"labels\"].numpy() / (train_dataset.n_classes-1))[:,:3]\n",
    "cmap2 = plt.get_cmap(\"jet\")(data2[\"labels\"].numpy() / (train_dataset.n_classes-1))[:,:3]\n",
    "\n",
    "# plu.plot(mesh1, cmap1)\n",
    "plu.plot(mesh2, cmap2)"
   ]
  },
  {
   "cell_type": "markdown",
   "id": "ac96083a",
   "metadata": {
    "id": "ac96083a"
   },
   "source": [
    "### Load training and validation dataset"
   ]
  },
  {
   "cell_type": "markdown",
   "id": "5913d4fa",
   "metadata": {
    "id": "5913d4fa"
   },
   "source": [
    "All operators and eigenfunctions are precomputed and saved in a cache folder. Computing the cache can take a few minutes.\n",
    "\n",
    "If you are using colab, you might want first to mount your drive and save the cache there (You can change the `op_cache_dir`) so that you don't have to recompute it everytime. Or either compute the cache once, download it and upload it again everytime. This might be faster than recomputing all along.\n",
    "\n",
    "To access your google drive, use this code:\n",
    "\n",
    "\n",
    "```\n",
    "from google.colab import drive\n",
    "drive.mount('/content/drive')\n",
    "```\n",
    "\n",
    "This makes your Drive available at `/content/drive/My Drive/`"
   ]
  },
  {
   "cell_type": "code",
   "execution_count": 23,
   "id": "8ef35ad0",
   "metadata": {
    "ExecuteTime": {
     "end_time": "2023-11-26T17:51:20.629889Z",
     "start_time": "2023-11-26T17:51:12.555437Z"
    },
    "colab": {
     "base_uri": "https://localhost:8080/",
     "height": 136,
     "referenced_widgets": [
      "3a2b52ec6960404786cd349c1f23568a",
      "ee4552694d804af881a49902fd372406",
      "34992aa463b64ea7a1da4feaf265446a",
      "67e94c59788b412c8f63f2565c028a98",
      "8c70df8a4a294379b4c061eb97bf8621",
      "5b2e2d09ac6942c99ffdaaa6fe269618",
      "4beab17d13924abf8364a99489b97c63",
      "ff5aca6cf7ec4f7dba2f8ef78ebfb00e",
      "f60110809bf94d629b58773aa5f5d10f",
      "4101665640c7490b9c83bce535edfc0f",
      "bb3db2e05a824869910c4e464d51802b",
      "f054e817a7dc44b9afd3128de0c40dff",
      "bb8291ef206841e4b938722b67a9a11c",
      "9d06ae2e29054fb5b0d05d32e2a3214a",
      "2be575f336644626bff95aac8d57f664",
      "1e6672b2d99f497ea3cbc90a7428e1d2",
      "49c1ad928a234339a7d8d6ea7c087226",
      "7ae21d0eca554a6c9f4bfed74ddf089f",
      "73208b8d8c394ed391c2e98197ab6a49",
      "e3f87182bcb94ffbbf9571316452c0a0",
      "f6c3a8226b414c66a0516c5fbbf5b4e4",
      "325438e24925445d88bd534c4ac246a0"
     ]
    },
    "id": "8ef35ad0",
    "outputId": "b44b2785-6db8-4302-d9e0-d6ba89b6cde3",
    "scrolled": true
   },
   "outputs": [
    {
     "name": "stdout",
     "output_type": "stream",
     "text": [
      "loading 60 files: ['5JUO_D.off', '5T62_B.off', '4WCE_Y.off', '4V9K_BB.off', '5E81_16.off', '3J92_7.off', '4V7X_BB.off', '5T7V_C.off', '4TUE_RB.off', '5DGE_3.off', '4V7B_BB.off', '4U4O_3.off', '3JA1_LB.off', '3PIO_Y.off', '5EL7_16.off', '5MDY_3.off', '5H5U_B.off', '4U4O_7.off', '5TBW_AS.off', '5J30_RB.off', '4W4G_RB.off', '4V7J_AB.off', '4V8J_BB.off', '2OTJ_9.off', '4V7X_DB.off', '3J9Y_B.off', '1VQK_9.off', '1Q82_B.off', '4W2H_DB.off', '3G4S_9.off', '1NKW_9.off', '4V5J_BB.off', '3JBN_AB.off', '4V8E_CB.off', '4YZV_YB.off', '4V9P_CB.off', '5J5B_DB.off', '4U6F_7.off', '5OBM_7.off', '3JCD_B.off', '4V55_BA.off', '5IBB_16.off', '1VY7_BB.off', '5GAD_B.off', '4U4Q_3.off', '4WRA_1J.off', '5ADY_A.off', '4V70_BB.off', '4TUB_RB.off', '5AJ0_A4.off', '1KD1_B.off', '4V6N_AA.off', '4V8I_BB.off', '4W4G_YB.off', '4V8F_DB.off', '4V8P_E3.off', '4V5Y_BA.off', '4TUA_YB.off', '5DFE_RB.off', '4V5K_DB.off']\n"
     ]
    },
    {
     "data": {
      "application/vnd.jupyter.widget-view+json": {
       "model_id": "91fadf87a90f4ac7ac3199e5f1fcba96",
       "version_major": 2,
       "version_minor": 0
      },
      "text/plain": [
       "get_all_operators:   0%|          | 0/60 [00:00<?, ?it/s]"
      ]
     },
     "metadata": {},
     "output_type": "display_data"
    },
    {
     "name": "stdout",
     "output_type": "stream",
     "text": [
      "  cache miss -- constructing operators\n",
      "  cache miss -- constructing operators\n",
      "  cache miss -- constructing operators\n",
      "  cache miss -- constructing operators\n",
      "  cache miss -- constructing operators\n",
      "  cache miss -- constructing operators\n",
      "  cache miss -- constructing operators\n",
      "  cache miss -- constructing operators\n",
      "  cache miss -- constructing operators\n",
      "  cache miss -- constructing operators\n",
      "  cache miss -- constructing operators\n",
      "  cache miss -- constructing operators\n",
      "  cache miss -- constructing operators\n",
      "  cache miss -- constructing operators\n",
      "  cache miss -- constructing operators\n",
      "  cache miss -- constructing operators\n",
      "  cache miss -- constructing operators\n",
      "  cache miss -- constructing operators\n",
      "  cache miss -- constructing operators\n",
      "  cache miss -- constructing operators\n",
      "  cache miss -- constructing operators\n",
      "  cache miss -- constructing operators\n",
      "  cache miss -- constructing operators\n",
      "  cache miss -- constructing operators\n",
      "  cache miss -- constructing operators\n",
      "  cache miss -- constructing operators\n",
      "  cache miss -- constructing operators\n",
      "  cache miss -- constructing operators\n",
      "  cache miss -- constructing operators\n",
      "  cache miss -- constructing operators\n",
      "  cache miss -- constructing operators\n",
      "  cache miss -- constructing operators\n",
      "  cache miss -- constructing operators\n",
      "  cache miss -- constructing operators\n",
      "  cache miss -- constructing operators\n",
      "  cache miss -- constructing operators\n",
      "  cache miss -- constructing operators\n",
      "  cache miss -- constructing operators\n",
      "  cache miss -- constructing operators\n",
      "  cache miss -- constructing operators\n",
      "  cache miss -- constructing operators\n",
      "  cache miss -- constructing operators\n",
      "  cache miss -- constructing operators\n",
      "  cache miss -- constructing operators\n",
      "  cache miss -- constructing operators\n",
      "  cache miss -- constructing operators\n",
      "  cache miss -- constructing operators\n",
      "  cache miss -- constructing operators\n",
      "  cache miss -- constructing operators\n",
      "  cache miss -- constructing operators\n",
      "  cache miss -- constructing operators\n",
      "  cache miss -- constructing operators\n",
      "  cache miss -- constructing operators\n",
      "  cache miss -- constructing operators\n",
      "  cache miss -- constructing operators\n",
      "  cache miss -- constructing operators\n",
      "  cache miss -- constructing operators\n",
      "  cache miss -- constructing operators\n",
      "  cache miss -- constructing operators\n",
      "  cache miss -- constructing operators\n",
      "loading 13 files: ['4V83_BB.off', '1VQ6_9.off', '4V7K_BB.off', '4V9A_DB.off', '3JQ4_B.off', '5KCS_1B.off', '4LT8_RB.off', '4V56_BA.off', '1N8R_B.off', '4V4I_x.off', '5FDV_2B.off', '4V57_BA.off', '4V9Q_CB.off']\n"
     ]
    },
    {
     "data": {
      "application/vnd.jupyter.widget-view+json": {
       "model_id": "0312fe71f6894df99d10cda16910ab3f",
       "version_major": 2,
       "version_minor": 0
      },
      "text/plain": [
       "get_all_operators:   0%|          | 0/13 [00:00<?, ?it/s]"
      ]
     },
     "metadata": {},
     "output_type": "display_data"
    },
    {
     "name": "stdout",
     "output_type": "stream",
     "text": [
      "  cache miss -- constructing operators\n",
      "  cache miss -- constructing operators\n",
      "  cache miss -- constructing operators\n",
      "  cache miss -- constructing operators\n",
      "  cache miss -- constructing operators\n",
      "  cache miss -- constructing operators\n",
      "  cache miss -- constructing operators\n",
      "  cache miss -- constructing operators\n",
      "  cache miss -- constructing operators\n",
      "  cache miss -- constructing operators\n",
      "  cache miss -- constructing operators\n",
      "  cache miss -- constructing operators\n",
      "  cache miss -- constructing operators\n"
     ]
    }
   ],
   "source": [
    "# WARNING: Do not change this cell\n",
    "\n",
    "from rna_dataset import RNAMeshDataset\n",
    "from torch.utils.data import DataLoader\n",
    "\n",
    "root_dir = './RNADataset/'\n",
    "op_cache_dir = './RNADataset/cache'\n",
    "num_eig = 128\n",
    "\n",
    "train_dataset = RNAMeshDataset(root_dir, train=True, num_eig=num_eig, op_cache_dir=op_cache_dir)\n",
    "train_loader = DataLoader(train_dataset, batch_size=None, shuffle=True, num_workers=0, persistent_workers=False)\n",
    "\n",
    "valid_dataset = RNAMeshDataset(root_dir, train=False, num_eig=num_eig, op_cache_dir=op_cache_dir)\n",
    "valid_loader = DataLoader(valid_dataset, batch_size=None, num_workers=0, persistent_workers=False, )"
   ]
  },
  {
   "cell_type": "markdown",
   "id": "e14ebabd",
   "metadata": {
    "id": "e14ebabd"
   },
   "source": [
    "## 2 -  Training the network\n",
    "\n",
    "In order to easily run multiple experiments, we will use a class `Trainer` to run the complete training and testing code.\n",
    "\n",
    "This way we can simply change parameters as arguments when building the class and run the training easily.\n",
    "\n",
    "### Question 7: Fill the trainer class\n",
    "\n",
    "This function is mostly pre-filled. Here are the parts you should implement yourself:\n",
    "\n",
    "1. In the `__init__` function, **build DiffusionNet** using the `model_cfg` dictionary you will provide as input. An example of model config is the following:\n",
    "\n",
    "```python\n",
    "model_cfg = {'inp_feat': 'xyz',  # Type of input Features (xyz, HKS, WKS)\n",
    "              'num_eig': 32,  # Number of eigenfunctions to use for Spectral Diffusion\n",
    "              'p_in': 3,  # Number of input features\n",
    "              'p_out': train_dataset.n_classes,  # Number of output features\n",
    "              'N_block': 4,  # Number of DiffusionNetBlock\n",
    "              'n_channels': 128}  # Width of the network\n",
    "```\n",
    "\n",
    "2. In the `__init__` function, **define the loss**. Note that segmentation is essentially multi-label classification. The number of classes is given by `train_dataset.n_classes`.\n",
    "\n",
    "3. Fill in the `forward_step` `train_epoch`, `valid_epoch` methods. Note this is pretty simple and depends on your choice of loss / activation function combination.\n",
    "\n"
   ]
  },
  {
   "cell_type": "code",
   "execution_count": 24,
   "id": "74697012",
   "metadata": {
    "ExecuteTime": {
     "end_time": "2023-11-26T18:07:41.674475Z",
     "start_time": "2023-11-26T18:07:41.621530Z"
    },
    "id": "74697012"
   },
   "outputs": [],
   "source": [
    "# You can remove prints if you want\n",
    "from tqdm.notebook import tqdm\n",
    "class Trainer(object):\n",
    "\n",
    "    def __init__(self, diffusionnet_cls, model_cfg, train_loader, valid_loader, device='cuda',\n",
    "                 lr=1e-3, weight_decay=1e-4, num_epochs=200,\n",
    "                 lr_decay_every = 50, lr_decay_rate = 0.5,\n",
    "                 log_interval=10, save_dir=None):\n",
    "\n",
    "        \"\"\"\n",
    "        diffusionnet_cls: (nn.Module) class of the DiffusionNet model\n",
    "        model_cfg: (dict) keyword arguments for model\n",
    "        train_loader: (torch.utils.DataLoader) DataLoader for training set\n",
    "        valid_loader: (torch.utils.DataLoader) DataLoader for validation set\n",
    "        device: (str) 'cuda' or 'cpu'\n",
    "        lr: (float) learning rate\n",
    "        weight_decay: (float) weight decay for optimiser\n",
    "        num_epochs: (int) number of epochs\n",
    "        lr_decay_every: (int) decay learning rate every this many epochs\n",
    "        lr_decay_rate: (float) decay learning rate by this factor\n",
    "        log_interval: (int) print training stats every this many iterations\n",
    "        save_dir: (str) directory to save model checkpoints\n",
    "        \"\"\"\n",
    "\n",
    "        # TODO build the network from the model_cfg\n",
    "        # p_in, p_out, n_channels=128, N_block=4, last_activation=None, mlp_hidden_dims=None, dropout=True):\n",
    "        self.model = diffusionnet_cls(\n",
    "            p_in=model_cfg['p_in'], \n",
    "            p_out=model_cfg['p_out'], \n",
    "            n_channels=model_cfg['n_channels'], \n",
    "            N_block=model_cfg['N_block'], \n",
    "            last_activation=None, \n",
    "            mlp_hidden_dims=None, \n",
    "            dropout=model_cfg['dropout'])\n",
    "\n",
    "\n",
    "        self.loss = nn.CrossEntropyLoss()\n",
    "\n",
    "\n",
    "\n",
    "        ## THIS PART JUST STORES SOME OTHER PARAMETERS\n",
    "        self.train_loader = train_loader\n",
    "        self.valid_loader = valid_loader\n",
    "        self.device = device\n",
    "        self.lr = lr\n",
    "        self.weight_decay = weight_decay\n",
    "        self.num_epochs = num_epochs\n",
    "\n",
    "        self.optimizer = torch.optim.Adam(self.model.parameters(), lr=self.lr, weight_decay=self.weight_decay)\n",
    "\n",
    "\n",
    "        self.lr_decay_every = lr_decay_every\n",
    "        self.lr_decay_rate = lr_decay_rate\n",
    "        self.log_interval = log_interval\n",
    "        self.save_dir = save_dir\n",
    "\n",
    "        self.train_losses = []\n",
    "        self.test_losses = []\n",
    "        self.train_accs = []\n",
    "        self.test_accs = []\n",
    "\n",
    "        self.inp_feat = model_cfg.get('inp_feat', 'xyz')\n",
    "        self.num_eig = model_cfg.get('num_eig', 128)\n",
    "        if not self.inp_feat in ['xyz', 'hks', 'wks']:\n",
    "            raise ValueError('inp_feat must be one of xyz, hks, wks')\n",
    "\n",
    "        self.model.to(self.device)\n",
    "\n",
    "\n",
    "    def forward_step(self, verts, faces, frames, vertex_area, L, evals, evecs, gradX, gradY):\n",
    "        \"\"\"\n",
    "        Perform a forward step of the model.\n",
    "\n",
    "        Args:\n",
    "            verts (torch.Tensor): (N, 3) tensor of vertex positions\n",
    "            faces (torch.Tensor): (F, 3) tensor of face indices\n",
    "            frames (torch.Tensor): (N, 3, 3) tensor of tangent frames.\n",
    "            vertex_area (torch.Tensor): (N, N) sparse Tensor of vertex areas.\n",
    "            L (torch.Tensor): (N, N) sparse Tensor of cotangent Laplacian.\n",
    "            evals (torch.Tensor): (num_eig,) tensor of eigenvalues.\n",
    "            evecs (torch.Tensor): (N, num_eig) tensor of eigenvectors.\n",
    "            gradX (torch.Tensor): (N, N) tensor of gradient in X direction.\n",
    "            gradY (torch.Tensor): (N, N) tensor of gradient in Y direction.\n",
    "\n",
    "        Returns:\n",
    "            pred (torch.Tensor): (N, p_out) tensor of predicted labels.\n",
    "        \"\"\"\n",
    "\n",
    "        if self.inp_feat == 'xyz':\n",
    "            features = verts\n",
    "        elif self.inp_feat == 'hks':\n",
    "            features = self.compute_HKS(verts, faces, self.num_eig, n_feat=32)\n",
    "        elif self.inp_feat == 'wks':\n",
    "            features = self.compute_WKS(verts, faces, self.num_eig, num_E=32)\n",
    "\n",
    "        preds = self.model(features, vertex_area, evals=evals, evecs=evecs, gradX=gradX, gradY=gradY)\n",
    "\n",
    "        # MAYBE ADD ACTIVATION (No because cross entropy)\n",
    "        return preds\n",
    "\n",
    "\n",
    "\n",
    "    def train_epoch(self):\n",
    "        \"\"\"\n",
    "        Train the network for one epoch\n",
    "        \"\"\"\n",
    "        train_loss = 0\n",
    "        train_acc = 0\n",
    "        for i, batch in enumerate(tqdm(self.train_loader, \"Train epoch\")):\n",
    "\n",
    "            verts = batch[\"vertices\"].to(self.device)\n",
    "            faces = batch[\"faces\"].to(self.device)\n",
    "            frames = batch[\"frames\"].to(self.device)\n",
    "            vertex_area = batch[\"vertex_area\"].to(self.device)\n",
    "            L = batch[\"L\"].to(self.device)\n",
    "            evals = batch[\"evals\"].to(self.device)\n",
    "            evecs = batch[\"evecs\"].to(self.device)\n",
    "            gradX = batch[\"gradX\"].to(self.device)\n",
    "            gradY = batch[\"gradY\"].to(self.device)\n",
    "            labels = batch[\"labels\"].to(self.device)\n",
    "\n",
    "            self.optimizer.zero_grad()\n",
    "\n",
    "            preds = self.forward_step(verts, faces, frames, vertex_area, L, evals, evecs, gradX, gradY)\n",
    "            # MAYBE DO SOMETHING TO THE PREDS\n",
    "\n",
    "            # COMPUTE THE LOSS\n",
    "            loss = self.loss(preds, labels)\n",
    "\n",
    "            loss.backward()\n",
    "            self.optimizer.step()\n",
    "\n",
    "            train_loss += loss.item()\n",
    "\n",
    "            # COMPUTE TRAINING ACCURACY\n",
    "            pred_labels = torch.argmax(preds, dim=1)\n",
    "\n",
    "            n_correct = pred_labels.eq(labels).sum().item() # number of correct predictions\n",
    "            train_acc += n_correct/labels.shape[0]\n",
    "\n",
    "        return train_loss/len(self.train_loader), train_acc/len(self.train_loader)\n",
    "\n",
    "    def valid_epoch(self):\n",
    "        \"\"\"\n",
    "        Run a validation epoch\n",
    "        \"\"\"\n",
    "        val_loss = 0\n",
    "        val_acc = 0\n",
    "        print(\"Start val epoch\")\n",
    "        for i, batch in enumerate(self.valid_loader):\n",
    "\n",
    "            # READ BATCH\n",
    "            verts = batch[\"vertices\"].to(self.device)\n",
    "            faces = batch[\"faces\"].to(self.device)\n",
    "            frames = batch[\"frames\"].to(self.device)\n",
    "            vertex_area = batch[\"vertex_area\"].to(self.device)\n",
    "            L = batch[\"L\"].to(self.device)\n",
    "            evals = batch[\"evals\"].to(self.device)\n",
    "            evecs = batch[\"evecs\"].to(self.device)\n",
    "            gradX = batch[\"gradX\"].to(self.device)\n",
    "            gradY = batch[\"gradY\"].to(self.device)\n",
    "            labels = batch[\"labels\"].to(self.device)\n",
    "\n",
    "            # TODO PERFORM FORWARD STEP\n",
    "            preds = self.forward_step(verts, faces, frames, vertex_area, L, evals, evecs, gradX, gradY)\n",
    "            # MAYBE DO SOMETHING TO THE PREDS\n",
    "\n",
    "            # Compute Loss - THIS DEPENDS ON YOUR CHOICE OF LOSS\n",
    "            loss = self.loss(preds, labels)\n",
    "\n",
    "\n",
    "            val_loss += loss.item()\n",
    "\n",
    "            # Compute ACCURACCY\n",
    "            pred_labels = torch.argmax(preds, dim=1)\n",
    "\n",
    "            n_correct = pred_labels.eq(labels).sum().item() # number of correct predictions\n",
    "            val_acc += n_correct/labels.shape[0]\n",
    "        print(\"End val epoch\")\n",
    "        return val_loss/len(self.valid_loader), val_acc/len(self.valid_loader)\n",
    "\n",
    "    def run(self):\n",
    "        os.makedirs('./models', exist_ok=True)\n",
    "        for epoch in range(self.num_epochs):\n",
    "            self.model.train()\n",
    "\n",
    "            if epoch % self.lr_decay_every == 0:\n",
    "                self.adjust_lr()\n",
    "\n",
    "            train_ep_loss, train_ep_acc = self.train_epoch()\n",
    "            self.train_losses.append(train_ep_loss)\n",
    "            self.train_accs.append(train_ep_acc)\n",
    "\n",
    "            if epoch % self.log_interval == 0:\n",
    "                val_loss, val_acc = self.valid_epoch()\n",
    "                torch.save(self.model.state_dict(), os.path.join(self.save_dir, 'model_latest.pth'))\n",
    "                print(f'Epoch: {epoch:03d}/{self.num_epochs}, '\n",
    "                      f'Train Loss: {train_ep_loss:.4f}, '\n",
    "                      f'Train Acc: {1e2*train_ep_acc:.2f}%, '\n",
    "                      f'Val Loss: {val_loss:.4f}, '\n",
    "                      f'Val Acc: {1e2*val_acc:.2f}%')\n",
    "        torch.save(self.model.state_dict(), os.path.join(self.save_dir, 'model_final.pth'))\n",
    "\n",
    "\n",
    "    def visualize(self):\n",
    "        \"\"\"\n",
    "        We only test the first two shapes of validation set.\n",
    "        \"\"\"\n",
    "        self.model.eval()\n",
    "        test_seg_meshes = []\n",
    "\n",
    "        for i, batch in enumerate(self.valid_loader):\n",
    "            verts = batch[\"vertices\"].to(self.device)\n",
    "            faces = batch[\"faces\"].to(self.device)\n",
    "            frames = batch[\"frames\"].to(self.device)\n",
    "            vertex_area = batch[\"vertex_area\"].to(self.device)\n",
    "            L = batch[\"L\"].to(self.device)\n",
    "            evals = batch[\"evals\"].to(self.device)\n",
    "            evecs = batch[\"evecs\"].to(self.device)\n",
    "            gradX = batch[\"gradX\"].to(self.device)\n",
    "            gradY = batch[\"gradY\"].to(self.device)\n",
    "            labels = batch[\"labels\"].to(self.device)\n",
    "\n",
    "\n",
    "            preds = self.forward_step(verts, faces, frames, vertex_area, L, evals, evecs, gradX, gradY)\n",
    "            pred_labels = torch.max(preds, dim=1).indices\n",
    "\n",
    "            test_seg_meshes.append([TriMesh(verts.cpu().numpy(), faces.cpu().numpy()),\n",
    "                                  pred_labels.cpu().numpy()])\n",
    "            if i==1:\n",
    "                break\n",
    "\n",
    "\n",
    "        cmap1 = plt.get_cmap(\"jet\")(test_seg_meshes[0][-1] / (146))[:,:3]\n",
    "        cmap2 = plt.get_cmap(\"jet\")(test_seg_meshes[1][-1] / (146))[:,:3]\n",
    "\n",
    "        plu.double_plot(test_seg_meshes[0][0], test_seg_meshes[1][0], cmap1, cmap2)\n",
    "        #return plot_multi_meshes(test_seg_meshes, cmap='vert_colors')\n",
    "\n",
    "    def adjust_lr(self):\n",
    "        lr = self.lr * self.lr_decay_rate\n",
    "        for param_group in self.optimizer.param_groups:\n",
    "            param_group['lr'] = lr\n",
    "\n",
    "    def compute_HKS(self, evecs, evals, num_eig, n_feat):\n",
    "        \"\"\"\n",
    "        Compute the HKS features for each vertex in the mesh.\n",
    "        Args:\n",
    "            evecs (torch.Tensor): (N, K) tensor of eigenvectors\n",
    "            evals (torch.Tensor): (K,) tensor of eigenvectors\n",
    "            num_eig (int): number of eigenvalues to use\n",
    "            n_feat (int): number of features to compute\n",
    "\n",
    "        Returns:\n",
    "            hks (torch.Tensor): (N, n_feat) tensor of HKS features\n",
    "        \"\"\"\n",
    "        abs_ev = torch.sort(torch.abs(evals)).values[:num_eig]\n",
    "\n",
    "        t_list = np.geomspace(4*np.log(10)/abs_ev[-1], 4*np.log(10)/abs_ev[1], n_feat)\n",
    "        t_list = torch.from_tensor(t_list.astype(np.float32)).to(device=evecs.device)\n",
    "\n",
    "        evals_s = abs_ev\n",
    "\n",
    "        coefs = torch.exp(-t_list[:,None] * evals_s[None,:])  # (num_T,K)\n",
    "\n",
    "        natural_HKS = np.einsum('tk,nk->nt', coefs, evecs[:,:num_eig].square())\n",
    "\n",
    "        inv_scaling = coefs.sum(1)  # (num_T)\n",
    "\n",
    "        return (1/inv_scaling)[None,:] * natural_HKS\n",
    "\n",
    "    def compute_WKS(self, evecs, evals, num_eig, n_feat):\n",
    "        \"\"\"\n",
    "        Compute the WKS features for each vertex in the mesh.\n",
    "\n",
    "        Args:\n",
    "            evecs (torch.Tensor): (N, K) tensor of eigenvectors\n",
    "            evals (torch.Tensor): (K,) tensor of eigenvectors\n",
    "            num_eig (int): number of eigenvalues to use\n",
    "            n_feat (int): number of features to compute\n",
    "\n",
    "        Returns:\n",
    "            wks: torch.Tensor: (N, num_E) tensor of WKS features\n",
    "        \"\"\"\n",
    "        abs_ev = torch.sort(torch.abs(evals)).values[:num_eig]\n",
    "\n",
    "        e_min,e_max = np.log(abs_ev[1]),np.log(abs_ev[-1])\n",
    "        sigma = 7*(e_max-e_min)/n_feat\n",
    "\n",
    "        e_min += 2*sigma\n",
    "        e_max -= 2*sigma\n",
    "\n",
    "        energy_list = torch.linspace(e_min,e_max,n_feat)\n",
    "\n",
    "        evals_s = abs_ev\n",
    "\n",
    "        coefs = torch.exp(-torch.square(energy_list[:,None] - torch.log(torch.abs(evals_s))[None,:])/(2*sigma**2))  # (num_E,K)\n",
    "\n",
    "        natural_WKS = np.einsum('tk,nk->nt', coefs, evecs[:,:num_eig].square())\n",
    "\n",
    "        inv_scaling = coefs.sum(1)  # (num_E)\n",
    "        return (1/inv_scaling)[None,:] * natural_WKS\n"
   ]
  },
  {
   "cell_type": "markdown",
   "id": "fc715ac6",
   "metadata": {
    "id": "fc715ac6"
   },
   "source": [
    "### Training and visualising segmentation results.\n",
    "\n",
    "Simply execute the next two cells. There are no TODOs."
   ]
  },
  {
   "cell_type": "code",
   "execution_count": 26,
   "id": "e6ee991c",
   "metadata": {
    "ExecuteTime": {
     "end_time": "2023-11-26T18:29:22.234678Z",
     "start_time": "2023-11-26T18:29:21.164983Z"
    },
    "colab": {
     "base_uri": "https://localhost:8080/",
     "height": 1000,
     "referenced_widgets": [
      "70ac23c55bbf4094b9ef13e221917744",
      "ca6f61137b714a2ba200cb2614dc575a",
      "aca956d15f12488ca6001c21de77ecc6",
      "8abc2981ecf94169a475d0be2d498872",
      "6743522e2e5b424e82af54bbfd6b1cb1",
      "33babd6b4b2046c4a7660bd169d5585c",
      "889f9480237945c08dff1560b92adcb6",
      "8dfc000b15e84d7885b042b17d5e6174",
      "d91ea5f4a9a747ff87fcdf1cad8bee82",
      "66955b4acdc84aeb9c1569bea2965680",
      "290f41c1b018445690f5c3908cd291ef",
      "f8e32c2b5ec14ba5addfb4e1b3f5fe94",
      "795c054ab87042b49d9b697ce2050a7d",
      "500cef4783704bcb997cdd8bb2591e99",
      "1d9fe23f88b347af8cf1627670ab40bc",
      "ec9adf5e460946c2acba0f7e31583387",
      "8e7408e0b7f540c99857e1cb2c5ae0fa",
      "4966cb24e8a4485c9357c875db269c5f",
      "87e1e032257344a6888d5ffde2ed5955",
      "c03612919b854a36866fb389685e3bdb",
      "bf4a36d9c3384c65a38a1b05cc0889bd",
      "87c4788963c144508b4550eb625af376",
      "12825f61ce8d4ee99356a0213474ded9",
      "f7dc3bde9b5a4524aa44bd513630eaa2",
      "ef85b3109a7148a0b12ffc53fe584dca",
      "8b65381aa8ac4fdb85a1fd39ea5714cd",
      "aabf98b9c57140f096b7577f0d6fac45",
      "ad03e92fc08c41f6a85844be5bfa9f59",
      "95e89a4fea454870bc010f47dfabb6dc",
      "255d32994899477d82abee415bafce4c",
      "903afdcb28da465f868a5fdae090227a",
      "896affd2fac1443f9bd46f1aae83c13b",
      "63e553accfb94d69a83130da60097b0c",
      "45a37229aa7a433fa76da5741a8b8eaf",
      "fcd0c27405264122a4399c27a9a2e0d9",
      "9d87790c554c4bf8b9d106f7732afa08",
      "db51a9dd8d39434ea8e05befdaaf0dcb",
      "09466a6dc3f64540afd85bf61eb7f12e",
      "5e82bd5e3bc44fcb82f7a223c529ddfc",
      "2e99c9d0b888462f873781fb476a81a1"
     ]
    },
    "id": "e6ee991c",
    "outputId": "a1b78cf4-f2f0-492c-8193-7d839f8faeb1"
   },
   "outputs": [
    {
     "data": {
      "application/vnd.jupyter.widget-view+json": {
       "model_id": "4b8fe93c67174dc1a057ce9888b027fc",
       "version_major": 2,
       "version_minor": 0
      },
      "text/plain": [
       "HBox(children=(Output(), Output()))"
      ]
     },
     "metadata": {},
     "output_type": "display_data"
    },
    {
     "data": {
      "application/vnd.jupyter.widget-view+json": {
       "model_id": "b4270c483e5f49349d7e507419209047",
       "version_major": 2,
       "version_minor": 0
      },
      "text/plain": [
       "HBox(children=(Output(), Output()))"
      ]
     },
     "metadata": {},
     "output_type": "display_data"
    },
    {
     "data": {
      "application/vnd.jupyter.widget-view+json": {
       "model_id": "ce6445d44ab74ba189e86dc9b34e3811",
       "version_major": 2,
       "version_minor": 0
      },
      "text/plain": [
       "Renderer(camera=PerspectiveCamera(children=(DirectionalLight(color='white', intensity=0.6, position=(0.1241606…"
      ]
     },
     "metadata": {},
     "output_type": "display_data"
    },
    {
     "data": {
      "application/vnd.jupyter.widget-view+json": {
       "model_id": "3795002d25dc45f7af0309ee18b520ba",
       "version_major": 2,
       "version_minor": 0
      },
      "text/plain": [
       "Renderer(camera=PerspectiveCamera(children=(DirectionalLight(color='white', intensity=0.6, position=(0.0771224…"
      ]
     },
     "metadata": {},
     "output_type": "display_data"
    }
   ],
   "source": [
    "# Let's define the trainer\n",
    "# Let's define the trainer\n",
    "model_cfg = {'inp_feat': 'xyz',  # Type of input Features (xyz, HKS, WKS)\n",
    "              'num_eig': 32,  # Number of eigenfunctions to use for Spectral Diffusion\n",
    "              'p_in': 3,  # Number of input features\n",
    "              'p_out': train_dataset.n_classes,  # Number of output features\n",
    "              'N_block': 4,  # Number of DiffusionNetBlock\n",
    "              'n_channels': 128,\n",
    "              'dropout': True}  # Width of the network\n",
    "\n",
    "my_trainer = Trainer(DiffusionNet,  model_cfg, train_loader, valid_loader, device=torch.device(\"cuda:0\"), save_dir='./models')\n",
    "#my_trainer.run()\n",
    "\n",
    "# Let's visualize the predicted segmentation at initialization\n",
    "my_trainer.visualize()"
   ]
  },
  {
   "cell_type": "code",
   "execution_count": 27,
   "id": "42270cb3",
   "metadata": {
    "ExecuteTime": {
     "end_time": "2023-11-26T18:07:42.563831Z",
     "start_time": "2023-11-26T18:07:42.519110Z"
    },
    "colab": {
     "base_uri": "https://localhost:8080/",
     "height": 929
    },
    "id": "42270cb3",
    "outputId": "bc66cb07-6e58-40de-d775-54a821abaee1"
   },
   "outputs": [
    {
     "data": {
      "application/vnd.jupyter.widget-view+json": {
       "model_id": "1e88b7458972471d8f48dbd6e65c6476",
       "version_major": 2,
       "version_minor": 0
      },
      "text/plain": [
       "Train epoch:   0%|          | 0/60 [00:00<?, ?it/s]"
      ]
     },
     "metadata": {},
     "output_type": "display_data"
    },
    {
     "name": "stdout",
     "output_type": "stream",
     "text": [
      "Start val epoch\n",
      "End val epoch\n",
      "Epoch: 000/200, Train Loss: 4.8493, Train Acc: 1.44%, Val Loss: 4.7081, Val Acc: 2.36%\n"
     ]
    },
    {
     "data": {
      "application/vnd.jupyter.widget-view+json": {
       "model_id": "0d5fd60bdf174f268cca69cd1371d0d0",
       "version_major": 2,
       "version_minor": 0
      },
      "text/plain": [
       "Train epoch:   0%|          | 0/60 [00:00<?, ?it/s]"
      ]
     },
     "metadata": {},
     "output_type": "display_data"
    },
    {
     "data": {
      "application/vnd.jupyter.widget-view+json": {
       "model_id": "54a74f0c6ba245d489a0a0d565bfddc1",
       "version_major": 2,
       "version_minor": 0
      },
      "text/plain": [
       "Train epoch:   0%|          | 0/60 [00:00<?, ?it/s]"
      ]
     },
     "metadata": {},
     "output_type": "display_data"
    },
    {
     "data": {
      "application/vnd.jupyter.widget-view+json": {
       "model_id": "5df3a1e4e25b491893f83d798257527d",
       "version_major": 2,
       "version_minor": 0
      },
      "text/plain": [
       "Train epoch:   0%|          | 0/60 [00:00<?, ?it/s]"
      ]
     },
     "metadata": {},
     "output_type": "display_data"
    },
    {
     "data": {
      "application/vnd.jupyter.widget-view+json": {
       "model_id": "158f4158617a441fbc8fbcdaf880592a",
       "version_major": 2,
       "version_minor": 0
      },
      "text/plain": [
       "Train epoch:   0%|          | 0/60 [00:00<?, ?it/s]"
      ]
     },
     "metadata": {},
     "output_type": "display_data"
    },
    {
     "data": {
      "application/vnd.jupyter.widget-view+json": {
       "model_id": "80858ad6ee9b4b089a7dc348f1a02376",
       "version_major": 2,
       "version_minor": 0
      },
      "text/plain": [
       "Train epoch:   0%|          | 0/60 [00:00<?, ?it/s]"
      ]
     },
     "metadata": {},
     "output_type": "display_data"
    },
    {
     "data": {
      "application/vnd.jupyter.widget-view+json": {
       "model_id": "56d7b6c5da614388a6ef9f13fcce8a96",
       "version_major": 2,
       "version_minor": 0
      },
      "text/plain": [
       "Train epoch:   0%|          | 0/60 [00:00<?, ?it/s]"
      ]
     },
     "metadata": {},
     "output_type": "display_data"
    },
    {
     "data": {
      "application/vnd.jupyter.widget-view+json": {
       "model_id": "6879ce599e14454c9f9752c98f78749d",
       "version_major": 2,
       "version_minor": 0
      },
      "text/plain": [
       "Train epoch:   0%|          | 0/60 [00:00<?, ?it/s]"
      ]
     },
     "metadata": {},
     "output_type": "display_data"
    },
    {
     "data": {
      "application/vnd.jupyter.widget-view+json": {
       "model_id": "8f9bedef48b84c0fa08d47b4accd8a68",
       "version_major": 2,
       "version_minor": 0
      },
      "text/plain": [
       "Train epoch:   0%|          | 0/60 [00:00<?, ?it/s]"
      ]
     },
     "metadata": {},
     "output_type": "display_data"
    },
    {
     "data": {
      "application/vnd.jupyter.widget-view+json": {
       "model_id": "5c68d545f11f42408ada11d3f6fd0c42",
       "version_major": 2,
       "version_minor": 0
      },
      "text/plain": [
       "Train epoch:   0%|          | 0/60 [00:00<?, ?it/s]"
      ]
     },
     "metadata": {},
     "output_type": "display_data"
    },
    {
     "data": {
      "application/vnd.jupyter.widget-view+json": {
       "model_id": "b21bcf12fca043f89b4f5ebbaca68660",
       "version_major": 2,
       "version_minor": 0
      },
      "text/plain": [
       "Train epoch:   0%|          | 0/60 [00:00<?, ?it/s]"
      ]
     },
     "metadata": {},
     "output_type": "display_data"
    },
    {
     "name": "stdout",
     "output_type": "stream",
     "text": [
      "Start val epoch\n",
      "End val epoch\n",
      "Epoch: 010/200, Train Loss: 3.1547, Train Acc: 13.97%, Val Loss: 3.0229, Val Acc: 16.19%\n"
     ]
    },
    {
     "data": {
      "application/vnd.jupyter.widget-view+json": {
       "model_id": "c9be952e24d04eaebc745effdc8cb591",
       "version_major": 2,
       "version_minor": 0
      },
      "text/plain": [
       "Train epoch:   0%|          | 0/60 [00:00<?, ?it/s]"
      ]
     },
     "metadata": {},
     "output_type": "display_data"
    },
    {
     "data": {
      "application/vnd.jupyter.widget-view+json": {
       "model_id": "0c335a7a844841289e8cdbb8a25632e3",
       "version_major": 2,
       "version_minor": 0
      },
      "text/plain": [
       "Train epoch:   0%|          | 0/60 [00:00<?, ?it/s]"
      ]
     },
     "metadata": {},
     "output_type": "display_data"
    },
    {
     "data": {
      "application/vnd.jupyter.widget-view+json": {
       "model_id": "f83b7d0ba776454da4ca9124eec91245",
       "version_major": 2,
       "version_minor": 0
      },
      "text/plain": [
       "Train epoch:   0%|          | 0/60 [00:00<?, ?it/s]"
      ]
     },
     "metadata": {},
     "output_type": "display_data"
    },
    {
     "data": {
      "application/vnd.jupyter.widget-view+json": {
       "model_id": "ccc3059b70af41a8afc4b52f2bd89206",
       "version_major": 2,
       "version_minor": 0
      },
      "text/plain": [
       "Train epoch:   0%|          | 0/60 [00:00<?, ?it/s]"
      ]
     },
     "metadata": {},
     "output_type": "display_data"
    },
    {
     "data": {
      "application/vnd.jupyter.widget-view+json": {
       "model_id": "6fe618f784cc46b4bbbfd8614be7ec44",
       "version_major": 2,
       "version_minor": 0
      },
      "text/plain": [
       "Train epoch:   0%|          | 0/60 [00:00<?, ?it/s]"
      ]
     },
     "metadata": {},
     "output_type": "display_data"
    },
    {
     "data": {
      "application/vnd.jupyter.widget-view+json": {
       "model_id": "d623de2de1f347c2b0b2620595217d90",
       "version_major": 2,
       "version_minor": 0
      },
      "text/plain": [
       "Train epoch:   0%|          | 0/60 [00:00<?, ?it/s]"
      ]
     },
     "metadata": {},
     "output_type": "display_data"
    },
    {
     "data": {
      "application/vnd.jupyter.widget-view+json": {
       "model_id": "6ae97ce07a8e4dd590c61e68780dd15e",
       "version_major": 2,
       "version_minor": 0
      },
      "text/plain": [
       "Train epoch:   0%|          | 0/60 [00:00<?, ?it/s]"
      ]
     },
     "metadata": {},
     "output_type": "display_data"
    },
    {
     "data": {
      "application/vnd.jupyter.widget-view+json": {
       "model_id": "34e1fcec91d24373b8d408afa7d25798",
       "version_major": 2,
       "version_minor": 0
      },
      "text/plain": [
       "Train epoch:   0%|          | 0/60 [00:00<?, ?it/s]"
      ]
     },
     "metadata": {},
     "output_type": "display_data"
    },
    {
     "data": {
      "application/vnd.jupyter.widget-view+json": {
       "model_id": "99ac5590deeb45c5b97eecd218ef5a0f",
       "version_major": 2,
       "version_minor": 0
      },
      "text/plain": [
       "Train epoch:   0%|          | 0/60 [00:00<?, ?it/s]"
      ]
     },
     "metadata": {},
     "output_type": "display_data"
    },
    {
     "data": {
      "application/vnd.jupyter.widget-view+json": {
       "model_id": "584986ca8f5b4fc598a7e2df6b35aee5",
       "version_major": 2,
       "version_minor": 0
      },
      "text/plain": [
       "Train epoch:   0%|          | 0/60 [00:00<?, ?it/s]"
      ]
     },
     "metadata": {},
     "output_type": "display_data"
    },
    {
     "name": "stdout",
     "output_type": "stream",
     "text": [
      "Start val epoch\n",
      "End val epoch\n",
      "Epoch: 020/200, Train Loss: 2.7292, Train Acc: 21.76%, Val Loss: 2.6303, Val Acc: 23.46%\n"
     ]
    },
    {
     "data": {
      "application/vnd.jupyter.widget-view+json": {
       "model_id": "39f86a75b1cb4c72b1e8fe989a71bacb",
       "version_major": 2,
       "version_minor": 0
      },
      "text/plain": [
       "Train epoch:   0%|          | 0/60 [00:00<?, ?it/s]"
      ]
     },
     "metadata": {},
     "output_type": "display_data"
    },
    {
     "data": {
      "application/vnd.jupyter.widget-view+json": {
       "model_id": "06238b25ca844e888181ee2b21daed8a",
       "version_major": 2,
       "version_minor": 0
      },
      "text/plain": [
       "Train epoch:   0%|          | 0/60 [00:00<?, ?it/s]"
      ]
     },
     "metadata": {},
     "output_type": "display_data"
    },
    {
     "data": {
      "application/vnd.jupyter.widget-view+json": {
       "model_id": "db0aaa88000a475cba82ab2f914b6fc4",
       "version_major": 2,
       "version_minor": 0
      },
      "text/plain": [
       "Train epoch:   0%|          | 0/60 [00:00<?, ?it/s]"
      ]
     },
     "metadata": {},
     "output_type": "display_data"
    },
    {
     "data": {
      "application/vnd.jupyter.widget-view+json": {
       "model_id": "c0983c301dc943678cafb5ee63704bd0",
       "version_major": 2,
       "version_minor": 0
      },
      "text/plain": [
       "Train epoch:   0%|          | 0/60 [00:00<?, ?it/s]"
      ]
     },
     "metadata": {},
     "output_type": "display_data"
    },
    {
     "data": {
      "application/vnd.jupyter.widget-view+json": {
       "model_id": "dd54763556704ce186f8664846ada006",
       "version_major": 2,
       "version_minor": 0
      },
      "text/plain": [
       "Train epoch:   0%|          | 0/60 [00:00<?, ?it/s]"
      ]
     },
     "metadata": {},
     "output_type": "display_data"
    },
    {
     "data": {
      "application/vnd.jupyter.widget-view+json": {
       "model_id": "ebda6afa06994aaba02df3714b94d5a3",
       "version_major": 2,
       "version_minor": 0
      },
      "text/plain": [
       "Train epoch:   0%|          | 0/60 [00:00<?, ?it/s]"
      ]
     },
     "metadata": {},
     "output_type": "display_data"
    },
    {
     "data": {
      "application/vnd.jupyter.widget-view+json": {
       "model_id": "d8c38f5537ef42629ea7bb080ae38ba7",
       "version_major": 2,
       "version_minor": 0
      },
      "text/plain": [
       "Train epoch:   0%|          | 0/60 [00:00<?, ?it/s]"
      ]
     },
     "metadata": {},
     "output_type": "display_data"
    },
    {
     "data": {
      "application/vnd.jupyter.widget-view+json": {
       "model_id": "99433723275443b4a42ce8927fc92291",
       "version_major": 2,
       "version_minor": 0
      },
      "text/plain": [
       "Train epoch:   0%|          | 0/60 [00:00<?, ?it/s]"
      ]
     },
     "metadata": {},
     "output_type": "display_data"
    },
    {
     "data": {
      "application/vnd.jupyter.widget-view+json": {
       "model_id": "99348bf328734d2eb16ad641c3de6c4b",
       "version_major": 2,
       "version_minor": 0
      },
      "text/plain": [
       "Train epoch:   0%|          | 0/60 [00:00<?, ?it/s]"
      ]
     },
     "metadata": {},
     "output_type": "display_data"
    },
    {
     "data": {
      "application/vnd.jupyter.widget-view+json": {
       "model_id": "2a087cbb772d4bd9974bbfe1b2303d8d",
       "version_major": 2,
       "version_minor": 0
      },
      "text/plain": [
       "Train epoch:   0%|          | 0/60 [00:00<?, ?it/s]"
      ]
     },
     "metadata": {},
     "output_type": "display_data"
    },
    {
     "name": "stdout",
     "output_type": "stream",
     "text": [
      "Start val epoch\n",
      "End val epoch\n",
      "Epoch: 030/200, Train Loss: 2.3613, Train Acc: 29.15%, Val Loss: 2.3046, Val Acc: 30.48%\n"
     ]
    },
    {
     "data": {
      "application/vnd.jupyter.widget-view+json": {
       "model_id": "57a58438ecf945c5bb21e046865e2477",
       "version_major": 2,
       "version_minor": 0
      },
      "text/plain": [
       "Train epoch:   0%|          | 0/60 [00:00<?, ?it/s]"
      ]
     },
     "metadata": {},
     "output_type": "display_data"
    },
    {
     "data": {
      "application/vnd.jupyter.widget-view+json": {
       "model_id": "009c60399f3f48a6b4f91264bbfcc2fd",
       "version_major": 2,
       "version_minor": 0
      },
      "text/plain": [
       "Train epoch:   0%|          | 0/60 [00:00<?, ?it/s]"
      ]
     },
     "metadata": {},
     "output_type": "display_data"
    },
    {
     "data": {
      "application/vnd.jupyter.widget-view+json": {
       "model_id": "4abb3ef1eae945539c9e85e4bf927102",
       "version_major": 2,
       "version_minor": 0
      },
      "text/plain": [
       "Train epoch:   0%|          | 0/60 [00:00<?, ?it/s]"
      ]
     },
     "metadata": {},
     "output_type": "display_data"
    },
    {
     "data": {
      "application/vnd.jupyter.widget-view+json": {
       "model_id": "37e1b612cc664879bbf31a0e94be490a",
       "version_major": 2,
       "version_minor": 0
      },
      "text/plain": [
       "Train epoch:   0%|          | 0/60 [00:00<?, ?it/s]"
      ]
     },
     "metadata": {},
     "output_type": "display_data"
    },
    {
     "data": {
      "application/vnd.jupyter.widget-view+json": {
       "model_id": "e5f17c2da5084e079c5be4f480b44c2b",
       "version_major": 2,
       "version_minor": 0
      },
      "text/plain": [
       "Train epoch:   0%|          | 0/60 [00:00<?, ?it/s]"
      ]
     },
     "metadata": {},
     "output_type": "display_data"
    },
    {
     "data": {
      "application/vnd.jupyter.widget-view+json": {
       "model_id": "40b5ce4539594b558785703c678c33e5",
       "version_major": 2,
       "version_minor": 0
      },
      "text/plain": [
       "Train epoch:   0%|          | 0/60 [00:00<?, ?it/s]"
      ]
     },
     "metadata": {},
     "output_type": "display_data"
    },
    {
     "data": {
      "application/vnd.jupyter.widget-view+json": {
       "model_id": "e8a43c084c9a49eda9d9d98f6d836470",
       "version_major": 2,
       "version_minor": 0
      },
      "text/plain": [
       "Train epoch:   0%|          | 0/60 [00:00<?, ?it/s]"
      ]
     },
     "metadata": {},
     "output_type": "display_data"
    },
    {
     "data": {
      "application/vnd.jupyter.widget-view+json": {
       "model_id": "1d16b782b8554ad7b3f66e93d8044c68",
       "version_major": 2,
       "version_minor": 0
      },
      "text/plain": [
       "Train epoch:   0%|          | 0/60 [00:00<?, ?it/s]"
      ]
     },
     "metadata": {},
     "output_type": "display_data"
    },
    {
     "data": {
      "application/vnd.jupyter.widget-view+json": {
       "model_id": "9c89c192ae9f47d0b4a94830108db02a",
       "version_major": 2,
       "version_minor": 0
      },
      "text/plain": [
       "Train epoch:   0%|          | 0/60 [00:00<?, ?it/s]"
      ]
     },
     "metadata": {},
     "output_type": "display_data"
    },
    {
     "data": {
      "application/vnd.jupyter.widget-view+json": {
       "model_id": "eb70706d09c54ce38436716dad3ee421",
       "version_major": 2,
       "version_minor": 0
      },
      "text/plain": [
       "Train epoch:   0%|          | 0/60 [00:00<?, ?it/s]"
      ]
     },
     "metadata": {},
     "output_type": "display_data"
    },
    {
     "name": "stdout",
     "output_type": "stream",
     "text": [
      "Start val epoch\n",
      "End val epoch\n",
      "Epoch: 040/200, Train Loss: 2.0765, Train Acc: 35.75%, Val Loss: 2.0180, Val Acc: 37.24%\n"
     ]
    },
    {
     "data": {
      "application/vnd.jupyter.widget-view+json": {
       "model_id": "2b1334d4430242bf9aca59a16c156c00",
       "version_major": 2,
       "version_minor": 0
      },
      "text/plain": [
       "Train epoch:   0%|          | 0/60 [00:00<?, ?it/s]"
      ]
     },
     "metadata": {},
     "output_type": "display_data"
    },
    {
     "data": {
      "application/vnd.jupyter.widget-view+json": {
       "model_id": "0ecbf7aa9dd74171ab8d6648bd5fa3e1",
       "version_major": 2,
       "version_minor": 0
      },
      "text/plain": [
       "Train epoch:   0%|          | 0/60 [00:00<?, ?it/s]"
      ]
     },
     "metadata": {},
     "output_type": "display_data"
    },
    {
     "data": {
      "application/vnd.jupyter.widget-view+json": {
       "model_id": "b438f91adb204bfd8e1b54aeff65efec",
       "version_major": 2,
       "version_minor": 0
      },
      "text/plain": [
       "Train epoch:   0%|          | 0/60 [00:00<?, ?it/s]"
      ]
     },
     "metadata": {},
     "output_type": "display_data"
    },
    {
     "data": {
      "application/vnd.jupyter.widget-view+json": {
       "model_id": "d4115f13ae9942b5992f10417d082fb5",
       "version_major": 2,
       "version_minor": 0
      },
      "text/plain": [
       "Train epoch:   0%|          | 0/60 [00:00<?, ?it/s]"
      ]
     },
     "metadata": {},
     "output_type": "display_data"
    },
    {
     "data": {
      "application/vnd.jupyter.widget-view+json": {
       "model_id": "326de460e2af48e69480dec140b9bd7a",
       "version_major": 2,
       "version_minor": 0
      },
      "text/plain": [
       "Train epoch:   0%|          | 0/60 [00:00<?, ?it/s]"
      ]
     },
     "metadata": {},
     "output_type": "display_data"
    },
    {
     "data": {
      "application/vnd.jupyter.widget-view+json": {
       "model_id": "15da91e50f4a49f388e3c234b3fa8e29",
       "version_major": 2,
       "version_minor": 0
      },
      "text/plain": [
       "Train epoch:   0%|          | 0/60 [00:00<?, ?it/s]"
      ]
     },
     "metadata": {},
     "output_type": "display_data"
    },
    {
     "data": {
      "application/vnd.jupyter.widget-view+json": {
       "model_id": "952fbdfbe3ab46cd82c1f6ad8e2742c7",
       "version_major": 2,
       "version_minor": 0
      },
      "text/plain": [
       "Train epoch:   0%|          | 0/60 [00:00<?, ?it/s]"
      ]
     },
     "metadata": {},
     "output_type": "display_data"
    },
    {
     "data": {
      "application/vnd.jupyter.widget-view+json": {
       "model_id": "03e0886832ff4e8a992ad7d85babbedb",
       "version_major": 2,
       "version_minor": 0
      },
      "text/plain": [
       "Train epoch:   0%|          | 0/60 [00:00<?, ?it/s]"
      ]
     },
     "metadata": {},
     "output_type": "display_data"
    },
    {
     "data": {
      "application/vnd.jupyter.widget-view+json": {
       "model_id": "6fe803fe97aa4381b4ccb8f5b81674cb",
       "version_major": 2,
       "version_minor": 0
      },
      "text/plain": [
       "Train epoch:   0%|          | 0/60 [00:00<?, ?it/s]"
      ]
     },
     "metadata": {},
     "output_type": "display_data"
    },
    {
     "data": {
      "application/vnd.jupyter.widget-view+json": {
       "model_id": "f1f8155a44cf439989a47e94f0e40a9d",
       "version_major": 2,
       "version_minor": 0
      },
      "text/plain": [
       "Train epoch:   0%|          | 0/60 [00:00<?, ?it/s]"
      ]
     },
     "metadata": {},
     "output_type": "display_data"
    },
    {
     "name": "stdout",
     "output_type": "stream",
     "text": [
      "Start val epoch\n",
      "End val epoch\n",
      "Epoch: 050/200, Train Loss: 1.7933, Train Acc: 42.32%, Val Loss: 1.8171, Val Acc: 43.46%\n"
     ]
    },
    {
     "data": {
      "application/vnd.jupyter.widget-view+json": {
       "model_id": "85a5eadf3e094644b058950d92ad074f",
       "version_major": 2,
       "version_minor": 0
      },
      "text/plain": [
       "Train epoch:   0%|          | 0/60 [00:00<?, ?it/s]"
      ]
     },
     "metadata": {},
     "output_type": "display_data"
    },
    {
     "data": {
      "application/vnd.jupyter.widget-view+json": {
       "model_id": "52989802a1224b369d28c0a9d843d612",
       "version_major": 2,
       "version_minor": 0
      },
      "text/plain": [
       "Train epoch:   0%|          | 0/60 [00:00<?, ?it/s]"
      ]
     },
     "metadata": {},
     "output_type": "display_data"
    },
    {
     "data": {
      "application/vnd.jupyter.widget-view+json": {
       "model_id": "e8b4565f33a946188901892aebd0c4dd",
       "version_major": 2,
       "version_minor": 0
      },
      "text/plain": [
       "Train epoch:   0%|          | 0/60 [00:00<?, ?it/s]"
      ]
     },
     "metadata": {},
     "output_type": "display_data"
    },
    {
     "data": {
      "application/vnd.jupyter.widget-view+json": {
       "model_id": "6779b75d18e34d4b8ecda7e70515d021",
       "version_major": 2,
       "version_minor": 0
      },
      "text/plain": [
       "Train epoch:   0%|          | 0/60 [00:00<?, ?it/s]"
      ]
     },
     "metadata": {},
     "output_type": "display_data"
    },
    {
     "data": {
      "application/vnd.jupyter.widget-view+json": {
       "model_id": "927fdc2cc9f846358d93e65db8cb0adb",
       "version_major": 2,
       "version_minor": 0
      },
      "text/plain": [
       "Train epoch:   0%|          | 0/60 [00:00<?, ?it/s]"
      ]
     },
     "metadata": {},
     "output_type": "display_data"
    },
    {
     "data": {
      "application/vnd.jupyter.widget-view+json": {
       "model_id": "e76d6290e25e42a3a062c9cb5fba7c1c",
       "version_major": 2,
       "version_minor": 0
      },
      "text/plain": [
       "Train epoch:   0%|          | 0/60 [00:00<?, ?it/s]"
      ]
     },
     "metadata": {},
     "output_type": "display_data"
    },
    {
     "data": {
      "application/vnd.jupyter.widget-view+json": {
       "model_id": "e6a53de6f61048a482eff289fec9d078",
       "version_major": 2,
       "version_minor": 0
      },
      "text/plain": [
       "Train epoch:   0%|          | 0/60 [00:00<?, ?it/s]"
      ]
     },
     "metadata": {},
     "output_type": "display_data"
    },
    {
     "data": {
      "application/vnd.jupyter.widget-view+json": {
       "model_id": "4afd3595277f414a956996d80dbd4397",
       "version_major": 2,
       "version_minor": 0
      },
      "text/plain": [
       "Train epoch:   0%|          | 0/60 [00:00<?, ?it/s]"
      ]
     },
     "metadata": {},
     "output_type": "display_data"
    },
    {
     "data": {
      "application/vnd.jupyter.widget-view+json": {
       "model_id": "0bd52aec781f4dbea45316d7ac1b7fad",
       "version_major": 2,
       "version_minor": 0
      },
      "text/plain": [
       "Train epoch:   0%|          | 0/60 [00:00<?, ?it/s]"
      ]
     },
     "metadata": {},
     "output_type": "display_data"
    },
    {
     "data": {
      "application/vnd.jupyter.widget-view+json": {
       "model_id": "f69a52174a9346d6b3ec5c37fed62c9c",
       "version_major": 2,
       "version_minor": 0
      },
      "text/plain": [
       "Train epoch:   0%|          | 0/60 [00:00<?, ?it/s]"
      ]
     },
     "metadata": {},
     "output_type": "display_data"
    },
    {
     "name": "stdout",
     "output_type": "stream",
     "text": [
      "Start val epoch\n",
      "End val epoch\n",
      "Epoch: 060/200, Train Loss: 1.5510, Train Acc: 48.57%, Val Loss: 1.5951, Val Acc: 50.04%\n"
     ]
    },
    {
     "data": {
      "application/vnd.jupyter.widget-view+json": {
       "model_id": "abf4705283e3471981420885a3ed9b6b",
       "version_major": 2,
       "version_minor": 0
      },
      "text/plain": [
       "Train epoch:   0%|          | 0/60 [00:00<?, ?it/s]"
      ]
     },
     "metadata": {},
     "output_type": "display_data"
    },
    {
     "data": {
      "application/vnd.jupyter.widget-view+json": {
       "model_id": "edb11f067fdf4b7ba96700a61b81d183",
       "version_major": 2,
       "version_minor": 0
      },
      "text/plain": [
       "Train epoch:   0%|          | 0/60 [00:00<?, ?it/s]"
      ]
     },
     "metadata": {},
     "output_type": "display_data"
    },
    {
     "data": {
      "application/vnd.jupyter.widget-view+json": {
       "model_id": "400b3378e3cf4a658be923bc7fe7dfb9",
       "version_major": 2,
       "version_minor": 0
      },
      "text/plain": [
       "Train epoch:   0%|          | 0/60 [00:00<?, ?it/s]"
      ]
     },
     "metadata": {},
     "output_type": "display_data"
    },
    {
     "data": {
      "application/vnd.jupyter.widget-view+json": {
       "model_id": "dc59e29def1e43eb97e7ccf718f65179",
       "version_major": 2,
       "version_minor": 0
      },
      "text/plain": [
       "Train epoch:   0%|          | 0/60 [00:00<?, ?it/s]"
      ]
     },
     "metadata": {},
     "output_type": "display_data"
    },
    {
     "data": {
      "application/vnd.jupyter.widget-view+json": {
       "model_id": "50d7b7c48988400d935207d527a1089d",
       "version_major": 2,
       "version_minor": 0
      },
      "text/plain": [
       "Train epoch:   0%|          | 0/60 [00:00<?, ?it/s]"
      ]
     },
     "metadata": {},
     "output_type": "display_data"
    },
    {
     "data": {
      "application/vnd.jupyter.widget-view+json": {
       "model_id": "a4dde5636af54fd38dde93eb32fdf8c7",
       "version_major": 2,
       "version_minor": 0
      },
      "text/plain": [
       "Train epoch:   0%|          | 0/60 [00:00<?, ?it/s]"
      ]
     },
     "metadata": {},
     "output_type": "display_data"
    },
    {
     "data": {
      "application/vnd.jupyter.widget-view+json": {
       "model_id": "403317a720e34a6a9993f9e13392b11b",
       "version_major": 2,
       "version_minor": 0
      },
      "text/plain": [
       "Train epoch:   0%|          | 0/60 [00:00<?, ?it/s]"
      ]
     },
     "metadata": {},
     "output_type": "display_data"
    },
    {
     "data": {
      "application/vnd.jupyter.widget-view+json": {
       "model_id": "85cfb29c66104403a778be30fc2bc627",
       "version_major": 2,
       "version_minor": 0
      },
      "text/plain": [
       "Train epoch:   0%|          | 0/60 [00:00<?, ?it/s]"
      ]
     },
     "metadata": {},
     "output_type": "display_data"
    },
    {
     "data": {
      "application/vnd.jupyter.widget-view+json": {
       "model_id": "19a4a7c1764842a1a6039d39a225c5bb",
       "version_major": 2,
       "version_minor": 0
      },
      "text/plain": [
       "Train epoch:   0%|          | 0/60 [00:00<?, ?it/s]"
      ]
     },
     "metadata": {},
     "output_type": "display_data"
    },
    {
     "data": {
      "application/vnd.jupyter.widget-view+json": {
       "model_id": "c442f11defc74953a40edf2991753412",
       "version_major": 2,
       "version_minor": 0
      },
      "text/plain": [
       "Train epoch:   0%|          | 0/60 [00:00<?, ?it/s]"
      ]
     },
     "metadata": {},
     "output_type": "display_data"
    },
    {
     "name": "stdout",
     "output_type": "stream",
     "text": [
      "Start val epoch\n",
      "End val epoch\n",
      "Epoch: 070/200, Train Loss: 1.3741, Train Acc: 53.28%, Val Loss: 1.5156, Val Acc: 52.69%\n"
     ]
    },
    {
     "data": {
      "application/vnd.jupyter.widget-view+json": {
       "model_id": "1dd5f5b967e64a47afed34eced7cba4a",
       "version_major": 2,
       "version_minor": 0
      },
      "text/plain": [
       "Train epoch:   0%|          | 0/60 [00:00<?, ?it/s]"
      ]
     },
     "metadata": {},
     "output_type": "display_data"
    },
    {
     "data": {
      "application/vnd.jupyter.widget-view+json": {
       "model_id": "16af19a842e64782916f95f62b4328de",
       "version_major": 2,
       "version_minor": 0
      },
      "text/plain": [
       "Train epoch:   0%|          | 0/60 [00:00<?, ?it/s]"
      ]
     },
     "metadata": {},
     "output_type": "display_data"
    },
    {
     "data": {
      "application/vnd.jupyter.widget-view+json": {
       "model_id": "2143b2b45afa495dbdf1dbee487f52c0",
       "version_major": 2,
       "version_minor": 0
      },
      "text/plain": [
       "Train epoch:   0%|          | 0/60 [00:00<?, ?it/s]"
      ]
     },
     "metadata": {},
     "output_type": "display_data"
    },
    {
     "data": {
      "application/vnd.jupyter.widget-view+json": {
       "model_id": "4c5befe7d8834bf6af64f8bdb66d614e",
       "version_major": 2,
       "version_minor": 0
      },
      "text/plain": [
       "Train epoch:   0%|          | 0/60 [00:00<?, ?it/s]"
      ]
     },
     "metadata": {},
     "output_type": "display_data"
    },
    {
     "data": {
      "application/vnd.jupyter.widget-view+json": {
       "model_id": "8d86a3d3777d404aaed4e54f1924109a",
       "version_major": 2,
       "version_minor": 0
      },
      "text/plain": [
       "Train epoch:   0%|          | 0/60 [00:00<?, ?it/s]"
      ]
     },
     "metadata": {},
     "output_type": "display_data"
    },
    {
     "data": {
      "application/vnd.jupyter.widget-view+json": {
       "model_id": "8709a5e048bc419a8dde6faf3461c848",
       "version_major": 2,
       "version_minor": 0
      },
      "text/plain": [
       "Train epoch:   0%|          | 0/60 [00:00<?, ?it/s]"
      ]
     },
     "metadata": {},
     "output_type": "display_data"
    },
    {
     "data": {
      "application/vnd.jupyter.widget-view+json": {
       "model_id": "16dffc78d1bd4da28540eb18c54d79a9",
       "version_major": 2,
       "version_minor": 0
      },
      "text/plain": [
       "Train epoch:   0%|          | 0/60 [00:00<?, ?it/s]"
      ]
     },
     "metadata": {},
     "output_type": "display_data"
    },
    {
     "data": {
      "application/vnd.jupyter.widget-view+json": {
       "model_id": "3444c826217c43bb82e5b8af53a8ecf6",
       "version_major": 2,
       "version_minor": 0
      },
      "text/plain": [
       "Train epoch:   0%|          | 0/60 [00:00<?, ?it/s]"
      ]
     },
     "metadata": {},
     "output_type": "display_data"
    },
    {
     "data": {
      "application/vnd.jupyter.widget-view+json": {
       "model_id": "d05c898f733c497e9de747ab19f983ec",
       "version_major": 2,
       "version_minor": 0
      },
      "text/plain": [
       "Train epoch:   0%|          | 0/60 [00:00<?, ?it/s]"
      ]
     },
     "metadata": {},
     "output_type": "display_data"
    },
    {
     "data": {
      "application/vnd.jupyter.widget-view+json": {
       "model_id": "8659565290574bd48a9d95067ed2ffe2",
       "version_major": 2,
       "version_minor": 0
      },
      "text/plain": [
       "Train epoch:   0%|          | 0/60 [00:00<?, ?it/s]"
      ]
     },
     "metadata": {},
     "output_type": "display_data"
    },
    {
     "name": "stdout",
     "output_type": "stream",
     "text": [
      "Start val epoch\n",
      "End val epoch\n",
      "Epoch: 080/200, Train Loss: 1.2605, Train Acc: 56.52%, Val Loss: 1.4434, Val Acc: 55.54%\n"
     ]
    },
    {
     "data": {
      "application/vnd.jupyter.widget-view+json": {
       "model_id": "620fae62a51d476198e169efc175a59b",
       "version_major": 2,
       "version_minor": 0
      },
      "text/plain": [
       "Train epoch:   0%|          | 0/60 [00:00<?, ?it/s]"
      ]
     },
     "metadata": {},
     "output_type": "display_data"
    },
    {
     "data": {
      "application/vnd.jupyter.widget-view+json": {
       "model_id": "6b95d317c0ae4e2db99f8a078e82e148",
       "version_major": 2,
       "version_minor": 0
      },
      "text/plain": [
       "Train epoch:   0%|          | 0/60 [00:00<?, ?it/s]"
      ]
     },
     "metadata": {},
     "output_type": "display_data"
    },
    {
     "data": {
      "application/vnd.jupyter.widget-view+json": {
       "model_id": "2d11068d38ba431cbc718065ce1964f7",
       "version_major": 2,
       "version_minor": 0
      },
      "text/plain": [
       "Train epoch:   0%|          | 0/60 [00:00<?, ?it/s]"
      ]
     },
     "metadata": {},
     "output_type": "display_data"
    },
    {
     "data": {
      "application/vnd.jupyter.widget-view+json": {
       "model_id": "37c6e08fc84b42f7acab641c105022bc",
       "version_major": 2,
       "version_minor": 0
      },
      "text/plain": [
       "Train epoch:   0%|          | 0/60 [00:00<?, ?it/s]"
      ]
     },
     "metadata": {},
     "output_type": "display_data"
    },
    {
     "data": {
      "application/vnd.jupyter.widget-view+json": {
       "model_id": "0f8094168d0045aba22cf8bd31ee6d7c",
       "version_major": 2,
       "version_minor": 0
      },
      "text/plain": [
       "Train epoch:   0%|          | 0/60 [00:00<?, ?it/s]"
      ]
     },
     "metadata": {},
     "output_type": "display_data"
    },
    {
     "data": {
      "application/vnd.jupyter.widget-view+json": {
       "model_id": "b6b17fc1ff5a4d6ca6cc8a9184bfda52",
       "version_major": 2,
       "version_minor": 0
      },
      "text/plain": [
       "Train epoch:   0%|          | 0/60 [00:00<?, ?it/s]"
      ]
     },
     "metadata": {},
     "output_type": "display_data"
    },
    {
     "data": {
      "application/vnd.jupyter.widget-view+json": {
       "model_id": "c39c63c1df6d469892171f5b9838d80b",
       "version_major": 2,
       "version_minor": 0
      },
      "text/plain": [
       "Train epoch:   0%|          | 0/60 [00:00<?, ?it/s]"
      ]
     },
     "metadata": {},
     "output_type": "display_data"
    },
    {
     "data": {
      "application/vnd.jupyter.widget-view+json": {
       "model_id": "e637fa2d56d5442192c4b5d5de6c4100",
       "version_major": 2,
       "version_minor": 0
      },
      "text/plain": [
       "Train epoch:   0%|          | 0/60 [00:00<?, ?it/s]"
      ]
     },
     "metadata": {},
     "output_type": "display_data"
    },
    {
     "data": {
      "application/vnd.jupyter.widget-view+json": {
       "model_id": "5b0cca252bd443f78bfde54b2c7330e0",
       "version_major": 2,
       "version_minor": 0
      },
      "text/plain": [
       "Train epoch:   0%|          | 0/60 [00:00<?, ?it/s]"
      ]
     },
     "metadata": {},
     "output_type": "display_data"
    },
    {
     "data": {
      "application/vnd.jupyter.widget-view+json": {
       "model_id": "f2ccb8b535844104a91a5d2cbb47d2d3",
       "version_major": 2,
       "version_minor": 0
      },
      "text/plain": [
       "Train epoch:   0%|          | 0/60 [00:00<?, ?it/s]"
      ]
     },
     "metadata": {},
     "output_type": "display_data"
    },
    {
     "name": "stdout",
     "output_type": "stream",
     "text": [
      "Start val epoch\n",
      "End val epoch\n",
      "Epoch: 090/200, Train Loss: 1.1372, Train Acc: 60.16%, Val Loss: 1.3032, Val Acc: 58.66%\n"
     ]
    },
    {
     "data": {
      "application/vnd.jupyter.widget-view+json": {
       "model_id": "cf3e84164216409bb6a7d1f068bb73f9",
       "version_major": 2,
       "version_minor": 0
      },
      "text/plain": [
       "Train epoch:   0%|          | 0/60 [00:00<?, ?it/s]"
      ]
     },
     "metadata": {},
     "output_type": "display_data"
    },
    {
     "data": {
      "application/vnd.jupyter.widget-view+json": {
       "model_id": "296c7eee853043e88823da0de9e4a07f",
       "version_major": 2,
       "version_minor": 0
      },
      "text/plain": [
       "Train epoch:   0%|          | 0/60 [00:00<?, ?it/s]"
      ]
     },
     "metadata": {},
     "output_type": "display_data"
    },
    {
     "data": {
      "application/vnd.jupyter.widget-view+json": {
       "model_id": "66276daab9074d0aa6bfe157c2ee4986",
       "version_major": 2,
       "version_minor": 0
      },
      "text/plain": [
       "Train epoch:   0%|          | 0/60 [00:00<?, ?it/s]"
      ]
     },
     "metadata": {},
     "output_type": "display_data"
    },
    {
     "data": {
      "application/vnd.jupyter.widget-view+json": {
       "model_id": "9c48e006578e4ca8845eb8eef3eed044",
       "version_major": 2,
       "version_minor": 0
      },
      "text/plain": [
       "Train epoch:   0%|          | 0/60 [00:00<?, ?it/s]"
      ]
     },
     "metadata": {},
     "output_type": "display_data"
    },
    {
     "data": {
      "application/vnd.jupyter.widget-view+json": {
       "model_id": "e3054e4393b64285aa8cc7228bf6efe6",
       "version_major": 2,
       "version_minor": 0
      },
      "text/plain": [
       "Train epoch:   0%|          | 0/60 [00:00<?, ?it/s]"
      ]
     },
     "metadata": {},
     "output_type": "display_data"
    },
    {
     "data": {
      "application/vnd.jupyter.widget-view+json": {
       "model_id": "4a2b0057570545728fe4376040cba346",
       "version_major": 2,
       "version_minor": 0
      },
      "text/plain": [
       "Train epoch:   0%|          | 0/60 [00:00<?, ?it/s]"
      ]
     },
     "metadata": {},
     "output_type": "display_data"
    },
    {
     "data": {
      "application/vnd.jupyter.widget-view+json": {
       "model_id": "8dfbc01547e742f79528ce6daa56da78",
       "version_major": 2,
       "version_minor": 0
      },
      "text/plain": [
       "Train epoch:   0%|          | 0/60 [00:00<?, ?it/s]"
      ]
     },
     "metadata": {},
     "output_type": "display_data"
    },
    {
     "data": {
      "application/vnd.jupyter.widget-view+json": {
       "model_id": "72902568e2ae41fc8a001cf1926f3dc1",
       "version_major": 2,
       "version_minor": 0
      },
      "text/plain": [
       "Train epoch:   0%|          | 0/60 [00:00<?, ?it/s]"
      ]
     },
     "metadata": {},
     "output_type": "display_data"
    },
    {
     "data": {
      "application/vnd.jupyter.widget-view+json": {
       "model_id": "4d2c53b880014b7e9a79a844c814ef60",
       "version_major": 2,
       "version_minor": 0
      },
      "text/plain": [
       "Train epoch:   0%|          | 0/60 [00:00<?, ?it/s]"
      ]
     },
     "metadata": {},
     "output_type": "display_data"
    },
    {
     "data": {
      "application/vnd.jupyter.widget-view+json": {
       "model_id": "6e753de9029342d78589f1c361fdb6e2",
       "version_major": 2,
       "version_minor": 0
      },
      "text/plain": [
       "Train epoch:   0%|          | 0/60 [00:00<?, ?it/s]"
      ]
     },
     "metadata": {},
     "output_type": "display_data"
    },
    {
     "name": "stdout",
     "output_type": "stream",
     "text": [
      "Start val epoch\n",
      "End val epoch\n",
      "Epoch: 100/200, Train Loss: 1.0764, Train Acc: 62.23%, Val Loss: 1.3132, Val Acc: 59.32%\n"
     ]
    },
    {
     "data": {
      "application/vnd.jupyter.widget-view+json": {
       "model_id": "83be14de6a3f40d4a0ca60ca0dfc1f78",
       "version_major": 2,
       "version_minor": 0
      },
      "text/plain": [
       "Train epoch:   0%|          | 0/60 [00:00<?, ?it/s]"
      ]
     },
     "metadata": {},
     "output_type": "display_data"
    },
    {
     "data": {
      "application/vnd.jupyter.widget-view+json": {
       "model_id": "fcb71ae3b5b2485a8e3797ddebf9f8ac",
       "version_major": 2,
       "version_minor": 0
      },
      "text/plain": [
       "Train epoch:   0%|          | 0/60 [00:00<?, ?it/s]"
      ]
     },
     "metadata": {},
     "output_type": "display_data"
    },
    {
     "data": {
      "application/vnd.jupyter.widget-view+json": {
       "model_id": "1a5c832048904a629141167e187cf5c3",
       "version_major": 2,
       "version_minor": 0
      },
      "text/plain": [
       "Train epoch:   0%|          | 0/60 [00:00<?, ?it/s]"
      ]
     },
     "metadata": {},
     "output_type": "display_data"
    },
    {
     "data": {
      "application/vnd.jupyter.widget-view+json": {
       "model_id": "38e56bf3fe0c434fa498d51ad0b40329",
       "version_major": 2,
       "version_minor": 0
      },
      "text/plain": [
       "Train epoch:   0%|          | 0/60 [00:00<?, ?it/s]"
      ]
     },
     "metadata": {},
     "output_type": "display_data"
    },
    {
     "data": {
      "application/vnd.jupyter.widget-view+json": {
       "model_id": "5248aeb86cb64a8fa7dff4c58238a0fe",
       "version_major": 2,
       "version_minor": 0
      },
      "text/plain": [
       "Train epoch:   0%|          | 0/60 [00:00<?, ?it/s]"
      ]
     },
     "metadata": {},
     "output_type": "display_data"
    },
    {
     "data": {
      "application/vnd.jupyter.widget-view+json": {
       "model_id": "0bf8b71e6c404c799d3b0b441af0c928",
       "version_major": 2,
       "version_minor": 0
      },
      "text/plain": [
       "Train epoch:   0%|          | 0/60 [00:00<?, ?it/s]"
      ]
     },
     "metadata": {},
     "output_type": "display_data"
    },
    {
     "data": {
      "application/vnd.jupyter.widget-view+json": {
       "model_id": "250e53aea94144828d7bfbff73858b7e",
       "version_major": 2,
       "version_minor": 0
      },
      "text/plain": [
       "Train epoch:   0%|          | 0/60 [00:00<?, ?it/s]"
      ]
     },
     "metadata": {},
     "output_type": "display_data"
    },
    {
     "data": {
      "application/vnd.jupyter.widget-view+json": {
       "model_id": "e7cc81fa816f493e83ff6ec125c4663d",
       "version_major": 2,
       "version_minor": 0
      },
      "text/plain": [
       "Train epoch:   0%|          | 0/60 [00:00<?, ?it/s]"
      ]
     },
     "metadata": {},
     "output_type": "display_data"
    },
    {
     "data": {
      "application/vnd.jupyter.widget-view+json": {
       "model_id": "92da6268dafb4e6cbea74f8721fa4aba",
       "version_major": 2,
       "version_minor": 0
      },
      "text/plain": [
       "Train epoch:   0%|          | 0/60 [00:00<?, ?it/s]"
      ]
     },
     "metadata": {},
     "output_type": "display_data"
    },
    {
     "data": {
      "application/vnd.jupyter.widget-view+json": {
       "model_id": "81ba8f031a964538a643ad859a88cb2d",
       "version_major": 2,
       "version_minor": 0
      },
      "text/plain": [
       "Train epoch:   0%|          | 0/60 [00:00<?, ?it/s]"
      ]
     },
     "metadata": {},
     "output_type": "display_data"
    },
    {
     "name": "stdout",
     "output_type": "stream",
     "text": [
      "Start val epoch\n",
      "End val epoch\n",
      "Epoch: 110/200, Train Loss: 0.9888, Train Acc: 64.92%, Val Loss: 1.2506, Val Acc: 61.25%\n"
     ]
    },
    {
     "data": {
      "application/vnd.jupyter.widget-view+json": {
       "model_id": "b492e918cfba44b0a42b2e0cc75505a5",
       "version_major": 2,
       "version_minor": 0
      },
      "text/plain": [
       "Train epoch:   0%|          | 0/60 [00:00<?, ?it/s]"
      ]
     },
     "metadata": {},
     "output_type": "display_data"
    },
    {
     "data": {
      "application/vnd.jupyter.widget-view+json": {
       "model_id": "dd427c9bdd194bbdbb326a8f10cddb30",
       "version_major": 2,
       "version_minor": 0
      },
      "text/plain": [
       "Train epoch:   0%|          | 0/60 [00:00<?, ?it/s]"
      ]
     },
     "metadata": {},
     "output_type": "display_data"
    },
    {
     "data": {
      "application/vnd.jupyter.widget-view+json": {
       "model_id": "f4c44d11f4a8439d9914533c32f7b755",
       "version_major": 2,
       "version_minor": 0
      },
      "text/plain": [
       "Train epoch:   0%|          | 0/60 [00:00<?, ?it/s]"
      ]
     },
     "metadata": {},
     "output_type": "display_data"
    },
    {
     "data": {
      "application/vnd.jupyter.widget-view+json": {
       "model_id": "763303e8e719496d9ba6b47bc334faac",
       "version_major": 2,
       "version_minor": 0
      },
      "text/plain": [
       "Train epoch:   0%|          | 0/60 [00:00<?, ?it/s]"
      ]
     },
     "metadata": {},
     "output_type": "display_data"
    },
    {
     "data": {
      "application/vnd.jupyter.widget-view+json": {
       "model_id": "d329ac1fa8334fa48244ed52ee9b46dd",
       "version_major": 2,
       "version_minor": 0
      },
      "text/plain": [
       "Train epoch:   0%|          | 0/60 [00:00<?, ?it/s]"
      ]
     },
     "metadata": {},
     "output_type": "display_data"
    },
    {
     "data": {
      "application/vnd.jupyter.widget-view+json": {
       "model_id": "b248d0382b8544b6a93208b696d31be2",
       "version_major": 2,
       "version_minor": 0
      },
      "text/plain": [
       "Train epoch:   0%|          | 0/60 [00:00<?, ?it/s]"
      ]
     },
     "metadata": {},
     "output_type": "display_data"
    },
    {
     "data": {
      "application/vnd.jupyter.widget-view+json": {
       "model_id": "d4663c4d015e4311b30d0a3b0aa02a08",
       "version_major": 2,
       "version_minor": 0
      },
      "text/plain": [
       "Train epoch:   0%|          | 0/60 [00:00<?, ?it/s]"
      ]
     },
     "metadata": {},
     "output_type": "display_data"
    },
    {
     "data": {
      "application/vnd.jupyter.widget-view+json": {
       "model_id": "102160f39c3a42cc853caca6c33bd540",
       "version_major": 2,
       "version_minor": 0
      },
      "text/plain": [
       "Train epoch:   0%|          | 0/60 [00:00<?, ?it/s]"
      ]
     },
     "metadata": {},
     "output_type": "display_data"
    },
    {
     "data": {
      "application/vnd.jupyter.widget-view+json": {
       "model_id": "8a8b28d200d64ecf828a8a2772e2eb94",
       "version_major": 2,
       "version_minor": 0
      },
      "text/plain": [
       "Train epoch:   0%|          | 0/60 [00:00<?, ?it/s]"
      ]
     },
     "metadata": {},
     "output_type": "display_data"
    },
    {
     "data": {
      "application/vnd.jupyter.widget-view+json": {
       "model_id": "475e889ceb6f4aceac2f393e4023b28b",
       "version_major": 2,
       "version_minor": 0
      },
      "text/plain": [
       "Train epoch:   0%|          | 0/60 [00:00<?, ?it/s]"
      ]
     },
     "metadata": {},
     "output_type": "display_data"
    },
    {
     "name": "stdout",
     "output_type": "stream",
     "text": [
      "Start val epoch\n",
      "End val epoch\n",
      "Epoch: 120/200, Train Loss: 0.9511, Train Acc: 66.16%, Val Loss: 1.2477, Val Acc: 61.88%\n"
     ]
    },
    {
     "data": {
      "application/vnd.jupyter.widget-view+json": {
       "model_id": "a9ac696b6e97415ea0fdda9045bb1b22",
       "version_major": 2,
       "version_minor": 0
      },
      "text/plain": [
       "Train epoch:   0%|          | 0/60 [00:00<?, ?it/s]"
      ]
     },
     "metadata": {},
     "output_type": "display_data"
    },
    {
     "data": {
      "application/vnd.jupyter.widget-view+json": {
       "model_id": "29de5b07695043559324fd9fd5722b88",
       "version_major": 2,
       "version_minor": 0
      },
      "text/plain": [
       "Train epoch:   0%|          | 0/60 [00:00<?, ?it/s]"
      ]
     },
     "metadata": {},
     "output_type": "display_data"
    },
    {
     "data": {
      "application/vnd.jupyter.widget-view+json": {
       "model_id": "f75cb1c9b39943bc8ed8b8e2370e203f",
       "version_major": 2,
       "version_minor": 0
      },
      "text/plain": [
       "Train epoch:   0%|          | 0/60 [00:00<?, ?it/s]"
      ]
     },
     "metadata": {},
     "output_type": "display_data"
    },
    {
     "data": {
      "application/vnd.jupyter.widget-view+json": {
       "model_id": "979aeaa7db2a42ef8f9bfe2f232dc036",
       "version_major": 2,
       "version_minor": 0
      },
      "text/plain": [
       "Train epoch:   0%|          | 0/60 [00:00<?, ?it/s]"
      ]
     },
     "metadata": {},
     "output_type": "display_data"
    },
    {
     "data": {
      "application/vnd.jupyter.widget-view+json": {
       "model_id": "17ac62cd8778401083cee288c0963f0b",
       "version_major": 2,
       "version_minor": 0
      },
      "text/plain": [
       "Train epoch:   0%|          | 0/60 [00:00<?, ?it/s]"
      ]
     },
     "metadata": {},
     "output_type": "display_data"
    },
    {
     "data": {
      "application/vnd.jupyter.widget-view+json": {
       "model_id": "5f9ac59ed29447b5adc22f36e47b172e",
       "version_major": 2,
       "version_minor": 0
      },
      "text/plain": [
       "Train epoch:   0%|          | 0/60 [00:00<?, ?it/s]"
      ]
     },
     "metadata": {},
     "output_type": "display_data"
    },
    {
     "data": {
      "application/vnd.jupyter.widget-view+json": {
       "model_id": "98c10a09cdb048d183b11b1659c6403a",
       "version_major": 2,
       "version_minor": 0
      },
      "text/plain": [
       "Train epoch:   0%|          | 0/60 [00:00<?, ?it/s]"
      ]
     },
     "metadata": {},
     "output_type": "display_data"
    },
    {
     "data": {
      "application/vnd.jupyter.widget-view+json": {
       "model_id": "5c1b269891144362bac3256f1570bbad",
       "version_major": 2,
       "version_minor": 0
      },
      "text/plain": [
       "Train epoch:   0%|          | 0/60 [00:00<?, ?it/s]"
      ]
     },
     "metadata": {},
     "output_type": "display_data"
    },
    {
     "data": {
      "application/vnd.jupyter.widget-view+json": {
       "model_id": "a7c9b2730a644803a94e2dba6e49ded4",
       "version_major": 2,
       "version_minor": 0
      },
      "text/plain": [
       "Train epoch:   0%|          | 0/60 [00:00<?, ?it/s]"
      ]
     },
     "metadata": {},
     "output_type": "display_data"
    },
    {
     "data": {
      "application/vnd.jupyter.widget-view+json": {
       "model_id": "fc2ac1ba567b4d1f824841042a3e4743",
       "version_major": 2,
       "version_minor": 0
      },
      "text/plain": [
       "Train epoch:   0%|          | 0/60 [00:00<?, ?it/s]"
      ]
     },
     "metadata": {},
     "output_type": "display_data"
    },
    {
     "name": "stdout",
     "output_type": "stream",
     "text": [
      "Start val epoch\n",
      "End val epoch\n",
      "Epoch: 130/200, Train Loss: 0.8986, Train Acc: 67.81%, Val Loss: 1.1644, Val Acc: 63.62%\n"
     ]
    },
    {
     "data": {
      "application/vnd.jupyter.widget-view+json": {
       "model_id": "7b46e99f92864d9eb1b69298f16ee99d",
       "version_major": 2,
       "version_minor": 0
      },
      "text/plain": [
       "Train epoch:   0%|          | 0/60 [00:00<?, ?it/s]"
      ]
     },
     "metadata": {},
     "output_type": "display_data"
    },
    {
     "data": {
      "application/vnd.jupyter.widget-view+json": {
       "model_id": "36a5fed7ce8340a8b967b19fc5a6784b",
       "version_major": 2,
       "version_minor": 0
      },
      "text/plain": [
       "Train epoch:   0%|          | 0/60 [00:00<?, ?it/s]"
      ]
     },
     "metadata": {},
     "output_type": "display_data"
    },
    {
     "data": {
      "application/vnd.jupyter.widget-view+json": {
       "model_id": "767059cb7c4e4a94a36900aa0b31e09d",
       "version_major": 2,
       "version_minor": 0
      },
      "text/plain": [
       "Train epoch:   0%|          | 0/60 [00:00<?, ?it/s]"
      ]
     },
     "metadata": {},
     "output_type": "display_data"
    },
    {
     "data": {
      "application/vnd.jupyter.widget-view+json": {
       "model_id": "feaf19cdc6564f7691b9fa1d1863a069",
       "version_major": 2,
       "version_minor": 0
      },
      "text/plain": [
       "Train epoch:   0%|          | 0/60 [00:00<?, ?it/s]"
      ]
     },
     "metadata": {},
     "output_type": "display_data"
    },
    {
     "data": {
      "application/vnd.jupyter.widget-view+json": {
       "model_id": "0e13c13d963b44a08698506e39bee594",
       "version_major": 2,
       "version_minor": 0
      },
      "text/plain": [
       "Train epoch:   0%|          | 0/60 [00:00<?, ?it/s]"
      ]
     },
     "metadata": {},
     "output_type": "display_data"
    },
    {
     "data": {
      "application/vnd.jupyter.widget-view+json": {
       "model_id": "31fd1dd6bf6d4eb48862248157137a2f",
       "version_major": 2,
       "version_minor": 0
      },
      "text/plain": [
       "Train epoch:   0%|          | 0/60 [00:00<?, ?it/s]"
      ]
     },
     "metadata": {},
     "output_type": "display_data"
    },
    {
     "data": {
      "application/vnd.jupyter.widget-view+json": {
       "model_id": "5b9204da5cfb497697fbd4c9004d3952",
       "version_major": 2,
       "version_minor": 0
      },
      "text/plain": [
       "Train epoch:   0%|          | 0/60 [00:00<?, ?it/s]"
      ]
     },
     "metadata": {},
     "output_type": "display_data"
    },
    {
     "data": {
      "application/vnd.jupyter.widget-view+json": {
       "model_id": "9759b498dfac43b7945b176357c5c2b1",
       "version_major": 2,
       "version_minor": 0
      },
      "text/plain": [
       "Train epoch:   0%|          | 0/60 [00:00<?, ?it/s]"
      ]
     },
     "metadata": {},
     "output_type": "display_data"
    },
    {
     "data": {
      "application/vnd.jupyter.widget-view+json": {
       "model_id": "4bf1bfb7c3ae4f9fb36a2e8a2fa564c2",
       "version_major": 2,
       "version_minor": 0
      },
      "text/plain": [
       "Train epoch:   0%|          | 0/60 [00:00<?, ?it/s]"
      ]
     },
     "metadata": {},
     "output_type": "display_data"
    },
    {
     "data": {
      "application/vnd.jupyter.widget-view+json": {
       "model_id": "052f436c51934ffe846182cca1abcf48",
       "version_major": 2,
       "version_minor": 0
      },
      "text/plain": [
       "Train epoch:   0%|          | 0/60 [00:00<?, ?it/s]"
      ]
     },
     "metadata": {},
     "output_type": "display_data"
    },
    {
     "name": "stdout",
     "output_type": "stream",
     "text": [
      "Start val epoch\n",
      "End val epoch\n",
      "Epoch: 140/200, Train Loss: 0.8779, Train Acc: 68.60%, Val Loss: 1.1284, Val Acc: 64.55%\n"
     ]
    },
    {
     "data": {
      "application/vnd.jupyter.widget-view+json": {
       "model_id": "ce3a44881ca4420cbfc8bec0d1bc0253",
       "version_major": 2,
       "version_minor": 0
      },
      "text/plain": [
       "Train epoch:   0%|          | 0/60 [00:00<?, ?it/s]"
      ]
     },
     "metadata": {},
     "output_type": "display_data"
    },
    {
     "data": {
      "application/vnd.jupyter.widget-view+json": {
       "model_id": "8017a58080fa4938821f1bbc8a21e4b8",
       "version_major": 2,
       "version_minor": 0
      },
      "text/plain": [
       "Train epoch:   0%|          | 0/60 [00:00<?, ?it/s]"
      ]
     },
     "metadata": {},
     "output_type": "display_data"
    },
    {
     "data": {
      "application/vnd.jupyter.widget-view+json": {
       "model_id": "22abea596bbb47afbe3cf840dc0083e8",
       "version_major": 2,
       "version_minor": 0
      },
      "text/plain": [
       "Train epoch:   0%|          | 0/60 [00:00<?, ?it/s]"
      ]
     },
     "metadata": {},
     "output_type": "display_data"
    },
    {
     "data": {
      "application/vnd.jupyter.widget-view+json": {
       "model_id": "8d6e73af58e2486e9e211f2ecfb4d944",
       "version_major": 2,
       "version_minor": 0
      },
      "text/plain": [
       "Train epoch:   0%|          | 0/60 [00:00<?, ?it/s]"
      ]
     },
     "metadata": {},
     "output_type": "display_data"
    },
    {
     "data": {
      "application/vnd.jupyter.widget-view+json": {
       "model_id": "5bae3af8ce9142efb8e86cff0f1c3bcc",
       "version_major": 2,
       "version_minor": 0
      },
      "text/plain": [
       "Train epoch:   0%|          | 0/60 [00:00<?, ?it/s]"
      ]
     },
     "metadata": {},
     "output_type": "display_data"
    },
    {
     "data": {
      "application/vnd.jupyter.widget-view+json": {
       "model_id": "f10bd775fe2243a8a9aeae2bd3b3bddd",
       "version_major": 2,
       "version_minor": 0
      },
      "text/plain": [
       "Train epoch:   0%|          | 0/60 [00:00<?, ?it/s]"
      ]
     },
     "metadata": {},
     "output_type": "display_data"
    },
    {
     "data": {
      "application/vnd.jupyter.widget-view+json": {
       "model_id": "00cde915e56a48dc97aa2ab5eac29590",
       "version_major": 2,
       "version_minor": 0
      },
      "text/plain": [
       "Train epoch:   0%|          | 0/60 [00:00<?, ?it/s]"
      ]
     },
     "metadata": {},
     "output_type": "display_data"
    },
    {
     "data": {
      "application/vnd.jupyter.widget-view+json": {
       "model_id": "146f1db39548410eb313af6a663ed90d",
       "version_major": 2,
       "version_minor": 0
      },
      "text/plain": [
       "Train epoch:   0%|          | 0/60 [00:00<?, ?it/s]"
      ]
     },
     "metadata": {},
     "output_type": "display_data"
    },
    {
     "data": {
      "application/vnd.jupyter.widget-view+json": {
       "model_id": "d15f4407682248b78866b0f5ee8bb597",
       "version_major": 2,
       "version_minor": 0
      },
      "text/plain": [
       "Train epoch:   0%|          | 0/60 [00:00<?, ?it/s]"
      ]
     },
     "metadata": {},
     "output_type": "display_data"
    },
    {
     "data": {
      "application/vnd.jupyter.widget-view+json": {
       "model_id": "4ffd8494ccad4ea78055924d726c960a",
       "version_major": 2,
       "version_minor": 0
      },
      "text/plain": [
       "Train epoch:   0%|          | 0/60 [00:00<?, ?it/s]"
      ]
     },
     "metadata": {},
     "output_type": "display_data"
    },
    {
     "name": "stdout",
     "output_type": "stream",
     "text": [
      "Start val epoch\n",
      "End val epoch\n",
      "Epoch: 150/200, Train Loss: 0.8226, Train Acc: 70.43%, Val Loss: 1.1515, Val Acc: 66.27%\n"
     ]
    },
    {
     "data": {
      "application/vnd.jupyter.widget-view+json": {
       "model_id": "96158758018046218634b0c2d833cd2c",
       "version_major": 2,
       "version_minor": 0
      },
      "text/plain": [
       "Train epoch:   0%|          | 0/60 [00:00<?, ?it/s]"
      ]
     },
     "metadata": {},
     "output_type": "display_data"
    },
    {
     "data": {
      "application/vnd.jupyter.widget-view+json": {
       "model_id": "ab24e37b77ee44efbe20e894582e6797",
       "version_major": 2,
       "version_minor": 0
      },
      "text/plain": [
       "Train epoch:   0%|          | 0/60 [00:00<?, ?it/s]"
      ]
     },
     "metadata": {},
     "output_type": "display_data"
    },
    {
     "data": {
      "application/vnd.jupyter.widget-view+json": {
       "model_id": "3a3afb07941d4683aec35b6c3c2a9bb9",
       "version_major": 2,
       "version_minor": 0
      },
      "text/plain": [
       "Train epoch:   0%|          | 0/60 [00:00<?, ?it/s]"
      ]
     },
     "metadata": {},
     "output_type": "display_data"
    },
    {
     "data": {
      "application/vnd.jupyter.widget-view+json": {
       "model_id": "cd37b509615448f29dad0c3105144fe8",
       "version_major": 2,
       "version_minor": 0
      },
      "text/plain": [
       "Train epoch:   0%|          | 0/60 [00:00<?, ?it/s]"
      ]
     },
     "metadata": {},
     "output_type": "display_data"
    },
    {
     "data": {
      "application/vnd.jupyter.widget-view+json": {
       "model_id": "c42f102d589845e0ba59253e44a96127",
       "version_major": 2,
       "version_minor": 0
      },
      "text/plain": [
       "Train epoch:   0%|          | 0/60 [00:00<?, ?it/s]"
      ]
     },
     "metadata": {},
     "output_type": "display_data"
    },
    {
     "data": {
      "application/vnd.jupyter.widget-view+json": {
       "model_id": "ffaae856e7ed4eaf818b1baa8560cd29",
       "version_major": 2,
       "version_minor": 0
      },
      "text/plain": [
       "Train epoch:   0%|          | 0/60 [00:00<?, ?it/s]"
      ]
     },
     "metadata": {},
     "output_type": "display_data"
    },
    {
     "data": {
      "application/vnd.jupyter.widget-view+json": {
       "model_id": "c46a2427eaa34d538ab4d3e8a3ca3e59",
       "version_major": 2,
       "version_minor": 0
      },
      "text/plain": [
       "Train epoch:   0%|          | 0/60 [00:00<?, ?it/s]"
      ]
     },
     "metadata": {},
     "output_type": "display_data"
    },
    {
     "data": {
      "application/vnd.jupyter.widget-view+json": {
       "model_id": "fa9ba21455aa48f7b8851f8e19eb7fbb",
       "version_major": 2,
       "version_minor": 0
      },
      "text/plain": [
       "Train epoch:   0%|          | 0/60 [00:00<?, ?it/s]"
      ]
     },
     "metadata": {},
     "output_type": "display_data"
    },
    {
     "data": {
      "application/vnd.jupyter.widget-view+json": {
       "model_id": "117669a944334ce1a2af99aba7aee537",
       "version_major": 2,
       "version_minor": 0
      },
      "text/plain": [
       "Train epoch:   0%|          | 0/60 [00:00<?, ?it/s]"
      ]
     },
     "metadata": {},
     "output_type": "display_data"
    },
    {
     "data": {
      "application/vnd.jupyter.widget-view+json": {
       "model_id": "f19d4cc821a14d20b053700e849d5e65",
       "version_major": 2,
       "version_minor": 0
      },
      "text/plain": [
       "Train epoch:   0%|          | 0/60 [00:00<?, ?it/s]"
      ]
     },
     "metadata": {},
     "output_type": "display_data"
    },
    {
     "name": "stdout",
     "output_type": "stream",
     "text": [
      "Start val epoch\n",
      "End val epoch\n",
      "Epoch: 160/200, Train Loss: 0.8139, Train Acc: 70.73%, Val Loss: 1.1580, Val Acc: 66.42%\n"
     ]
    },
    {
     "data": {
      "application/vnd.jupyter.widget-view+json": {
       "model_id": "e9bb5f21bedd44d3b53d81245c4c26da",
       "version_major": 2,
       "version_minor": 0
      },
      "text/plain": [
       "Train epoch:   0%|          | 0/60 [00:00<?, ?it/s]"
      ]
     },
     "metadata": {},
     "output_type": "display_data"
    },
    {
     "data": {
      "application/vnd.jupyter.widget-view+json": {
       "model_id": "9f04f474476d4882870403bb8205cfad",
       "version_major": 2,
       "version_minor": 0
      },
      "text/plain": [
       "Train epoch:   0%|          | 0/60 [00:00<?, ?it/s]"
      ]
     },
     "metadata": {},
     "output_type": "display_data"
    },
    {
     "data": {
      "application/vnd.jupyter.widget-view+json": {
       "model_id": "dff97a524ff644c48cc3a7ddb1ff3458",
       "version_major": 2,
       "version_minor": 0
      },
      "text/plain": [
       "Train epoch:   0%|          | 0/60 [00:00<?, ?it/s]"
      ]
     },
     "metadata": {},
     "output_type": "display_data"
    },
    {
     "data": {
      "application/vnd.jupyter.widget-view+json": {
       "model_id": "9eb129de05f54e7593f088220fd2b1e6",
       "version_major": 2,
       "version_minor": 0
      },
      "text/plain": [
       "Train epoch:   0%|          | 0/60 [00:00<?, ?it/s]"
      ]
     },
     "metadata": {},
     "output_type": "display_data"
    },
    {
     "data": {
      "application/vnd.jupyter.widget-view+json": {
       "model_id": "e4dddd12ae0b4229933b5cb59908ce1e",
       "version_major": 2,
       "version_minor": 0
      },
      "text/plain": [
       "Train epoch:   0%|          | 0/60 [00:00<?, ?it/s]"
      ]
     },
     "metadata": {},
     "output_type": "display_data"
    },
    {
     "data": {
      "application/vnd.jupyter.widget-view+json": {
       "model_id": "25b8adf3a6424c4bb77b3b779f6d6615",
       "version_major": 2,
       "version_minor": 0
      },
      "text/plain": [
       "Train epoch:   0%|          | 0/60 [00:00<?, ?it/s]"
      ]
     },
     "metadata": {},
     "output_type": "display_data"
    },
    {
     "data": {
      "application/vnd.jupyter.widget-view+json": {
       "model_id": "45c9897dbb9b485e88869f794b4c55d3",
       "version_major": 2,
       "version_minor": 0
      },
      "text/plain": [
       "Train epoch:   0%|          | 0/60 [00:00<?, ?it/s]"
      ]
     },
     "metadata": {},
     "output_type": "display_data"
    },
    {
     "data": {
      "application/vnd.jupyter.widget-view+json": {
       "model_id": "2df08bd2ef67446c8918a13e06aaa625",
       "version_major": 2,
       "version_minor": 0
      },
      "text/plain": [
       "Train epoch:   0%|          | 0/60 [00:00<?, ?it/s]"
      ]
     },
     "metadata": {},
     "output_type": "display_data"
    },
    {
     "data": {
      "application/vnd.jupyter.widget-view+json": {
       "model_id": "344745e0029844b28938b04162629c2d",
       "version_major": 2,
       "version_minor": 0
      },
      "text/plain": [
       "Train epoch:   0%|          | 0/60 [00:00<?, ?it/s]"
      ]
     },
     "metadata": {},
     "output_type": "display_data"
    },
    {
     "data": {
      "application/vnd.jupyter.widget-view+json": {
       "model_id": "cd75c53921a44c8195aac280d6fc6ed4",
       "version_major": 2,
       "version_minor": 0
      },
      "text/plain": [
       "Train epoch:   0%|          | 0/60 [00:00<?, ?it/s]"
      ]
     },
     "metadata": {},
     "output_type": "display_data"
    },
    {
     "name": "stdout",
     "output_type": "stream",
     "text": [
      "Start val epoch\n",
      "End val epoch\n",
      "Epoch: 170/200, Train Loss: 0.7849, Train Acc: 71.75%, Val Loss: 1.1045, Val Acc: 66.98%\n"
     ]
    },
    {
     "data": {
      "application/vnd.jupyter.widget-view+json": {
       "model_id": "de98b2e84f5a4017893f9fd1e7af55ec",
       "version_major": 2,
       "version_minor": 0
      },
      "text/plain": [
       "Train epoch:   0%|          | 0/60 [00:00<?, ?it/s]"
      ]
     },
     "metadata": {},
     "output_type": "display_data"
    },
    {
     "data": {
      "application/vnd.jupyter.widget-view+json": {
       "model_id": "b964d0d7724049cbb4885df614bbb2d1",
       "version_major": 2,
       "version_minor": 0
      },
      "text/plain": [
       "Train epoch:   0%|          | 0/60 [00:00<?, ?it/s]"
      ]
     },
     "metadata": {},
     "output_type": "display_data"
    },
    {
     "data": {
      "application/vnd.jupyter.widget-view+json": {
       "model_id": "dc17554c42c14aae919bc42d9717780d",
       "version_major": 2,
       "version_minor": 0
      },
      "text/plain": [
       "Train epoch:   0%|          | 0/60 [00:00<?, ?it/s]"
      ]
     },
     "metadata": {},
     "output_type": "display_data"
    },
    {
     "data": {
      "application/vnd.jupyter.widget-view+json": {
       "model_id": "1fedbfc90b35458fac5d9d7a6752d3b6",
       "version_major": 2,
       "version_minor": 0
      },
      "text/plain": [
       "Train epoch:   0%|          | 0/60 [00:00<?, ?it/s]"
      ]
     },
     "metadata": {},
     "output_type": "display_data"
    },
    {
     "data": {
      "application/vnd.jupyter.widget-view+json": {
       "model_id": "7e65cb1e2c7c44dbabbf4f6b18e601d4",
       "version_major": 2,
       "version_minor": 0
      },
      "text/plain": [
       "Train epoch:   0%|          | 0/60 [00:00<?, ?it/s]"
      ]
     },
     "metadata": {},
     "output_type": "display_data"
    },
    {
     "data": {
      "application/vnd.jupyter.widget-view+json": {
       "model_id": "465d415e442642fd9c39343d93cd2db8",
       "version_major": 2,
       "version_minor": 0
      },
      "text/plain": [
       "Train epoch:   0%|          | 0/60 [00:00<?, ?it/s]"
      ]
     },
     "metadata": {},
     "output_type": "display_data"
    },
    {
     "data": {
      "application/vnd.jupyter.widget-view+json": {
       "model_id": "1e8b32309d154df5ad29d2b44b5ae62d",
       "version_major": 2,
       "version_minor": 0
      },
      "text/plain": [
       "Train epoch:   0%|          | 0/60 [00:00<?, ?it/s]"
      ]
     },
     "metadata": {},
     "output_type": "display_data"
    },
    {
     "data": {
      "application/vnd.jupyter.widget-view+json": {
       "model_id": "d00e214a5d804a46907b3109d2c28952",
       "version_major": 2,
       "version_minor": 0
      },
      "text/plain": [
       "Train epoch:   0%|          | 0/60 [00:00<?, ?it/s]"
      ]
     },
     "metadata": {},
     "output_type": "display_data"
    },
    {
     "data": {
      "application/vnd.jupyter.widget-view+json": {
       "model_id": "c608aed40e9c4998a76ae98430c21ea4",
       "version_major": 2,
       "version_minor": 0
      },
      "text/plain": [
       "Train epoch:   0%|          | 0/60 [00:00<?, ?it/s]"
      ]
     },
     "metadata": {},
     "output_type": "display_data"
    },
    {
     "data": {
      "application/vnd.jupyter.widget-view+json": {
       "model_id": "ba76c9df5c574890886191f43e31aafb",
       "version_major": 2,
       "version_minor": 0
      },
      "text/plain": [
       "Train epoch:   0%|          | 0/60 [00:00<?, ?it/s]"
      ]
     },
     "metadata": {},
     "output_type": "display_data"
    },
    {
     "name": "stdout",
     "output_type": "stream",
     "text": [
      "Start val epoch\n",
      "End val epoch\n",
      "Epoch: 180/200, Train Loss: 0.7763, Train Acc: 72.09%, Val Loss: 1.1051, Val Acc: 67.39%\n"
     ]
    },
    {
     "data": {
      "application/vnd.jupyter.widget-view+json": {
       "model_id": "dfc399dda1ce4c1ca3d60e6314217189",
       "version_major": 2,
       "version_minor": 0
      },
      "text/plain": [
       "Train epoch:   0%|          | 0/60 [00:00<?, ?it/s]"
      ]
     },
     "metadata": {},
     "output_type": "display_data"
    },
    {
     "data": {
      "application/vnd.jupyter.widget-view+json": {
       "model_id": "f828988c5470438e813c2901e97fc6aa",
       "version_major": 2,
       "version_minor": 0
      },
      "text/plain": [
       "Train epoch:   0%|          | 0/60 [00:00<?, ?it/s]"
      ]
     },
     "metadata": {},
     "output_type": "display_data"
    },
    {
     "data": {
      "application/vnd.jupyter.widget-view+json": {
       "model_id": "fab59eae06fa429b9c6b93fd2bfc94c2",
       "version_major": 2,
       "version_minor": 0
      },
      "text/plain": [
       "Train epoch:   0%|          | 0/60 [00:00<?, ?it/s]"
      ]
     },
     "metadata": {},
     "output_type": "display_data"
    },
    {
     "data": {
      "application/vnd.jupyter.widget-view+json": {
       "model_id": "e15837526dd845118e36792ca3a71b23",
       "version_major": 2,
       "version_minor": 0
      },
      "text/plain": [
       "Train epoch:   0%|          | 0/60 [00:00<?, ?it/s]"
      ]
     },
     "metadata": {},
     "output_type": "display_data"
    },
    {
     "data": {
      "application/vnd.jupyter.widget-view+json": {
       "model_id": "be280014275c464ab2ea354b3beceeb4",
       "version_major": 2,
       "version_minor": 0
      },
      "text/plain": [
       "Train epoch:   0%|          | 0/60 [00:00<?, ?it/s]"
      ]
     },
     "metadata": {},
     "output_type": "display_data"
    },
    {
     "data": {
      "application/vnd.jupyter.widget-view+json": {
       "model_id": "96837a01221c48cab1fd0c9c8c23346f",
       "version_major": 2,
       "version_minor": 0
      },
      "text/plain": [
       "Train epoch:   0%|          | 0/60 [00:00<?, ?it/s]"
      ]
     },
     "metadata": {},
     "output_type": "display_data"
    },
    {
     "data": {
      "application/vnd.jupyter.widget-view+json": {
       "model_id": "c63c1c529b9c45b3b99cdce2fb56ede8",
       "version_major": 2,
       "version_minor": 0
      },
      "text/plain": [
       "Train epoch:   0%|          | 0/60 [00:00<?, ?it/s]"
      ]
     },
     "metadata": {},
     "output_type": "display_data"
    },
    {
     "data": {
      "application/vnd.jupyter.widget-view+json": {
       "model_id": "2ca0fee202b446c682ce5892523feba0",
       "version_major": 2,
       "version_minor": 0
      },
      "text/plain": [
       "Train epoch:   0%|          | 0/60 [00:00<?, ?it/s]"
      ]
     },
     "metadata": {},
     "output_type": "display_data"
    },
    {
     "data": {
      "application/vnd.jupyter.widget-view+json": {
       "model_id": "8000c6bd4893472c830140df3f3ae78c",
       "version_major": 2,
       "version_minor": 0
      },
      "text/plain": [
       "Train epoch:   0%|          | 0/60 [00:00<?, ?it/s]"
      ]
     },
     "metadata": {},
     "output_type": "display_data"
    },
    {
     "data": {
      "application/vnd.jupyter.widget-view+json": {
       "model_id": "ec3488791775450e9e49d9f9bf183fa5",
       "version_major": 2,
       "version_minor": 0
      },
      "text/plain": [
       "Train epoch:   0%|          | 0/60 [00:00<?, ?it/s]"
      ]
     },
     "metadata": {},
     "output_type": "display_data"
    },
    {
     "name": "stdout",
     "output_type": "stream",
     "text": [
      "Start val epoch\n",
      "End val epoch\n",
      "Epoch: 190/200, Train Loss: 0.7376, Train Acc: 73.36%, Val Loss: 1.1005, Val Acc: 67.82%\n"
     ]
    },
    {
     "data": {
      "application/vnd.jupyter.widget-view+json": {
       "model_id": "5e4f7a78adb0438d8171812d7504732d",
       "version_major": 2,
       "version_minor": 0
      },
      "text/plain": [
       "Train epoch:   0%|          | 0/60 [00:00<?, ?it/s]"
      ]
     },
     "metadata": {},
     "output_type": "display_data"
    },
    {
     "data": {
      "application/vnd.jupyter.widget-view+json": {
       "model_id": "ff755f414a404c94afac84c1146192d7",
       "version_major": 2,
       "version_minor": 0
      },
      "text/plain": [
       "Train epoch:   0%|          | 0/60 [00:00<?, ?it/s]"
      ]
     },
     "metadata": {},
     "output_type": "display_data"
    },
    {
     "data": {
      "application/vnd.jupyter.widget-view+json": {
       "model_id": "4e491928baf64e1696889ade92e8d6e8",
       "version_major": 2,
       "version_minor": 0
      },
      "text/plain": [
       "Train epoch:   0%|          | 0/60 [00:00<?, ?it/s]"
      ]
     },
     "metadata": {},
     "output_type": "display_data"
    },
    {
     "data": {
      "application/vnd.jupyter.widget-view+json": {
       "model_id": "6e808fc0a73d4dd895c6b5b22e9d8590",
       "version_major": 2,
       "version_minor": 0
      },
      "text/plain": [
       "Train epoch:   0%|          | 0/60 [00:00<?, ?it/s]"
      ]
     },
     "metadata": {},
     "output_type": "display_data"
    },
    {
     "data": {
      "application/vnd.jupyter.widget-view+json": {
       "model_id": "e68f0dd9a0dd415298533d41e2436054",
       "version_major": 2,
       "version_minor": 0
      },
      "text/plain": [
       "Train epoch:   0%|          | 0/60 [00:00<?, ?it/s]"
      ]
     },
     "metadata": {},
     "output_type": "display_data"
    },
    {
     "data": {
      "application/vnd.jupyter.widget-view+json": {
       "model_id": "5e7639ef01554d689106e1ac86ccc123",
       "version_major": 2,
       "version_minor": 0
      },
      "text/plain": [
       "Train epoch:   0%|          | 0/60 [00:00<?, ?it/s]"
      ]
     },
     "metadata": {},
     "output_type": "display_data"
    },
    {
     "data": {
      "application/vnd.jupyter.widget-view+json": {
       "model_id": "edb30f7a04bb4afcab035714235d474d",
       "version_major": 2,
       "version_minor": 0
      },
      "text/plain": [
       "Train epoch:   0%|          | 0/60 [00:00<?, ?it/s]"
      ]
     },
     "metadata": {},
     "output_type": "display_data"
    },
    {
     "data": {
      "application/vnd.jupyter.widget-view+json": {
       "model_id": "0aef7ff230284db7861e96cf00665d37",
       "version_major": 2,
       "version_minor": 0
      },
      "text/plain": [
       "Train epoch:   0%|          | 0/60 [00:00<?, ?it/s]"
      ]
     },
     "metadata": {},
     "output_type": "display_data"
    },
    {
     "data": {
      "application/vnd.jupyter.widget-view+json": {
       "model_id": "580af73d0a924906a76f4f90ecb112a1",
       "version_major": 2,
       "version_minor": 0
      },
      "text/plain": [
       "Train epoch:   0%|          | 0/60 [00:00<?, ?it/s]"
      ]
     },
     "metadata": {},
     "output_type": "display_data"
    },
    {
     "data": {
      "application/vnd.jupyter.widget-view+json": {
       "model_id": "15bcfeb49dcd47bab41e11138ffb6bdf",
       "version_major": 2,
       "version_minor": 0
      },
      "text/plain": [
       "HBox(children=(Output(), Output()))"
      ]
     },
     "metadata": {},
     "output_type": "display_data"
    },
    {
     "data": {
      "application/vnd.jupyter.widget-view+json": {
       "model_id": "e247020607464fdcb26649cb7723ff74",
       "version_major": 2,
       "version_minor": 0
      },
      "text/plain": [
       "HBox(children=(Output(), Output()))"
      ]
     },
     "metadata": {},
     "output_type": "display_data"
    },
    {
     "data": {
      "application/vnd.jupyter.widget-view+json": {
       "model_id": "8de64ac4ddff467ba5b2e5803f864242",
       "version_major": 2,
       "version_minor": 0
      },
      "text/plain": [
       "Renderer(camera=PerspectiveCamera(children=(DirectionalLight(color='white', intensity=0.6, position=(0.1241606…"
      ]
     },
     "metadata": {},
     "output_type": "display_data"
    },
    {
     "data": {
      "application/vnd.jupyter.widget-view+json": {
       "model_id": "649f9596f6074df8adb9f04e9f884494",
       "version_major": 2,
       "version_minor": 0
      },
      "text/plain": [
       "Renderer(camera=PerspectiveCamera(children=(DirectionalLight(color='white', intensity=0.6, position=(0.0771224…"
      ]
     },
     "metadata": {},
     "output_type": "display_data"
    }
   ],
   "source": [
    "# We can now run the training. IT should take some time (around 2-3 hours). Do not close Colab during the training!\n",
    "my_trainer.run()\n",
    "\n",
    "# And visualize (it's supposed to be clean!)\n",
    "my_trainer.visualize()"
   ]
  },
  {
   "cell_type": "markdown",
   "id": "a7542796",
   "metadata": {
    "id": "a7542796"
   },
   "source": [
    "### Question 8: Ablation studies\n",
    "\n",
    "#### This is the final question of this lab which involves several subquestions. The objective is to understand the utility of different components of DiffusionNet block built during this session. More specifically, we will make one change at a time to the above network to understand how the segmentation accuracy varies.\n",
    "\n",
    "\n",
    "1. Remove the learned diffusion module such that a \"Diffusion\" block consists of MLP + Gradient features.\n",
    "\n",
    "2. Remove the Gradient feature module such that a \"Diffusion\" block consists of Diffusion + MLP features.\n",
    "\n",
    "3. Instead of feeding in the `xyz` coordinate as features, what happens if either of HKS and/or WKS is used as a feature?\n",
    "\n",
    "\n",
    "The first two question consists of reimplementing `DiffusionNet` module such that it incorporates aforementioned changes into the blocks. Either create a new class or add arguments which you'll use in the `model_cfg` dictionary.\n",
    "\n",
    "For the last question, please pay attention to `inp_feat` and `p_in`."
   ]
  },
  {
   "cell_type": "code",
   "execution_count": null,
   "id": "c506f07c",
   "metadata": {
    "colab": {
     "base_uri": "https://localhost:8080/",
     "height": 1000,
     "referenced_widgets": [
      "1cd1ce8e509343fd853da64e6756d3eb",
      "7470e0b059f741fbbbbe54cb646166b4",
      "b4ba83b9d7e048bf9d742924fa865899",
      "1239a775fc074b4a921b8b1115cbbf4c",
      "651f7afe44084e0ab3afc4c9c9b77cd6",
      "f3ac6a8af6ef4e42880b665fae58ccc4",
      "b81f9f55233e4c05b4a91883b052bad2",
      "0f90d7600c954d0a9754184d92cf9524",
      "9c49d8c195c24d16acee10f41c98c4e5",
      "82cf6152d59c4a6181ce5eda48d66d54",
      "1001c3aa73344a5fae9b567bc0eb36d9",
      "994ba97bc8a94210994deb67470ae49b",
      "0871899b23e74e7e807cdd75db67c1fe",
      "f3cd6001ab834099986631503d462b67",
      "b34ed34780ed4283b77a4917b2233594",
      "74d01dbe94fe4d8f96630664f3e963c0",
      "ae4bb403979b402985d4548d226627d6",
      "8a650070d5ba4a61a887b177e7067162",
      "f8d0cfe2feef442a97e884a68a457122",
      "62ee2d1716ad458d88aa086080394a72",
      "7059184f39144c2ab6a0c58c9aa4b1f3",
      "9e3b8fa2baff4bb0a6e837526921df7d",
      "5417cf16060543aeba7d4b54f3a0bd5d",
      "fd531e2513054c54a41189ff3aa38df7",
      "6cb8e359c1b4486c805d58afe08b6ba9",
      "71eef480e74c487ca48a9895203c4031",
      "1c527b9a79bf43d4a08a9faf616023c2",
      "0ef7eeec6167484bbfb35775c6e3a729",
      "6912815065c4475b8da349c2a061f8ec",
      "48c08bc54a494a1cbce0457b87c932f9",
      "d5eb9a84ee07493ea734baa4764a4cb3",
      "ba9540a63e43446cae4bed6c81dc19ec",
      "357989c751ba41b79b242d6cb32a7c10",
      "6a0f8d36ef804bddaec795a3e51658e1",
      "35c3effaf32d4647920b93e24dde23d6",
      "64ea892d07b34d1fb2ddb28ab2b31254",
      "8c440f7127984d6a97a078382cd9277f",
      "16e4c8705d714ec8a8bd36d865c5910a",
      "62726ea7b9f34c2baa776ab387249bf7",
      "191615caecb74451b23fae11ffb547e4"
     ]
    },
    "id": "c506f07c",
    "outputId": "651a2c1b-b84c-42f3-bb9d-a52d817d2f07"
   },
   "outputs": [],
   "source": [
    "### TODO:"
   ]
  }
 ],
 "metadata": {
  "accelerator": "GPU",
  "colab": {
   "gpuType": "T4",
   "provenance": []
  },
  "kernelspec": {
   "display_name": "Python 3 (ipykernel)",
   "language": "python",
   "name": "python3"
  },
  "language_info": {
   "codemirror_mode": {
    "name": "ipython",
    "version": 3
   },
   "file_extension": ".py",
   "mimetype": "text/x-python",
   "name": "python",
   "nbconvert_exporter": "python",
   "pygments_lexer": "ipython3",
   "version": "3.10.14"
  },
  "toc": {
   "base_numbering": 1,
   "nav_menu": {},
   "number_sections": true,
   "sideBar": true,
   "skip_h1_title": false,
   "title_cell": "Table of Contents",
   "title_sidebar": "Contents",
   "toc_cell": false,
   "toc_position": {},
   "toc_section_display": true,
   "toc_window_display": false
  },
  "vscode": {
   "interpreter": {
    "hash": "597b225ada1a8e31f8ba91733f376a075451b7f2318f668a1392c07697d374c7"
   }
  },
  "widgets": {
   "application/vnd.jupyter.widget-state+json": {
    "0871899b23e74e7e807cdd75db67c1fe": {
     "model_module": "@jupyter-widgets/base",
     "model_module_version": "1.2.0",
     "model_name": "LayoutModel",
     "state": {
      "_model_module": "@jupyter-widgets/base",
      "_model_module_version": "1.2.0",
      "_model_name": "LayoutModel",
      "_view_count": null,
      "_view_module": "@jupyter-widgets/base",
      "_view_module_version": "1.2.0",
      "_view_name": "LayoutView",
      "align_content": null,
      "align_items": null,
      "align_self": null,
      "border": null,
      "bottom": null,
      "display": null,
      "flex": null,
      "flex_flow": null,
      "grid_area": null,
      "grid_auto_columns": null,
      "grid_auto_flow": null,
      "grid_auto_rows": null,
      "grid_column": null,
      "grid_gap": null,
      "grid_row": null,
      "grid_template_areas": null,
      "grid_template_columns": null,
      "grid_template_rows": null,
      "height": null,
      "justify_content": null,
      "justify_items": null,
      "left": null,
      "margin": null,
      "max_height": null,
      "max_width": null,
      "min_height": null,
      "min_width": null,
      "object_fit": null,
      "object_position": null,
      "order": null,
      "overflow": null,
      "overflow_x": null,
      "overflow_y": null,
      "padding": null,
      "right": null,
      "top": null,
      "visibility": null,
      "width": null
     }
    },
    "09466a6dc3f64540afd85bf61eb7f12e": {
     "model_module": "jupyter-threejs",
     "model_module_version": "^2.4.1",
     "model_name": "BufferAttributeModel",
     "state": {
      "_model_module": "jupyter-threejs",
      "_model_module_version": "^2.4.1",
      "_model_name": "BufferAttributeModel",
      "_view_count": null,
      "_view_module": null,
      "_view_module_version": "",
      "_view_name": null,
      "array": {
       "dtype": "float32",
       "shape": [
        14910,
        3
       ]
      },
      "dynamic": false,
      "needsUpdate": false,
      "normalized": true,
      "version": 1
     }
    },
    "0a6f8b3b4df2408c8fe23dcf0d90011e": {
     "model_module": "jupyter-threejs",
     "model_module_version": "^2.4.1",
     "model_name": "BufferAttributeModel",
     "state": {
      "_model_module": "jupyter-threejs",
      "_model_module_version": "^2.4.1",
      "_model_name": "BufferAttributeModel",
      "_view_count": null,
      "_view_module": null,
      "_view_module_version": "",
      "_view_name": null,
      "array": {
       "dtype": "float32",
       "shape": [
        15597,
        3
       ]
      },
      "dynamic": false,
      "needsUpdate": false,
      "normalized": true,
      "version": 1
     }
    },
    "0ef7eeec6167484bbfb35775c6e3a729": {
     "model_module": "jupyter-threejs",
     "model_module_version": "^2.4.1",
     "model_name": "BufferAttributeModel",
     "state": {
      "_model_module": "jupyter-threejs",
      "_model_module_version": "^2.4.1",
      "_model_name": "BufferAttributeModel",
      "_view_count": null,
      "_view_module": null,
      "_view_module_version": "",
      "_view_name": null,
      "array": {
       "dtype": "uint32",
       "shape": [
        90756
       ]
      },
      "dynamic": false,
      "needsUpdate": false,
      "normalized": false,
      "version": 1
     }
    },
    "0f90d7600c954d0a9754184d92cf9524": {
     "model_module": "jupyter-threejs",
     "model_module_version": "^2.4.1",
     "model_name": "RendererModel",
     "state": {
      "_alpha": false,
      "_antialias": true,
      "_dom_classes": [],
      "_height": 400,
      "_model_module": "jupyter-threejs",
      "_model_module_version": "^2.4.1",
      "_model_name": "RendererModel",
      "_pause_autorender": false,
      "_view_count": null,
      "_view_module": "jupyter-threejs",
      "_view_module_version": "^2.4.1",
      "_view_name": "RendererView",
      "_webgl_version": 2,
      "_width": 400,
      "autoClear": true,
      "autoClearColor": true,
      "autoClearDepth": true,
      "autoClearStencil": true,
      "background": "black",
      "background_opacity": 1,
      "camera": "IPY_MODEL_62ee2d1716ad458d88aa086080394a72",
      "clearColor": "#000000",
      "clearOpacity": 1,
      "clippingPlanes": [],
      "controls": [
       "IPY_MODEL_7059184f39144c2ab6a0c58c9aa4b1f3"
      ],
      "gammaFactor": 2,
      "gammaInput": false,
      "gammaOutput": false,
      "layout": "IPY_MODEL_9e3b8fa2baff4bb0a6e837526921df7d",
      "localClippingEnabled": false,
      "maxMorphNormals": 4,
      "maxMorphTargets": 8,
      "physicallyCorrectLights": false,
      "scene": "IPY_MODEL_5417cf16060543aeba7d4b54f3a0bd5d",
      "shadowMap": "IPY_MODEL_fd531e2513054c54a41189ff3aa38df7",
      "sortObject": true,
      "toneMapping": "LinearToneMapping",
      "toneMappingExposure": 1,
      "toneMappingWhitePoint": 1
     }
    },
    "1001c3aa73344a5fae9b567bc0eb36d9": {
     "model_module": "@jupyter-widgets/base",
     "model_module_version": "1.2.0",
     "model_name": "LayoutModel",
     "state": {
      "_model_module": "@jupyter-widgets/base",
      "_model_module_version": "1.2.0",
      "_model_name": "LayoutModel",
      "_view_count": null,
      "_view_module": "@jupyter-widgets/base",
      "_view_module_version": "1.2.0",
      "_view_name": "LayoutView",
      "align_content": null,
      "align_items": null,
      "align_self": null,
      "border": null,
      "bottom": null,
      "display": null,
      "flex": null,
      "flex_flow": null,
      "grid_area": null,
      "grid_auto_columns": null,
      "grid_auto_flow": null,
      "grid_auto_rows": null,
      "grid_column": null,
      "grid_gap": null,
      "grid_row": null,
      "grid_template_areas": null,
      "grid_template_columns": null,
      "grid_template_rows": null,
      "height": null,
      "justify_content": null,
      "justify_items": null,
      "left": null,
      "margin": null,
      "max_height": null,
      "max_width": null,
      "min_height": null,
      "min_width": null,
      "object_fit": null,
      "object_position": null,
      "order": null,
      "overflow": null,
      "overflow_x": null,
      "overflow_y": null,
      "padding": null,
      "right": null,
      "top": null,
      "visibility": null,
      "width": null
     }
    },
    "1239a775fc074b4a921b8b1115cbbf4c": {
     "model_module": "@jupyter-widgets/base",
     "model_module_version": "1.2.0",
     "model_name": "LayoutModel",
     "state": {
      "_model_module": "@jupyter-widgets/base",
      "_model_module_version": "1.2.0",
      "_model_name": "LayoutModel",
      "_view_count": null,
      "_view_module": "@jupyter-widgets/base",
      "_view_module_version": "1.2.0",
      "_view_name": "LayoutView",
      "align_content": null,
      "align_items": null,
      "align_self": null,
      "border": null,
      "bottom": null,
      "display": null,
      "flex": null,
      "flex_flow": null,
      "grid_area": null,
      "grid_auto_columns": null,
      "grid_auto_flow": null,
      "grid_auto_rows": null,
      "grid_column": null,
      "grid_gap": null,
      "grid_row": null,
      "grid_template_areas": null,
      "grid_template_columns": null,
      "grid_template_rows": null,
      "height": null,
      "justify_content": null,
      "justify_items": null,
      "left": null,
      "margin": null,
      "max_height": null,
      "max_width": null,
      "min_height": null,
      "min_width": null,
      "object_fit": null,
      "object_position": null,
      "order": null,
      "overflow": null,
      "overflow_x": null,
      "overflow_y": null,
      "padding": null,
      "right": null,
      "top": null,
      "visibility": null,
      "width": null
     }
    },
    "12825f61ce8d4ee99356a0213474ded9": {
     "model_module": "jupyter-threejs",
     "model_module_version": "^2.4.1",
     "model_name": "SceneModel",
     "state": {
      "_model_module": "jupyter-threejs",
      "_model_module_version": "^2.4.1",
      "_model_name": "SceneModel",
      "_view_count": null,
      "_view_module": null,
      "_view_module_version": "",
      "_view_name": null,
      "autoUpdate": true,
      "background": "#ffffff",
      "castShadow": false,
      "children": [
       "IPY_MODEL_c03612919b854a36866fb389685e3bdb",
       "IPY_MODEL_8b65381aa8ac4fdb85a1fd39ea5714cd",
       "IPY_MODEL_fcd0c27405264122a4399c27a9a2e0d9"
      ],
      "fog": null,
      "frustumCulled": true,
      "matrix": [
       1,
       0,
       0,
       0,
       0,
       1,
       0,
       0,
       0,
       0,
       1,
       0,
       0,
       0,
       0,
       1
      ],
      "matrixAutoUpdate": true,
      "matrixWorld": [
       1,
       0,
       0,
       0,
       0,
       1,
       0,
       0,
       0,
       0,
       1,
       0,
       0,
       0,
       0,
       1
      ],
      "matrixWorldNeedsUpdate": false,
      "modelViewMatrix": [
       1,
       0,
       0,
       0,
       0,
       1,
       0,
       0,
       0,
       0,
       1,
       0,
       0,
       0,
       0,
       1
      ],
      "name": "",
      "normalMatrix": [
       1,
       0,
       0,
       0,
       1,
       0,
       0,
       0,
       1
      ],
      "overrideMaterial": null,
      "position": [
       0,
       0,
       0
      ],
      "quaternion": [
       0,
       0,
       0,
       1
      ],
      "receiveShadow": false,
      "renderOrder": 0,
      "rotation": [
       0,
       0,
       0,
       "XYZ"
      ],
      "scale": [
       1,
       1,
       1
      ],
      "type": "Scene",
      "up": [
       0,
       1,
       0
      ],
      "visible": true
     }
    },
    "15995348f26c4f4586c8fd491bdffe4e": {
     "model_module": "jupyter-threejs",
     "model_module_version": "^2.4.1",
     "model_name": "OrbitControlsModel",
     "state": {
      "_model_module": "jupyter-threejs",
      "_model_module_version": "^2.4.1",
      "_model_name": "OrbitControlsModel",
      "_view_count": null,
      "_view_module": null,
      "_view_module_version": "",
      "_view_name": null,
      "autoRotate": false,
      "autoRotateSpeed": 2,
      "controlling": "IPY_MODEL_652b3e8f8e6f47019a52b30c42ab63e1",
      "dampingFactor": 0.25,
      "enableDamping": false,
      "enableKeys": true,
      "enablePan": true,
      "enableRotate": true,
      "enableZoom": true,
      "enabled": true,
      "keyPanSpeed": 7,
      "maxAzimuthAngle": "inf",
      "maxDistance": "inf",
      "maxPolarAngle": 3.141592653589793,
      "maxZoom": "inf",
      "minAzimuthAngle": "-inf",
      "minDistance": 0,
      "minPolarAngle": 0,
      "minZoom": 0,
      "panSpeed": 1,
      "rotateSpeed": 1,
      "screenSpacePanning": true,
      "target": [
       0.04662846028804779,
       0.12837091088294983,
       -0.02485901117324829
      ],
      "zoomSpeed": 1
     }
    },
    "16e4c8705d714ec8a8bd36d865c5910a": {
     "model_module": "jupyter-threejs",
     "model_module_version": "^2.4.1",
     "model_name": "BufferAttributeModel",
     "state": {
      "_model_module": "jupyter-threejs",
      "_model_module_version": "^2.4.1",
      "_model_name": "BufferAttributeModel",
      "_view_count": null,
      "_view_module": null,
      "_view_module_version": "",
      "_view_name": null,
      "array": {
       "dtype": "float32",
       "shape": [
        14910,
        3
       ]
      },
      "dynamic": false,
      "needsUpdate": false,
      "normalized": true,
      "version": 1
     }
    },
    "191615caecb74451b23fae11ffb547e4": {
     "model_module": "jupyter-threejs",
     "model_module_version": "^2.4.1",
     "model_name": "BufferAttributeModel",
     "state": {
      "_model_module": "jupyter-threejs",
      "_model_module_version": "^2.4.1",
      "_model_name": "BufferAttributeModel",
      "_view_count": null,
      "_view_module": null,
      "_view_module_version": "",
      "_view_name": null,
      "array": {
       "dtype": "float32",
       "shape": [
        14910,
        3
       ]
      },
      "dynamic": false,
      "needsUpdate": false,
      "normalized": false,
      "version": 1
     }
    },
    "1ab4ccbc2ef04c549754ad9c5c261cd5": {
     "model_module": "jupyter-threejs",
     "model_module_version": "^2.4.1",
     "model_name": "DirectionalLightModel",
     "state": {
      "_model_module": "jupyter-threejs",
      "_model_module_version": "^2.4.1",
      "_model_name": "DirectionalLightModel",
      "_view_count": null,
      "_view_module": null,
      "_view_module_version": "",
      "_view_name": null,
      "castShadow": false,
      "children": [],
      "color": "white",
      "frustumCulled": true,
      "intensity": 0.6,
      "matrix": [
       1,
       0,
       0,
       0,
       0,
       1,
       0,
       0,
       0,
       0,
       1,
       0,
       0,
       0,
       0,
       1
      ],
      "matrixAutoUpdate": true,
      "matrixWorld": [
       1,
       0,
       0,
       0,
       0,
       1,
       0,
       0,
       0,
       0,
       1,
       0,
       0,
       0,
       0,
       1
      ],
      "matrixWorldNeedsUpdate": true,
      "modelViewMatrix": [
       1,
       0,
       0,
       0,
       0,
       1,
       0,
       0,
       0,
       0,
       1,
       0,
       0,
       0,
       0,
       1
      ],
      "name": "",
      "normalMatrix": [
       1,
       0,
       0,
       0,
       1,
       0,
       0,
       0,
       1
      ],
      "position": [
       0.04662846028804779,
       0.12837091088294983,
       2.9777811503796827
      ],
      "quaternion": [
       0,
       0,
       0,
       1
      ],
      "receiveShadow": false,
      "renderOrder": 0,
      "rotation": [
       0,
       0,
       0,
       "XYZ"
      ],
      "scale": [
       1,
       1,
       1
      ],
      "shadow": "IPY_MODEL_54ea5aa4-2c45-47a5-91ff-5c32b4cab9f4",
      "target": "IPY_MODEL_a13a0800-f1d8-4298-b2db-3e1bf0804052",
      "type": "DirectionalLight",
      "up": [
       0,
       1,
       0
      ],
      "visible": true
     }
    },
    "1c527b9a79bf43d4a08a9faf616023c2": {
     "model_module": "jupyter-threejs",
     "model_module_version": "^2.4.1",
     "model_name": "BufferAttributeModel",
     "state": {
      "_model_module": "jupyter-threejs",
      "_model_module_version": "^2.4.1",
      "_model_name": "BufferAttributeModel",
      "_view_count": null,
      "_view_module": null,
      "_view_module_version": "",
      "_view_name": null,
      "array": {
       "dtype": "float32",
       "shape": [
        15130,
        3
       ]
      },
      "dynamic": false,
      "needsUpdate": false,
      "normalized": true,
      "version": 1
     }
    },
    "1cd1ce8e509343fd853da64e6756d3eb": {
     "model_module": "@jupyter-widgets/controls",
     "model_module_version": "1.5.0",
     "model_name": "HBoxModel",
     "state": {
      "_dom_classes": [],
      "_model_module": "@jupyter-widgets/controls",
      "_model_module_version": "1.5.0",
      "_model_name": "HBoxModel",
      "_view_count": null,
      "_view_module": "@jupyter-widgets/controls",
      "_view_module_version": "1.5.0",
      "_view_name": "HBoxView",
      "box_style": "",
      "children": [
       "IPY_MODEL_7470e0b059f741fbbbbe54cb646166b4",
       "IPY_MODEL_b4ba83b9d7e048bf9d742924fa865899"
      ],
      "layout": "IPY_MODEL_1239a775fc074b4a921b8b1115cbbf4c"
     }
    },
    "1d709c60642b4a2093584f5533772e6c": {
     "model_module": "jupyter-threejs",
     "model_module_version": "^2.4.1",
     "model_name": "BufferAttributeModel",
     "state": {
      "_model_module": "jupyter-threejs",
      "_model_module_version": "^2.4.1",
      "_model_name": "BufferAttributeModel",
      "_view_count": null,
      "_view_module": null,
      "_view_module_version": "",
      "_view_name": null,
      "array": {
       "dtype": "float32",
       "shape": [
        15597,
        3
       ]
      },
      "dynamic": false,
      "needsUpdate": false,
      "normalized": false,
      "version": 1
     }
    },
    "1d9fe23f88b347af8cf1627670ab40bc": {
     "model_module": "jupyter-threejs",
     "model_module_version": "^2.4.1",
     "model_name": "PerspectiveCameraModel",
     "state": {
      "_model_module": "jupyter-threejs",
      "_model_module_version": "^2.4.1",
      "_model_name": "PerspectiveCameraModel",
      "_view_count": null,
      "_view_module": null,
      "_view_module_version": "",
      "_view_name": null,
      "aspect": 1,
      "castShadow": false,
      "children": [
       "IPY_MODEL_896affd2fac1443f9bd46f1aae83c13b"
      ],
      "far": 2000,
      "focus": 10,
      "fov": 30,
      "frustumCulled": true,
      "matrix": [
       1,
       0,
       0,
       0,
       0,
       1,
       0,
       0,
       0,
       0,
       1,
       0,
       0.12416067719459534,
       -0.02335602045059204,
       3.0797783037451874,
       1
      ],
      "matrixAutoUpdate": true,
      "matrixWorld": [
       1,
       0,
       0,
       0,
       0,
       1,
       0,
       0,
       0,
       0,
       1,
       0,
       0,
       0,
       0,
       1
      ],
      "matrixWorldInverse": [
       1,
       0,
       0,
       0,
       0,
       1,
       0,
       0,
       0,
       0,
       1,
       0,
       0,
       0,
       0,
       1
      ],
      "matrixWorldNeedsUpdate": false,
      "modelViewMatrix": [
       1,
       0,
       0,
       0,
       0,
       1,
       0,
       0,
       0,
       0,
       1,
       0,
       0,
       0,
       0,
       1
      ],
      "name": "",
      "near": 0.1,
      "normalMatrix": [
       1,
       0,
       0,
       0,
       1,
       0,
       0,
       0,
       1
      ],
      "position": [
       -2.8099781068066148,
       -0.3181381267131041,
       -1.1089803206139783
      ],
      "projectionMatrix": [
       3.7320508075688776,
       0,
       0,
       0,
       0,
       3.7320508075688776,
       0,
       0,
       0,
       0,
       -1.00010000500025,
       -1,
       0,
       0,
       -0.200010000500025,
       0
      ],
      "quaternion": [
       0.027086169334982636,
       -0.8172414882127982,
       0.038539720652769595,
       0.5743669378598442
      ],
      "receiveShadow": false,
      "renderOrder": 0,
      "rotation": [
       0,
       0,
       0,
       "XYZ"
      ],
      "scale": [
       1,
       1,
       1
      ],
      "type": "PerspectiveCamera",
      "up": [
       0,
       1,
       0
      ],
      "visible": true,
      "zoom": 1
     }
    },
    "1e6672b2d99f497ea3cbc90a7428e1d2": {
     "model_module": "@jupyter-widgets/base",
     "model_module_version": "1.2.0",
     "model_name": "LayoutModel",
     "state": {
      "_model_module": "@jupyter-widgets/base",
      "_model_module_version": "1.2.0",
      "_model_name": "LayoutModel",
      "_view_count": null,
      "_view_module": "@jupyter-widgets/base",
      "_view_module_version": "1.2.0",
      "_view_name": "LayoutView",
      "align_content": null,
      "align_items": null,
      "align_self": null,
      "border": null,
      "bottom": null,
      "display": null,
      "flex": null,
      "flex_flow": null,
      "grid_area": null,
      "grid_auto_columns": null,
      "grid_auto_flow": null,
      "grid_auto_rows": null,
      "grid_column": null,
      "grid_gap": null,
      "grid_row": null,
      "grid_template_areas": null,
      "grid_template_columns": null,
      "grid_template_rows": null,
      "height": null,
      "justify_content": null,
      "justify_items": null,
      "left": null,
      "margin": null,
      "max_height": null,
      "max_width": null,
      "min_height": null,
      "min_width": null,
      "object_fit": null,
      "object_position": null,
      "order": null,
      "overflow": null,
      "overflow_x": null,
      "overflow_y": null,
      "padding": null,
      "right": null,
      "top": null,
      "visibility": null,
      "width": null
     }
    },
    "255d32994899477d82abee415bafce4c": {
     "model_module": "jupyter-threejs",
     "model_module_version": "^2.4.1",
     "model_name": "BufferGeometryModel",
     "state": {
      "MaxIndex": 65535,
      "_model_module": "jupyter-threejs",
      "_model_module_version": "^2.4.1",
      "_model_name": "BufferGeometryModel",
      "_ref_geometry": null,
      "_store_ref": false,
      "_view_count": null,
      "_view_module": null,
      "_view_module_version": "",
      "_view_name": null,
      "attributes": {
       "color": "IPY_MODEL_aabf98b9c57140f096b7577f0d6fac45",
       "index": "IPY_MODEL_ad03e92fc08c41f6a85844be5bfa9f59",
       "position": "IPY_MODEL_95e89a4fea454870bc010f47dfabb6dc"
      },
      "index": null,
      "morphAttributes": {},
      "name": "",
      "type": "BufferGeometry",
      "userData": {}
     }
    },
    "290f41c1b018445690f5c3908cd291ef": {
     "model_module": "@jupyter-widgets/base",
     "model_module_version": "1.2.0",
     "model_name": "LayoutModel",
     "state": {
      "_model_module": "@jupyter-widgets/base",
      "_model_module_version": "1.2.0",
      "_model_name": "LayoutModel",
      "_view_count": null,
      "_view_module": "@jupyter-widgets/base",
      "_view_module_version": "1.2.0",
      "_view_name": "LayoutView",
      "align_content": null,
      "align_items": null,
      "align_self": null,
      "border": null,
      "bottom": null,
      "display": null,
      "flex": null,
      "flex_flow": null,
      "grid_area": null,
      "grid_auto_columns": null,
      "grid_auto_flow": null,
      "grid_auto_rows": null,
      "grid_column": null,
      "grid_gap": null,
      "grid_row": null,
      "grid_template_areas": null,
      "grid_template_columns": null,
      "grid_template_rows": null,
      "height": null,
      "justify_content": null,
      "justify_items": null,
      "left": null,
      "margin": null,
      "max_height": null,
      "max_width": null,
      "min_height": null,
      "min_width": null,
      "object_fit": null,
      "object_position": null,
      "order": null,
      "overflow": null,
      "overflow_x": null,
      "overflow_y": null,
      "padding": null,
      "right": null,
      "top": null,
      "visibility": null,
      "width": null
     }
    },
    "2be575f336644626bff95aac8d57f664": {
     "model_module": "@jupyter-widgets/controls",
     "model_module_version": "1.5.0",
     "model_name": "DescriptionStyleModel",
     "state": {
      "_model_module": "@jupyter-widgets/controls",
      "_model_module_version": "1.5.0",
      "_model_name": "DescriptionStyleModel",
      "_view_count": null,
      "_view_module": "@jupyter-widgets/base",
      "_view_module_version": "1.2.0",
      "_view_name": "StyleView",
      "description_width": ""
     }
    },
    "2e99c9d0b888462f873781fb476a81a1": {
     "model_module": "jupyter-threejs",
     "model_module_version": "^2.4.1",
     "model_name": "BufferAttributeModel",
     "state": {
      "_model_module": "jupyter-threejs",
      "_model_module_version": "^2.4.1",
      "_model_name": "BufferAttributeModel",
      "_view_count": null,
      "_view_module": null,
      "_view_module_version": "",
      "_view_name": null,
      "array": {
       "dtype": "float32",
       "shape": [
        14910,
        3
       ]
      },
      "dynamic": false,
      "needsUpdate": false,
      "normalized": false,
      "version": 1
     }
    },
    "325438e24925445d88bd534c4ac246a0": {
     "model_module": "@jupyter-widgets/controls",
     "model_module_version": "1.5.0",
     "model_name": "HBoxModel",
     "state": {
      "_dom_classes": [],
      "_model_module": "@jupyter-widgets/controls",
      "_model_module_version": "1.5.0",
      "_model_name": "HBoxModel",
      "_view_count": null,
      "_view_module": "@jupyter-widgets/controls",
      "_view_module_version": "1.5.0",
      "_view_name": "HBoxView",
      "box_style": "",
      "children": [
       "IPY_MODEL_7ae21d0eca554a6c9f4bfed74ddf089f",
       "IPY_MODEL_73208b8d8c394ed391c2e98197ab6a49",
       "IPY_MODEL_e3f87182bcb94ffbbf9571316452c0a0"
      ],
      "layout": "IPY_MODEL_f6c3a8226b414c66a0516c5fbbf5b4e4"
     }
    },
    "327fdbd00c154baa90b8804a03668847": {
     "model_module": "@jupyter-widgets/base",
     "model_module_version": "1.2.0",
     "model_name": "LayoutModel",
     "state": {
      "_model_module": "@jupyter-widgets/base",
      "_model_module_version": "1.2.0",
      "_model_name": "LayoutModel",
      "_view_count": null,
      "_view_module": "@jupyter-widgets/base",
      "_view_module_version": "1.2.0",
      "_view_name": "LayoutView",
      "align_content": null,
      "align_items": null,
      "align_self": null,
      "border": null,
      "bottom": null,
      "display": null,
      "flex": null,
      "flex_flow": null,
      "grid_area": null,
      "grid_auto_columns": null,
      "grid_auto_flow": null,
      "grid_auto_rows": null,
      "grid_column": null,
      "grid_gap": null,
      "grid_row": null,
      "grid_template_areas": null,
      "grid_template_columns": null,
      "grid_template_rows": null,
      "height": null,
      "justify_content": null,
      "justify_items": null,
      "left": null,
      "margin": null,
      "max_height": null,
      "max_width": null,
      "min_height": null,
      "min_width": null,
      "object_fit": null,
      "object_position": null,
      "order": null,
      "overflow": null,
      "overflow_x": null,
      "overflow_y": null,
      "padding": null,
      "right": null,
      "top": null,
      "visibility": null,
      "width": null
     }
    },
    "33babd6b4b2046c4a7660bd169d5585c": {
     "model_module": "@jupyter-widgets/base",
     "model_module_version": "1.2.0",
     "model_name": "LayoutModel",
     "state": {
      "_model_module": "@jupyter-widgets/base",
      "_model_module_version": "1.2.0",
      "_model_name": "LayoutModel",
      "_view_count": null,
      "_view_module": "@jupyter-widgets/base",
      "_view_module_version": "1.2.0",
      "_view_name": "LayoutView",
      "align_content": null,
      "align_items": null,
      "align_self": null,
      "border": null,
      "bottom": null,
      "display": null,
      "flex": null,
      "flex_flow": null,
      "grid_area": null,
      "grid_auto_columns": null,
      "grid_auto_flow": null,
      "grid_auto_rows": null,
      "grid_column": null,
      "grid_gap": null,
      "grid_row": null,
      "grid_template_areas": null,
      "grid_template_columns": null,
      "grid_template_rows": null,
      "height": null,
      "justify_content": null,
      "justify_items": null,
      "left": null,
      "margin": null,
      "max_height": null,
      "max_width": null,
      "min_height": null,
      "min_width": null,
      "object_fit": null,
      "object_position": null,
      "order": null,
      "overflow": null,
      "overflow_x": null,
      "overflow_y": null,
      "padding": null,
      "right": null,
      "top": null,
      "visibility": null,
      "width": null
     }
    },
    "34992aa463b64ea7a1da4feaf265446a": {
     "model_module": "@jupyter-widgets/controls",
     "model_module_version": "1.5.0",
     "model_name": "FloatProgressModel",
     "state": {
      "_dom_classes": [],
      "_model_module": "@jupyter-widgets/controls",
      "_model_module_version": "1.5.0",
      "_model_name": "FloatProgressModel",
      "_view_count": null,
      "_view_module": "@jupyter-widgets/controls",
      "_view_module_version": "1.5.0",
      "_view_name": "ProgressView",
      "bar_style": "success",
      "description": "",
      "description_tooltip": null,
      "layout": "IPY_MODEL_ff5aca6cf7ec4f7dba2f8ef78ebfb00e",
      "max": 60,
      "min": 0,
      "orientation": "horizontal",
      "style": "IPY_MODEL_f60110809bf94d629b58773aa5f5d10f",
      "value": 60
     }
    },
    "357989c751ba41b79b242d6cb32a7c10": {
     "model_module": "jupyter-threejs",
     "model_module_version": "^2.4.1",
     "model_name": "AmbientLightModel",
     "state": {
      "_model_module": "jupyter-threejs",
      "_model_module_version": "^2.4.1",
      "_model_name": "AmbientLightModel",
      "_view_count": null,
      "_view_module": null,
      "_view_module_version": "",
      "_view_name": null,
      "castShadow": false,
      "children": [],
      "color": "#ffffff",
      "frustumCulled": true,
      "intensity": 0.5,
      "matrix": [
       1,
       0,
       0,
       0,
       0,
       1,
       0,
       0,
       0,
       0,
       1,
       0,
       0,
       0,
       0,
       1
      ],
      "matrixAutoUpdate": true,
      "matrixWorld": [
       1,
       0,
       0,
       0,
       0,
       1,
       0,
       0,
       0,
       0,
       1,
       0,
       0,
       0,
       0,
       1
      ],
      "matrixWorldNeedsUpdate": false,
      "modelViewMatrix": [
       1,
       0,
       0,
       0,
       0,
       1,
       0,
       0,
       0,
       0,
       1,
       0,
       0,
       0,
       0,
       1
      ],
      "name": "",
      "normalMatrix": [
       1,
       0,
       0,
       0,
       1,
       0,
       0,
       0,
       1
      ],
      "position": [
       0,
       0,
       0
      ],
      "quaternion": [
       0,
       0,
       0,
       1
      ],
      "receiveShadow": false,
      "renderOrder": 0,
      "rotation": [
       0,
       0,
       0,
       "XYZ"
      ],
      "scale": [
       1,
       1,
       1
      ],
      "type": "AmbientLight",
      "up": [
       0,
       1,
       0
      ],
      "visible": true
     }
    },
    "35c3effaf32d4647920b93e24dde23d6": {
     "model_module": "jupyter-threejs",
     "model_module_version": "^2.4.1",
     "model_name": "MeshModel",
     "state": {
      "_model_module": "jupyter-threejs",
      "_model_module_version": "^2.4.1",
      "_model_name": "MeshModel",
      "_view_count": null,
      "_view_module": null,
      "_view_module_version": "",
      "_view_name": null,
      "castShadow": false,
      "children": [],
      "drawMode": "TrianglesDrawMode",
      "frustumCulled": true,
      "geometry": "IPY_MODEL_48c08bc54a494a1cbce0457b87c932f9",
      "material": "IPY_MODEL_d5eb9a84ee07493ea734baa4764a4cb3",
      "matrix": [
       1,
       0,
       0,
       0,
       0,
       1,
       0,
       0,
       0,
       0,
       1,
       0,
       0,
       0,
       0,
       1
      ],
      "matrixAutoUpdate": true,
      "matrixWorld": [
       1,
       0,
       0,
       0,
       0,
       1,
       0,
       0,
       0,
       0,
       1,
       0,
       0,
       0,
       0,
       1
      ],
      "matrixWorldNeedsUpdate": false,
      "modelViewMatrix": [
       1,
       0,
       0,
       0,
       0,
       1,
       0,
       0,
       0,
       0,
       1,
       0,
       0,
       0,
       0,
       1
      ],
      "morphTargetInfluences": [],
      "name": "",
      "normalMatrix": [
       1,
       0,
       0,
       0,
       1,
       0,
       0,
       0,
       1
      ],
      "position": [
       0,
       0,
       0
      ],
      "quaternion": [
       0,
       0,
       0,
       1
      ],
      "receiveShadow": false,
      "renderOrder": 0,
      "rotation": [
       0,
       0,
       0,
       "XYZ"
      ],
      "scale": [
       1,
       1,
       1
      ],
      "type": "Mesh",
      "up": [
       0,
       1,
       0
      ],
      "visible": true
     }
    },
    "3a2b52ec6960404786cd349c1f23568a": {
     "model_module": "@jupyter-widgets/controls",
     "model_module_version": "1.5.0",
     "model_name": "HBoxModel",
     "state": {
      "_dom_classes": [],
      "_model_module": "@jupyter-widgets/controls",
      "_model_module_version": "1.5.0",
      "_model_name": "HBoxModel",
      "_view_count": null,
      "_view_module": "@jupyter-widgets/controls",
      "_view_module_version": "1.5.0",
      "_view_name": "HBoxView",
      "box_style": "",
      "children": [
       "IPY_MODEL_ee4552694d804af881a49902fd372406",
       "IPY_MODEL_34992aa463b64ea7a1da4feaf265446a",
       "IPY_MODEL_67e94c59788b412c8f63f2565c028a98"
      ],
      "layout": "IPY_MODEL_8c70df8a4a294379b4c061eb97bf8621"
     }
    },
    "4101665640c7490b9c83bce535edfc0f": {
     "model_module": "@jupyter-widgets/base",
     "model_module_version": "1.2.0",
     "model_name": "LayoutModel",
     "state": {
      "_model_module": "@jupyter-widgets/base",
      "_model_module_version": "1.2.0",
      "_model_name": "LayoutModel",
      "_view_count": null,
      "_view_module": "@jupyter-widgets/base",
      "_view_module_version": "1.2.0",
      "_view_name": "LayoutView",
      "align_content": null,
      "align_items": null,
      "align_self": null,
      "border": null,
      "bottom": null,
      "display": null,
      "flex": null,
      "flex_flow": null,
      "grid_area": null,
      "grid_auto_columns": null,
      "grid_auto_flow": null,
      "grid_auto_rows": null,
      "grid_column": null,
      "grid_gap": null,
      "grid_row": null,
      "grid_template_areas": null,
      "grid_template_columns": null,
      "grid_template_rows": null,
      "height": null,
      "justify_content": null,
      "justify_items": null,
      "left": null,
      "margin": null,
      "max_height": null,
      "max_width": null,
      "min_height": null,
      "min_width": null,
      "object_fit": null,
      "object_position": null,
      "order": null,
      "overflow": null,
      "overflow_x": null,
      "overflow_y": null,
      "padding": null,
      "right": null,
      "top": null,
      "visibility": null,
      "width": null
     }
    },
    "45a37229aa7a433fa76da5741a8b8eaf": {
     "model_module": "jupyter-threejs",
     "model_module_version": "^2.4.1",
     "model_name": "MeshModel",
     "state": {
      "_model_module": "jupyter-threejs",
      "_model_module_version": "^2.4.1",
      "_model_name": "MeshModel",
      "_view_count": null,
      "_view_module": null,
      "_view_module_version": "",
      "_view_name": null,
      "castShadow": false,
      "children": [],
      "drawMode": "TrianglesDrawMode",
      "frustumCulled": true,
      "geometry": "IPY_MODEL_9d87790c554c4bf8b9d106f7732afa08",
      "material": "IPY_MODEL_db51a9dd8d39434ea8e05befdaaf0dcb",
      "matrix": [
       1,
       0,
       0,
       0,
       0,
       1,
       0,
       0,
       0,
       0,
       1,
       0,
       0,
       0,
       0,
       1
      ],
      "matrixAutoUpdate": true,
      "matrixWorld": [
       1,
       0,
       0,
       0,
       0,
       1,
       0,
       0,
       0,
       0,
       1,
       0,
       0,
       0,
       0,
       1
      ],
      "matrixWorldNeedsUpdate": false,
      "modelViewMatrix": [
       1,
       0,
       0,
       0,
       0,
       1,
       0,
       0,
       0,
       0,
       1,
       0,
       0,
       0,
       0,
       1
      ],
      "morphTargetInfluences": [],
      "name": "",
      "normalMatrix": [
       1,
       0,
       0,
       0,
       1,
       0,
       0,
       0,
       1
      ],
      "position": [
       0,
       0,
       0
      ],
      "quaternion": [
       0,
       0,
       0,
       1
      ],
      "receiveShadow": false,
      "renderOrder": 0,
      "rotation": [
       0,
       0,
       0,
       "XYZ"
      ],
      "scale": [
       1,
       1,
       1
      ],
      "type": "Mesh",
      "up": [
       0,
       1,
       0
      ],
      "visible": true
     }
    },
    "465d0899466e48c1adec148b67727e72": {
     "model_module": "jupyter-threejs",
     "model_module_version": "^2.4.1",
     "model_name": "MeshModel",
     "state": {
      "_model_module": "jupyter-threejs",
      "_model_module_version": "^2.4.1",
      "_model_name": "MeshModel",
      "_view_count": null,
      "_view_module": null,
      "_view_module_version": "",
      "_view_name": null,
      "castShadow": false,
      "children": [],
      "drawMode": "TrianglesDrawMode",
      "frustumCulled": true,
      "geometry": "IPY_MODEL_5bcb5b32a98f4603beadaa5535a14afa",
      "material": "IPY_MODEL_a9e01940fc3546169a491e13376731e3",
      "matrix": [
       1,
       0,
       0,
       0,
       0,
       1,
       0,
       0,
       0,
       0,
       1,
       0,
       0,
       0,
       0,
       1
      ],
      "matrixAutoUpdate": true,
      "matrixWorld": [
       1,
       0,
       0,
       0,
       0,
       1,
       0,
       0,
       0,
       0,
       1,
       0,
       0,
       0,
       0,
       1
      ],
      "matrixWorldNeedsUpdate": false,
      "modelViewMatrix": [
       1,
       0,
       0,
       0,
       0,
       1,
       0,
       0,
       0,
       0,
       1,
       0,
       0,
       0,
       0,
       1
      ],
      "morphTargetInfluences": [],
      "name": "",
      "normalMatrix": [
       1,
       0,
       0,
       0,
       1,
       0,
       0,
       0,
       1
      ],
      "position": [
       0,
       0,
       0
      ],
      "quaternion": [
       0,
       0,
       0,
       1
      ],
      "receiveShadow": false,
      "renderOrder": 0,
      "rotation": [
       0,
       0,
       0,
       "XYZ"
      ],
      "scale": [
       1,
       1,
       1
      ],
      "type": "Mesh",
      "up": [
       0,
       1,
       0
      ],
      "visible": true
     }
    },
    "48c08bc54a494a1cbce0457b87c932f9": {
     "model_module": "jupyter-threejs",
     "model_module_version": "^2.4.1",
     "model_name": "BufferGeometryModel",
     "state": {
      "MaxIndex": 65535,
      "_model_module": "jupyter-threejs",
      "_model_module_version": "^2.4.1",
      "_model_name": "BufferGeometryModel",
      "_ref_geometry": null,
      "_store_ref": false,
      "_view_count": null,
      "_view_module": null,
      "_view_module_version": "",
      "_view_name": null,
      "attributes": {
       "color": "IPY_MODEL_1c527b9a79bf43d4a08a9faf616023c2",
       "index": "IPY_MODEL_0ef7eeec6167484bbfb35775c6e3a729",
       "position": "IPY_MODEL_6912815065c4475b8da349c2a061f8ec"
      },
      "index": null,
      "morphAttributes": {},
      "name": "",
      "type": "BufferGeometry",
      "userData": {}
     }
    },
    "4966cb24e8a4485c9357c875db269c5f": {
     "model_module": "jupyter-threejs",
     "model_module_version": "^2.4.1",
     "model_name": "SceneModel",
     "state": {
      "_model_module": "jupyter-threejs",
      "_model_module_version": "^2.4.1",
      "_model_name": "SceneModel",
      "_view_count": null,
      "_view_module": null,
      "_view_module_version": "",
      "_view_name": null,
      "autoUpdate": true,
      "background": "#ffffff",
      "castShadow": false,
      "children": [
       "IPY_MODEL_1d9fe23f88b347af8cf1627670ab40bc",
       "IPY_MODEL_63e553accfb94d69a83130da60097b0c",
       "IPY_MODEL_45a37229aa7a433fa76da5741a8b8eaf"
      ],
      "fog": null,
      "frustumCulled": true,
      "matrix": [
       1,
       0,
       0,
       0,
       0,
       1,
       0,
       0,
       0,
       0,
       1,
       0,
       0,
       0,
       0,
       1
      ],
      "matrixAutoUpdate": true,
      "matrixWorld": [
       1,
       0,
       0,
       0,
       0,
       1,
       0,
       0,
       0,
       0,
       1,
       0,
       0,
       0,
       0,
       1
      ],
      "matrixWorldNeedsUpdate": false,
      "modelViewMatrix": [
       1,
       0,
       0,
       0,
       0,
       1,
       0,
       0,
       0,
       0,
       1,
       0,
       0,
       0,
       0,
       1
      ],
      "name": "",
      "normalMatrix": [
       1,
       0,
       0,
       0,
       1,
       0,
       0,
       0,
       1
      ],
      "overrideMaterial": null,
      "position": [
       0,
       0,
       0
      ],
      "quaternion": [
       0,
       0,
       0,
       1
      ],
      "receiveShadow": false,
      "renderOrder": 0,
      "rotation": [
       0,
       0,
       0,
       "XYZ"
      ],
      "scale": [
       1,
       1,
       1
      ],
      "type": "Scene",
      "up": [
       0,
       1,
       0
      ],
      "visible": true
     }
    },
    "49c1ad928a234339a7d8d6ea7c087226": {
     "model_module": "@jupyter-widgets/controls",
     "model_module_version": "1.5.0",
     "model_name": "DescriptionStyleModel",
     "state": {
      "_model_module": "@jupyter-widgets/controls",
      "_model_module_version": "1.5.0",
      "_model_name": "DescriptionStyleModel",
      "_view_count": null,
      "_view_module": "@jupyter-widgets/base",
      "_view_module_version": "1.2.0",
      "_view_name": "StyleView",
      "description_width": ""
     }
    },
    "4beab17d13924abf8364a99489b97c63": {
     "model_module": "@jupyter-widgets/controls",
     "model_module_version": "1.5.0",
     "model_name": "DescriptionStyleModel",
     "state": {
      "_model_module": "@jupyter-widgets/controls",
      "_model_module_version": "1.5.0",
      "_model_name": "DescriptionStyleModel",
      "_view_count": null,
      "_view_module": "@jupyter-widgets/base",
      "_view_module_version": "1.2.0",
      "_view_name": "StyleView",
      "description_width": ""
     }
    },
    "500cef4783704bcb997cdd8bb2591e99": {
     "model_module": "@jupyter-widgets/base",
     "model_module_version": "1.2.0",
     "model_name": "LayoutModel",
     "state": {
      "_model_module": "@jupyter-widgets/base",
      "_model_module_version": "1.2.0",
      "_model_name": "LayoutModel",
      "_view_count": null,
      "_view_module": "@jupyter-widgets/base",
      "_view_module_version": "1.2.0",
      "_view_name": "LayoutView",
      "align_content": null,
      "align_items": null,
      "align_self": null,
      "border": null,
      "bottom": null,
      "display": null,
      "flex": null,
      "flex_flow": null,
      "grid_area": null,
      "grid_auto_columns": null,
      "grid_auto_flow": null,
      "grid_auto_rows": null,
      "grid_column": null,
      "grid_gap": null,
      "grid_row": null,
      "grid_template_areas": null,
      "grid_template_columns": null,
      "grid_template_rows": null,
      "height": null,
      "justify_content": null,
      "justify_items": null,
      "left": null,
      "margin": null,
      "max_height": null,
      "max_width": null,
      "min_height": null,
      "min_width": null,
      "object_fit": null,
      "object_position": null,
      "order": null,
      "overflow": null,
      "overflow_x": null,
      "overflow_y": null,
      "padding": null,
      "right": null,
      "top": null,
      "visibility": null,
      "width": null
     }
    },
    "5417cf16060543aeba7d4b54f3a0bd5d": {
     "model_module": "jupyter-threejs",
     "model_module_version": "^2.4.1",
     "model_name": "SceneModel",
     "state": {
      "_model_module": "jupyter-threejs",
      "_model_module_version": "^2.4.1",
      "_model_name": "SceneModel",
      "_view_count": null,
      "_view_module": null,
      "_view_module_version": "",
      "_view_name": null,
      "autoUpdate": true,
      "background": "#ffffff",
      "castShadow": false,
      "children": [
       "IPY_MODEL_62ee2d1716ad458d88aa086080394a72",
       "IPY_MODEL_71eef480e74c487ca48a9895203c4031",
       "IPY_MODEL_35c3effaf32d4647920b93e24dde23d6"
      ],
      "fog": null,
      "frustumCulled": true,
      "matrix": [
       1,
       0,
       0,
       0,
       0,
       1,
       0,
       0,
       0,
       0,
       1,
       0,
       0,
       0,
       0,
       1
      ],
      "matrixAutoUpdate": true,
      "matrixWorld": [
       1,
       0,
       0,
       0,
       0,
       1,
       0,
       0,
       0,
       0,
       1,
       0,
       0,
       0,
       0,
       1
      ],
      "matrixWorldNeedsUpdate": false,
      "modelViewMatrix": [
       1,
       0,
       0,
       0,
       0,
       1,
       0,
       0,
       0,
       0,
       1,
       0,
       0,
       0,
       0,
       1
      ],
      "name": "",
      "normalMatrix": [
       1,
       0,
       0,
       0,
       1,
       0,
       0,
       0,
       1
      ],
      "overrideMaterial": null,
      "position": [
       0,
       0,
       0
      ],
      "quaternion": [
       0,
       0,
       0,
       1
      ],
      "receiveShadow": false,
      "renderOrder": 0,
      "rotation": [
       0,
       0,
       0,
       "XYZ"
      ],
      "scale": [
       1,
       1,
       1
      ],
      "type": "Scene",
      "up": [
       0,
       1,
       0
      ],
      "visible": true
     }
    },
    "5b2e2d09ac6942c99ffdaaa6fe269618": {
     "model_module": "@jupyter-widgets/base",
     "model_module_version": "1.2.0",
     "model_name": "LayoutModel",
     "state": {
      "_model_module": "@jupyter-widgets/base",
      "_model_module_version": "1.2.0",
      "_model_name": "LayoutModel",
      "_view_count": null,
      "_view_module": "@jupyter-widgets/base",
      "_view_module_version": "1.2.0",
      "_view_name": "LayoutView",
      "align_content": null,
      "align_items": null,
      "align_self": null,
      "border": null,
      "bottom": null,
      "display": null,
      "flex": null,
      "flex_flow": null,
      "grid_area": null,
      "grid_auto_columns": null,
      "grid_auto_flow": null,
      "grid_auto_rows": null,
      "grid_column": null,
      "grid_gap": null,
      "grid_row": null,
      "grid_template_areas": null,
      "grid_template_columns": null,
      "grid_template_rows": null,
      "height": null,
      "justify_content": null,
      "justify_items": null,
      "left": null,
      "margin": null,
      "max_height": null,
      "max_width": null,
      "min_height": null,
      "min_width": null,
      "object_fit": null,
      "object_position": null,
      "order": null,
      "overflow": null,
      "overflow_x": null,
      "overflow_y": null,
      "padding": null,
      "right": null,
      "top": null,
      "visibility": null,
      "width": null
     }
    },
    "5bcb5b32a98f4603beadaa5535a14afa": {
     "model_module": "jupyter-threejs",
     "model_module_version": "^2.4.1",
     "model_name": "BufferGeometryModel",
     "state": {
      "MaxIndex": 65535,
      "_model_module": "jupyter-threejs",
      "_model_module_version": "^2.4.1",
      "_model_name": "BufferGeometryModel",
      "_ref_geometry": null,
      "_store_ref": false,
      "_view_count": null,
      "_view_module": null,
      "_view_module_version": "",
      "_view_name": null,
      "attributes": {
       "color": "IPY_MODEL_0a6f8b3b4df2408c8fe23dcf0d90011e",
       "index": "IPY_MODEL_80a415e5280c4ebe92e9dcd86dacac5a",
       "position": "IPY_MODEL_1d709c60642b4a2093584f5533772e6c"
      },
      "index": null,
      "morphAttributes": {},
      "name": "",
      "type": "BufferGeometry",
      "userData": {}
     }
    },
    "5e82bd5e3bc44fcb82f7a223c529ddfc": {
     "model_module": "jupyter-threejs",
     "model_module_version": "^2.4.1",
     "model_name": "BufferAttributeModel",
     "state": {
      "_model_module": "jupyter-threejs",
      "_model_module_version": "^2.4.1",
      "_model_name": "BufferAttributeModel",
      "_view_count": null,
      "_view_module": null,
      "_view_module_version": "",
      "_view_name": null,
      "array": {
       "dtype": "uint32",
       "shape": [
        86928
       ]
      },
      "dynamic": false,
      "needsUpdate": false,
      "normalized": false,
      "version": 1
     }
    },
    "62726ea7b9f34c2baa776ab387249bf7": {
     "model_module": "jupyter-threejs",
     "model_module_version": "^2.4.1",
     "model_name": "BufferAttributeModel",
     "state": {
      "_model_module": "jupyter-threejs",
      "_model_module_version": "^2.4.1",
      "_model_name": "BufferAttributeModel",
      "_view_count": null,
      "_view_module": null,
      "_view_module_version": "",
      "_view_name": null,
      "array": {
       "dtype": "uint32",
       "shape": [
        86928
       ]
      },
      "dynamic": false,
      "needsUpdate": false,
      "normalized": false,
      "version": 1
     }
    },
    "62ee2d1716ad458d88aa086080394a72": {
     "model_module": "jupyter-threejs",
     "model_module_version": "^2.4.1",
     "model_name": "PerspectiveCameraModel",
     "state": {
      "_model_module": "jupyter-threejs",
      "_model_module_version": "^2.4.1",
      "_model_name": "PerspectiveCameraModel",
      "_view_count": null,
      "_view_module": null,
      "_view_module_version": "",
      "_view_name": null,
      "aspect": 1,
      "castShadow": false,
      "children": [],
      "far": 2000,
      "focus": 10,
      "fov": 30,
      "frustumCulled": true,
      "matrix": [
       1,
       0,
       0,
       0,
       0,
       1,
       0,
       0,
       0,
       0,
       1,
       0,
       0.07712246477603912,
       0.12872916460037231,
       3.084972069931209,
       1
      ],
      "matrixAutoUpdate": true,
      "matrixWorld": [
       0.9973402250374782,
       0,
       0.07288673076899677,
       0,
       -0.008802429663269124,
       0.9926806843990192,
       0.12044739952825076,
       0,
       -0.07235324978337476,
       -0.1207686168716644,
       0.9900403771688757,
       0,
       0,
       0,
       1,
       1
      ],
      "matrixWorldInverse": [
       0.9973402250374783,
       -0.008802429663269124,
       -0.07235324978337476,
       0,
       0,
       0.992680684399019,
       -0.12076861687166439,
       0,
       0.07288673076899677,
       0.12044739952825076,
       0.9900403771688757,
       0,
       -0.30177086506613054,
       -0.4986849535864616,
       -3.033120407552459,
       1
      ],
      "matrixWorldNeedsUpdate": false,
      "modelViewMatrix": [
       1,
       0,
       0,
       0,
       0,
       1,
       0,
       0,
       0,
       0,
       1,
       0,
       0,
       0,
       0,
       1
      ],
      "name": "",
      "near": 0.1,
      "normalMatrix": [
       1,
       0,
       0,
       0,
       1,
       0,
       0,
       0,
       1
      ],
      "position": [
       0.07712246477603912,
       0.12872916460037231,
       3.084972069931209
      ],
      "projectionMatrix": [
       3.7320508075688776,
       0,
       0,
       0,
       0,
       3.7320508075688776,
       0,
       0,
       0,
       0,
       -1.00010000500025,
       -1,
       0,
       0,
       -0.200010000500025,
       0
      ],
      "quaternion": [
       0.06045486636653691,
       -0.0364008316960794,
       0.002206112665883336,
       0.9975045471832914
      ],
      "receiveShadow": false,
      "renderOrder": 0,
      "rotation": [
       0.12138383428900068,
       -0.07241652708536457,
       0.008825675424716429,
       "XYZ"
      ],
      "scale": [
       1,
       1,
       1
      ],
      "type": "PerspectiveCamera",
      "up": [
       0,
       1,
       0
      ],
      "visible": true,
      "zoom": 1
     }
    },
    "63e553accfb94d69a83130da60097b0c": {
     "model_module": "jupyter-threejs",
     "model_module_version": "^2.4.1",
     "model_name": "AmbientLightModel",
     "state": {
      "_model_module": "jupyter-threejs",
      "_model_module_version": "^2.4.1",
      "_model_name": "AmbientLightModel",
      "_view_count": null,
      "_view_module": null,
      "_view_module_version": "",
      "_view_name": null,
      "castShadow": false,
      "children": [],
      "color": "#ffffff",
      "frustumCulled": true,
      "intensity": 0.5,
      "matrix": [
       1,
       0,
       0,
       0,
       0,
       1,
       0,
       0,
       0,
       0,
       1,
       0,
       0,
       0,
       0,
       1
      ],
      "matrixAutoUpdate": true,
      "matrixWorld": [
       1,
       0,
       0,
       0,
       0,
       1,
       0,
       0,
       0,
       0,
       1,
       0,
       0,
       0,
       0,
       1
      ],
      "matrixWorldNeedsUpdate": false,
      "modelViewMatrix": [
       1,
       0,
       0,
       0,
       0,
       1,
       0,
       0,
       0,
       0,
       1,
       0,
       0,
       0,
       0,
       1
      ],
      "name": "",
      "normalMatrix": [
       1,
       0,
       0,
       0,
       1,
       0,
       0,
       0,
       1
      ],
      "position": [
       0,
       0,
       0
      ],
      "quaternion": [
       0,
       0,
       0,
       1
      ],
      "receiveShadow": false,
      "renderOrder": 0,
      "rotation": [
       0,
       0,
       0,
       "XYZ"
      ],
      "scale": [
       1,
       1,
       1
      ],
      "type": "AmbientLight",
      "up": [
       0,
       1,
       0
      ],
      "visible": true
     }
    },
    "64ea892d07b34d1fb2ddb28ab2b31254": {
     "model_module": "jupyter-threejs",
     "model_module_version": "^2.4.1",
     "model_name": "BufferGeometryModel",
     "state": {
      "MaxIndex": 65535,
      "_model_module": "jupyter-threejs",
      "_model_module_version": "^2.4.1",
      "_model_name": "BufferGeometryModel",
      "_ref_geometry": null,
      "_store_ref": false,
      "_view_count": null,
      "_view_module": null,
      "_view_module_version": "",
      "_view_name": null,
      "attributes": {
       "color": "IPY_MODEL_16e4c8705d714ec8a8bd36d865c5910a",
       "index": "IPY_MODEL_62726ea7b9f34c2baa776ab387249bf7",
       "position": "IPY_MODEL_191615caecb74451b23fae11ffb547e4"
      },
      "index": null,
      "morphAttributes": {},
      "name": "",
      "type": "BufferGeometry",
      "userData": {}
     }
    },
    "651f7afe44084e0ab3afc4c9c9b77cd6": {
     "model_module": "@jupyter-widgets/base",
     "model_module_version": "1.2.0",
     "model_name": "LayoutModel",
     "state": {
      "_model_module": "@jupyter-widgets/base",
      "_model_module_version": "1.2.0",
      "_model_name": "LayoutModel",
      "_view_count": null,
      "_view_module": "@jupyter-widgets/base",
      "_view_module_version": "1.2.0",
      "_view_name": "LayoutView",
      "align_content": null,
      "align_items": null,
      "align_self": null,
      "border": null,
      "bottom": null,
      "display": null,
      "flex": null,
      "flex_flow": null,
      "grid_area": null,
      "grid_auto_columns": null,
      "grid_auto_flow": null,
      "grid_auto_rows": null,
      "grid_column": null,
      "grid_gap": null,
      "grid_row": null,
      "grid_template_areas": null,
      "grid_template_columns": null,
      "grid_template_rows": null,
      "height": null,
      "justify_content": null,
      "justify_items": null,
      "left": null,
      "margin": null,
      "max_height": null,
      "max_width": null,
      "min_height": null,
      "min_width": null,
      "object_fit": null,
      "object_position": null,
      "order": null,
      "overflow": null,
      "overflow_x": null,
      "overflow_y": null,
      "padding": null,
      "right": null,
      "top": null,
      "visibility": null,
      "width": null
     }
    },
    "652b3e8f8e6f47019a52b30c42ab63e1": {
     "model_module": "jupyter-threejs",
     "model_module_version": "^2.4.1",
     "model_name": "PerspectiveCameraModel",
     "state": {
      "_model_module": "jupyter-threejs",
      "_model_module_version": "^2.4.1",
      "_model_name": "PerspectiveCameraModel",
      "_view_count": null,
      "_view_module": null,
      "_view_module_version": "",
      "_view_name": null,
      "aspect": 1,
      "castShadow": false,
      "children": [
       "IPY_MODEL_1ab4ccbc2ef04c549754ad9c5c261cd5"
      ],
      "far": 2000,
      "focus": 3.002640161552931,
      "fov": 30,
      "frustumCulled": true,
      "matrix": [
       1,
       0,
       0,
       0,
       0,
       1,
       -6.470606494816161e-17,
       0,
       0,
       6.470606494816161e-17,
       1,
       0,
       0.04662846028804779,
       0.12837091088295002,
       2.9777811503796827,
       1
      ],
      "matrixAutoUpdate": true,
      "matrixWorld": [
       1,
       0,
       0,
       0,
       0,
       1,
       -6.470606494816161e-17,
       0,
       0,
       6.470606494816161e-17,
       1,
       0,
       0.04662846028804779,
       0.12837091088295002,
       2.9777811503796827,
       1
      ],
      "matrixWorldInverse": [
       1,
       0,
       0,
       0,
       0,
       1,
       6.470606494816161e-17,
       0,
       0,
       -6.470606494816161e-17,
       1,
       0,
       -0.04662846028804779,
       -0.12837091088294983,
       -2.9777811503796827,
       1
      ],
      "matrixWorldNeedsUpdate": false,
      "modelViewMatrix": [
       1,
       0,
       0,
       0,
       0,
       1,
       0,
       0,
       0,
       0,
       1,
       0,
       0,
       0,
       0,
       1
      ],
      "name": "",
      "near": 0.1,
      "normalMatrix": [
       1,
       0,
       0,
       0,
       1,
       0,
       0,
       0,
       1
      ],
      "position": [
       0.04662846028804779,
       0.12837091088295002,
       2.9777811503796827
      ],
      "projectionMatrix": [
       3.7320508075688776,
       0,
       0,
       0,
       0,
       3.7320508075688776,
       0,
       0,
       0,
       0,
       -1.00010000500025,
       -1,
       0,
       0,
       -0.200010000500025,
       0
      ],
      "quaternion": [
       -3.2353032474080805e-17,
       0,
       0,
       1
      ],
      "receiveShadow": false,
      "renderOrder": 0,
      "rotation": [
       -6.470606494816161e-17,
       0,
       0,
       "XYZ"
      ],
      "scale": [
       1,
       1,
       1
      ],
      "type": "PerspectiveCamera",
      "up": [
       0,
       1,
       0
      ],
      "visible": true,
      "zoom": 1
     }
    },
    "66955b4acdc84aeb9c1569bea2965680": {
     "model_module": "@jupyter-widgets/output",
     "model_module_version": "1.0.0",
     "model_name": "OutputModel",
     "state": {
      "_dom_classes": [],
      "_model_module": "@jupyter-widgets/output",
      "_model_module_version": "1.0.0",
      "_model_name": "OutputModel",
      "_view_count": null,
      "_view_module": "@jupyter-widgets/output",
      "_view_module_version": "1.0.0",
      "_view_name": "OutputView",
      "layout": "IPY_MODEL_500cef4783704bcb997cdd8bb2591e99",
      "msg_id": "",
      "outputs": []
     }
    },
    "6743522e2e5b424e82af54bbfd6b1cb1": {
     "model_module": "@jupyter-widgets/base",
     "model_module_version": "1.2.0",
     "model_name": "LayoutModel",
     "state": {
      "_model_module": "@jupyter-widgets/base",
      "_model_module_version": "1.2.0",
      "_model_name": "LayoutModel",
      "_view_count": null,
      "_view_module": "@jupyter-widgets/base",
      "_view_module_version": "1.2.0",
      "_view_name": "LayoutView",
      "align_content": null,
      "align_items": null,
      "align_self": null,
      "border": null,
      "bottom": null,
      "display": null,
      "flex": null,
      "flex_flow": null,
      "grid_area": null,
      "grid_auto_columns": null,
      "grid_auto_flow": null,
      "grid_auto_rows": null,
      "grid_column": null,
      "grid_gap": null,
      "grid_row": null,
      "grid_template_areas": null,
      "grid_template_columns": null,
      "grid_template_rows": null,
      "height": null,
      "justify_content": null,
      "justify_items": null,
      "left": null,
      "margin": null,
      "max_height": null,
      "max_width": null,
      "min_height": null,
      "min_width": null,
      "object_fit": null,
      "object_position": null,
      "order": null,
      "overflow": null,
      "overflow_x": null,
      "overflow_y": null,
      "padding": null,
      "right": null,
      "top": null,
      "visibility": null,
      "width": null
     }
    },
    "67e94c59788b412c8f63f2565c028a98": {
     "model_module": "@jupyter-widgets/controls",
     "model_module_version": "1.5.0",
     "model_name": "HTMLModel",
     "state": {
      "_dom_classes": [],
      "_model_module": "@jupyter-widgets/controls",
      "_model_module_version": "1.5.0",
      "_model_name": "HTMLModel",
      "_view_count": null,
      "_view_module": "@jupyter-widgets/controls",
      "_view_module_version": "1.5.0",
      "_view_name": "HTMLView",
      "description": "",
      "description_tooltip": null,
      "layout": "IPY_MODEL_4101665640c7490b9c83bce535edfc0f",
      "placeholder": "​",
      "style": "IPY_MODEL_bb3db2e05a824869910c4e464d51802b",
      "value": " 60/60 [00:04&lt;00:00, 11.49it/s]"
     }
    },
    "6912815065c4475b8da349c2a061f8ec": {
     "model_module": "jupyter-threejs",
     "model_module_version": "^2.4.1",
     "model_name": "BufferAttributeModel",
     "state": {
      "_model_module": "jupyter-threejs",
      "_model_module_version": "^2.4.1",
      "_model_name": "BufferAttributeModel",
      "_view_count": null,
      "_view_module": null,
      "_view_module_version": "",
      "_view_name": null,
      "array": {
       "dtype": "float32",
       "shape": [
        15130,
        3
       ]
      },
      "dynamic": false,
      "needsUpdate": false,
      "normalized": false,
      "version": 1
     }
    },
    "6a0f8d36ef804bddaec795a3e51658e1": {
     "model_module": "jupyter-threejs",
     "model_module_version": "^2.4.1",
     "model_name": "MeshModel",
     "state": {
      "_model_module": "jupyter-threejs",
      "_model_module_version": "^2.4.1",
      "_model_name": "MeshModel",
      "_view_count": null,
      "_view_module": null,
      "_view_module_version": "",
      "_view_name": null,
      "castShadow": false,
      "children": [],
      "drawMode": "TrianglesDrawMode",
      "frustumCulled": true,
      "geometry": "IPY_MODEL_64ea892d07b34d1fb2ddb28ab2b31254",
      "material": "IPY_MODEL_8c440f7127984d6a97a078382cd9277f",
      "matrix": [
       1,
       0,
       0,
       0,
       0,
       1,
       0,
       0,
       0,
       0,
       1,
       0,
       0,
       0,
       0,
       1
      ],
      "matrixAutoUpdate": true,
      "matrixWorld": [
       1,
       0,
       0,
       0,
       0,
       1,
       0,
       0,
       0,
       0,
       1,
       0,
       0,
       0,
       0,
       1
      ],
      "matrixWorldNeedsUpdate": false,
      "modelViewMatrix": [
       1,
       0,
       0,
       0,
       0,
       1,
       0,
       0,
       0,
       0,
       1,
       0,
       0,
       0,
       0,
       1
      ],
      "morphTargetInfluences": [],
      "name": "",
      "normalMatrix": [
       1,
       0,
       0,
       0,
       1,
       0,
       0,
       0,
       1
      ],
      "position": [
       0,
       0,
       0
      ],
      "quaternion": [
       0,
       0,
       0,
       1
      ],
      "receiveShadow": false,
      "renderOrder": 0,
      "rotation": [
       0,
       0,
       0,
       "XYZ"
      ],
      "scale": [
       1,
       1,
       1
      ],
      "type": "Mesh",
      "up": [
       0,
       1,
       0
      ],
      "visible": true
     }
    },
    "6cb8e359c1b4486c805d58afe08b6ba9": {
     "model_module": "jupyter-threejs",
     "model_module_version": "^2.4.1",
     "model_name": "DirectionalLightModel",
     "state": {
      "_model_module": "jupyter-threejs",
      "_model_module_version": "^2.4.1",
      "_model_name": "DirectionalLightModel",
      "_view_count": null,
      "_view_module": null,
      "_view_module_version": "",
      "_view_name": null,
      "castShadow": false,
      "children": [],
      "color": "white",
      "frustumCulled": true,
      "intensity": 0.6,
      "matrix": [
       1,
       0,
       0,
       0,
       0,
       1,
       0,
       0,
       0,
       0,
       1,
       0,
       0,
       0,
       0,
       1
      ],
      "matrixAutoUpdate": true,
      "matrixWorld": [
       1,
       0,
       0,
       0,
       0,
       1,
       0,
       0,
       0,
       0,
       1,
       0,
       0,
       0,
       0,
       1
      ],
      "matrixWorldNeedsUpdate": true,
      "modelViewMatrix": [
       1,
       0,
       0,
       0,
       0,
       1,
       0,
       0,
       0,
       0,
       1,
       0,
       0,
       0,
       0,
       1
      ],
      "name": "",
      "normalMatrix": [
       1,
       0,
       0,
       0,
       1,
       0,
       0,
       0,
       1
      ],
      "position": [
       0.07712246477603912,
       0.12872916460037231,
       3.084972069931209
      ],
      "quaternion": [
       0,
       0,
       0,
       1
      ],
      "receiveShadow": false,
      "renderOrder": 0,
      "rotation": [
       0,
       0,
       0,
       "XYZ"
      ],
      "scale": [
       1,
       1,
       1
      ],
      "shadow": "IPY_MODEL_f391937c-a1cd-4494-905d-4175b0a88768",
      "target": "IPY_MODEL_03276e10-4835-4c7b-9b89-fdd6b6bfb7c7",
      "type": "DirectionalLight",
      "up": [
       0,
       1,
       0
      ],
      "visible": true
     }
    },
    "7059184f39144c2ab6a0c58c9aa4b1f3": {
     "model_module": "jupyter-threejs",
     "model_module_version": "^2.4.1",
     "model_name": "OrbitControlsModel",
     "state": {
      "_model_module": "jupyter-threejs",
      "_model_module_version": "^2.4.1",
      "_model_name": "OrbitControlsModel",
      "_view_count": null,
      "_view_module": null,
      "_view_module_version": "",
      "_view_name": null,
      "autoRotate": false,
      "autoRotateSpeed": 2,
      "controlling": "IPY_MODEL_62ee2d1716ad458d88aa086080394a72",
      "dampingFactor": 0.25,
      "enableDamping": false,
      "enableKeys": true,
      "enablePan": true,
      "enableRotate": true,
      "enableZoom": true,
      "enabled": true,
      "keyPanSpeed": 7,
      "maxAzimuthAngle": "inf",
      "maxDistance": "inf",
      "maxPolarAngle": 3.141592653589793,
      "maxZoom": "inf",
      "minAzimuthAngle": "-inf",
      "minDistance": 0,
      "minPolarAngle": 0,
      "minZoom": 0,
      "panSpeed": 1,
      "rotateSpeed": 1,
      "screenSpacePanning": true,
      "target": [
       0.07712246477603912,
       0.12872916460037231,
       -0.055299580097198486
      ],
      "zoomSpeed": 1
     }
    },
    "70ac23c55bbf4094b9ef13e221917744": {
     "model_module": "@jupyter-widgets/controls",
     "model_module_version": "1.5.0",
     "model_name": "HBoxModel",
     "state": {
      "_dom_classes": [],
      "_model_module": "@jupyter-widgets/controls",
      "_model_module_version": "1.5.0",
      "_model_name": "HBoxModel",
      "_view_count": null,
      "_view_module": "@jupyter-widgets/controls",
      "_view_module_version": "1.5.0",
      "_view_name": "HBoxView",
      "box_style": "",
      "children": [
       "IPY_MODEL_ca6f61137b714a2ba200cb2614dc575a",
       "IPY_MODEL_aca956d15f12488ca6001c21de77ecc6"
      ],
      "layout": "IPY_MODEL_8abc2981ecf94169a475d0be2d498872"
     }
    },
    "71eef480e74c487ca48a9895203c4031": {
     "model_module": "jupyter-threejs",
     "model_module_version": "^2.4.1",
     "model_name": "AmbientLightModel",
     "state": {
      "_model_module": "jupyter-threejs",
      "_model_module_version": "^2.4.1",
      "_model_name": "AmbientLightModel",
      "_view_count": null,
      "_view_module": null,
      "_view_module_version": "",
      "_view_name": null,
      "castShadow": false,
      "children": [],
      "color": "#ffffff",
      "frustumCulled": true,
      "intensity": 0.5,
      "matrix": [
       1,
       0,
       0,
       0,
       0,
       1,
       0,
       0,
       0,
       0,
       1,
       0,
       0,
       0,
       0,
       1
      ],
      "matrixAutoUpdate": true,
      "matrixWorld": [
       1,
       0,
       0,
       0,
       0,
       1,
       0,
       0,
       0,
       0,
       1,
       0,
       0,
       0,
       0,
       1
      ],
      "matrixWorldNeedsUpdate": false,
      "modelViewMatrix": [
       1,
       0,
       0,
       0,
       0,
       1,
       0,
       0,
       0,
       0,
       1,
       0,
       0,
       0,
       0,
       1
      ],
      "name": "",
      "normalMatrix": [
       1,
       0,
       0,
       0,
       1,
       0,
       0,
       0,
       1
      ],
      "position": [
       0,
       0,
       0
      ],
      "quaternion": [
       0,
       0,
       0,
       1
      ],
      "receiveShadow": false,
      "renderOrder": 0,
      "rotation": [
       0,
       0,
       0,
       "XYZ"
      ],
      "scale": [
       1,
       1,
       1
      ],
      "type": "AmbientLight",
      "up": [
       0,
       1,
       0
      ],
      "visible": true
     }
    },
    "73208b8d8c394ed391c2e98197ab6a49": {
     "model_module": "@jupyter-widgets/controls",
     "model_module_version": "1.5.0",
     "model_name": "FloatProgressModel",
     "state": {
      "_dom_classes": [],
      "_model_module": "@jupyter-widgets/controls",
      "_model_module_version": "1.5.0",
      "_model_name": "FloatProgressModel",
      "_view_count": null,
      "_view_module": "@jupyter-widgets/controls",
      "_view_module_version": "1.5.0",
      "_view_name": "ProgressView",
      "bar_style": "success",
      "description": "",
      "description_tooltip": null,
      "layout": "IPY_MODEL_f054e817a7dc44b9afd3128de0c40dff",
      "max": 13,
      "min": 0,
      "orientation": "horizontal",
      "style": "IPY_MODEL_bb8291ef206841e4b938722b67a9a11c",
      "value": 13
     }
    },
    "7470e0b059f741fbbbbe54cb646166b4": {
     "model_module": "@jupyter-widgets/output",
     "model_module_version": "1.0.0",
     "model_name": "OutputModel",
     "state": {
      "_dom_classes": [],
      "_model_module": "@jupyter-widgets/output",
      "_model_module_version": "1.0.0",
      "_model_name": "OutputModel",
      "_view_count": null,
      "_view_module": "@jupyter-widgets/output",
      "_view_module_version": "1.0.0",
      "_view_name": "OutputView",
      "layout": "IPY_MODEL_651f7afe44084e0ab3afc4c9c9b77cd6",
      "msg_id": "",
      "outputs": [
       {
        "data": {
         "application/vnd.jupyter.widget-view+json": {
          "model_id": "b81f9f55233e4c05b4a91883b052bad2",
          "version_major": 2,
          "version_minor": 0
         },
         "text/plain": "Renderer(camera=PerspectiveCamera(children=(DirectionalLight(color='white', intensity=0.6, position=(0.1241606…"
        },
        "metadata": {
         "application/vnd.jupyter.widget-view+json": {
          "colab": {
           "custom_widget_manager": {
            "url": "https://ssl.gstatic.com/colaboratory-static/widgets/colab-cdn-widget-manager/2b70e893a8ba7c0f/manager.min.js"
           }
          }
         }
        },
        "output_type": "display_data"
       }
      ]
     }
    },
    "74d01dbe94fe4d8f96630664f3e963c0": {
     "model_module": "jupyter-threejs",
     "model_module_version": "^2.4.1",
     "model_name": "OrbitControlsModel",
     "state": {
      "_model_module": "jupyter-threejs",
      "_model_module_version": "^2.4.1",
      "_model_name": "OrbitControlsModel",
      "_view_count": null,
      "_view_module": null,
      "_view_module_version": "",
      "_view_name": null,
      "autoRotate": false,
      "autoRotateSpeed": 2,
      "controlling": "IPY_MODEL_b34ed34780ed4283b77a4917b2233594",
      "dampingFactor": 0.25,
      "enableDamping": false,
      "enableKeys": true,
      "enablePan": true,
      "enableRotate": true,
      "enableZoom": true,
      "enabled": true,
      "keyPanSpeed": 7,
      "maxAzimuthAngle": "inf",
      "maxDistance": "inf",
      "maxPolarAngle": 3.141592653589793,
      "maxZoom": "inf",
      "minAzimuthAngle": "-inf",
      "minDistance": 0,
      "minPolarAngle": 0,
      "minZoom": 0,
      "panSpeed": 1,
      "rotateSpeed": 1,
      "screenSpacePanning": true,
      "target": [
       0.12416067719459534,
       -0.02335602045059204,
       -0.05262535810470581
      ],
      "zoomSpeed": 1
     }
    },
    "795c054ab87042b49d9b697ce2050a7d": {
     "model_module": "@jupyter-widgets/base",
     "model_module_version": "1.2.0",
     "model_name": "LayoutModel",
     "state": {
      "_model_module": "@jupyter-widgets/base",
      "_model_module_version": "1.2.0",
      "_model_name": "LayoutModel",
      "_view_count": null,
      "_view_module": "@jupyter-widgets/base",
      "_view_module_version": "1.2.0",
      "_view_name": "LayoutView",
      "align_content": null,
      "align_items": null,
      "align_self": null,
      "border": null,
      "bottom": null,
      "display": null,
      "flex": null,
      "flex_flow": null,
      "grid_area": null,
      "grid_auto_columns": null,
      "grid_auto_flow": null,
      "grid_auto_rows": null,
      "grid_column": null,
      "grid_gap": null,
      "grid_row": null,
      "grid_template_areas": null,
      "grid_template_columns": null,
      "grid_template_rows": null,
      "height": null,
      "justify_content": null,
      "justify_items": null,
      "left": null,
      "margin": null,
      "max_height": null,
      "max_width": null,
      "min_height": null,
      "min_width": null,
      "object_fit": null,
      "object_position": null,
      "order": null,
      "overflow": null,
      "overflow_x": null,
      "overflow_y": null,
      "padding": null,
      "right": null,
      "top": null,
      "visibility": null,
      "width": null
     }
    },
    "7ae21d0eca554a6c9f4bfed74ddf089f": {
     "model_module": "@jupyter-widgets/controls",
     "model_module_version": "1.5.0",
     "model_name": "HTMLModel",
     "state": {
      "_dom_classes": [],
      "_model_module": "@jupyter-widgets/controls",
      "_model_module_version": "1.5.0",
      "_model_name": "HTMLModel",
      "_view_count": null,
      "_view_module": "@jupyter-widgets/controls",
      "_view_module_version": "1.5.0",
      "_view_name": "HTMLView",
      "description": "",
      "description_tooltip": null,
      "layout": "IPY_MODEL_9d06ae2e29054fb5b0d05d32e2a3214a",
      "placeholder": "​",
      "style": "IPY_MODEL_2be575f336644626bff95aac8d57f664",
      "value": "get_all_operators: 100%"
     }
    },
    "80a415e5280c4ebe92e9dcd86dacac5a": {
     "model_module": "jupyter-threejs",
     "model_module_version": "^2.4.1",
     "model_name": "BufferAttributeModel",
     "state": {
      "_model_module": "jupyter-threejs",
      "_model_module_version": "^2.4.1",
      "_model_name": "BufferAttributeModel",
      "_view_count": null,
      "_view_module": null,
      "_view_module_version": "",
      "_view_name": null,
      "array": {
       "dtype": "uint32",
       "shape": [
        91308
       ]
      },
      "dynamic": false,
      "needsUpdate": false,
      "normalized": false,
      "version": 1
     }
    },
    "82cf6152d59c4a6181ce5eda48d66d54": {
     "model_module": "@jupyter-widgets/output",
     "model_module_version": "1.0.0",
     "model_name": "OutputModel",
     "state": {
      "_dom_classes": [],
      "_model_module": "@jupyter-widgets/output",
      "_model_module_version": "1.0.0",
      "_model_name": "OutputModel",
      "_view_count": null,
      "_view_module": "@jupyter-widgets/output",
      "_view_module_version": "1.0.0",
      "_view_name": "OutputView",
      "layout": "IPY_MODEL_f3cd6001ab834099986631503d462b67",
      "msg_id": "",
      "outputs": []
     }
    },
    "8348e918718b4b828137a4c8b6603b80": {
     "model_module": "jupyter-threejs",
     "model_module_version": "^2.4.1",
     "model_name": "WebGLShadowMapModel",
     "state": {
      "_model_module": "jupyter-threejs",
      "_model_module_version": "^2.4.1",
      "_model_name": "WebGLShadowMapModel",
      "_view_count": null,
      "_view_module": null,
      "_view_module_version": "",
      "_view_name": null,
      "enabled": false,
      "type": "PCFShadowMap"
     }
    },
    "87c4788963c144508b4550eb625af376": {
     "model_module": "@jupyter-widgets/base",
     "model_module_version": "1.2.0",
     "model_name": "LayoutModel",
     "state": {
      "_model_module": "@jupyter-widgets/base",
      "_model_module_version": "1.2.0",
      "_model_name": "LayoutModel",
      "_view_count": null,
      "_view_module": "@jupyter-widgets/base",
      "_view_module_version": "1.2.0",
      "_view_name": "LayoutView",
      "align_content": null,
      "align_items": null,
      "align_self": null,
      "border": null,
      "bottom": null,
      "display": null,
      "flex": null,
      "flex_flow": null,
      "grid_area": null,
      "grid_auto_columns": null,
      "grid_auto_flow": null,
      "grid_auto_rows": null,
      "grid_column": null,
      "grid_gap": null,
      "grid_row": null,
      "grid_template_areas": null,
      "grid_template_columns": null,
      "grid_template_rows": null,
      "height": null,
      "justify_content": null,
      "justify_items": null,
      "left": null,
      "margin": null,
      "max_height": null,
      "max_width": null,
      "min_height": null,
      "min_width": null,
      "object_fit": null,
      "object_position": null,
      "order": null,
      "overflow": null,
      "overflow_x": null,
      "overflow_y": null,
      "padding": null,
      "right": null,
      "top": null,
      "visibility": null,
      "width": null
     }
    },
    "87e1e032257344a6888d5ffde2ed5955": {
     "model_module": "jupyter-threejs",
     "model_module_version": "^2.4.1",
     "model_name": "WebGLShadowMapModel",
     "state": {
      "_model_module": "jupyter-threejs",
      "_model_module_version": "^2.4.1",
      "_model_name": "WebGLShadowMapModel",
      "_view_count": null,
      "_view_module": null,
      "_view_module_version": "",
      "_view_name": null,
      "enabled": false,
      "type": "PCFShadowMap"
     }
    },
    "889f9480237945c08dff1560b92adcb6": {
     "model_module": "jupyter-threejs",
     "model_module_version": "^2.4.1",
     "model_name": "RendererModel",
     "state": {
      "_alpha": false,
      "_antialias": true,
      "_dom_classes": [],
      "_height": 400,
      "_model_module": "jupyter-threejs",
      "_model_module_version": "^2.4.1",
      "_model_name": "RendererModel",
      "_pause_autorender": false,
      "_view_count": null,
      "_view_module": "jupyter-threejs",
      "_view_module_version": "^2.4.1",
      "_view_name": "RendererView",
      "_webgl_version": 2,
      "_width": 400,
      "autoClear": true,
      "autoClearColor": true,
      "autoClearDepth": true,
      "autoClearStencil": true,
      "background": "black",
      "background_opacity": 1,
      "camera": "IPY_MODEL_1d9fe23f88b347af8cf1627670ab40bc",
      "clearColor": "#000000",
      "clearOpacity": 1,
      "clippingPlanes": [],
      "controls": [
       "IPY_MODEL_ec9adf5e460946c2acba0f7e31583387"
      ],
      "gammaFactor": 2,
      "gammaInput": false,
      "gammaOutput": false,
      "layout": "IPY_MODEL_8e7408e0b7f540c99857e1cb2c5ae0fa",
      "localClippingEnabled": false,
      "maxMorphNormals": 4,
      "maxMorphTargets": 8,
      "physicallyCorrectLights": false,
      "scene": "IPY_MODEL_4966cb24e8a4485c9357c875db269c5f",
      "shadowMap": "IPY_MODEL_87e1e032257344a6888d5ffde2ed5955",
      "sortObject": true,
      "toneMapping": "LinearToneMapping",
      "toneMappingExposure": 1,
      "toneMappingWhitePoint": 1
     }
    },
    "896affd2fac1443f9bd46f1aae83c13b": {
     "model_module": "jupyter-threejs",
     "model_module_version": "^2.4.1",
     "model_name": "DirectionalLightModel",
     "state": {
      "_model_module": "jupyter-threejs",
      "_model_module_version": "^2.4.1",
      "_model_name": "DirectionalLightModel",
      "_view_count": null,
      "_view_module": null,
      "_view_module_version": "",
      "_view_name": null,
      "castShadow": false,
      "children": [],
      "color": "white",
      "frustumCulled": true,
      "intensity": 0.6,
      "matrix": [
       1,
       0,
       0,
       0,
       0,
       1,
       0,
       0,
       0,
       0,
       1,
       0,
       0,
       0,
       0,
       1
      ],
      "matrixAutoUpdate": true,
      "matrixWorld": [
       1,
       0,
       0,
       0,
       0,
       1,
       0,
       0,
       0,
       0,
       1,
       0,
       0,
       0,
       0,
       1
      ],
      "matrixWorldNeedsUpdate": true,
      "modelViewMatrix": [
       1,
       0,
       0,
       0,
       0,
       1,
       0,
       0,
       0,
       0,
       1,
       0,
       0,
       0,
       0,
       1
      ],
      "name": "",
      "normalMatrix": [
       1,
       0,
       0,
       0,
       1,
       0,
       0,
       0,
       1
      ],
      "position": [
       0.12416067719459534,
       -0.02335602045059204,
       3.0797783037451874
      ],
      "quaternion": [
       0,
       0,
       0,
       1
      ],
      "receiveShadow": false,
      "renderOrder": 0,
      "rotation": [
       0,
       0,
       0,
       "XYZ"
      ],
      "scale": [
       1,
       1,
       1
      ],
      "shadow": "IPY_MODEL_1a439275-bd00-4e01-ae83-15b2aa4ee0b8",
      "target": "IPY_MODEL_0747fea5-e332-4753-9861-b2b3274f6b95",
      "type": "DirectionalLight",
      "up": [
       0,
       1,
       0
      ],
      "visible": true
     }
    },
    "8a650070d5ba4a61a887b177e7067162": {
     "model_module": "jupyter-threejs",
     "model_module_version": "^2.4.1",
     "model_name": "SceneModel",
     "state": {
      "_model_module": "jupyter-threejs",
      "_model_module_version": "^2.4.1",
      "_model_name": "SceneModel",
      "_view_count": null,
      "_view_module": null,
      "_view_module_version": "",
      "_view_name": null,
      "autoUpdate": true,
      "background": "#ffffff",
      "castShadow": false,
      "children": [
       "IPY_MODEL_b34ed34780ed4283b77a4917b2233594",
       "IPY_MODEL_357989c751ba41b79b242d6cb32a7c10",
       "IPY_MODEL_6a0f8d36ef804bddaec795a3e51658e1"
      ],
      "fog": null,
      "frustumCulled": true,
      "matrix": [
       1,
       0,
       0,
       0,
       0,
       1,
       0,
       0,
       0,
       0,
       1,
       0,
       0,
       0,
       0,
       1
      ],
      "matrixAutoUpdate": true,
      "matrixWorld": [
       1,
       0,
       0,
       0,
       0,
       1,
       0,
       0,
       0,
       0,
       1,
       0,
       0,
       0,
       0,
       1
      ],
      "matrixWorldNeedsUpdate": false,
      "modelViewMatrix": [
       1,
       0,
       0,
       0,
       0,
       1,
       0,
       0,
       0,
       0,
       1,
       0,
       0,
       0,
       0,
       1
      ],
      "name": "",
      "normalMatrix": [
       1,
       0,
       0,
       0,
       1,
       0,
       0,
       0,
       1
      ],
      "overrideMaterial": null,
      "position": [
       0,
       0,
       0
      ],
      "quaternion": [
       0,
       0,
       0,
       1
      ],
      "receiveShadow": false,
      "renderOrder": 0,
      "rotation": [
       0,
       0,
       0,
       "XYZ"
      ],
      "scale": [
       1,
       1,
       1
      ],
      "type": "Scene",
      "up": [
       0,
       1,
       0
      ],
      "visible": true
     }
    },
    "8abc2981ecf94169a475d0be2d498872": {
     "model_module": "@jupyter-widgets/base",
     "model_module_version": "1.2.0",
     "model_name": "LayoutModel",
     "state": {
      "_model_module": "@jupyter-widgets/base",
      "_model_module_version": "1.2.0",
      "_model_name": "LayoutModel",
      "_view_count": null,
      "_view_module": "@jupyter-widgets/base",
      "_view_module_version": "1.2.0",
      "_view_name": "LayoutView",
      "align_content": null,
      "align_items": null,
      "align_self": null,
      "border": null,
      "bottom": null,
      "display": null,
      "flex": null,
      "flex_flow": null,
      "grid_area": null,
      "grid_auto_columns": null,
      "grid_auto_flow": null,
      "grid_auto_rows": null,
      "grid_column": null,
      "grid_gap": null,
      "grid_row": null,
      "grid_template_areas": null,
      "grid_template_columns": null,
      "grid_template_rows": null,
      "height": null,
      "justify_content": null,
      "justify_items": null,
      "left": null,
      "margin": null,
      "max_height": null,
      "max_width": null,
      "min_height": null,
      "min_width": null,
      "object_fit": null,
      "object_position": null,
      "order": null,
      "overflow": null,
      "overflow_x": null,
      "overflow_y": null,
      "padding": null,
      "right": null,
      "top": null,
      "visibility": null,
      "width": null
     }
    },
    "8b65381aa8ac4fdb85a1fd39ea5714cd": {
     "model_module": "jupyter-threejs",
     "model_module_version": "^2.4.1",
     "model_name": "AmbientLightModel",
     "state": {
      "_model_module": "jupyter-threejs",
      "_model_module_version": "^2.4.1",
      "_model_name": "AmbientLightModel",
      "_view_count": null,
      "_view_module": null,
      "_view_module_version": "",
      "_view_name": null,
      "castShadow": false,
      "children": [],
      "color": "#ffffff",
      "frustumCulled": true,
      "intensity": 0.5,
      "matrix": [
       1,
       0,
       0,
       0,
       0,
       1,
       0,
       0,
       0,
       0,
       1,
       0,
       0,
       0,
       0,
       1
      ],
      "matrixAutoUpdate": true,
      "matrixWorld": [
       1,
       0,
       0,
       0,
       0,
       1,
       0,
       0,
       0,
       0,
       1,
       0,
       0,
       0,
       0,
       1
      ],
      "matrixWorldNeedsUpdate": false,
      "modelViewMatrix": [
       1,
       0,
       0,
       0,
       0,
       1,
       0,
       0,
       0,
       0,
       1,
       0,
       0,
       0,
       0,
       1
      ],
      "name": "",
      "normalMatrix": [
       1,
       0,
       0,
       0,
       1,
       0,
       0,
       0,
       1
      ],
      "position": [
       0,
       0,
       0
      ],
      "quaternion": [
       0,
       0,
       0,
       1
      ],
      "receiveShadow": false,
      "renderOrder": 0,
      "rotation": [
       0,
       0,
       0,
       "XYZ"
      ],
      "scale": [
       1,
       1,
       1
      ],
      "type": "AmbientLight",
      "up": [
       0,
       1,
       0
      ],
      "visible": true
     }
    },
    "8c440f7127984d6a97a078382cd9277f": {
     "model_module": "jupyter-threejs",
     "model_module_version": "^2.4.1",
     "model_name": "MeshStandardMaterialModel",
     "state": {
      "_model_module": "jupyter-threejs",
      "_model_module_version": "^2.4.1",
      "_model_name": "MeshStandardMaterialModel",
      "_view_count": null,
      "_view_module": null,
      "_view_module_version": "",
      "_view_name": null,
      "alphaMap": null,
      "alphaTest": 0,
      "aoMap": null,
      "aoMapIntensity": 1,
      "blendDst": "OneMinusSrcAlphaFactor",
      "blendDstAlpha": 0,
      "blendEquation": "AddEquation",
      "blendEquationAlpha": 0,
      "blendSrc": "SrcAlphaFactor",
      "blendSrcAlpha": 0,
      "blending": "NormalBlending",
      "bumpMap": null,
      "bumpScale": 1,
      "clipIntersection": false,
      "clipShadows": false,
      "clippingPlanes": [],
      "color": "#ffffff",
      "colorWrite": true,
      "defines": {
       "STANDARD": ""
      },
      "depthFunc": "LessEqualDepth",
      "depthTest": true,
      "depthWrite": true,
      "displacementBias": 0,
      "displacementMap": null,
      "displacementScale": 1,
      "dithering": false,
      "emissive": "#000000",
      "emissiveIntensity": 1,
      "emissiveMap": null,
      "envMap": null,
      "envMapIntensity": 1,
      "flatShading": true,
      "fog": true,
      "lightMap": null,
      "lightMapIntensity": 1,
      "lights": true,
      "map": null,
      "metalness": 0.25,
      "metalnessMap": null,
      "morphNormals": false,
      "morphTargets": false,
      "name": "",
      "normalMap": null,
      "normalScale": [
       1,
       1
      ],
      "opacity": 1,
      "overdraw": 0,
      "polygonOffset": true,
      "polygonOffsetFactor": 1,
      "polygonOffsetUnits": 5,
      "precision": null,
      "premultipliedAlpha": false,
      "refractionRatio": 0.98,
      "roughness": 0.5,
      "roughnessMap": null,
      "shadowSide": null,
      "side": "DoubleSide",
      "skinning": false,
      "transparent": false,
      "type": "MeshStandardMaterial",
      "vertexColors": "VertexColors",
      "visible": true,
      "wireframe": false,
      "wireframeLinecap": "round",
      "wireframeLinejoin": "round",
      "wireframeLinewidth": 1
     }
    },
    "8c70df8a4a294379b4c061eb97bf8621": {
     "model_module": "@jupyter-widgets/base",
     "model_module_version": "1.2.0",
     "model_name": "LayoutModel",
     "state": {
      "_model_module": "@jupyter-widgets/base",
      "_model_module_version": "1.2.0",
      "_model_name": "LayoutModel",
      "_view_count": null,
      "_view_module": "@jupyter-widgets/base",
      "_view_module_version": "1.2.0",
      "_view_name": "LayoutView",
      "align_content": null,
      "align_items": null,
      "align_self": null,
      "border": null,
      "bottom": null,
      "display": null,
      "flex": null,
      "flex_flow": null,
      "grid_area": null,
      "grid_auto_columns": null,
      "grid_auto_flow": null,
      "grid_auto_rows": null,
      "grid_column": null,
      "grid_gap": null,
      "grid_row": null,
      "grid_template_areas": null,
      "grid_template_columns": null,
      "grid_template_rows": null,
      "height": null,
      "justify_content": null,
      "justify_items": null,
      "left": null,
      "margin": null,
      "max_height": null,
      "max_width": null,
      "min_height": null,
      "min_width": null,
      "object_fit": null,
      "object_position": null,
      "order": null,
      "overflow": null,
      "overflow_x": null,
      "overflow_y": null,
      "padding": null,
      "right": null,
      "top": null,
      "visibility": null,
      "width": null
     }
    },
    "8dfc000b15e84d7885b042b17d5e6174": {
     "model_module": "jupyter-threejs",
     "model_module_version": "^2.4.1",
     "model_name": "RendererModel",
     "state": {
      "_alpha": false,
      "_antialias": true,
      "_dom_classes": [],
      "_height": 400,
      "_model_module": "jupyter-threejs",
      "_model_module_version": "^2.4.1",
      "_model_name": "RendererModel",
      "_pause_autorender": false,
      "_view_count": null,
      "_view_module": "jupyter-threejs",
      "_view_module_version": "^2.4.1",
      "_view_name": "RendererView",
      "_webgl_version": 2,
      "_width": 400,
      "autoClear": true,
      "autoClearColor": true,
      "autoClearDepth": true,
      "autoClearStencil": true,
      "background": "black",
      "background_opacity": 1,
      "camera": "IPY_MODEL_c03612919b854a36866fb389685e3bdb",
      "clearColor": "#000000",
      "clearOpacity": 1,
      "clippingPlanes": [],
      "controls": [
       "IPY_MODEL_bf4a36d9c3384c65a38a1b05cc0889bd"
      ],
      "gammaFactor": 2,
      "gammaInput": false,
      "gammaOutput": false,
      "layout": "IPY_MODEL_87c4788963c144508b4550eb625af376",
      "localClippingEnabled": false,
      "maxMorphNormals": 4,
      "maxMorphTargets": 8,
      "physicallyCorrectLights": false,
      "scene": "IPY_MODEL_12825f61ce8d4ee99356a0213474ded9",
      "shadowMap": "IPY_MODEL_f7dc3bde9b5a4524aa44bd513630eaa2",
      "sortObject": true,
      "toneMapping": "LinearToneMapping",
      "toneMappingExposure": 1,
      "toneMappingWhitePoint": 1
     }
    },
    "8e7408e0b7f540c99857e1cb2c5ae0fa": {
     "model_module": "@jupyter-widgets/base",
     "model_module_version": "1.2.0",
     "model_name": "LayoutModel",
     "state": {
      "_model_module": "@jupyter-widgets/base",
      "_model_module_version": "1.2.0",
      "_model_name": "LayoutModel",
      "_view_count": null,
      "_view_module": "@jupyter-widgets/base",
      "_view_module_version": "1.2.0",
      "_view_name": "LayoutView",
      "align_content": null,
      "align_items": null,
      "align_self": null,
      "border": null,
      "bottom": null,
      "display": null,
      "flex": null,
      "flex_flow": null,
      "grid_area": null,
      "grid_auto_columns": null,
      "grid_auto_flow": null,
      "grid_auto_rows": null,
      "grid_column": null,
      "grid_gap": null,
      "grid_row": null,
      "grid_template_areas": null,
      "grid_template_columns": null,
      "grid_template_rows": null,
      "height": null,
      "justify_content": null,
      "justify_items": null,
      "left": null,
      "margin": null,
      "max_height": null,
      "max_width": null,
      "min_height": null,
      "min_width": null,
      "object_fit": null,
      "object_position": null,
      "order": null,
      "overflow": null,
      "overflow_x": null,
      "overflow_y": null,
      "padding": null,
      "right": null,
      "top": null,
      "visibility": null,
      "width": null
     }
    },
    "903afdcb28da465f868a5fdae090227a": {
     "model_module": "jupyter-threejs",
     "model_module_version": "^2.4.1",
     "model_name": "MeshStandardMaterialModel",
     "state": {
      "_model_module": "jupyter-threejs",
      "_model_module_version": "^2.4.1",
      "_model_name": "MeshStandardMaterialModel",
      "_view_count": null,
      "_view_module": null,
      "_view_module_version": "",
      "_view_name": null,
      "alphaMap": null,
      "alphaTest": 0,
      "aoMap": null,
      "aoMapIntensity": 1,
      "blendDst": "OneMinusSrcAlphaFactor",
      "blendDstAlpha": 0,
      "blendEquation": "AddEquation",
      "blendEquationAlpha": 0,
      "blendSrc": "SrcAlphaFactor",
      "blendSrcAlpha": 0,
      "blending": "NormalBlending",
      "bumpMap": null,
      "bumpScale": 1,
      "clipIntersection": false,
      "clipShadows": false,
      "clippingPlanes": [],
      "color": "#ffffff",
      "colorWrite": true,
      "defines": {
       "STANDARD": ""
      },
      "depthFunc": "LessEqualDepth",
      "depthTest": true,
      "depthWrite": true,
      "displacementBias": 0,
      "displacementMap": null,
      "displacementScale": 1,
      "dithering": false,
      "emissive": "#000000",
      "emissiveIntensity": 1,
      "emissiveMap": null,
      "envMap": null,
      "envMapIntensity": 1,
      "flatShading": true,
      "fog": true,
      "lightMap": null,
      "lightMapIntensity": 1,
      "lights": true,
      "map": null,
      "metalness": 0.25,
      "metalnessMap": null,
      "morphNormals": false,
      "morphTargets": false,
      "name": "",
      "normalMap": null,
      "normalScale": [
       1,
       1
      ],
      "opacity": 1,
      "overdraw": 0,
      "polygonOffset": true,
      "polygonOffsetFactor": 1,
      "polygonOffsetUnits": 5,
      "precision": null,
      "premultipliedAlpha": false,
      "refractionRatio": 0.98,
      "roughness": 0.5,
      "roughnessMap": null,
      "shadowSide": null,
      "side": "DoubleSide",
      "skinning": false,
      "transparent": false,
      "type": "MeshStandardMaterial",
      "vertexColors": "VertexColors",
      "visible": true,
      "wireframe": false,
      "wireframeLinecap": "round",
      "wireframeLinejoin": "round",
      "wireframeLinewidth": 1
     }
    },
    "95e89a4fea454870bc010f47dfabb6dc": {
     "model_module": "jupyter-threejs",
     "model_module_version": "^2.4.1",
     "model_name": "BufferAttributeModel",
     "state": {
      "_model_module": "jupyter-threejs",
      "_model_module_version": "^2.4.1",
      "_model_name": "BufferAttributeModel",
      "_view_count": null,
      "_view_module": null,
      "_view_module_version": "",
      "_view_name": null,
      "array": {
       "dtype": "float32",
       "shape": [
        15130,
        3
       ]
      },
      "dynamic": false,
      "needsUpdate": false,
      "normalized": false,
      "version": 1
     }
    },
    "994ba97bc8a94210994deb67470ae49b": {
     "model_module": "@jupyter-widgets/controls",
     "model_module_version": "1.5.0",
     "model_name": "HBoxModel",
     "state": {
      "_dom_classes": [],
      "_model_module": "@jupyter-widgets/controls",
      "_model_module_version": "1.5.0",
      "_model_name": "HBoxModel",
      "_view_count": null,
      "_view_module": "@jupyter-widgets/controls",
      "_view_module_version": "1.5.0",
      "_view_name": "HBoxView",
      "box_style": "",
      "children": [
       "IPY_MODEL_9c49d8c195c24d16acee10f41c98c4e5",
       "IPY_MODEL_82cf6152d59c4a6181ce5eda48d66d54"
      ],
      "layout": "IPY_MODEL_1001c3aa73344a5fae9b567bc0eb36d9"
     }
    },
    "9c49d8c195c24d16acee10f41c98c4e5": {
     "model_module": "@jupyter-widgets/output",
     "model_module_version": "1.0.0",
     "model_name": "OutputModel",
     "state": {
      "_dom_classes": [],
      "_model_module": "@jupyter-widgets/output",
      "_model_module_version": "1.0.0",
      "_model_name": "OutputModel",
      "_view_count": null,
      "_view_module": "@jupyter-widgets/output",
      "_view_module_version": "1.0.0",
      "_view_name": "OutputView",
      "layout": "IPY_MODEL_0871899b23e74e7e807cdd75db67c1fe",
      "msg_id": "",
      "outputs": []
     }
    },
    "9d06ae2e29054fb5b0d05d32e2a3214a": {
     "model_module": "@jupyter-widgets/base",
     "model_module_version": "1.2.0",
     "model_name": "LayoutModel",
     "state": {
      "_model_module": "@jupyter-widgets/base",
      "_model_module_version": "1.2.0",
      "_model_name": "LayoutModel",
      "_view_count": null,
      "_view_module": "@jupyter-widgets/base",
      "_view_module_version": "1.2.0",
      "_view_name": "LayoutView",
      "align_content": null,
      "align_items": null,
      "align_self": null,
      "border": null,
      "bottom": null,
      "display": null,
      "flex": null,
      "flex_flow": null,
      "grid_area": null,
      "grid_auto_columns": null,
      "grid_auto_flow": null,
      "grid_auto_rows": null,
      "grid_column": null,
      "grid_gap": null,
      "grid_row": null,
      "grid_template_areas": null,
      "grid_template_columns": null,
      "grid_template_rows": null,
      "height": null,
      "justify_content": null,
      "justify_items": null,
      "left": null,
      "margin": null,
      "max_height": null,
      "max_width": null,
      "min_height": null,
      "min_width": null,
      "object_fit": null,
      "object_position": null,
      "order": null,
      "overflow": null,
      "overflow_x": null,
      "overflow_y": null,
      "padding": null,
      "right": null,
      "top": null,
      "visibility": null,
      "width": null
     }
    },
    "9d87790c554c4bf8b9d106f7732afa08": {
     "model_module": "jupyter-threejs",
     "model_module_version": "^2.4.1",
     "model_name": "BufferGeometryModel",
     "state": {
      "MaxIndex": 65535,
      "_model_module": "jupyter-threejs",
      "_model_module_version": "^2.4.1",
      "_model_name": "BufferGeometryModel",
      "_ref_geometry": null,
      "_store_ref": false,
      "_view_count": null,
      "_view_module": null,
      "_view_module_version": "",
      "_view_name": null,
      "attributes": {
       "color": "IPY_MODEL_09466a6dc3f64540afd85bf61eb7f12e",
       "index": "IPY_MODEL_5e82bd5e3bc44fcb82f7a223c529ddfc",
       "position": "IPY_MODEL_2e99c9d0b888462f873781fb476a81a1"
      },
      "index": null,
      "morphAttributes": {},
      "name": "",
      "type": "BufferGeometry",
      "userData": {}
     }
    },
    "9e3b8fa2baff4bb0a6e837526921df7d": {
     "model_module": "@jupyter-widgets/base",
     "model_module_version": "1.2.0",
     "model_name": "LayoutModel",
     "state": {
      "_model_module": "@jupyter-widgets/base",
      "_model_module_version": "1.2.0",
      "_model_name": "LayoutModel",
      "_view_count": null,
      "_view_module": "@jupyter-widgets/base",
      "_view_module_version": "1.2.0",
      "_view_name": "LayoutView",
      "align_content": null,
      "align_items": null,
      "align_self": null,
      "border": null,
      "bottom": null,
      "display": null,
      "flex": null,
      "flex_flow": null,
      "grid_area": null,
      "grid_auto_columns": null,
      "grid_auto_flow": null,
      "grid_auto_rows": null,
      "grid_column": null,
      "grid_gap": null,
      "grid_row": null,
      "grid_template_areas": null,
      "grid_template_columns": null,
      "grid_template_rows": null,
      "height": null,
      "justify_content": null,
      "justify_items": null,
      "left": null,
      "margin": null,
      "max_height": null,
      "max_width": null,
      "min_height": null,
      "min_width": null,
      "object_fit": null,
      "object_position": null,
      "order": null,
      "overflow": null,
      "overflow_x": null,
      "overflow_y": null,
      "padding": null,
      "right": null,
      "top": null,
      "visibility": null,
      "width": null
     }
    },
    "a93aa23323e941048b307c8610d1d443": {
     "model_module": "jupyter-threejs",
     "model_module_version": "^2.4.1",
     "model_name": "AmbientLightModel",
     "state": {
      "_model_module": "jupyter-threejs",
      "_model_module_version": "^2.4.1",
      "_model_name": "AmbientLightModel",
      "_view_count": null,
      "_view_module": null,
      "_view_module_version": "",
      "_view_name": null,
      "castShadow": false,
      "children": [],
      "color": "#ffffff",
      "frustumCulled": true,
      "intensity": 0.5,
      "matrix": [
       1,
       0,
       0,
       0,
       0,
       1,
       0,
       0,
       0,
       0,
       1,
       0,
       0,
       0,
       0,
       1
      ],
      "matrixAutoUpdate": true,
      "matrixWorld": [
       1,
       0,
       0,
       0,
       0,
       1,
       0,
       0,
       0,
       0,
       1,
       0,
       0,
       0,
       0,
       1
      ],
      "matrixWorldNeedsUpdate": false,
      "modelViewMatrix": [
       1,
       0,
       0,
       0,
       0,
       1,
       0,
       0,
       0,
       0,
       1,
       0,
       0,
       0,
       0,
       1
      ],
      "name": "",
      "normalMatrix": [
       1,
       0,
       0,
       0,
       1,
       0,
       0,
       0,
       1
      ],
      "position": [
       0,
       0,
       0
      ],
      "quaternion": [
       0,
       0,
       0,
       1
      ],
      "receiveShadow": false,
      "renderOrder": 0,
      "rotation": [
       0,
       0,
       0,
       "XYZ"
      ],
      "scale": [
       1,
       1,
       1
      ],
      "type": "AmbientLight",
      "up": [
       0,
       1,
       0
      ],
      "visible": true
     }
    },
    "a9e01940fc3546169a491e13376731e3": {
     "model_module": "jupyter-threejs",
     "model_module_version": "^2.4.1",
     "model_name": "MeshStandardMaterialModel",
     "state": {
      "_model_module": "jupyter-threejs",
      "_model_module_version": "^2.4.1",
      "_model_name": "MeshStandardMaterialModel",
      "_view_count": null,
      "_view_module": null,
      "_view_module_version": "",
      "_view_name": null,
      "alphaMap": null,
      "alphaTest": 0,
      "aoMap": null,
      "aoMapIntensity": 1,
      "blendDst": "OneMinusSrcAlphaFactor",
      "blendDstAlpha": 0,
      "blendEquation": "AddEquation",
      "blendEquationAlpha": 0,
      "blendSrc": "SrcAlphaFactor",
      "blendSrcAlpha": 0,
      "blending": "NormalBlending",
      "bumpMap": null,
      "bumpScale": 1,
      "clipIntersection": false,
      "clipShadows": false,
      "clippingPlanes": [],
      "color": "#ffffff",
      "colorWrite": true,
      "defines": {
       "STANDARD": ""
      },
      "depthFunc": "LessEqualDepth",
      "depthTest": true,
      "depthWrite": true,
      "displacementBias": 0,
      "displacementMap": null,
      "displacementScale": 1,
      "dithering": false,
      "emissive": "#000000",
      "emissiveIntensity": 1,
      "emissiveMap": null,
      "envMap": null,
      "envMapIntensity": 1,
      "flatShading": true,
      "fog": true,
      "lightMap": null,
      "lightMapIntensity": 1,
      "lights": true,
      "map": null,
      "metalness": 0.25,
      "metalnessMap": null,
      "morphNormals": false,
      "morphTargets": false,
      "name": "",
      "normalMap": null,
      "normalScale": [
       1,
       1
      ],
      "opacity": 1,
      "overdraw": 0,
      "polygonOffset": true,
      "polygonOffsetFactor": 1,
      "polygonOffsetUnits": 5,
      "precision": null,
      "premultipliedAlpha": false,
      "refractionRatio": 0.98,
      "roughness": 0.5,
      "roughnessMap": null,
      "shadowSide": null,
      "side": "DoubleSide",
      "skinning": false,
      "transparent": false,
      "type": "MeshStandardMaterial",
      "vertexColors": "VertexColors",
      "visible": true,
      "wireframe": false,
      "wireframeLinecap": "round",
      "wireframeLinejoin": "round",
      "wireframeLinewidth": 1
     }
    },
    "aabf98b9c57140f096b7577f0d6fac45": {
     "model_module": "jupyter-threejs",
     "model_module_version": "^2.4.1",
     "model_name": "BufferAttributeModel",
     "state": {
      "_model_module": "jupyter-threejs",
      "_model_module_version": "^2.4.1",
      "_model_name": "BufferAttributeModel",
      "_view_count": null,
      "_view_module": null,
      "_view_module_version": "",
      "_view_name": null,
      "array": {
       "dtype": "float32",
       "shape": [
        15130,
        3
       ]
      },
      "dynamic": false,
      "needsUpdate": false,
      "normalized": true,
      "version": 1
     }
    },
    "ac234ac67b1548b8986ceaf2315725e9": {
     "model_module": "jupyter-threejs",
     "model_module_version": "^2.4.1",
     "model_name": "RendererModel",
     "state": {
      "_alpha": false,
      "_antialias": true,
      "_dom_classes": [],
      "_height": 600,
      "_model_module": "jupyter-threejs",
      "_model_module_version": "^2.4.1",
      "_model_name": "RendererModel",
      "_pause_autorender": false,
      "_view_count": null,
      "_view_module": "jupyter-threejs",
      "_view_module_version": "^2.4.1",
      "_view_name": "RendererView",
      "_webgl_version": 2,
      "_width": 600,
      "autoClear": true,
      "autoClearColor": true,
      "autoClearDepth": true,
      "autoClearStencil": true,
      "background": "black",
      "background_opacity": 1,
      "camera": "IPY_MODEL_652b3e8f8e6f47019a52b30c42ab63e1",
      "clearColor": "#000000",
      "clearOpacity": 1,
      "clippingPlanes": [],
      "controls": [
       "IPY_MODEL_15995348f26c4f4586c8fd491bdffe4e"
      ],
      "gammaFactor": 2,
      "gammaInput": false,
      "gammaOutput": false,
      "layout": "IPY_MODEL_327fdbd00c154baa90b8804a03668847",
      "localClippingEnabled": false,
      "maxMorphNormals": 4,
      "maxMorphTargets": 8,
      "physicallyCorrectLights": false,
      "scene": "IPY_MODEL_b0ac259e6c494759a317b91758a72e1b",
      "shadowMap": "IPY_MODEL_8348e918718b4b828137a4c8b6603b80",
      "sortObject": true,
      "toneMapping": "LinearToneMapping",
      "toneMappingExposure": 1,
      "toneMappingWhitePoint": 1
     }
    },
    "aca956d15f12488ca6001c21de77ecc6": {
     "model_module": "@jupyter-widgets/output",
     "model_module_version": "1.0.0",
     "model_name": "OutputModel",
     "state": {
      "_dom_classes": [],
      "_model_module": "@jupyter-widgets/output",
      "_model_module_version": "1.0.0",
      "_model_name": "OutputModel",
      "_view_count": null,
      "_view_module": "@jupyter-widgets/output",
      "_view_module_version": "1.0.0",
      "_view_name": "OutputView",
      "layout": "IPY_MODEL_33babd6b4b2046c4a7660bd169d5585c",
      "msg_id": "",
      "outputs": [
       {
        "data": {
         "application/vnd.jupyter.widget-view+json": {
          "model_id": "8dfc000b15e84d7885b042b17d5e6174",
          "version_major": 2,
          "version_minor": 0
         },
         "text/plain": "Renderer(camera=PerspectiveCamera(children=(DirectionalLight(color='white', intensity=0.6, position=(0.0771224…"
        },
        "metadata": {
         "application/vnd.jupyter.widget-view+json": {
          "colab": {
           "custom_widget_manager": {
            "url": "https://ssl.gstatic.com/colaboratory-static/widgets/colab-cdn-widget-manager/2b70e893a8ba7c0f/manager.min.js"
           }
          }
         }
        },
        "output_type": "display_data"
       }
      ]
     }
    },
    "ad03e92fc08c41f6a85844be5bfa9f59": {
     "model_module": "jupyter-threejs",
     "model_module_version": "^2.4.1",
     "model_name": "BufferAttributeModel",
     "state": {
      "_model_module": "jupyter-threejs",
      "_model_module_version": "^2.4.1",
      "_model_name": "BufferAttributeModel",
      "_view_count": null,
      "_view_module": null,
      "_view_module_version": "",
      "_view_name": null,
      "array": {
       "dtype": "uint32",
       "shape": [
        90756
       ]
      },
      "dynamic": false,
      "needsUpdate": false,
      "normalized": false,
      "version": 1
     }
    },
    "ae4bb403979b402985d4548d226627d6": {
     "model_module": "@jupyter-widgets/base",
     "model_module_version": "1.2.0",
     "model_name": "LayoutModel",
     "state": {
      "_model_module": "@jupyter-widgets/base",
      "_model_module_version": "1.2.0",
      "_model_name": "LayoutModel",
      "_view_count": null,
      "_view_module": "@jupyter-widgets/base",
      "_view_module_version": "1.2.0",
      "_view_name": "LayoutView",
      "align_content": null,
      "align_items": null,
      "align_self": null,
      "border": null,
      "bottom": null,
      "display": null,
      "flex": null,
      "flex_flow": null,
      "grid_area": null,
      "grid_auto_columns": null,
      "grid_auto_flow": null,
      "grid_auto_rows": null,
      "grid_column": null,
      "grid_gap": null,
      "grid_row": null,
      "grid_template_areas": null,
      "grid_template_columns": null,
      "grid_template_rows": null,
      "height": null,
      "justify_content": null,
      "justify_items": null,
      "left": null,
      "margin": null,
      "max_height": null,
      "max_width": null,
      "min_height": null,
      "min_width": null,
      "object_fit": null,
      "object_position": null,
      "order": null,
      "overflow": null,
      "overflow_x": null,
      "overflow_y": null,
      "padding": null,
      "right": null,
      "top": null,
      "visibility": null,
      "width": null
     }
    },
    "b0ac259e6c494759a317b91758a72e1b": {
     "model_module": "jupyter-threejs",
     "model_module_version": "^2.4.1",
     "model_name": "SceneModel",
     "state": {
      "_model_module": "jupyter-threejs",
      "_model_module_version": "^2.4.1",
      "_model_name": "SceneModel",
      "_view_count": null,
      "_view_module": null,
      "_view_module_version": "",
      "_view_name": null,
      "autoUpdate": true,
      "background": "#ffffff",
      "castShadow": false,
      "children": [
       "IPY_MODEL_652b3e8f8e6f47019a52b30c42ab63e1",
       "IPY_MODEL_a93aa23323e941048b307c8610d1d443",
       "IPY_MODEL_465d0899466e48c1adec148b67727e72"
      ],
      "fog": null,
      "frustumCulled": true,
      "matrix": [
       1,
       0,
       0,
       0,
       0,
       1,
       0,
       0,
       0,
       0,
       1,
       0,
       0,
       0,
       0,
       1
      ],
      "matrixAutoUpdate": true,
      "matrixWorld": [
       1,
       0,
       0,
       0,
       0,
       1,
       0,
       0,
       0,
       0,
       1,
       0,
       0,
       0,
       0,
       1
      ],
      "matrixWorldNeedsUpdate": false,
      "modelViewMatrix": [
       1,
       0,
       0,
       0,
       0,
       1,
       0,
       0,
       0,
       0,
       1,
       0,
       0,
       0,
       0,
       1
      ],
      "name": "",
      "normalMatrix": [
       1,
       0,
       0,
       0,
       1,
       0,
       0,
       0,
       1
      ],
      "overrideMaterial": null,
      "position": [
       0,
       0,
       0
      ],
      "quaternion": [
       0,
       0,
       0,
       1
      ],
      "receiveShadow": false,
      "renderOrder": 0,
      "rotation": [
       0,
       0,
       0,
       "XYZ"
      ],
      "scale": [
       1,
       1,
       1
      ],
      "type": "Scene",
      "up": [
       0,
       1,
       0
      ],
      "visible": true
     }
    },
    "b34ed34780ed4283b77a4917b2233594": {
     "model_module": "jupyter-threejs",
     "model_module_version": "^2.4.1",
     "model_name": "PerspectiveCameraModel",
     "state": {
      "_model_module": "jupyter-threejs",
      "_model_module_version": "^2.4.1",
      "_model_name": "PerspectiveCameraModel",
      "_view_count": null,
      "_view_module": null,
      "_view_module_version": "",
      "_view_name": null,
      "aspect": 1,
      "castShadow": false,
      "children": [
       "IPY_MODEL_ba9540a63e43446cae4bed6c81dc19ec"
      ],
      "far": 2000,
      "focus": 10,
      "fov": 30,
      "frustumCulled": true,
      "matrix": [
       1,
       0,
       0,
       0,
       0,
       1,
       0,
       0,
       0,
       0,
       1,
       0,
       0.12416067719459534,
       -0.02335602045059204,
       3.0797783037451874,
       1
      ],
      "matrixAutoUpdate": true,
      "matrixWorld": [
       1,
       0,
       0,
       0,
       0,
       1,
       0,
       0,
       0,
       0,
       1,
       0,
       0,
       0,
       0,
       1
      ],
      "matrixWorldInverse": [
       1,
       0,
       0,
       0,
       0,
       1,
       0,
       0,
       0,
       0,
       1,
       0,
       0,
       0,
       0,
       1
      ],
      "matrixWorldNeedsUpdate": false,
      "modelViewMatrix": [
       1,
       0,
       0,
       0,
       0,
       1,
       0,
       0,
       0,
       0,
       1,
       0,
       0,
       0,
       0,
       1
      ],
      "name": "",
      "near": 0.1,
      "normalMatrix": [
       1,
       0,
       0,
       0,
       1,
       0,
       0,
       0,
       1
      ],
      "position": [
       -2.7250673709286146,
       -1.130578985157452,
       -0.7366644922076965
      ],
      "projectionMatrix": [
       3.7320508075688776,
       0,
       0,
       0,
       0,
       3.7320508075688776,
       0,
       0,
       0,
       0,
       -1.00010000500025,
       -1,
       0,
       0,
       -0.200010000500025,
       0
      ],
      "quaternion": [
       0.11122657785937569,
       -0.7725388182518284,
       0.14109024139788992,
       0.6090204975647747
      ],
      "receiveShadow": false,
      "renderOrder": 0,
      "rotation": [
       0,
       0,
       0,
       "XYZ"
      ],
      "scale": [
       1,
       1,
       1
      ],
      "type": "PerspectiveCamera",
      "up": [
       0,
       1,
       0
      ],
      "visible": true,
      "zoom": 1
     }
    },
    "b4ba83b9d7e048bf9d742924fa865899": {
     "model_module": "@jupyter-widgets/output",
     "model_module_version": "1.0.0",
     "model_name": "OutputModel",
     "state": {
      "_dom_classes": [],
      "_model_module": "@jupyter-widgets/output",
      "_model_module_version": "1.0.0",
      "_model_name": "OutputModel",
      "_view_count": null,
      "_view_module": "@jupyter-widgets/output",
      "_view_module_version": "1.0.0",
      "_view_name": "OutputView",
      "layout": "IPY_MODEL_f3ac6a8af6ef4e42880b665fae58ccc4",
      "msg_id": "",
      "outputs": [
       {
        "data": {
         "application/vnd.jupyter.widget-view+json": {
          "model_id": "0f90d7600c954d0a9754184d92cf9524",
          "version_major": 2,
          "version_minor": 0
         },
         "text/plain": "Renderer(camera=PerspectiveCamera(children=(DirectionalLight(color='white', intensity=0.6, position=(0.0771224…"
        },
        "metadata": {
         "application/vnd.jupyter.widget-view+json": {
          "colab": {
           "custom_widget_manager": {
            "url": "https://ssl.gstatic.com/colaboratory-static/widgets/colab-cdn-widget-manager/2b70e893a8ba7c0f/manager.min.js"
           }
          }
         }
        },
        "output_type": "display_data"
       }
      ]
     }
    },
    "b81f9f55233e4c05b4a91883b052bad2": {
     "model_module": "jupyter-threejs",
     "model_module_version": "^2.4.1",
     "model_name": "RendererModel",
     "state": {
      "_alpha": false,
      "_antialias": true,
      "_dom_classes": [],
      "_height": 400,
      "_model_module": "jupyter-threejs",
      "_model_module_version": "^2.4.1",
      "_model_name": "RendererModel",
      "_pause_autorender": false,
      "_view_count": null,
      "_view_module": "jupyter-threejs",
      "_view_module_version": "^2.4.1",
      "_view_name": "RendererView",
      "_webgl_version": 2,
      "_width": 400,
      "autoClear": true,
      "autoClearColor": true,
      "autoClearDepth": true,
      "autoClearStencil": true,
      "background": "black",
      "background_opacity": 1,
      "camera": "IPY_MODEL_b34ed34780ed4283b77a4917b2233594",
      "clearColor": "#000000",
      "clearOpacity": 1,
      "clippingPlanes": [],
      "controls": [
       "IPY_MODEL_74d01dbe94fe4d8f96630664f3e963c0"
      ],
      "gammaFactor": 2,
      "gammaInput": false,
      "gammaOutput": false,
      "layout": "IPY_MODEL_ae4bb403979b402985d4548d226627d6",
      "localClippingEnabled": false,
      "maxMorphNormals": 4,
      "maxMorphTargets": 8,
      "physicallyCorrectLights": false,
      "scene": "IPY_MODEL_8a650070d5ba4a61a887b177e7067162",
      "shadowMap": "IPY_MODEL_f8d0cfe2feef442a97e884a68a457122",
      "sortObject": true,
      "toneMapping": "LinearToneMapping",
      "toneMappingExposure": 1,
      "toneMappingWhitePoint": 1
     }
    },
    "ba9540a63e43446cae4bed6c81dc19ec": {
     "model_module": "jupyter-threejs",
     "model_module_version": "^2.4.1",
     "model_name": "DirectionalLightModel",
     "state": {
      "_model_module": "jupyter-threejs",
      "_model_module_version": "^2.4.1",
      "_model_name": "DirectionalLightModel",
      "_view_count": null,
      "_view_module": null,
      "_view_module_version": "",
      "_view_name": null,
      "castShadow": false,
      "children": [],
      "color": "white",
      "frustumCulled": true,
      "intensity": 0.6,
      "matrix": [
       1,
       0,
       0,
       0,
       0,
       1,
       0,
       0,
       0,
       0,
       1,
       0,
       0,
       0,
       0,
       1
      ],
      "matrixAutoUpdate": true,
      "matrixWorld": [
       1,
       0,
       0,
       0,
       0,
       1,
       0,
       0,
       0,
       0,
       1,
       0,
       0,
       0,
       0,
       1
      ],
      "matrixWorldNeedsUpdate": true,
      "modelViewMatrix": [
       1,
       0,
       0,
       0,
       0,
       1,
       0,
       0,
       0,
       0,
       1,
       0,
       0,
       0,
       0,
       1
      ],
      "name": "",
      "normalMatrix": [
       1,
       0,
       0,
       0,
       1,
       0,
       0,
       0,
       1
      ],
      "position": [
       0.12416067719459534,
       -0.02335602045059204,
       3.0797783037451874
      ],
      "quaternion": [
       0,
       0,
       0,
       1
      ],
      "receiveShadow": false,
      "renderOrder": 0,
      "rotation": [
       0,
       0,
       0,
       "XYZ"
      ],
      "scale": [
       1,
       1,
       1
      ],
      "shadow": "IPY_MODEL_ae6dc499-faf1-4a0a-a91b-f14927209807",
      "target": "IPY_MODEL_6f9738f1-f7c8-4239-9917-3208980117e5",
      "type": "DirectionalLight",
      "up": [
       0,
       1,
       0
      ],
      "visible": true
     }
    },
    "bb3db2e05a824869910c4e464d51802b": {
     "model_module": "@jupyter-widgets/controls",
     "model_module_version": "1.5.0",
     "model_name": "DescriptionStyleModel",
     "state": {
      "_model_module": "@jupyter-widgets/controls",
      "_model_module_version": "1.5.0",
      "_model_name": "DescriptionStyleModel",
      "_view_count": null,
      "_view_module": "@jupyter-widgets/base",
      "_view_module_version": "1.2.0",
      "_view_name": "StyleView",
      "description_width": ""
     }
    },
    "bb8291ef206841e4b938722b67a9a11c": {
     "model_module": "@jupyter-widgets/controls",
     "model_module_version": "1.5.0",
     "model_name": "ProgressStyleModel",
     "state": {
      "_model_module": "@jupyter-widgets/controls",
      "_model_module_version": "1.5.0",
      "_model_name": "ProgressStyleModel",
      "_view_count": null,
      "_view_module": "@jupyter-widgets/base",
      "_view_module_version": "1.2.0",
      "_view_name": "StyleView",
      "bar_color": null,
      "description_width": ""
     }
    },
    "bf4a36d9c3384c65a38a1b05cc0889bd": {
     "model_module": "jupyter-threejs",
     "model_module_version": "^2.4.1",
     "model_name": "OrbitControlsModel",
     "state": {
      "_model_module": "jupyter-threejs",
      "_model_module_version": "^2.4.1",
      "_model_name": "OrbitControlsModel",
      "_view_count": null,
      "_view_module": null,
      "_view_module_version": "",
      "_view_name": null,
      "autoRotate": false,
      "autoRotateSpeed": 2,
      "controlling": "IPY_MODEL_c03612919b854a36866fb389685e3bdb",
      "dampingFactor": 0.25,
      "enableDamping": false,
      "enableKeys": true,
      "enablePan": true,
      "enableRotate": true,
      "enableZoom": true,
      "enabled": true,
      "keyPanSpeed": 7,
      "maxAzimuthAngle": "inf",
      "maxDistance": "inf",
      "maxPolarAngle": 3.141592653589793,
      "maxZoom": "inf",
      "minAzimuthAngle": "-inf",
      "minDistance": 0,
      "minPolarAngle": 0,
      "minZoom": 0,
      "panSpeed": 1,
      "rotateSpeed": 1,
      "screenSpacePanning": true,
      "target": [
       0.07712246477603912,
       0.12872916460037231,
       -0.055299580097198486
      ],
      "zoomSpeed": 1
     }
    },
    "c03612919b854a36866fb389685e3bdb": {
     "model_module": "jupyter-threejs",
     "model_module_version": "^2.4.1",
     "model_name": "PerspectiveCameraModel",
     "state": {
      "_model_module": "jupyter-threejs",
      "_model_module_version": "^2.4.1",
      "_model_name": "PerspectiveCameraModel",
      "_view_count": null,
      "_view_module": null,
      "_view_module_version": "",
      "_view_name": null,
      "aspect": 1,
      "castShadow": false,
      "children": [],
      "far": 2000,
      "focus": 10,
      "fov": 30,
      "frustumCulled": true,
      "matrix": [
       1,
       0,
       0,
       0,
       0,
       1,
       0,
       0,
       0,
       0,
       1,
       0,
       0.07712246477603912,
       0.12872916460037231,
       3.084972069931209,
       1
      ],
      "matrixAutoUpdate": true,
      "matrixWorld": [
       0.9973402250374782,
       0,
       0.07288673076899677,
       0,
       -0.008802429663269124,
       0.9926806843990192,
       0.12044739952825076,
       0,
       -0.07235324978337476,
       -0.1207686168716644,
       0.9900403771688757,
       0,
       0,
       0,
       1,
       1
      ],
      "matrixWorldInverse": [
       0.9973402250374783,
       -0.008802429663269124,
       -0.07235324978337476,
       0,
       0,
       0.992680684399019,
       -0.12076861687166439,
       0,
       0.07288673076899677,
       0.12044739952825076,
       0.9900403771688757,
       0,
       -0.30177086506613054,
       -0.4986849535864616,
       -3.033120407552459,
       1
      ],
      "matrixWorldNeedsUpdate": false,
      "modelViewMatrix": [
       1,
       0,
       0,
       0,
       0,
       1,
       0,
       0,
       0,
       0,
       1,
       0,
       0,
       0,
       0,
       1
      ],
      "name": "",
      "near": 0.1,
      "normalMatrix": [
       1,
       0,
       0,
       0,
       1,
       0,
       0,
       0,
       1
      ],
      "position": [
       0.07712246477603912,
       0.12872916460037231,
       3.084972069931209
      ],
      "projectionMatrix": [
       3.7320508075688776,
       0,
       0,
       0,
       0,
       3.7320508075688776,
       0,
       0,
       0,
       0,
       -1.00010000500025,
       -1,
       0,
       0,
       -0.200010000500025,
       0
      ],
      "quaternion": [
       0.06045486636653691,
       -0.0364008316960794,
       0.002206112665883336,
       0.9975045471832914
      ],
      "receiveShadow": false,
      "renderOrder": 0,
      "rotation": [
       0.12138383428900068,
       -0.07241652708536457,
       0.008825675424716429,
       "XYZ"
      ],
      "scale": [
       1,
       1,
       1
      ],
      "type": "PerspectiveCamera",
      "up": [
       0,
       1,
       0
      ],
      "visible": true,
      "zoom": 1
     }
    },
    "ca6f61137b714a2ba200cb2614dc575a": {
     "model_module": "@jupyter-widgets/output",
     "model_module_version": "1.0.0",
     "model_name": "OutputModel",
     "state": {
      "_dom_classes": [],
      "_model_module": "@jupyter-widgets/output",
      "_model_module_version": "1.0.0",
      "_model_name": "OutputModel",
      "_view_count": null,
      "_view_module": "@jupyter-widgets/output",
      "_view_module_version": "1.0.0",
      "_view_name": "OutputView",
      "layout": "IPY_MODEL_6743522e2e5b424e82af54bbfd6b1cb1",
      "msg_id": "",
      "outputs": [
       {
        "data": {
         "application/vnd.jupyter.widget-view+json": {
          "model_id": "889f9480237945c08dff1560b92adcb6",
          "version_major": 2,
          "version_minor": 0
         },
         "text/plain": "Renderer(camera=PerspectiveCamera(children=(DirectionalLight(color='white', intensity=0.6, position=(0.1241606…"
        },
        "metadata": {
         "application/vnd.jupyter.widget-view+json": {
          "colab": {
           "custom_widget_manager": {
            "url": "https://ssl.gstatic.com/colaboratory-static/widgets/colab-cdn-widget-manager/2b70e893a8ba7c0f/manager.min.js"
           }
          }
         }
        },
        "output_type": "display_data"
       }
      ]
     }
    },
    "d5eb9a84ee07493ea734baa4764a4cb3": {
     "model_module": "jupyter-threejs",
     "model_module_version": "^2.4.1",
     "model_name": "MeshStandardMaterialModel",
     "state": {
      "_model_module": "jupyter-threejs",
      "_model_module_version": "^2.4.1",
      "_model_name": "MeshStandardMaterialModel",
      "_view_count": null,
      "_view_module": null,
      "_view_module_version": "",
      "_view_name": null,
      "alphaMap": null,
      "alphaTest": 0,
      "aoMap": null,
      "aoMapIntensity": 1,
      "blendDst": "OneMinusSrcAlphaFactor",
      "blendDstAlpha": 0,
      "blendEquation": "AddEquation",
      "blendEquationAlpha": 0,
      "blendSrc": "SrcAlphaFactor",
      "blendSrcAlpha": 0,
      "blending": "NormalBlending",
      "bumpMap": null,
      "bumpScale": 1,
      "clipIntersection": false,
      "clipShadows": false,
      "clippingPlanes": [],
      "color": "#ffffff",
      "colorWrite": true,
      "defines": {
       "STANDARD": ""
      },
      "depthFunc": "LessEqualDepth",
      "depthTest": true,
      "depthWrite": true,
      "displacementBias": 0,
      "displacementMap": null,
      "displacementScale": 1,
      "dithering": false,
      "emissive": "#000000",
      "emissiveIntensity": 1,
      "emissiveMap": null,
      "envMap": null,
      "envMapIntensity": 1,
      "flatShading": true,
      "fog": true,
      "lightMap": null,
      "lightMapIntensity": 1,
      "lights": true,
      "map": null,
      "metalness": 0.25,
      "metalnessMap": null,
      "morphNormals": false,
      "morphTargets": false,
      "name": "",
      "normalMap": null,
      "normalScale": [
       1,
       1
      ],
      "opacity": 1,
      "overdraw": 0,
      "polygonOffset": true,
      "polygonOffsetFactor": 1,
      "polygonOffsetUnits": 5,
      "precision": null,
      "premultipliedAlpha": false,
      "refractionRatio": 0.98,
      "roughness": 0.5,
      "roughnessMap": null,
      "shadowSide": null,
      "side": "DoubleSide",
      "skinning": false,
      "transparent": false,
      "type": "MeshStandardMaterial",
      "vertexColors": "VertexColors",
      "visible": true,
      "wireframe": false,
      "wireframeLinecap": "round",
      "wireframeLinejoin": "round",
      "wireframeLinewidth": 1
     }
    },
    "d91ea5f4a9a747ff87fcdf1cad8bee82": {
     "model_module": "@jupyter-widgets/output",
     "model_module_version": "1.0.0",
     "model_name": "OutputModel",
     "state": {
      "_dom_classes": [],
      "_model_module": "@jupyter-widgets/output",
      "_model_module_version": "1.0.0",
      "_model_name": "OutputModel",
      "_view_count": null,
      "_view_module": "@jupyter-widgets/output",
      "_view_module_version": "1.0.0",
      "_view_name": "OutputView",
      "layout": "IPY_MODEL_795c054ab87042b49d9b697ce2050a7d",
      "msg_id": "",
      "outputs": []
     }
    },
    "db51a9dd8d39434ea8e05befdaaf0dcb": {
     "model_module": "jupyter-threejs",
     "model_module_version": "^2.4.1",
     "model_name": "MeshStandardMaterialModel",
     "state": {
      "_model_module": "jupyter-threejs",
      "_model_module_version": "^2.4.1",
      "_model_name": "MeshStandardMaterialModel",
      "_view_count": null,
      "_view_module": null,
      "_view_module_version": "",
      "_view_name": null,
      "alphaMap": null,
      "alphaTest": 0,
      "aoMap": null,
      "aoMapIntensity": 1,
      "blendDst": "OneMinusSrcAlphaFactor",
      "blendDstAlpha": 0,
      "blendEquation": "AddEquation",
      "blendEquationAlpha": 0,
      "blendSrc": "SrcAlphaFactor",
      "blendSrcAlpha": 0,
      "blending": "NormalBlending",
      "bumpMap": null,
      "bumpScale": 1,
      "clipIntersection": false,
      "clipShadows": false,
      "clippingPlanes": [],
      "color": "#ffffff",
      "colorWrite": true,
      "defines": {
       "STANDARD": ""
      },
      "depthFunc": "LessEqualDepth",
      "depthTest": true,
      "depthWrite": true,
      "displacementBias": 0,
      "displacementMap": null,
      "displacementScale": 1,
      "dithering": false,
      "emissive": "#000000",
      "emissiveIntensity": 1,
      "emissiveMap": null,
      "envMap": null,
      "envMapIntensity": 1,
      "flatShading": true,
      "fog": true,
      "lightMap": null,
      "lightMapIntensity": 1,
      "lights": true,
      "map": null,
      "metalness": 0.25,
      "metalnessMap": null,
      "morphNormals": false,
      "morphTargets": false,
      "name": "",
      "normalMap": null,
      "normalScale": [
       1,
       1
      ],
      "opacity": 1,
      "overdraw": 0,
      "polygonOffset": true,
      "polygonOffsetFactor": 1,
      "polygonOffsetUnits": 5,
      "precision": null,
      "premultipliedAlpha": false,
      "refractionRatio": 0.98,
      "roughness": 0.5,
      "roughnessMap": null,
      "shadowSide": null,
      "side": "DoubleSide",
      "skinning": false,
      "transparent": false,
      "type": "MeshStandardMaterial",
      "vertexColors": "VertexColors",
      "visible": true,
      "wireframe": false,
      "wireframeLinecap": "round",
      "wireframeLinejoin": "round",
      "wireframeLinewidth": 1
     }
    },
    "e3f87182bcb94ffbbf9571316452c0a0": {
     "model_module": "@jupyter-widgets/controls",
     "model_module_version": "1.5.0",
     "model_name": "HTMLModel",
     "state": {
      "_dom_classes": [],
      "_model_module": "@jupyter-widgets/controls",
      "_model_module_version": "1.5.0",
      "_model_name": "HTMLModel",
      "_view_count": null,
      "_view_module": "@jupyter-widgets/controls",
      "_view_module_version": "1.5.0",
      "_view_name": "HTMLView",
      "description": "",
      "description_tooltip": null,
      "layout": "IPY_MODEL_1e6672b2d99f497ea3cbc90a7428e1d2",
      "placeholder": "​",
      "style": "IPY_MODEL_49c1ad928a234339a7d8d6ea7c087226",
      "value": " 13/13 [00:00&lt;00:00, 14.94it/s]"
     }
    },
    "ec9adf5e460946c2acba0f7e31583387": {
     "model_module": "jupyter-threejs",
     "model_module_version": "^2.4.1",
     "model_name": "OrbitControlsModel",
     "state": {
      "_model_module": "jupyter-threejs",
      "_model_module_version": "^2.4.1",
      "_model_name": "OrbitControlsModel",
      "_view_count": null,
      "_view_module": null,
      "_view_module_version": "",
      "_view_name": null,
      "autoRotate": false,
      "autoRotateSpeed": 2,
      "controlling": "IPY_MODEL_1d9fe23f88b347af8cf1627670ab40bc",
      "dampingFactor": 0.25,
      "enableDamping": false,
      "enableKeys": true,
      "enablePan": true,
      "enableRotate": true,
      "enableZoom": true,
      "enabled": true,
      "keyPanSpeed": 7,
      "maxAzimuthAngle": "inf",
      "maxDistance": "inf",
      "maxPolarAngle": 3.141592653589793,
      "maxZoom": "inf",
      "minAzimuthAngle": "-inf",
      "minDistance": 0,
      "minPolarAngle": 0,
      "minZoom": 0,
      "panSpeed": 1,
      "rotateSpeed": 1,
      "screenSpacePanning": true,
      "target": [
       0.12416067719459534,
       -0.02335602045059204,
       -0.05262535810470581
      ],
      "zoomSpeed": 1
     }
    },
    "ee4552694d804af881a49902fd372406": {
     "model_module": "@jupyter-widgets/controls",
     "model_module_version": "1.5.0",
     "model_name": "HTMLModel",
     "state": {
      "_dom_classes": [],
      "_model_module": "@jupyter-widgets/controls",
      "_model_module_version": "1.5.0",
      "_model_name": "HTMLModel",
      "_view_count": null,
      "_view_module": "@jupyter-widgets/controls",
      "_view_module_version": "1.5.0",
      "_view_name": "HTMLView",
      "description": "",
      "description_tooltip": null,
      "layout": "IPY_MODEL_5b2e2d09ac6942c99ffdaaa6fe269618",
      "placeholder": "​",
      "style": "IPY_MODEL_4beab17d13924abf8364a99489b97c63",
      "value": "get_all_operators: 100%"
     }
    },
    "ef85b3109a7148a0b12ffc53fe584dca": {
     "model_module": "jupyter-threejs",
     "model_module_version": "^2.4.1",
     "model_name": "DirectionalLightModel",
     "state": {
      "_model_module": "jupyter-threejs",
      "_model_module_version": "^2.4.1",
      "_model_name": "DirectionalLightModel",
      "_view_count": null,
      "_view_module": null,
      "_view_module_version": "",
      "_view_name": null,
      "castShadow": false,
      "children": [],
      "color": "white",
      "frustumCulled": true,
      "intensity": 0.6,
      "matrix": [
       1,
       0,
       0,
       0,
       0,
       1,
       0,
       0,
       0,
       0,
       1,
       0,
       0,
       0,
       0,
       1
      ],
      "matrixAutoUpdate": true,
      "matrixWorld": [
       1,
       0,
       0,
       0,
       0,
       1,
       0,
       0,
       0,
       0,
       1,
       0,
       0,
       0,
       0,
       1
      ],
      "matrixWorldNeedsUpdate": true,
      "modelViewMatrix": [
       1,
       0,
       0,
       0,
       0,
       1,
       0,
       0,
       0,
       0,
       1,
       0,
       0,
       0,
       0,
       1
      ],
      "name": "",
      "normalMatrix": [
       1,
       0,
       0,
       0,
       1,
       0,
       0,
       0,
       1
      ],
      "position": [
       0.07712246477603912,
       0.12872916460037231,
       3.084972069931209
      ],
      "quaternion": [
       0,
       0,
       0,
       1
      ],
      "receiveShadow": false,
      "renderOrder": 0,
      "rotation": [
       0,
       0,
       0,
       "XYZ"
      ],
      "scale": [
       1,
       1,
       1
      ],
      "shadow": "IPY_MODEL_e3f99487-4ec0-4678-af3f-a997384f29a0",
      "target": "IPY_MODEL_bf43fe8c-a708-4102-9dfe-d5e5955a06cf",
      "type": "DirectionalLight",
      "up": [
       0,
       1,
       0
      ],
      "visible": true
     }
    },
    "f054e817a7dc44b9afd3128de0c40dff": {
     "model_module": "@jupyter-widgets/base",
     "model_module_version": "1.2.0",
     "model_name": "LayoutModel",
     "state": {
      "_model_module": "@jupyter-widgets/base",
      "_model_module_version": "1.2.0",
      "_model_name": "LayoutModel",
      "_view_count": null,
      "_view_module": "@jupyter-widgets/base",
      "_view_module_version": "1.2.0",
      "_view_name": "LayoutView",
      "align_content": null,
      "align_items": null,
      "align_self": null,
      "border": null,
      "bottom": null,
      "display": null,
      "flex": null,
      "flex_flow": null,
      "grid_area": null,
      "grid_auto_columns": null,
      "grid_auto_flow": null,
      "grid_auto_rows": null,
      "grid_column": null,
      "grid_gap": null,
      "grid_row": null,
      "grid_template_areas": null,
      "grid_template_columns": null,
      "grid_template_rows": null,
      "height": null,
      "justify_content": null,
      "justify_items": null,
      "left": null,
      "margin": null,
      "max_height": null,
      "max_width": null,
      "min_height": null,
      "min_width": null,
      "object_fit": null,
      "object_position": null,
      "order": null,
      "overflow": null,
      "overflow_x": null,
      "overflow_y": null,
      "padding": null,
      "right": null,
      "top": null,
      "visibility": null,
      "width": null
     }
    },
    "f3ac6a8af6ef4e42880b665fae58ccc4": {
     "model_module": "@jupyter-widgets/base",
     "model_module_version": "1.2.0",
     "model_name": "LayoutModel",
     "state": {
      "_model_module": "@jupyter-widgets/base",
      "_model_module_version": "1.2.0",
      "_model_name": "LayoutModel",
      "_view_count": null,
      "_view_module": "@jupyter-widgets/base",
      "_view_module_version": "1.2.0",
      "_view_name": "LayoutView",
      "align_content": null,
      "align_items": null,
      "align_self": null,
      "border": null,
      "bottom": null,
      "display": null,
      "flex": null,
      "flex_flow": null,
      "grid_area": null,
      "grid_auto_columns": null,
      "grid_auto_flow": null,
      "grid_auto_rows": null,
      "grid_column": null,
      "grid_gap": null,
      "grid_row": null,
      "grid_template_areas": null,
      "grid_template_columns": null,
      "grid_template_rows": null,
      "height": null,
      "justify_content": null,
      "justify_items": null,
      "left": null,
      "margin": null,
      "max_height": null,
      "max_width": null,
      "min_height": null,
      "min_width": null,
      "object_fit": null,
      "object_position": null,
      "order": null,
      "overflow": null,
      "overflow_x": null,
      "overflow_y": null,
      "padding": null,
      "right": null,
      "top": null,
      "visibility": null,
      "width": null
     }
    },
    "f3cd6001ab834099986631503d462b67": {
     "model_module": "@jupyter-widgets/base",
     "model_module_version": "1.2.0",
     "model_name": "LayoutModel",
     "state": {
      "_model_module": "@jupyter-widgets/base",
      "_model_module_version": "1.2.0",
      "_model_name": "LayoutModel",
      "_view_count": null,
      "_view_module": "@jupyter-widgets/base",
      "_view_module_version": "1.2.0",
      "_view_name": "LayoutView",
      "align_content": null,
      "align_items": null,
      "align_self": null,
      "border": null,
      "bottom": null,
      "display": null,
      "flex": null,
      "flex_flow": null,
      "grid_area": null,
      "grid_auto_columns": null,
      "grid_auto_flow": null,
      "grid_auto_rows": null,
      "grid_column": null,
      "grid_gap": null,
      "grid_row": null,
      "grid_template_areas": null,
      "grid_template_columns": null,
      "grid_template_rows": null,
      "height": null,
      "justify_content": null,
      "justify_items": null,
      "left": null,
      "margin": null,
      "max_height": null,
      "max_width": null,
      "min_height": null,
      "min_width": null,
      "object_fit": null,
      "object_position": null,
      "order": null,
      "overflow": null,
      "overflow_x": null,
      "overflow_y": null,
      "padding": null,
      "right": null,
      "top": null,
      "visibility": null,
      "width": null
     }
    },
    "f60110809bf94d629b58773aa5f5d10f": {
     "model_module": "@jupyter-widgets/controls",
     "model_module_version": "1.5.0",
     "model_name": "ProgressStyleModel",
     "state": {
      "_model_module": "@jupyter-widgets/controls",
      "_model_module_version": "1.5.0",
      "_model_name": "ProgressStyleModel",
      "_view_count": null,
      "_view_module": "@jupyter-widgets/base",
      "_view_module_version": "1.2.0",
      "_view_name": "StyleView",
      "bar_color": null,
      "description_width": ""
     }
    },
    "f6c3a8226b414c66a0516c5fbbf5b4e4": {
     "model_module": "@jupyter-widgets/base",
     "model_module_version": "1.2.0",
     "model_name": "LayoutModel",
     "state": {
      "_model_module": "@jupyter-widgets/base",
      "_model_module_version": "1.2.0",
      "_model_name": "LayoutModel",
      "_view_count": null,
      "_view_module": "@jupyter-widgets/base",
      "_view_module_version": "1.2.0",
      "_view_name": "LayoutView",
      "align_content": null,
      "align_items": null,
      "align_self": null,
      "border": null,
      "bottom": null,
      "display": null,
      "flex": null,
      "flex_flow": null,
      "grid_area": null,
      "grid_auto_columns": null,
      "grid_auto_flow": null,
      "grid_auto_rows": null,
      "grid_column": null,
      "grid_gap": null,
      "grid_row": null,
      "grid_template_areas": null,
      "grid_template_columns": null,
      "grid_template_rows": null,
      "height": null,
      "justify_content": null,
      "justify_items": null,
      "left": null,
      "margin": null,
      "max_height": null,
      "max_width": null,
      "min_height": null,
      "min_width": null,
      "object_fit": null,
      "object_position": null,
      "order": null,
      "overflow": null,
      "overflow_x": null,
      "overflow_y": null,
      "padding": null,
      "right": null,
      "top": null,
      "visibility": null,
      "width": null
     }
    },
    "f7dc3bde9b5a4524aa44bd513630eaa2": {
     "model_module": "jupyter-threejs",
     "model_module_version": "^2.4.1",
     "model_name": "WebGLShadowMapModel",
     "state": {
      "_model_module": "jupyter-threejs",
      "_model_module_version": "^2.4.1",
      "_model_name": "WebGLShadowMapModel",
      "_view_count": null,
      "_view_module": null,
      "_view_module_version": "",
      "_view_name": null,
      "enabled": false,
      "type": "PCFShadowMap"
     }
    },
    "f8d0cfe2feef442a97e884a68a457122": {
     "model_module": "jupyter-threejs",
     "model_module_version": "^2.4.1",
     "model_name": "WebGLShadowMapModel",
     "state": {
      "_model_module": "jupyter-threejs",
      "_model_module_version": "^2.4.1",
      "_model_name": "WebGLShadowMapModel",
      "_view_count": null,
      "_view_module": null,
      "_view_module_version": "",
      "_view_name": null,
      "enabled": false,
      "type": "PCFShadowMap"
     }
    },
    "f8e32c2b5ec14ba5addfb4e1b3f5fe94": {
     "model_module": "@jupyter-widgets/controls",
     "model_module_version": "1.5.0",
     "model_name": "HBoxModel",
     "state": {
      "_dom_classes": [],
      "_model_module": "@jupyter-widgets/controls",
      "_model_module_version": "1.5.0",
      "_model_name": "HBoxModel",
      "_view_count": null,
      "_view_module": "@jupyter-widgets/controls",
      "_view_module_version": "1.5.0",
      "_view_name": "HBoxView",
      "box_style": "",
      "children": [
       "IPY_MODEL_d91ea5f4a9a747ff87fcdf1cad8bee82",
       "IPY_MODEL_66955b4acdc84aeb9c1569bea2965680"
      ],
      "layout": "IPY_MODEL_290f41c1b018445690f5c3908cd291ef"
     }
    },
    "fcd0c27405264122a4399c27a9a2e0d9": {
     "model_module": "jupyter-threejs",
     "model_module_version": "^2.4.1",
     "model_name": "MeshModel",
     "state": {
      "_model_module": "jupyter-threejs",
      "_model_module_version": "^2.4.1",
      "_model_name": "MeshModel",
      "_view_count": null,
      "_view_module": null,
      "_view_module_version": "",
      "_view_name": null,
      "castShadow": false,
      "children": [],
      "drawMode": "TrianglesDrawMode",
      "frustumCulled": true,
      "geometry": "IPY_MODEL_255d32994899477d82abee415bafce4c",
      "material": "IPY_MODEL_903afdcb28da465f868a5fdae090227a",
      "matrix": [
       1,
       0,
       0,
       0,
       0,
       1,
       0,
       0,
       0,
       0,
       1,
       0,
       0,
       0,
       0,
       1
      ],
      "matrixAutoUpdate": true,
      "matrixWorld": [
       1,
       0,
       0,
       0,
       0,
       1,
       0,
       0,
       0,
       0,
       1,
       0,
       0,
       0,
       0,
       1
      ],
      "matrixWorldNeedsUpdate": false,
      "modelViewMatrix": [
       1,
       0,
       0,
       0,
       0,
       1,
       0,
       0,
       0,
       0,
       1,
       0,
       0,
       0,
       0,
       1
      ],
      "morphTargetInfluences": [],
      "name": "",
      "normalMatrix": [
       1,
       0,
       0,
       0,
       1,
       0,
       0,
       0,
       1
      ],
      "position": [
       0,
       0,
       0
      ],
      "quaternion": [
       0,
       0,
       0,
       1
      ],
      "receiveShadow": false,
      "renderOrder": 0,
      "rotation": [
       0,
       0,
       0,
       "XYZ"
      ],
      "scale": [
       1,
       1,
       1
      ],
      "type": "Mesh",
      "up": [
       0,
       1,
       0
      ],
      "visible": true
     }
    },
    "fd531e2513054c54a41189ff3aa38df7": {
     "model_module": "jupyter-threejs",
     "model_module_version": "^2.4.1",
     "model_name": "WebGLShadowMapModel",
     "state": {
      "_model_module": "jupyter-threejs",
      "_model_module_version": "^2.4.1",
      "_model_name": "WebGLShadowMapModel",
      "_view_count": null,
      "_view_module": null,
      "_view_module_version": "",
      "_view_name": null,
      "enabled": false,
      "type": "PCFShadowMap"
     }
    },
    "ff5aca6cf7ec4f7dba2f8ef78ebfb00e": {
     "model_module": "@jupyter-widgets/base",
     "model_module_version": "1.2.0",
     "model_name": "LayoutModel",
     "state": {
      "_model_module": "@jupyter-widgets/base",
      "_model_module_version": "1.2.0",
      "_model_name": "LayoutModel",
      "_view_count": null,
      "_view_module": "@jupyter-widgets/base",
      "_view_module_version": "1.2.0",
      "_view_name": "LayoutView",
      "align_content": null,
      "align_items": null,
      "align_self": null,
      "border": null,
      "bottom": null,
      "display": null,
      "flex": null,
      "flex_flow": null,
      "grid_area": null,
      "grid_auto_columns": null,
      "grid_auto_flow": null,
      "grid_auto_rows": null,
      "grid_column": null,
      "grid_gap": null,
      "grid_row": null,
      "grid_template_areas": null,
      "grid_template_columns": null,
      "grid_template_rows": null,
      "height": null,
      "justify_content": null,
      "justify_items": null,
      "left": null,
      "margin": null,
      "max_height": null,
      "max_width": null,
      "min_height": null,
      "min_width": null,
      "object_fit": null,
      "object_position": null,
      "order": null,
      "overflow": null,
      "overflow_x": null,
      "overflow_y": null,
      "padding": null,
      "right": null,
      "top": null,
      "visibility": null,
      "width": null
     }
    }
   }
  }
 },
 "nbformat": 4,
 "nbformat_minor": 5
}
