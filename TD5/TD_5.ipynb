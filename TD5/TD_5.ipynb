{
 "cells": [
  {
   "cell_type": "markdown",
   "id": "36095417-3681-4329-9c25-b71583a3e3f6",
   "metadata": {
    "id": "36095417-3681-4329-9c25-b71583a3e3f6"
   },
   "source": [
    "# Implicit representation for mesh reconstruction with Point Clouds"
   ]
  },
  {
   "cell_type": "markdown",
   "id": "a5d63547-7405-43ad-8997-b28f05ece806",
   "metadata": {
    "id": "a5d63547-7405-43ad-8997-b28f05ece806"
   },
   "source": [
    "In this lab work we will reconstruct shapes from point sets with and without their normal information.\n",
    "Each network/method will output the distance or signed distance and one can extract the surface with Marching\n",
    "cubes, following these steps :\n",
    "- Use the trained network to compute the values of the signed distance on a grid\n",
    "- Extract the 0 levelset (marching_cubes method of the mcubes library)\n",
    "- Save/visualize the mesh (export_obj method of the mcubes library)"
   ]
  },
  {
   "cell_type": "code",
   "execution_count": 1,
   "id": "JVRLjO_fVErO",
   "metadata": {
    "colab": {
     "base_uri": "https://localhost:8080/"
    },
    "id": "JVRLjO_fVErO",
    "outputId": "0b3fe686-8d46-42cf-f455-6045587bcf09"
   },
   "outputs": [
    {
     "name": "stdout",
     "output_type": "stream",
     "text": [
      "\u001b[2mUsing Python 3.10.14 environment at /home/louis/dev/python/.venv\u001b[0m\n",
      "\u001b[2mAudited \u001b[1m1 package\u001b[0m \u001b[2min 2ms\u001b[0m\u001b[0m\n",
      "\u001b[2mUsing Python 3.10.14 environment at /home/louis/dev/python/.venv\u001b[0m\n",
      "\u001b[2K\u001b[2mResolved \u001b[1m1 package\u001b[0m \u001b[2min 578ms\u001b[0m\u001b[0m                                          \u001b[0m\n",
      "\u001b[2mAudited \u001b[1m1 package\u001b[0m \u001b[2min 0.06ms\u001b[0m\u001b[0m\n",
      "\u001b[2mUsing Python 3.10.14 environment at /home/louis/dev/python/.venv\u001b[0m\n",
      "\u001b[2mAudited \u001b[1m1 package\u001b[0m \u001b[2min 2ms\u001b[0m\u001b[0m\n",
      "\u001b[2mUsing Python 3.10.14 environment at /home/louis/dev/python/.venv\u001b[0m\n",
      "\u001b[2mAudited \u001b[1m1 package\u001b[0m \u001b[2min 2ms\u001b[0m\u001b[0m\n"
     ]
    }
   ],
   "source": [
    "!uv pip install potpourri3d\n",
    "!uv pip install git+https://github.com/skoch9/meshplot.git\n",
    "!uv pip install pythreejs\n",
    "!uv pip install pymcubes"
   ]
  },
  {
   "cell_type": "code",
   "execution_count": 2,
   "id": "MLP07KHSWRb4",
   "metadata": {
    "colab": {
     "base_uri": "https://localhost:8080/"
    },
    "id": "MLP07KHSWRb4",
    "outputId": "94f19940-0cee-495a-e4a4-717469d3a23b"
   },
   "outputs": [
    {
     "name": "stdout",
     "output_type": "stream",
     "text": [
      "--2024-11-06 23:22:52--  https://www.lix.polytechnique.fr/~pierson/cours/tp_sdf_material.zip\n",
      "Loaded CA certificate '/etc/ssl/certs/ca-certificates.crt'\n",
      "Resolving www.lix.polytechnique.fr (www.lix.polytechnique.fr)... 193.55.176.29\n",
      "Connecting to www.lix.polytechnique.fr (www.lix.polytechnique.fr)|193.55.176.29|:443... connected.\n",
      "HTTP request sent, awaiting response... 200 OK\n",
      "Length: 11946957 (11M) [application/zip]\n",
      "Saving to: ‘tp_sdf_material.zip.1’\n",
      "\n",
      "tp_sdf_material.zip 100%[===================>]  11.39M  25.9MB/s    in 0.4s    \n",
      "\n",
      "2024-11-06 23:22:52 (25.9 MB/s) - ‘tp_sdf_material.zip.1’ saved [11946957/11946957]\n",
      "\n"
     ]
    }
   ],
   "source": [
    "!wget https://www.lix.polytechnique.fr/~pierson/cours/tp_sdf_material.zip"
   ]
  },
  {
   "cell_type": "code",
   "execution_count": 3,
   "id": "KWAxPUK2VLj0",
   "metadata": {
    "colab": {
     "base_uri": "https://localhost:8080/"
    },
    "id": "KWAxPUK2VLj0",
    "outputId": "602d9c89-77dd-43c3-c4cd-238fabd8e771"
   },
   "outputs": [
    {
     "name": "stdout",
     "output_type": "stream",
     "text": [
      "Archive:  tp_sdf_material.zip\n",
      "  inflating: img/TD5_sdf.png         \n",
      "  inflating: mesh_utils/.DS_Store    \n",
      "  inflating: mesh_utils/__init__.py  \n",
      "  inflating: mesh_utils/mesh.py      \n",
      "  inflating: mesh_utils/geometry.py  \n",
      "  inflating: mesh_utils/laplacian.py  \n",
      "  inflating: mesh_utils/file_utils.py  \n",
      "  inflating: plot_utils/.DS_Store    \n",
      "  inflating: plot_utils/__init__.py  \n",
      "  inflating: plot_utils/utils.py     \n",
      "  inflating: plot_utils/plot.py      \n",
      "  inflating: plot_utils/.ipynb_checkpoints/__init__-checkpoint.py  \n",
      "  inflating: plot_utils/.ipynb_checkpoints/plot-checkpoint.py  \n",
      "  inflating: armadillo_sub.xyz       \n",
      "armadillo_sub.xyz  mesh_utils  result_hoppe.obj  tp_sdf_material.zip\n",
      "img\t\t   plot_utils  TD_5.ipynb\t tp_sdf_material.zip.1\n"
     ]
    }
   ],
   "source": [
    "!unzip -o tp_sdf_material.zip\n",
    "!ls"
   ]
  },
  {
   "cell_type": "code",
   "execution_count": 1,
   "id": "e0c895ab-6aac-49b9-bf78-026b2c1b4740",
   "metadata": {
    "id": "e0c895ab-6aac-49b9-bf78-026b2c1b4740"
   },
   "outputs": [],
   "source": [
    "# from google.colab import output\n",
    "# output.enable_custom_widget_manager()\n",
    "%matplotlib widget\n",
    "import numpy as np\n",
    "import mcubes\n",
    "import plot_utils as plu\n",
    "from mesh_utils.mesh import TriMesh\n",
    "import torch\n",
    "import torch.nn as nn\n",
    "import torch.nn.functional as F\n",
    "from tqdm.auto import tqdm\n",
    "import matplotlib.pyplot as plt"
   ]
  },
  {
   "cell_type": "markdown",
   "id": "adb369d0",
   "metadata": {
    "id": "adb369d0"
   },
   "source": [
    "# Traditional reconstruction approach\n",
    "This method is a \"historical\" method (<a href=\"https://dl.acm.org/doi/abs/10.1145/133994.134011\">link</a>) for reconstructing a surface from a set of points. It consists in taking an oriented point cloud $(x_i , n_i )$, and estimating for any arbitrary point $x$ in the ambient space a signed distance function as : $u(x) = ± min_i ∥x_i − x∥$\n",
    "\n",
    "The sign is given by the sign of the scalar product $\\langle x - x_i, n_i \\rangle$.\n",
    "\n",
    "The original method starts with unoriented point clouds and devises a clever way to estimate the normal direction and their orientation. Here, for simplicity, we start with oriented points."
   ]
  },
  {
   "cell_type": "code",
   "execution_count": 2,
   "id": "545ae05c-32fb-4d95-9053-28472362e908",
   "metadata": {
    "id": "545ae05c-32fb-4d95-9053-28472362e908"
   },
   "outputs": [],
   "source": [
    "def get_pc(path):\n",
    "    data = np.loadtxt(path)\n",
    "    point_cloud = data[:,:3]\n",
    "    normals = data[:,3:]\n",
    "    ## Load the oriented point set. You can use the function np.loadtxt\n",
    "    return point_cloud, normals"
   ]
  },
  {
   "cell_type": "code",
   "execution_count": 3,
   "id": "96a97e2b-5b8b-4b42-b1cb-69d46aa13a46",
   "metadata": {
    "id": "96a97e2b-5b8b-4b42-b1cb-69d46aa13a46"
   },
   "outputs": [],
   "source": [
    "pc, normals = get_pc(\"armadillo_sub.xyz\")"
   ]
  },
  {
   "cell_type": "code",
   "execution_count": 4,
   "id": "c69237d8-6698-4181-8ca8-bd59348dbd93",
   "metadata": {
    "colab": {
     "base_uri": "https://localhost:8080/",
     "height": 978,
     "referenced_widgets": [
      "a0d23a848b0149c7a86c7241181fee9b",
      "21cd72c937be45ffa1aa1ecd66565055",
      "85b7741de559492ea0b0ee731b808ee8",
      "e18fcaef8e8f439f829be72913b09838",
      "a40304a01ddc452e89133e17c21c09ab",
      "ba57353533c047878b8d58e10d940aa3",
      "fb0e1201299146d0907726ba0a1671b8",
      "bc4b6d21503f492c9f8d785886144744",
      "7c6c112f72ad4c05b603165b08978430",
      "049c3d700d6e44a58fa1fb5198eb475b",
      "1c81f0a67a3c42ada4b4f7ba51004c20",
      "bf4c052432734190aaafdf37332d6075",
      "32fcb6d5aae14d708c9257951e5b6b57"
     ]
    },
    "id": "c69237d8-6698-4181-8ca8-bd59348dbd93",
    "outputId": "2f4d5da9-2211-4ac7-bf53-172e5d3efa3a"
   },
   "outputs": [
    {
     "data": {
      "application/vnd.jupyter.widget-view+json": {
       "model_id": "5dbf02b3767d4bbb9b7a6be02638405d",
       "version_major": 2,
       "version_minor": 0
      },
      "text/plain": [
       "Renderer(camera=PerspectiveCamera(children=(DirectionalLight(color='white', intensity=0.6, position=(0.0216503…"
      ]
     },
     "metadata": {},
     "output_type": "display_data"
    },
    {
     "data": {
      "text/plain": [
       "<meshplot.Viewer.Viewer at 0x757714f76920>"
      ]
     },
     "execution_count": 4,
     "metadata": {},
     "output_type": "execute_result"
    }
   ],
   "source": [
    "plu.plot_pc(pc, point_size=2) #You can put cmap = normals to see normals orientation as color"
   ]
  },
  {
   "cell_type": "markdown",
   "id": "1d672be2-d96c-4a6f-a3f6-ea4d8d0ddfba",
   "metadata": {
    "id": "1d672be2-d96c-4a6f-a3f6-ea4d8d0ddfba"
   },
   "source": [
    "The second step is to compute the sdf based on the set of points. You will first need to build a grid of points (using e.g. np.meshgrid), and then to compute the sdf to the set of points. Don't forget to adapt the limits of the grid to the size of the point cloud! For the distance, use an efficient way to compute the distance (look at solutions of previous labs to get an idea)."
   ]
  },
  {
   "cell_type": "code",
   "execution_count": 17,
   "id": "7b34c02e-3384-4b88-beb6-4a05fc42b369",
   "metadata": {
    "id": "7b34c02e-3384-4b88-beb6-4a05fc42b369"
   },
   "outputs": [],
   "source": [
    "from scipy import spatial\n",
    "\n",
    "def compute_sdf(point_cloud, normals, points_query):\n",
    "    tree = spatial.KDTree(point_cloud)\n",
    "    dists, idx = tree.query(points_query)\n",
    "    # print(points_query.shape, normals.shape)\n",
    "    signs = np.sign(np.einsum('ij,ij->i', points_query-point_cloud[idx], normals[idx])) # (n, 3)\n",
    "    sdf = signs * dists\n",
    "    return sdf[:,None]\n",
    "\n",
    "def compute_sdf_grid(point_cloud, normals, grid_size=40):\n",
    "    ## Compute SDF on a XYZ grid. First generate the grid (it has to enclose the point cloud)\n",
    "    ## Then compute the sdf\n",
    "    #compute the enclosing grid\n",
    "    offset = 5\n",
    "    x_coords = np.linspace(point_cloud[:,0].min()-offset, point_cloud[:,0].max()+offset, grid_size)\n",
    "    y_coords = np.linspace(point_cloud[:,1].min()-offset, point_cloud[:,1].max()+offset, grid_size)\n",
    "    z_coords = np.linspace(point_cloud[:,2].min()-offset, point_cloud[:,2].max()+offset, grid_size)\n",
    "    grid = np.meshgrid(x_coords, y_coords, z_coords) # 3* (40,40,40)\n",
    "\n",
    "    points_query = np.stack([arr.flatten() for arr in grid], axis=1)\n",
    "    \n",
    "    sdf = compute_sdf(point_cloud, normals, points_query).reshape((grid_size, grid_size, grid_size)).transpose(1,0,2)\n",
    "\n",
    "    return sdf # shape (grid_size, grid_size, grid_size)"
   ]
  },
  {
   "cell_type": "code",
   "execution_count": 18,
   "id": "7501d31d-6301-4f66-a8ae-645208384e4c",
   "metadata": {
    "id": "7501d31d-6301-4f66-a8ae-645208384e4c"
   },
   "outputs": [
    {
     "name": "stdout",
     "output_type": "stream",
     "text": [
      "(40, 40, 40)\n"
     ]
    }
   ],
   "source": [
    "sdf = compute_sdf_grid(pc, normals)"
   ]
  },
  {
   "cell_type": "code",
   "execution_count": 19,
   "id": "31442fcb-2a9a-42ab-a1d9-41e29ce462b6",
   "metadata": {
    "colab": {
     "base_uri": "https://localhost:8080/",
     "height": 978,
     "referenced_widgets": [
      "391b74dbf597484d894f4849f0cc0373",
      "73da99c3a634410489b3217005de4267",
      "09afb5addb254c8eaa57ba17c4a17f6c",
      "58878c7d0deb48ffa0ed8ffa8c7efb76",
      "dbd12d44ada7410581f4f9a0532556ae",
      "2eb48b41ecb94ef18aba4c9dce9fc3cd",
      "260d4b9064bf4e7f8940f6fdb2db7e60",
      "8884a15509704f418e3baf747c978f21",
      "af00878bc86e4811880053a056956e85",
      "7291c1b7d2ca4391958376561a2e8d51",
      "c2b1122c8cd640fcb0e9c4ca80674e8f",
      "4d0f56e67ff14eba9aad0fc176f4e719",
      "f6ddac9617d14a3995ef687f28439061",
      "6bc9b2fd29294397bfaa45ef111de96f"
     ]
    },
    "id": "31442fcb-2a9a-42ab-a1d9-41e29ce462b6",
    "outputId": "a32839a4-e5a1-4c3d-8bc6-4a94be4afdad"
   },
   "outputs": [
    {
     "data": {
      "application/vnd.jupyter.widget-view+json": {
       "model_id": "635f6cbc8af04d0394088d1cdfcf2903",
       "version_major": 2,
       "version_minor": 0
      },
      "text/plain": [
       "Renderer(camera=PerspectiveCamera(children=(DirectionalLight(color='white', intensity=0.6, position=(19.532195…"
      ]
     },
     "metadata": {},
     "output_type": "display_data"
    },
    {
     "data": {
      "text/plain": [
       "<meshplot.Viewer.Viewer at 0x757714f777c0>"
      ]
     },
     "execution_count": 19,
     "metadata": {},
     "output_type": "execute_result"
    }
   ],
   "source": [
    "vertices, triangles = mcubes.marching_cubes(sdf,0)\n",
    "mesh = TriMesh(vertices, triangles)\n",
    "mcubes.export_obj(vertices, triangles, 'result_hoppe.obj')\n",
    "plu.plot(mesh)"
   ]
  },
  {
   "cell_type": "markdown",
   "id": "4af67d5b-d9fa-4685-ad42-ab15d01086e2",
   "metadata": {
    "id": "4af67d5b-d9fa-4685-ad42-ab15d01086e2"
   },
   "source": [
    "You can try different grid sizes, but do not increase too much its size to avoid memory issues"
   ]
  },
  {
   "cell_type": "markdown",
   "id": "b497b547-ce5b-4fdf-bff6-11765cba573a",
   "metadata": {
    "id": "b497b547-ce5b-4fdf-bff6-11765cba573a"
   },
   "source": [
    "# DeepSDF\n",
    "\n",
    "This method (see <a href=\"https://arxiv.org/pdf/1901.05103\">link</a>) consists of representing the SDF as a function (x, y, z) -> sdf, parameterized by a neural network.\n",
    "\n",
    "We first build the network according to the following figure\n",
    "\n",
    "![title](./img/TD5_sdf.png)\n",
    "\n",
    "The activations are ReLUs, except for the last one, defined as $\\phi(a) = \\text{tanh}(a)$.\n",
    "\n",
    "Moreover, the networks have specific initialization (**except the last one**): the weights of size $n \\times n$ are initialized according to the following $\\mathcal{N}\\left(0, \\sqrt{\\frac{2}{n}}\\right)$ law, and the bias are initalized to 0 (except for the last linear layer). You can access to a Linear layer weight, and bias via layer..weight.data, and layer.bias.data, or use <a href=\"https://pytorch.org/docs/stable/nn.init.html\">nn.init<a> on layer.weight, layer.bias"
   ]
  },
  {
   "cell_type": "code",
   "execution_count": 8,
   "id": "ed7c8a12-cdc3-4220-9491-71600785abcc",
   "metadata": {
    "id": "ed7c8a12-cdc3-4220-9491-71600785abcc"
   },
   "outputs": [],
   "source": [
    "class SDFNet(nn.Module):\n",
    "    def __init__(self, ninputchannels, dropout=0.2, gamma=0, sal_init=False, eik=False):\n",
    "        super(SDFNet, self).__init__()\n",
    "        ## Prepare the layers\n",
    "        ## Don't forget to initialize your weights correctly.\n",
    "        self.dropout = dropout\n",
    "        \n",
    "        self.mlp_layers_before_concat = [\n",
    "            nn.Linear(ninputchannels, 512)\n",
    "        ] + [\n",
    "            self.make_linear_block(512,512) for _ in range(2)\n",
    "        ] + [\n",
    "            self.make_linear_block(512,509)\n",
    "        ]\n",
    "\n",
    "        self.mlp_layers_after_concat = [\n",
    "            self.make_linear_block(512,512) for _ in range(3)\n",
    "        ] + [\n",
    "            nn.Linear(512, 1)\n",
    "        ]\n",
    "\n",
    "        self.mlp_before_concat = nn.Sequential(*self.mlp_layers_before_concat)\n",
    "        self.mlp_after_concat = nn.Sequential(*self.mlp_layers_after_concat)\n",
    "        ## gamma, sal_init, eik are for later\n",
    "        self.gamma=gamma\n",
    "        self.eik = eik\n",
    "        \n",
    "    def make_linear_block(self, in_channels, out_channels):\n",
    "        linear = nn.Linear(in_channels, out_channels)\n",
    "        if in_channels == out_channels:\n",
    "            nn.init.normal_(linear.weight.data, mean=0, std=np.sqrt(2/in_channels))\n",
    "        return nn.Sequential(\n",
    "            linear,\n",
    "            nn.ReLU(),\n",
    "            nn.Dropout(self.dropout)\n",
    "        )\n",
    "\n",
    "        #custom weights init\n",
    "\n",
    "    def forward(self,x):\n",
    "        ## Logic of the neural network\n",
    "        ## You can add dropout if you want\n",
    "        x_transformed = self.mlp_before_concat(x)\n",
    "        x_transformed = torch.concat([x_transformed, x], dim=1)\n",
    "        x_out = F.tanh(self.mlp_after_concat(x_transformed))\n",
    "        return x_out"
   ]
  },
  {
   "cell_type": "markdown",
   "id": "b0b32746-6a2c-4c25-93b1-24fbac4f7690",
   "metadata": {
    "id": "b0b32746-6a2c-4c25-93b1-24fbac4f7690"
   },
   "source": [
    "### Loss function\n",
    "\n",
    "The loss is computed by sampling random points in the ambient space (set X), computing their ground truth SDF (using part one), and computing the distance between computed and ground truth sdf:\n",
    "\n",
    "$$\n",
    "\\mathcal{L}(\\theta) = \\mathbb{E}_{x \\sim X} [|\\text{clamp}(u_\\theta(x), \\delta) - \\text{clamp}(\\text{SDF}_{\\text{gt}}(x), \\delta)|]\n",
    "$$\n",
    "\n",
    "where $\\text{clamp}(x, \\delta) := \\min(\\delta, \\max(−\\delta, x))$ (you can use torch.clamp). To understand the signification of parameter $\\delta$, read carefully paragraph 3 of the paper."
   ]
  },
  {
   "cell_type": "code",
   "execution_count": 33,
   "id": "ebda59ec-e59e-4b50-a2a3-bda8a3d8221a",
   "metadata": {
    "id": "ebda59ec-e59e-4b50-a2a3-bda8a3d8221a"
   },
   "outputs": [],
   "source": [
    "# def evaluate_loss(net, pts_gt, sdf_gt, device, lpc, batch_size=2000, delta = 0.1):\n",
    "#     ## For this function, you need to sample batch_size number of points\n",
    "#     ## From pts_gt. Evaluate the sdf at those points and compute the loss\n",
    "#     ## compared to sdf_gt (be careful to select the same points between pts_gt and sdf_gt)\n",
    "\n",
    "#     # Select points\n",
    "#     samples_idx = torch.randint(high=pts_gt.shape[0], size=(batch_size,))\n",
    "#     pts_sample = pts_gt[samples_idx] # (n, 3)\n",
    "\n",
    "#     sdf_pred = net(pts_sample)\n",
    "\n",
    "#     # compute and store the losses\n",
    "#     loss = torch.mean(torch.clamp(sdf_pred, delta) - torch.clamp(sdf_gt[samples_idx],delta))\n",
    "\n",
    "#     # append all the losses\n",
    "#     lpc.append(float(loss.item()))\n",
    "\n",
    "#     return loss\n",
    "\n",
    "def evaluate_loss(net, pts_gt, sdf_gt, device, lpc, batch_size=2000, delta=0.1):\n",
    "    # Sample a batch of points from pts_gt\n",
    "    samples_idx = torch.randint(high=pts_gt.shape[0], size=(batch_size,))\n",
    "    pts_sample = pts_gt[samples_idx]  # (n, 3)\n",
    "    \n",
    "    # Compute SDF predictions for the sampled points\n",
    "    sdf_pred = net(pts_sample.to(device))\n",
    "    \n",
    "    # Compute the clamped SDF values for predicted and ground truth\n",
    "    sdf_pred_clamped = torch.clamp(sdf_pred, min=-delta, max=delta)\n",
    "    sdf_gt_clamped = torch.clamp(sdf_gt[samples_idx].to(device), min=-delta, max=delta)\n",
    "    \n",
    "    # Compute the loss as the mean absolute difference between clamped SDF predictions and ground truth\n",
    "    loss = torch.mean(torch.abs(sdf_pred_clamped - sdf_gt_clamped))\n",
    "    \n",
    "    # Append the computed loss to lpc\n",
    "    lpc.append(float(loss.item()))\n",
    "    \n",
    "    return loss\n"
   ]
  },
  {
   "cell_type": "markdown",
   "id": "db4de69e-a85d-4e32-b3e4-993e45ce6263",
   "metadata": {
    "id": "db4de69e-a85d-4e32-b3e4-993e45ce6263"
   },
   "source": [
    "### Training the SDF"
   ]
  },
  {
   "cell_type": "code",
   "execution_count": 34,
   "id": "50183176-a41a-43a8-94fb-71f058cad8c8",
   "metadata": {
    "id": "50183176-a41a-43a8-94fb-71f058cad8c8"
   },
   "outputs": [],
   "source": [
    "device = torch.device('cuda' if torch.cuda.is_available() else 'cpu')\n",
    "\n",
    "def get_normalized_pointcloud(point_cloud, margin=0.05):\n",
    "    ## Return the same point cloud, scaled such that \n",
    "    ## x,y,z values are between -1+margin and 1-margin\n",
    "    #compute the enclosing grid\n",
    "    \n",
    "    min_vals = point_cloud.min(axis=0, keepdims=True) # (1,3)\n",
    "    max_vals = point_cloud.max(axis=0, keepdims=True) # (1,3)\n",
    "    b = 1-margin\n",
    "    pc_normed = 2*b/(max_vals-min_vals) * point_cloud + b * (1-2*max_vals/(max_vals-min_vals))\n",
    "    #normalize the points\n",
    "    print(pc_normed.shape)\n",
    "    return pc_normed\n",
    "\n",
    "def compute_gt_sdf(point_cloud, normals, n_points=1000000):\n",
    "    ## Sample a n_points points in with XYZ coordinates between -1 and 1\n",
    "    ## Then use compute_sdf to get sdf_gt\n",
    "\n",
    "    p_norm = get_normalized_pointcloud(point_cloud, margin=0.00001)\n",
    "     #preparing gt points:   \n",
    "    \n",
    "    gtp = np.random.uniform(-1.0, 1.0, size=(n_points, 3))\n",
    "    sdf_gt = compute_sdf(p_norm, normals, gtp)\n",
    "    return sdf_gt, gtp"
   ]
  },
  {
   "cell_type": "code",
   "execution_count": 35,
   "id": "8bdd38cf-77d9-473b-9411-b221b81351b7",
   "metadata": {
    "id": "8bdd38cf-77d9-473b-9411-b221b81351b7"
   },
   "outputs": [
    {
     "name": "stdout",
     "output_type": "stream",
     "text": [
      "(208145, 3)\n"
     ]
    }
   ],
   "source": [
    "n_points = 100000\n",
    "sdf_gt, gtp = compute_gt_sdf(pc, normals, n_points)"
   ]
  },
  {
   "cell_type": "code",
   "execution_count": 36,
   "id": "105ecb10-da59-4719-947f-67e6088d4cee",
   "metadata": {
    "colab": {
     "base_uri": "https://localhost:8080/"
    },
    "id": "105ecb10-da59-4719-947f-67e6088d4cee",
    "outputId": "fd0d150a-a54f-404c-d1d1-94c40bb2fa83"
   },
   "outputs": [
    {
     "name": "stdout",
     "output_type": "stream",
     "text": [
      "cpu\n",
      "(100000, 1) (100000, 3)\n",
      "True True\n"
     ]
    }
   ],
   "source": [
    "print(device)\n",
    "print(sdf_gt.shape, gtp.shape) ## Should be same shape\n",
    "print(np.isclose(gtp.max(), 1, 1e-3), np.isclose(gtp.min(), -1, 1e-3)) ## Should be equal to one"
   ]
  },
  {
   "cell_type": "code",
   "execution_count": 40,
   "id": "5d388ce8-3c03-4923-bd97-ebb2e6325a6a",
   "metadata": {
    "id": "5d388ce8-3c03-4923-bd97-ebb2e6325a6a"
   },
   "outputs": [],
   "source": [
    "def training_sdf(sdf_gt, gtp):\n",
    "    geomnet = SDFNet(3)\n",
    "    geomnet.to(device)\n",
    "    gtpoints = torch.from_numpy(gtp).float().to(device)\n",
    "    gtsdf = torch.from_numpy(sdf_gt).float().to(device)\n",
    "\n",
    "    lpc = []\n",
    "\n",
    "    optim = torch.optim.Adam(params = geomnet.parameters(), lr=1e-5)\n",
    "\n",
    "    nepochs=10000\n",
    "    pbar = tqdm(total=nepochs,\n",
    "                desc=\"Training\")\n",
    "\n",
    "    for epoch in range(nepochs):\n",
    "        loss = evaluate_loss(geomnet, gtpoints, gtsdf, device, lpc, delta = 0.1, batch_size=2500)\n",
    "        optim.zero_grad()\n",
    "        loss.backward()\n",
    "        optim.step()\n",
    "        if epoch % 100 == 0:\n",
    "        #     print(f\"Epoch {epoch}/{nepochs} - loss : {loss.item()}\")\n",
    "            pbar.set_postfix({'loss': loss.item()})\n",
    "        pbar.update(1)\n",
    "    return lpc, geomnet\n"
   ]
  },
  {
   "cell_type": "code",
   "execution_count": 41,
   "id": "2b3d25b5-98f2-431d-b865-4d26b179537e",
   "metadata": {
    "colab": {
     "base_uri": "https://localhost:8080/",
     "height": 49,
     "referenced_widgets": [
      "8ce06bf5a67840f79c0d6bde734f2ed4",
      "c4b4dfc8c710402bbcdbb44e506f7823",
      "29255944e05e486e97462a0f2df09fd1",
      "3038d1154fae492e8627438f9688abec",
      "aa3d93019f41449a96ca8b627bba409f",
      "94f637204a8847d5aa63c6cbba1d9584",
      "c83dae32f44448d187d3f27406846808",
      "5b63cd9c94534986a87d072788c6a3f5",
      "43661a3d263e48b0a10aab2c375fbb50",
      "99f4e4ad068e4cb3b50a11aa6de8318a",
      "122eff20624a459a9878a4d05b198504"
     ]
    },
    "id": "2b3d25b5-98f2-431d-b865-4d26b179537e",
    "outputId": "8c359775-45b3-489b-f631-ca82c000930b"
   },
   "outputs": [
    {
     "data": {
      "application/vnd.jupyter.widget-view+json": {
       "model_id": "fe17ba89533846bd8ef6ab73bf373a56",
       "version_major": 2,
       "version_minor": 0
      },
      "text/plain": [
       "Training:   0%|          | 0/10000 [00:00<?, ?it/s]"
      ]
     },
     "metadata": {},
     "output_type": "display_data"
    }
   ],
   "source": [
    "loss_, net_sdf = training_sdf(sdf_gt, gtp)\n",
    "## If the training is slow (hours), change you execution environment to GPU!"
   ]
  },
  {
   "cell_type": "code",
   "execution_count": 42,
   "id": "befa5482-c1c5-40f3-80ea-2986cea7b1c7",
   "metadata": {
    "colab": {
     "base_uri": "https://localhost:8080/",
     "height": 388
    },
    "id": "befa5482-c1c5-40f3-80ea-2986cea7b1c7",
    "outputId": "4dc96f82-ae31-43f4-80fa-1cb899830f95"
   },
   "outputs": [
    {
     "data": {
      "application/vnd.jupyter.widget-view+json": {
       "model_id": "fc18ac30314e4fbdaadd8d2a152a027f",
       "version_major": 2,
       "version_minor": 0
      },
      "image/png": "[encoded data removed]",
      "text/html": [
       "\n",
       "            <div style=\"display: inline-block;\">\n",
       "                <div class=\"jupyter-widgets widget-label\" style=\"text-align: center;\">\n",
       "                    Figure\n",
       "                </div>\n",
       "                <img src='data:image/png;base64,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' width=600.0/>\n",
       "            </div>\n",
       "        "
      ],
      "text/plain": [
       "Canvas(toolbar=Toolbar(toolitems=[('Home', 'Reset original view', 'home', 'home'), ('Back', 'Back to previous …"
      ]
     },
     "metadata": {},
     "output_type": "display_data"
    }
   ],
   "source": [
    "# Check that the network learned something\n",
    "plt.figure(figsize=(6,4))\n",
    "plt.yscale('log')\n",
    "plt.plot(loss_, label = 'Point cloud loss ({:.2f})'.format(loss_[-1]))\n",
    "plt.xlabel(\"Epochs\")\n",
    "plt.legend()\n",
    "plt.show()"
   ]
  },
  {
   "cell_type": "markdown",
   "id": "9631c5ff",
   "metadata": {},
   "source": [
    "## Reconstruct the shape\n",
    "Code the function compute_deepsdf that compute sdf on a grid using a trained sdf network"
   ]
  },
  {
   "cell_type": "code",
   "execution_count": 49,
   "id": "e1f1f2ff-9737-42bc-8a1d-f247acea17e1",
   "metadata": {
    "id": "e1f1f2ff-9737-42bc-8a1d-f247acea17e1"
   },
   "outputs": [],
   "source": [
    "def compute_deepsdf(net, grid_size=40):\n",
    "    net.eval()\n",
    "    \n",
    "\n",
    "    x_coords = np.linspace(-1, 1, grid_size)\n",
    "    y_coords = np.linspace(-1, 1, grid_size)\n",
    "    z_coords = np.linspace(-1, 1, grid_size)\n",
    "    grid = np.meshgrid(x_coords, y_coords, z_coords) # 3* (40,40,40)\n",
    "\n",
    "    v = np.stack([arr.flatten() for arr in grid], axis=1)\n",
    "    queries = torch.from_numpy(v).float().to(device)\n",
    "    with torch.no_grad():\n",
    "        distance = net(queries).detach().cpu().numpy()\n",
    "    u = np.reshape(distance,(grid_size,grid_size,grid_size))\n",
    "    print(u.shape)\n",
    "    return u"
   ]
  },
  {
   "cell_type": "code",
   "execution_count": 50,
   "id": "79cec4a2-2347-4368-869d-a4797a63a8fb",
   "metadata": {
    "colab": {
     "base_uri": "https://localhost:8080/",
     "height": 978,
     "referenced_widgets": [
      "e78d9c9c6024421d8ebf899dfe9ed253",
      "fd86e89f2ae34840930e97b98257ee2d",
      "00eb5a564a8142fd8aaa5a1bfe279867",
      "2cf64c8ba4f446b38cc2b1f92922cb60",
      "c6340c75041b460c8440f20699d7b6cb",
      "334daf4803474cf6a3d88c5c2fefdb49",
      "07b60692e5db42c4b77a5bc9e5696c6b",
      "6aa4f2df540342328a880e5761a52850",
      "c6be0df512eb4da7af5e218b862fd1ae",
      "6b8801d6968a4dc8a599e286bad8e156",
      "815fe0bfb3334b5ca394a067456dcc23",
      "9e390bb2a45045a0bea292300d4422b5",
      "8a8db73d67154ce5bd44bbeb846d7359",
      "927def9a13a14f00a008e7765fb9dd78"
     ]
    },
    "id": "79cec4a2-2347-4368-869d-a4797a63a8fb",
    "outputId": "2ae3cbf6-56c9-48f1-8c68-ddaa909076cd"
   },
   "outputs": [
    {
     "name": "stdout",
     "output_type": "stream",
     "text": [
      "(40, 40, 40)\n"
     ]
    },
    {
     "ename": "ValueError",
     "evalue": "zero-size array to reduction operation maximum which has no identity",
     "output_type": "error",
     "traceback": [
      "\u001b[0;31m---------------------------------------------------------------------------\u001b[0m",
      "\u001b[0;31mValueError\u001b[0m                                Traceback (most recent call last)",
      "Cell \u001b[0;32mIn[50], line 5\u001b[0m\n\u001b[1;32m      3\u001b[0m mesh \u001b[38;5;241m=\u001b[39m TriMesh(vertices, triangles)\n\u001b[1;32m      4\u001b[0m mcubes\u001b[38;5;241m.\u001b[39mexport_obj(vertices, triangles, \u001b[38;5;124m'\u001b[39m\u001b[38;5;124mresult_deepsdf.obj\u001b[39m\u001b[38;5;124m'\u001b[39m)\n\u001b[0;32m----> 5\u001b[0m \u001b[43mplu\u001b[49m\u001b[38;5;241;43m.\u001b[39;49m\u001b[43mplot\u001b[49m\u001b[43m(\u001b[49m\u001b[43mmesh\u001b[49m\u001b[43m)\u001b[49m\n",
      "File \u001b[0;32m~/dev/mva/geom_dl/TD5/plot_utils/plot.py:52\u001b[0m, in \u001b[0;36mplot\u001b[0;34m(mesh1, cmap, points, cmap_p, rotation, colormap, shading, shading_p, flat, pretty, point_size)\u001b[0m\n\u001b[1;32m     49\u001b[0m vertices \u001b[38;5;241m=\u001b[39m utils\u001b[38;5;241m.\u001b[39mrotate(mesh1\u001b[38;5;241m.\u001b[39mvertices, rotation\u001b[38;5;241m=\u001b[39mrotation)\n\u001b[1;32m     50\u001b[0m faces \u001b[38;5;241m=\u001b[39m mesh1\u001b[38;5;241m.\u001b[39mfaces\n\u001b[0;32m---> 52\u001b[0m p \u001b[38;5;241m=\u001b[39m \u001b[43mmp\u001b[49m\u001b[38;5;241;43m.\u001b[39;49m\u001b[43mplot\u001b[49m\u001b[43m(\u001b[49m\u001b[43mvertices\u001b[49m\u001b[43m,\u001b[49m\u001b[43m \u001b[49m\u001b[43mfaces\u001b[49m\u001b[43m,\u001b[49m\u001b[43m \u001b[49m\u001b[43mc\u001b[49m\u001b[38;5;241;43m=\u001b[39;49m\u001b[43mcmap\u001b[49m\u001b[43m,\u001b[49m\u001b[43m \u001b[49m\u001b[43mshading\u001b[49m\u001b[38;5;241;43m=\u001b[39;49m\u001b[43mshading_m\u001b[49m\u001b[43m)\u001b[49m\n\u001b[1;32m     54\u001b[0m \u001b[38;5;66;03m# When adding a point_cloud\u001b[39;00m\n\u001b[1;32m     55\u001b[0m \u001b[38;5;28;01mif\u001b[39;00m points \u001b[38;5;129;01mis\u001b[39;00m \u001b[38;5;129;01mnot\u001b[39;00m \u001b[38;5;28;01mNone\u001b[39;00m:\n\u001b[1;32m     56\u001b[0m     \u001b[38;5;66;03m# Obtain shading\u001b[39;00m\n",
      "File \u001b[0;32m~/dev/python/.venv/lib/python3.10/site-packages/meshplot/plot.py:91\u001b[0m, in \u001b[0;36mplot\u001b[0;34m(v, f, c, uv, n, shading, plot, return_plot, filename, texture_data, **kwargs)\u001b[0m\n\u001b[1;32m     89\u001b[0m     obj_id \u001b[38;5;241m=\u001b[39m view\u001b[38;5;241m.\u001b[39madd_edges(v, f, shading\u001b[38;5;241m=\u001b[39mshading)\n\u001b[1;32m     90\u001b[0m \u001b[38;5;28;01melse\u001b[39;00m: \u001b[38;5;66;03m# Plot mesh\u001b[39;00m\n\u001b[0;32m---> 91\u001b[0m     obj_id \u001b[38;5;241m=\u001b[39m \u001b[43mview\u001b[49m\u001b[38;5;241;43m.\u001b[39;49m\u001b[43madd_mesh\u001b[49m\u001b[43m(\u001b[49m\u001b[43mv\u001b[49m\u001b[43m,\u001b[49m\u001b[43m \u001b[49m\u001b[43mf\u001b[49m\u001b[43m,\u001b[49m\u001b[43m \u001b[49m\u001b[43mc\u001b[49m\u001b[43m,\u001b[49m\u001b[43m \u001b[49m\u001b[43muv\u001b[49m\u001b[38;5;241;43m=\u001b[39;49m\u001b[43muv\u001b[49m\u001b[43m,\u001b[49m\u001b[43m \u001b[49m\u001b[43mn\u001b[49m\u001b[38;5;241;43m=\u001b[39;49m\u001b[43mn\u001b[49m\u001b[43m,\u001b[49m\u001b[43m \u001b[49m\u001b[43mshading\u001b[49m\u001b[38;5;241;43m=\u001b[39;49m\u001b[43mshading\u001b[49m\u001b[43m,\u001b[49m\u001b[43m \u001b[49m\u001b[43mtexture_data\u001b[49m\u001b[38;5;241;43m=\u001b[39;49m\u001b[43mtexture_data\u001b[49m\u001b[43m)\u001b[49m\n\u001b[1;32m     93\u001b[0m \u001b[38;5;28;01mif\u001b[39;00m \u001b[38;5;129;01mnot\u001b[39;00m plot \u001b[38;5;129;01mand\u001b[39;00m rendertype \u001b[38;5;241m==\u001b[39m \u001b[38;5;124m\"\u001b[39m\u001b[38;5;124mJUPYTER\u001b[39m\u001b[38;5;124m\"\u001b[39m:\n\u001b[1;32m     94\u001b[0m     display(view\u001b[38;5;241m.\u001b[39m_renderer)\n",
      "File \u001b[0;32m~/dev/python/.venv/lib/python3.10/site-packages/meshplot/Viewer.py:270\u001b[0m, in \u001b[0;36mViewer.add_mesh\u001b[0;34m(self, v, f, c, uv, n, shading, texture_data, **kwargs)\u001b[0m\n\u001b[1;32m    267\u001b[0m     mesh_obj[\u001b[38;5;124m\"\u001b[39m\u001b[38;5;124mbbox\u001b[39m\u001b[38;5;124m\"\u001b[39m] \u001b[38;5;241m=\u001b[39m [bbox, v_box, f_box]\n\u001b[1;32m    269\u001b[0m \u001b[38;5;66;03m# Object setup\u001b[39;00m\n\u001b[0;32m--> 270\u001b[0m mesh_obj[\u001b[38;5;124m\"\u001b[39m\u001b[38;5;124mmax\u001b[39m\u001b[38;5;124m\"\u001b[39m] \u001b[38;5;241m=\u001b[39m \u001b[43mnp\u001b[49m\u001b[38;5;241;43m.\u001b[39;49m\u001b[43mmax\u001b[49m\u001b[43m(\u001b[49m\u001b[43mv\u001b[49m\u001b[43m,\u001b[49m\u001b[43m \u001b[49m\u001b[43maxis\u001b[49m\u001b[38;5;241;43m=\u001b[39;49m\u001b[38;5;241;43m0\u001b[39;49m\u001b[43m)\u001b[49m\n\u001b[1;32m    271\u001b[0m mesh_obj[\u001b[38;5;124m\"\u001b[39m\u001b[38;5;124mmin\u001b[39m\u001b[38;5;124m\"\u001b[39m] \u001b[38;5;241m=\u001b[39m np\u001b[38;5;241m.\u001b[39mmin(v, axis\u001b[38;5;241m=\u001b[39m\u001b[38;5;241m0\u001b[39m)\n\u001b[1;32m    272\u001b[0m mesh_obj[\u001b[38;5;124m\"\u001b[39m\u001b[38;5;124mgeometry\u001b[39m\u001b[38;5;124m\"\u001b[39m] \u001b[38;5;241m=\u001b[39m geometry\n",
      "File \u001b[0;32m~/dev/python/.venv/lib/python3.10/site-packages/numpy/core/fromnumeric.py:2810\u001b[0m, in \u001b[0;36mmax\u001b[0;34m(a, axis, out, keepdims, initial, where)\u001b[0m\n\u001b[1;32m   2692\u001b[0m \u001b[38;5;129m@array_function_dispatch\u001b[39m(_max_dispatcher)\n\u001b[1;32m   2693\u001b[0m \u001b[38;5;129m@set_module\u001b[39m(\u001b[38;5;124m'\u001b[39m\u001b[38;5;124mnumpy\u001b[39m\u001b[38;5;124m'\u001b[39m)\n\u001b[1;32m   2694\u001b[0m \u001b[38;5;28;01mdef\u001b[39;00m \u001b[38;5;21mmax\u001b[39m(a, axis\u001b[38;5;241m=\u001b[39m\u001b[38;5;28;01mNone\u001b[39;00m, out\u001b[38;5;241m=\u001b[39m\u001b[38;5;28;01mNone\u001b[39;00m, keepdims\u001b[38;5;241m=\u001b[39mnp\u001b[38;5;241m.\u001b[39m_NoValue, initial\u001b[38;5;241m=\u001b[39mnp\u001b[38;5;241m.\u001b[39m_NoValue,\n\u001b[1;32m   2695\u001b[0m          where\u001b[38;5;241m=\u001b[39mnp\u001b[38;5;241m.\u001b[39m_NoValue):\n\u001b[1;32m   2696\u001b[0m \u001b[38;5;250m    \u001b[39m\u001b[38;5;124;03m\"\"\"\u001b[39;00m\n\u001b[1;32m   2697\u001b[0m \u001b[38;5;124;03m    Return the maximum of an array or maximum along an axis.\u001b[39;00m\n\u001b[1;32m   2698\u001b[0m \n\u001b[0;32m   (...)\u001b[0m\n\u001b[1;32m   2808\u001b[0m \u001b[38;5;124;03m    5\u001b[39;00m\n\u001b[1;32m   2809\u001b[0m \u001b[38;5;124;03m    \"\"\"\u001b[39;00m\n\u001b[0;32m-> 2810\u001b[0m     \u001b[38;5;28;01mreturn\u001b[39;00m \u001b[43m_wrapreduction\u001b[49m\u001b[43m(\u001b[49m\u001b[43ma\u001b[49m\u001b[43m,\u001b[49m\u001b[43m \u001b[49m\u001b[43mnp\u001b[49m\u001b[38;5;241;43m.\u001b[39;49m\u001b[43mmaximum\u001b[49m\u001b[43m,\u001b[49m\u001b[43m \u001b[49m\u001b[38;5;124;43m'\u001b[39;49m\u001b[38;5;124;43mmax\u001b[39;49m\u001b[38;5;124;43m'\u001b[39;49m\u001b[43m,\u001b[49m\u001b[43m \u001b[49m\u001b[43maxis\u001b[49m\u001b[43m,\u001b[49m\u001b[43m \u001b[49m\u001b[38;5;28;43;01mNone\u001b[39;49;00m\u001b[43m,\u001b[49m\u001b[43m \u001b[49m\u001b[43mout\u001b[49m\u001b[43m,\u001b[49m\n\u001b[1;32m   2811\u001b[0m \u001b[43m                          \u001b[49m\u001b[43mkeepdims\u001b[49m\u001b[38;5;241;43m=\u001b[39;49m\u001b[43mkeepdims\u001b[49m\u001b[43m,\u001b[49m\u001b[43m \u001b[49m\u001b[43minitial\u001b[49m\u001b[38;5;241;43m=\u001b[39;49m\u001b[43minitial\u001b[49m\u001b[43m,\u001b[49m\u001b[43m \u001b[49m\u001b[43mwhere\u001b[49m\u001b[38;5;241;43m=\u001b[39;49m\u001b[43mwhere\u001b[49m\u001b[43m)\u001b[49m\n",
      "File \u001b[0;32m~/dev/python/.venv/lib/python3.10/site-packages/numpy/core/fromnumeric.py:88\u001b[0m, in \u001b[0;36m_wrapreduction\u001b[0;34m(obj, ufunc, method, axis, dtype, out, **kwargs)\u001b[0m\n\u001b[1;32m     85\u001b[0m         \u001b[38;5;28;01melse\u001b[39;00m:\n\u001b[1;32m     86\u001b[0m             \u001b[38;5;28;01mreturn\u001b[39;00m reduction(axis\u001b[38;5;241m=\u001b[39maxis, out\u001b[38;5;241m=\u001b[39mout, \u001b[38;5;241m*\u001b[39m\u001b[38;5;241m*\u001b[39mpasskwargs)\n\u001b[0;32m---> 88\u001b[0m \u001b[38;5;28;01mreturn\u001b[39;00m \u001b[43mufunc\u001b[49m\u001b[38;5;241;43m.\u001b[39;49m\u001b[43mreduce\u001b[49m\u001b[43m(\u001b[49m\u001b[43mobj\u001b[49m\u001b[43m,\u001b[49m\u001b[43m \u001b[49m\u001b[43maxis\u001b[49m\u001b[43m,\u001b[49m\u001b[43m \u001b[49m\u001b[43mdtype\u001b[49m\u001b[43m,\u001b[49m\u001b[43m \u001b[49m\u001b[43mout\u001b[49m\u001b[43m,\u001b[49m\u001b[43m \u001b[49m\u001b[38;5;241;43m*\u001b[39;49m\u001b[38;5;241;43m*\u001b[39;49m\u001b[43mpasskwargs\u001b[49m\u001b[43m)\u001b[49m\n",
      "\u001b[0;31mValueError\u001b[0m: zero-size array to reduction operation maximum which has no identity"
     ]
    }
   ],
   "source": [
    "u = compute_deepsdf(net_sdf, 40)\n",
    "vertices, triangles = mcubes.marching_cubes(u,0)\n",
    "mesh = TriMesh(vertices, triangles)\n",
    "mcubes.export_obj(vertices, triangles, 'result_deepsdf.obj')\n",
    "plu.plot(mesh)"
   ]
  },
  {
   "cell_type": "markdown",
   "id": "d9be6066-adbf-4ef8-9cec-103a933d58de",
   "metadata": {
    "id": "d9be6066-adbf-4ef8-9cec-103a933d58de"
   },
   "source": [
    "# Unsigned Distance Function\n",
    "\n",
    "In this case (paper <a href=\"https://arxiv.org/pdf/1911.10414\">link</a>), the objective is to learn directly on raw point clouds, without pre-processing to predicts normals/orientation of the shape. To reach this objective, the authors notice the following:\n",
    "- Using the usigned distance function (absolute value of the predicted SDF) is then necessary\n",
    "- Carefully choosing the points where to predict the distance is crucial\n",
    "- Weights initialization is to be changed\n",
    "\n",
    "The modification to SDF is simple : the loss is now computed by sampling points around each data point $x_i$ , following a centered Gaussian distribution of variance $\\sigma²$:\n",
    "\n",
    "$$\n",
    "\\mathcal{L}(\\theta) = \\sum_i \\mathbb{E}_{x \\sim \\mathcal{N}(x_i, \\sigma^2)}[(|u_{\\theta}(x)| - |\\text{SDF}_{\\text{GT}}](x)|)^2)]\n",
    "$$\n",
    "\n",
    "where $\\sigma$ is a parameter that you can play with, and $\\text{SDF}_{\\text{GT}}(x)$ is simply $\\text{dist}(x_i, x)$.\n",
    "\n",
    "The last linear layer is now initialized too, with weights following $\\mathcal{N}\\left(0, 2\\sqrt{\\pi}\\right)$ law and bias initialized to -1. The last layer activation is now $\\phi(a) = \\text{tanh}(a) + \\gamma a$. Gamma parameter now equals to 0.5."
   ]
  },
  {
   "cell_type": "markdown",
   "id": "re66I8b9bSVG",
   "metadata": {
    "id": "re66I8b9bSVG"
   },
   "source": [
    "## Neural network\n",
    "- Modify SDFNet with sal_init, such that when sal_init=True, the last layer is initialized properly\n",
    "- Take in account gamma parameter in the network logic"
   ]
  },
  {
   "cell_type": "markdown",
   "id": "4df7cc7d",
   "metadata": {},
   "source": [
    "## Loss function \n",
    "Implement the SAL loss function"
   ]
  },
  {
   "cell_type": "code",
   "execution_count": null,
   "id": "ef5cedb8-b629-434b-8180-d7d713bb79fe",
   "metadata": {
    "id": "ef5cedb8-b629-434b-8180-d7d713bb79fe"
   },
   "outputs": [],
   "source": [
    " def evaluate_loss_sal(net, p, sigma, device, losses,batch_size=5000):\n",
    "    ## Sample batch_size points, and then sample a random point around each point\n",
    "\n",
    "    #sample points  around each of the samples\n",
    "\n",
    "    \n",
    "\n",
    "    # evaluate distances and compute the loss\n",
    "    # compute and store the losses\n",
    "    loss = \n",
    "    losses.append(loss.item())\n",
    "\n",
    "    return loss"
   ]
  },
  {
   "cell_type": "code",
   "execution_count": null,
   "id": "8a0cec68-0e84-4bdb-99bd-3b031fee9af1",
   "metadata": {
    "id": "8a0cec68-0e84-4bdb-99bd-3b031fee9af1"
   },
   "outputs": [],
   "source": [
    "def training_sal(point_cloud, loss_function, sigma=0.02):\n",
    "    geomnet = SDFNet(3, gamma=0.5, sal_init=True)\n",
    "    geomnet.to(device)\n",
    "\n",
    "    pc_norm = get_normalized_pointcloud(point_cloud)\n",
    "    points_torch = torch.from_numpy(pc_norm).float().to(device)\n",
    "\n",
    "    lpc = []\n",
    "\n",
    "    optim = torch.optim.Adam(params = geomnet.parameters(), lr=1e-4)\n",
    "\n",
    "    nepochs=5000\n",
    "    pbar = tqdm(total=nepochs,\n",
    "                desc=\"Training\")\n",
    "\n",
    "    for epoch in range(nepochs):\n",
    "        loss = loss_function(geomnet, points_torch, sigma, device, lpc, batch_size=5000)\n",
    "        optim.zero_grad()\n",
    "        loss.backward()\n",
    "        optim.step()\n",
    "        if epoch % 100 == 0:\n",
    "        #     print(f\"Epoch {epoch}/{nepochs} - loss : {loss.item()}\")\n",
    "            pbar.set_postfix({'loss': loss.item()})\n",
    "        pbar.update(1)\n",
    "\n",
    "\n",
    "    return lpc, geomnet"
   ]
  },
  {
   "cell_type": "code",
   "execution_count": null,
   "id": "85f7c7ba-6728-43e8-a800-4189075c512d",
   "metadata": {
    "colab": {
     "base_uri": "https://localhost:8080/",
     "height": 66,
     "referenced_widgets": [
      "7595d1d2d56640ad8a2b028d0af270f9",
      "ef4250deb7be4c5db17a28dc05566477",
      "580bfdbf3d91487593d7075061a2dd85",
      "de9fe104a3bf4d968e0b2a14fec64d3f",
      "4a39316fe18743639eae95ae2512c320",
      "1c626e98e1a0446e8d70b53d74e0958f",
      "d71b0598ce5f4be1bf75021d13826ff1",
      "c6afaf3678374b0fb25ff3dfd9b9b9f5",
      "5adb54f552ee4641bc9a8005dcc6331b",
      "1533304550944d8d95be6c339fc5f52c",
      "26658e529d884939a63a46946fb3b6ed"
     ]
    },
    "id": "85f7c7ba-6728-43e8-a800-4189075c512d",
    "outputId": "935b7880-663c-4988-d9c2-fe091a8a9d4e"
   },
   "outputs": [],
   "source": [
    "# If you get an error: did you modify SDFNet according to the instructions?\n",
    "loss_sal, net_sal = training_sal(pc, evaluate_loss_sal, sigma=0.02)"
   ]
  },
  {
   "cell_type": "code",
   "execution_count": null,
   "id": "1cfb9856-af01-407e-b387-2ad404d4fbe6",
   "metadata": {
    "colab": {
     "base_uri": "https://localhost:8080/",
     "height": 391
    },
    "id": "1cfb9856-af01-407e-b387-2ad404d4fbe6",
    "outputId": "b3bd12ed-a60f-4615-af5b-403521714259"
   },
   "outputs": [],
   "source": [
    "# Check that the network learned something\n",
    "plt.figure(figsize=(6,4))\n",
    "plt.yscale('log')\n",
    "plt.plot(loss_sal, label = 'Point cloud loss ({:.2f})'.format(loss_[-1]))\n",
    "plt.xlabel(\"Epochs\")\n",
    "plt.legend()\n",
    "plt.show()"
   ]
  },
  {
   "cell_type": "code",
   "execution_count": null,
   "id": "a178da71-9471-4bff-b4ad-879a79a6ec8c",
   "metadata": {
    "colab": {
     "base_uri": "https://localhost:8080/",
     "height": 978,
     "referenced_widgets": [
      "816c6ca394f945e99612d29c4504b9d6",
      "44ac3e738dd14856b0c4ebac02c4a6d8",
      "2488a84fc9504a1aa25132ae8f0da227",
      "c399d60303c341e8bb6325c860ab4959",
      "21d7ca720cbd4564a2a5570807da4f53",
      "d33f6725b97c40b594d90b8470126b85",
      "e341313ad08d4122b0165faec7573670",
      "4b9f628316c9498fb32a6fc5adaa4def",
      "cbd0be1818c14d56b3653a1ead09fcf5",
      "28e2959b55e843a6888ef9b6237fb6c0",
      "b5c05ae02b624062839e62062271caba",
      "474056ac15dd4b3687dfd435a52ceca7",
      "48a99ce4d6e84123a293a091d5dc9bce",
      "0bd798a3dd084cb585a969b1fd106644"
     ]
    },
    "id": "a178da71-9471-4bff-b4ad-879a79a6ec8c",
    "outputId": "43685019-2aa5-4a72-ddfe-897f8a3385fc"
   },
   "outputs": [],
   "source": [
    "u = compute_deepsdf(net_sal, 40)\n",
    "vertices, triangles = mcubes.marching_cubes(u,0)\n",
    "mesh = TriMesh(vertices, triangles)\n",
    "plu.plot(mesh)"
   ]
  },
  {
   "cell_type": "markdown",
   "id": "a09fe661-0a7e-49d7-91c8-e1bf752f0ac6",
   "metadata": {
    "id": "a09fe661-0a7e-49d7-91c8-e1bf752f0ac6"
   },
   "source": [
    "The produced signed distances using the proposed are too smooth and can't overfit a single shape. Therefore, the authors propose to learn the $L_0$ unsigned distance, by minimizing:\n",
    "\n",
    "$$\n",
    "\\mathcal{L}(\\theta) = \\sum_i \\mathbb{E}_{x \\sim \\mathcal{N}(x_i, \\sigma^2)}[||u_{\\theta}(x)| - 1|] + \\mathbb{E}_{x \\in \\mathcal{X}}[|u_{\\theta}(x)|],\n",
    "$$\n",
    "\n",
    "i.e. we want the distance to be $1$ outside of the surface, and $0$ on the surface.\n",
    "\n",
    "Write the function evaluate_loss_sal_l0 below accordingly, and launch a new training to see the effects on the results."
   ]
  },
  {
   "cell_type": "code",
   "execution_count": null,
   "id": "e1f1f3a3-f102-4bb8-942e-cd15145e7357",
   "metadata": {
    "id": "e1f1f3a3-f102-4bb8-942e-cd15145e7357"
   },
   "outputs": [],
   "source": [
    "def evaluate_loss_sal_l0(net, p, sigma, device, losses,batch_size=5000):\n",
    "    ## Do the sampling and evaluations\n",
    "\n",
    "    # compute and store the losses\n",
    "    loss =  \n",
    "\n",
    "    losses.append(loss.item())\n",
    "\n",
    "    return loss"
   ]
  },
  {
   "cell_type": "code",
   "execution_count": null,
   "id": "fc552b1e-10b9-47ff-a4e3-2a17443e5886",
   "metadata": {
    "colab": {
     "base_uri": "https://localhost:8080/",
     "height": 49,
     "referenced_widgets": [
      "72d26aede05b4fe4bea5f10ff85dc31f",
      "8c004aa288324b8c8617fbc423480388",
      "e6c32731ffd94a6f995b0ed0b6b1ffd0",
      "1c090379b8b444bc939ad461faae49d6",
      "1c434f0793934a709b4d5233440a170b",
      "529ddc48de0941bbbfff3d70615ff8d3",
      "6bc487dc19884862a2d7412d87d04e54",
      "95271048ab31446b9402bf0aeda5b24d",
      "492ff3d421e346a08c14ffcfe5936ed4",
      "1f878730ef9b47ae8928f4e0263ce5d2",
      "b5ab6562d2a74fecac72001b39875c2e"
     ]
    },
    "id": "fc552b1e-10b9-47ff-a4e3-2a17443e5886",
    "outputId": "703136c7-8583-4dbb-8726-3f31581a4f30"
   },
   "outputs": [],
   "source": [
    "loss_sal_0, net_sal_0 = training_sal(pc, evaluate_loss_sal_l0, sigma=0.02)"
   ]
  },
  {
   "cell_type": "code",
   "execution_count": null,
   "id": "8906da72-95e6-496f-a613-3280125d0727",
   "metadata": {
    "colab": {
     "base_uri": "https://localhost:8080/",
     "height": 388
    },
    "id": "8906da72-95e6-496f-a613-3280125d0727",
    "outputId": "38c37046-af55-4896-9b42-20768871cc7b"
   },
   "outputs": [],
   "source": [
    "# Check that the network learned something\n",
    "plt.figure(figsize=(6,4))\n",
    "plt.yscale('log')\n",
    "plt.plot(loss_sal_0, label = 'Point cloud loss ({:.2f})'.format(loss_sal_0[-1]))\n",
    "plt.xlabel(\"Epochs\")\n",
    "plt.legend()\n",
    "plt.show()"
   ]
  },
  {
   "cell_type": "code",
   "execution_count": null,
   "id": "be1e41ee-1efd-4f15-a209-89820e62334b",
   "metadata": {
    "colab": {
     "base_uri": "https://localhost:8080/",
     "height": 978,
     "referenced_widgets": [
      "32dc21c1ea6e460597628818270577d0",
      "f96246e78f1241d4a3bd704c5bce4122",
      "d20d3179ed2146b5896cff8e44d6a8e8",
      "e7411a12b6e74aa38b8993650bb01f9a",
      "15da18c8b43446e6858cb894cf0f9bca",
      "1ad24d722d9e4bee94b8f27d3db788c8",
      "49da82c6bb59404ab91092e0d87c12d7",
      "0ef5fa1fc9d94389bf544de1d184ffcb",
      "e5b98d80b35c4ea4afc5a349a33dd33d",
      "5cf9d8a7f8244396b95182325f948b20",
      "96642999f3d84e48b06360efda7b7d53",
      "31793eea58c6499a9cf5c2e546b99100",
      "e214829b89954685acf6c145ed2f2ca0",
      "096cb49fc65448e7bef6e949e98071a3"
     ]
    },
    "id": "be1e41ee-1efd-4f15-a209-89820e62334b",
    "outputId": "f68ae747-8fb1-46b9-d19a-dde027b24d1f"
   },
   "outputs": [],
   "source": [
    "u = compute_deepsdf(net_sal_0, 40)\n",
    "vertices, triangles = mcubes.marching_cubes(u,0)\n",
    "mesh = TriMesh(vertices, triangles)\n",
    "plu.plot(mesh)"
   ]
  },
  {
   "cell_type": "markdown",
   "id": "1675226e-0287-4d89-9c43-372190fdcfc4",
   "metadata": {
    "id": "1675226e-0287-4d89-9c43-372190fdcfc4"
   },
   "source": [
    "You can play with the sigma parameter to improve the results (see the paper to choose it wisely)."
   ]
  }
 ],
 "metadata": {
  "accelerator": "GPU",
  "colab": {
   "gpuType": "T4",
   "provenance": []
  },
  "kernelspec": {
   "display_name": "Python 3 (ipykernel)",
   "language": "python",
   "name": "python3"
  },
  "language_info": {
   "codemirror_mode": {
    "name": "ipython",
    "version": 3
   },
   "file_extension": ".py",
   "mimetype": "text/x-python",
   "name": "python",
   "nbconvert_exporter": "python",
   "pygments_lexer": "ipython3",
   "version": "3.10.14"
  },
  "widgets": {
   "application/vnd.jupyter.widget-state+json": {
    "00eb5a564a8142fd8aaa5a1bfe279867": {
     "model_module": "jupyter-threejs",
     "model_module_version": "^2.4.1",
     "model_name": "OrbitControlsModel",
     "state": {
      "_model_module": "jupyter-threejs",
      "_model_module_version": "^2.4.1",
      "_model_name": "OrbitControlsModel",
      "_view_count": null,
      "_view_module": null,
      "_view_module_version": "",
      "_view_name": null,
      "autoRotate": false,
      "autoRotateSpeed": 2,
      "controlling": "IPY_MODEL_fd86e89f2ae34840930e97b98257ee2d",
      "dampingFactor": 0.25,
      "enableDamping": false,
      "enableKeys": true,
      "enablePan": true,
      "enableRotate": true,
      "enableZoom": true,
      "enabled": true,
      "keyPanSpeed": 7,
      "maxAzimuthAngle": "inf",
      "maxDistance": "inf",
      "maxPolarAngle": 3.141592653589793,
      "maxZoom": "inf",
      "minAzimuthAngle": "-inf",
      "minDistance": 0,
      "minPolarAngle": 0,
      "minZoom": 0,
      "panSpeed": 1,
      "rotateSpeed": 1,
      "screenSpacePanning": true,
      "target": [
       19.5,
       16.319141387939453,
       14.710677802562714
      ],
      "zoomSpeed": 1
     }
    },
    "049c3d700d6e44a58fa1fb5198eb475b": {
     "model_module": "jupyter-threejs",
     "model_module_version": "^2.4.1",
     "model_name": "BufferGeometryModel",
     "state": {
      "MaxIndex": 65535,
      "_model_module": "jupyter-threejs",
      "_model_module_version": "^2.4.1",
      "_model_name": "BufferGeometryModel",
      "_ref_geometry": null,
      "_store_ref": false,
      "_view_count": null,
      "_view_module": null,
      "_view_module_version": "",
      "_view_name": null,
      "attributes": {
       "position": "IPY_MODEL_bf4c052432734190aaafdf37332d6075"
      },
      "index": null,
      "morphAttributes": {},
      "name": "",
      "type": "BufferGeometry",
      "userData": {}
     }
    },
    "07b60692e5db42c4b77a5bc9e5696c6b": {
     "model_module": "jupyter-threejs",
     "model_module_version": "^2.4.1",
     "model_name": "DirectionalLightModel",
     "state": {
      "_model_module": "jupyter-threejs",
      "_model_module_version": "^2.4.1",
      "_model_name": "DirectionalLightModel",
      "_view_count": null,
      "_view_module": null,
      "_view_module_version": "",
      "_view_name": null,
      "castShadow": false,
      "children": [],
      "color": "white",
      "frustumCulled": true,
      "intensity": 0.6,
      "matrix": [
       1,
       0,
       0,
       0,
       0,
       1,
       0,
       0,
       0,
       0,
       1,
       0,
       0,
       0,
       0,
       1
      ],
      "matrixAutoUpdate": true,
      "matrixWorld": [
       1,
       0,
       0,
       0,
       0,
       1,
       0,
       0,
       0,
       0,
       1,
       0,
       0,
       0,
       0,
       1
      ],
      "matrixWorldNeedsUpdate": true,
      "modelViewMatrix": [
       1,
       0,
       0,
       0,
       0,
       1,
       0,
       0,
       0,
       0,
       1,
       0,
       0,
       0,
       0,
       1
      ],
      "name": "",
      "normalMatrix": [
       1,
       0,
       0,
       0,
       1,
       0,
       0,
       0,
       1
      ],
      "position": [
       19.5,
       16.319141387939453,
       100.80268201371474
      ],
      "quaternion": [
       0,
       0,
       0,
       1
      ],
      "receiveShadow": false,
      "renderOrder": 0,
      "rotation": [
       0,
       0,
       0,
       "XYZ"
      ],
      "scale": [
       1,
       1,
       1
      ],
      "shadow": "IPY_MODEL_33ac8473-d25e-49e1-b7ce-482a57ef1fd3",
      "target": "IPY_MODEL_1bf05949-6eec-4f5b-9855-68c66bcd9e11",
      "type": "DirectionalLight",
      "up": [
       0,
       1,
       0
      ],
      "visible": true
     }
    },
    "096cb49fc65448e7bef6e949e98071a3": {
     "model_module": "jupyter-threejs",
     "model_module_version": "^2.4.1",
     "model_name": "BufferAttributeModel",
     "state": {
      "_model_module": "jupyter-threejs",
      "_model_module_version": "^2.4.1",
      "_model_name": "BufferAttributeModel",
      "_view_count": null,
      "_view_module": null,
      "_view_module_version": "",
      "_view_name": null,
      "array": {
       "dtype": "float32",
       "shape": [
        3177,
        3
       ]
      },
      "dynamic": false,
      "needsUpdate": false,
      "normalized": false,
      "version": 1
     }
    },
    "09afb5addb254c8eaa57ba17c4a17f6c": {
     "model_module": "jupyter-threejs",
     "model_module_version": "^2.4.1",
     "model_name": "OrbitControlsModel",
     "state": {
      "_model_module": "jupyter-threejs",
      "_model_module_version": "^2.4.1",
      "_model_name": "OrbitControlsModel",
      "_view_count": null,
      "_view_module": null,
      "_view_module_version": "",
      "_view_name": null,
      "autoRotate": false,
      "autoRotateSpeed": 2,
      "controlling": "IPY_MODEL_73da99c3a634410489b3217005de4267",
      "dampingFactor": 0.25,
      "enableDamping": false,
      "enableKeys": true,
      "enablePan": true,
      "enableRotate": true,
      "enableZoom": true,
      "enabled": true,
      "keyPanSpeed": 7,
      "maxAzimuthAngle": "inf",
      "maxDistance": "inf",
      "maxPolarAngle": 3.141592653589793,
      "maxZoom": "inf",
      "minAzimuthAngle": "-inf",
      "minDistance": 0,
      "minPolarAngle": 0,
      "minZoom": 0,
      "panSpeed": 1,
      "rotateSpeed": 1,
      "screenSpacePanning": true,
      "target": [
       19.56626734882593,
       19.52610757946968,
       18.69771385192871
      ],
      "zoomSpeed": 1
     }
    },
    "0bd798a3dd084cb585a969b1fd106644": {
     "model_module": "jupyter-threejs",
     "model_module_version": "^2.4.1",
     "model_name": "BufferAttributeModel",
     "state": {
      "_model_module": "jupyter-threejs",
      "_model_module_version": "^2.4.1",
      "_model_name": "BufferAttributeModel",
      "_view_count": null,
      "_view_module": null,
      "_view_module_version": "",
      "_view_name": null,
      "array": {
       "dtype": "float32",
       "shape": [
        6613,
        3
       ]
      },
      "dynamic": false,
      "needsUpdate": false,
      "normalized": false,
      "version": 1
     }
    },
    "0ef5fa1fc9d94389bf544de1d184ffcb": {
     "model_module": "jupyter-threejs",
     "model_module_version": "^2.4.1",
     "model_name": "AmbientLightModel",
     "state": {
      "_model_module": "jupyter-threejs",
      "_model_module_version": "^2.4.1",
      "_model_name": "AmbientLightModel",
      "_view_count": null,
      "_view_module": null,
      "_view_module_version": "",
      "_view_name": null,
      "castShadow": false,
      "children": [],
      "color": "#ffffff",
      "frustumCulled": true,
      "intensity": 0.5,
      "matrix": [
       1,
       0,
       0,
       0,
       0,
       1,
       0,
       0,
       0,
       0,
       1,
       0,
       0,
       0,
       0,
       1
      ],
      "matrixAutoUpdate": true,
      "matrixWorld": [
       1,
       0,
       0,
       0,
       0,
       1,
       0,
       0,
       0,
       0,
       1,
       0,
       0,
       0,
       0,
       1
      ],
      "matrixWorldNeedsUpdate": false,
      "modelViewMatrix": [
       1,
       0,
       0,
       0,
       0,
       1,
       0,
       0,
       0,
       0,
       1,
       0,
       0,
       0,
       0,
       1
      ],
      "name": "",
      "normalMatrix": [
       1,
       0,
       0,
       0,
       1,
       0,
       0,
       0,
       1
      ],
      "position": [
       0,
       0,
       0
      ],
      "quaternion": [
       0,
       0,
       0,
       1
      ],
      "receiveShadow": false,
      "renderOrder": 0,
      "rotation": [
       0,
       0,
       0,
       "XYZ"
      ],
      "scale": [
       1,
       1,
       1
      ],
      "type": "AmbientLight",
      "up": [
       0,
       1,
       0
      ],
      "visible": true
     }
    },
    "122eff20624a459a9878a4d05b198504": {
     "model_module": "@jupyter-widgets/controls",
     "model_module_version": "1.5.0",
     "model_name": "DescriptionStyleModel",
     "state": {
      "_model_module": "@jupyter-widgets/controls",
      "_model_module_version": "1.5.0",
      "_model_name": "DescriptionStyleModel",
      "_view_count": null,
      "_view_module": "@jupyter-widgets/base",
      "_view_module_version": "1.2.0",
      "_view_name": "StyleView",
      "description_width": ""
     }
    },
    "1533304550944d8d95be6c339fc5f52c": {
     "model_module": "@jupyter-widgets/base",
     "model_module_version": "1.2.0",
     "model_name": "LayoutModel",
     "state": {
      "_model_module": "@jupyter-widgets/base",
      "_model_module_version": "1.2.0",
      "_model_name": "LayoutModel",
      "_view_count": null,
      "_view_module": "@jupyter-widgets/base",
      "_view_module_version": "1.2.0",
      "_view_name": "LayoutView",
      "align_content": null,
      "align_items": null,
      "align_self": null,
      "border": null,
      "bottom": null,
      "display": null,
      "flex": null,
      "flex_flow": null,
      "grid_area": null,
      "grid_auto_columns": null,
      "grid_auto_flow": null,
      "grid_auto_rows": null,
      "grid_column": null,
      "grid_gap": null,
      "grid_row": null,
      "grid_template_areas": null,
      "grid_template_columns": null,
      "grid_template_rows": null,
      "height": null,
      "justify_content": null,
      "justify_items": null,
      "left": null,
      "margin": null,
      "max_height": null,
      "max_width": null,
      "min_height": null,
      "min_width": null,
      "object_fit": null,
      "object_position": null,
      "order": null,
      "overflow": null,
      "overflow_x": null,
      "overflow_y": null,
      "padding": null,
      "right": null,
      "top": null,
      "visibility": null,
      "width": null
     }
    },
    "15da18c8b43446e6858cb894cf0f9bca": {
     "model_module": "jupyter-threejs",
     "model_module_version": "^2.4.1",
     "model_name": "SceneModel",
     "state": {
      "_model_module": "jupyter-threejs",
      "_model_module_version": "^2.4.1",
      "_model_name": "SceneModel",
      "_view_count": null,
      "_view_module": null,
      "_view_module_version": "",
      "_view_name": null,
      "autoUpdate": true,
      "background": "#ffffff",
      "castShadow": false,
      "children": [
       "IPY_MODEL_f96246e78f1241d4a3bd704c5bce4122",
       "IPY_MODEL_0ef5fa1fc9d94389bf544de1d184ffcb",
       "IPY_MODEL_e5b98d80b35c4ea4afc5a349a33dd33d"
      ],
      "fog": null,
      "frustumCulled": true,
      "matrix": [
       1,
       0,
       0,
       0,
       0,
       1,
       0,
       0,
       0,
       0,
       1,
       0,
       0,
       0,
       0,
       1
      ],
      "matrixAutoUpdate": true,
      "matrixWorld": [
       1,
       0,
       0,
       0,
       0,
       1,
       0,
       0,
       0,
       0,
       1,
       0,
       0,
       0,
       0,
       1
      ],
      "matrixWorldNeedsUpdate": false,
      "modelViewMatrix": [
       1,
       0,
       0,
       0,
       0,
       1,
       0,
       0,
       0,
       0,
       1,
       0,
       0,
       0,
       0,
       1
      ],
      "name": "",
      "normalMatrix": [
       1,
       0,
       0,
       0,
       1,
       0,
       0,
       0,
       1
      ],
      "overrideMaterial": null,
      "position": [
       0,
       0,
       0
      ],
      "quaternion": [
       0,
       0,
       0,
       1
      ],
      "receiveShadow": false,
      "renderOrder": 0,
      "rotation": [
       0,
       0,
       0,
       "XYZ"
      ],
      "scale": [
       1,
       1,
       1
      ],
      "type": "Scene",
      "up": [
       0,
       1,
       0
      ],
      "visible": true
     }
    },
    "1ad24d722d9e4bee94b8f27d3db788c8": {
     "model_module": "jupyter-threejs",
     "model_module_version": "^2.4.1",
     "model_name": "WebGLShadowMapModel",
     "state": {
      "_model_module": "jupyter-threejs",
      "_model_module_version": "^2.4.1",
      "_model_name": "WebGLShadowMapModel",
      "_view_count": null,
      "_view_module": null,
      "_view_module_version": "",
      "_view_name": null,
      "enabled": false,
      "type": "PCFShadowMap"
     }
    },
    "1c090379b8b444bc939ad461faae49d6": {
     "model_module": "@jupyter-widgets/controls",
     "model_module_version": "1.5.0",
     "model_name": "HTMLModel",
     "state": {
      "_dom_classes": [],
      "_model_module": "@jupyter-widgets/controls",
      "_model_module_version": "1.5.0",
      "_model_name": "HTMLModel",
      "_view_count": null,
      "_view_module": "@jupyter-widgets/controls",
      "_view_module_version": "1.5.0",
      "_view_name": "HTMLView",
      "description": "",
      "description_tooltip": null,
      "layout": "IPY_MODEL_1f878730ef9b47ae8928f4e0263ce5d2",
      "placeholder": "​",
      "style": "IPY_MODEL_b5ab6562d2a74fecac72001b39875c2e",
      "value": " 5000/5000 [03:28&lt;00:00, 33.07it/s, loss=0.611]"
     }
    },
    "1c434f0793934a709b4d5233440a170b": {
     "model_module": "@jupyter-widgets/base",
     "model_module_version": "1.2.0",
     "model_name": "LayoutModel",
     "state": {
      "_model_module": "@jupyter-widgets/base",
      "_model_module_version": "1.2.0",
      "_model_name": "LayoutModel",
      "_view_count": null,
      "_view_module": "@jupyter-widgets/base",
      "_view_module_version": "1.2.0",
      "_view_name": "LayoutView",
      "align_content": null,
      "align_items": null,
      "align_self": null,
      "border": null,
      "bottom": null,
      "display": null,
      "flex": null,
      "flex_flow": null,
      "grid_area": null,
      "grid_auto_columns": null,
      "grid_auto_flow": null,
      "grid_auto_rows": null,
      "grid_column": null,
      "grid_gap": null,
      "grid_row": null,
      "grid_template_areas": null,
      "grid_template_columns": null,
      "grid_template_rows": null,
      "height": null,
      "justify_content": null,
      "justify_items": null,
      "left": null,
      "margin": null,
      "max_height": null,
      "max_width": null,
      "min_height": null,
      "min_width": null,
      "object_fit": null,
      "object_position": null,
      "order": null,
      "overflow": null,
      "overflow_x": null,
      "overflow_y": null,
      "padding": null,
      "right": null,
      "top": null,
      "visibility": null,
      "width": null
     }
    },
    "1c626e98e1a0446e8d70b53d74e0958f": {
     "model_module": "@jupyter-widgets/base",
     "model_module_version": "1.2.0",
     "model_name": "LayoutModel",
     "state": {
      "_model_module": "@jupyter-widgets/base",
      "_model_module_version": "1.2.0",
      "_model_name": "LayoutModel",
      "_view_count": null,
      "_view_module": "@jupyter-widgets/base",
      "_view_module_version": "1.2.0",
      "_view_name": "LayoutView",
      "align_content": null,
      "align_items": null,
      "align_self": null,
      "border": null,
      "bottom": null,
      "display": null,
      "flex": null,
      "flex_flow": null,
      "grid_area": null,
      "grid_auto_columns": null,
      "grid_auto_flow": null,
      "grid_auto_rows": null,
      "grid_column": null,
      "grid_gap": null,
      "grid_row": null,
      "grid_template_areas": null,
      "grid_template_columns": null,
      "grid_template_rows": null,
      "height": null,
      "justify_content": null,
      "justify_items": null,
      "left": null,
      "margin": null,
      "max_height": null,
      "max_width": null,
      "min_height": null,
      "min_width": null,
      "object_fit": null,
      "object_position": null,
      "order": null,
      "overflow": null,
      "overflow_x": null,
      "overflow_y": null,
      "padding": null,
      "right": null,
      "top": null,
      "visibility": null,
      "width": null
     }
    },
    "1c81f0a67a3c42ada4b4f7ba51004c20": {
     "model_module": "jupyter-threejs",
     "model_module_version": "^2.4.1",
     "model_name": "PointsMaterialModel",
     "state": {
      "_model_module": "jupyter-threejs",
      "_model_module_version": "^2.4.1",
      "_model_name": "PointsMaterialModel",
      "_view_count": null,
      "_view_module": null,
      "_view_module_version": "",
      "_view_name": null,
      "alphaTest": 0.5,
      "blendDst": "OneMinusSrcAlphaFactor",
      "blendDstAlpha": 0,
      "blendEquation": "AddEquation",
      "blendEquationAlpha": 0,
      "blendSrc": "SrcAlphaFactor",
      "blendSrcAlpha": 0,
      "blending": "NormalBlending",
      "clipIntersection": false,
      "clipShadows": false,
      "clippingPlanes": [],
      "color": "red",
      "colorWrite": true,
      "defines": null,
      "depthFunc": "LessEqualDepth",
      "depthTest": true,
      "depthWrite": true,
      "dithering": false,
      "flatShading": false,
      "fog": true,
      "lights": false,
      "map": "IPY_MODEL_32fcb6d5aae14d708c9257951e5b6b57",
      "morphTargets": false,
      "name": "",
      "opacity": 1,
      "overdraw": 0,
      "polygonOffset": false,
      "polygonOffsetFactor": 0,
      "polygonOffsetUnits": 0,
      "precision": null,
      "premultipliedAlpha": false,
      "shadowSide": null,
      "side": "FrontSide",
      "size": 2,
      "sizeAttenuation": true,
      "transparent": false,
      "type": "PointsMaterial",
      "vertexColors": "NoColors",
      "visible": true
     }
    },
    "1f878730ef9b47ae8928f4e0263ce5d2": {
     "model_module": "@jupyter-widgets/base",
     "model_module_version": "1.2.0",
     "model_name": "LayoutModel",
     "state": {
      "_model_module": "@jupyter-widgets/base",
      "_model_module_version": "1.2.0",
      "_model_name": "LayoutModel",
      "_view_count": null,
      "_view_module": "@jupyter-widgets/base",
      "_view_module_version": "1.2.0",
      "_view_name": "LayoutView",
      "align_content": null,
      "align_items": null,
      "align_self": null,
      "border": null,
      "bottom": null,
      "display": null,
      "flex": null,
      "flex_flow": null,
      "grid_area": null,
      "grid_auto_columns": null,
      "grid_auto_flow": null,
      "grid_auto_rows": null,
      "grid_column": null,
      "grid_gap": null,
      "grid_row": null,
      "grid_template_areas": null,
      "grid_template_columns": null,
      "grid_template_rows": null,
      "height": null,
      "justify_content": null,
      "justify_items": null,
      "left": null,
      "margin": null,
      "max_height": null,
      "max_width": null,
      "min_height": null,
      "min_width": null,
      "object_fit": null,
      "object_position": null,
      "order": null,
      "overflow": null,
      "overflow_x": null,
      "overflow_y": null,
      "padding": null,
      "right": null,
      "top": null,
      "visibility": null,
      "width": null
     }
    },
    "21cd72c937be45ffa1aa1ecd66565055": {
     "model_module": "jupyter-threejs",
     "model_module_version": "^2.4.1",
     "model_name": "PerspectiveCameraModel",
     "state": {
      "_model_module": "jupyter-threejs",
      "_model_module_version": "^2.4.1",
      "_model_name": "PerspectiveCameraModel",
      "_view_count": null,
      "_view_module": null,
      "_view_module_version": "",
      "_view_name": null,
      "aspect": 1,
      "castShadow": false,
      "children": [
       "IPY_MODEL_fb0e1201299146d0907726ba0a1671b8"
      ],
      "far": 2000,
      "focus": 342.99758039957504,
      "fov": 30,
      "frustumCulled": true,
      "matrix": [
       1,
       0,
       0,
       0,
       0,
       1,
       -6.214703336382315e-17,
       0,
       0,
       6.214703336382315e-17,
       1,
       0,
       0.021650314331054688,
       21.44474792480471,
       342.955479493203,
       1
      ],
      "matrixAutoUpdate": true,
      "matrixWorld": [
       1,
       0,
       0,
       0,
       0,
       1,
       -6.214703336382315e-17,
       0,
       0,
       6.214703336382315e-17,
       1,
       0,
       0.021650314331054688,
       21.44474792480471,
       342.955479493203,
       1
      ],
      "matrixWorldInverse": [
       1,
       0,
       0,
       0,
       0,
       1,
       6.214703336382315e-17,
       0,
       0,
       -6.214703336382315e-17,
       1,
       0,
       -0.021650314331054688,
       -21.444747924804688,
       -342.955479493203,
       1
      ],
      "matrixWorldNeedsUpdate": false,
      "modelViewMatrix": [
       1,
       0,
       0,
       0,
       0,
       1,
       0,
       0,
       0,
       0,
       1,
       0,
       0,
       0,
       0,
       1
      ],
      "name": "",
      "near": 0.1,
      "normalMatrix": [
       1,
       0,
       0,
       0,
       1,
       0,
       0,
       0,
       1
      ],
      "position": [
       0.021650314331054688,
       21.44474792480471,
       342.955479493203
      ],
      "projectionMatrix": [
       3.7320508075688776,
       0,
       0,
       0,
       0,
       3.7320508075688776,
       0,
       0,
       0,
       0,
       -1.00010000500025,
       -1,
       0,
       0,
       -0.200010000500025,
       0
      ],
      "quaternion": [
       -3.1073516681911577e-17,
       0,
       0,
       1
      ],
      "receiveShadow": false,
      "renderOrder": 0,
      "rotation": [
       -6.214703336382315e-17,
       0,
       0,
       "XYZ"
      ],
      "scale": [
       1,
       1,
       1
      ],
      "type": "PerspectiveCamera",
      "up": [
       0,
       1,
       0
      ],
      "visible": true,
      "zoom": 1
     }
    },
    "21d7ca720cbd4564a2a5570807da4f53": {
     "model_module": "jupyter-threejs",
     "model_module_version": "^2.4.1",
     "model_name": "SceneModel",
     "state": {
      "_model_module": "jupyter-threejs",
      "_model_module_version": "^2.4.1",
      "_model_name": "SceneModel",
      "_view_count": null,
      "_view_module": null,
      "_view_module_version": "",
      "_view_name": null,
      "autoUpdate": true,
      "background": "#ffffff",
      "castShadow": false,
      "children": [
       "IPY_MODEL_44ac3e738dd14856b0c4ebac02c4a6d8",
       "IPY_MODEL_4b9f628316c9498fb32a6fc5adaa4def",
       "IPY_MODEL_cbd0be1818c14d56b3653a1ead09fcf5"
      ],
      "fog": null,
      "frustumCulled": true,
      "matrix": [
       1,
       0,
       0,
       0,
       0,
       1,
       0,
       0,
       0,
       0,
       1,
       0,
       0,
       0,
       0,
       1
      ],
      "matrixAutoUpdate": true,
      "matrixWorld": [
       1,
       0,
       0,
       0,
       0,
       1,
       0,
       0,
       0,
       0,
       1,
       0,
       0,
       0,
       0,
       1
      ],
      "matrixWorldNeedsUpdate": false,
      "modelViewMatrix": [
       1,
       0,
       0,
       0,
       0,
       1,
       0,
       0,
       0,
       0,
       1,
       0,
       0,
       0,
       0,
       1
      ],
      "name": "",
      "normalMatrix": [
       1,
       0,
       0,
       0,
       1,
       0,
       0,
       0,
       1
      ],
      "overrideMaterial": null,
      "position": [
       0,
       0,
       0
      ],
      "quaternion": [
       0,
       0,
       0,
       1
      ],
      "receiveShadow": false,
      "renderOrder": 0,
      "rotation": [
       0,
       0,
       0,
       "XYZ"
      ],
      "scale": [
       1,
       1,
       1
      ],
      "type": "Scene",
      "up": [
       0,
       1,
       0
      ],
      "visible": true
     }
    },
    "2488a84fc9504a1aa25132ae8f0da227": {
     "model_module": "jupyter-threejs",
     "model_module_version": "^2.4.1",
     "model_name": "OrbitControlsModel",
     "state": {
      "_model_module": "jupyter-threejs",
      "_model_module_version": "^2.4.1",
      "_model_name": "OrbitControlsModel",
      "_view_count": null,
      "_view_module": null,
      "_view_module_version": "",
      "_view_name": null,
      "autoRotate": false,
      "autoRotateSpeed": 2,
      "controlling": "IPY_MODEL_44ac3e738dd14856b0c4ebac02c4a6d8",
      "dampingFactor": 0.25,
      "enableDamping": false,
      "enableKeys": true,
      "enablePan": true,
      "enableRotate": true,
      "enableZoom": true,
      "enabled": true,
      "keyPanSpeed": 7,
      "maxAzimuthAngle": "inf",
      "maxDistance": "inf",
      "maxPolarAngle": 3.141592653589793,
      "maxZoom": "inf",
      "minAzimuthAngle": "-inf",
      "minDistance": 0,
      "minPolarAngle": 0,
      "minZoom": 0,
      "panSpeed": 1,
      "rotateSpeed": 1,
      "screenSpacePanning": true,
      "target": [
       19.5,
       18.427691280841827,
       15.430784910917282
      ],
      "zoomSpeed": 1
     }
    },
    "260d4b9064bf4e7f8940f6fdb2db7e60": {
     "model_module": "jupyter-threejs",
     "model_module_version": "^2.4.1",
     "model_name": "DirectionalLightModel",
     "state": {
      "_model_module": "jupyter-threejs",
      "_model_module_version": "^2.4.1",
      "_model_name": "DirectionalLightModel",
      "_view_count": null,
      "_view_module": null,
      "_view_module_version": "",
      "_view_name": null,
      "castShadow": false,
      "children": [],
      "color": "white",
      "frustumCulled": true,
      "intensity": 0.6,
      "matrix": [
       1,
       0,
       0,
       0,
       0,
       1,
       0,
       0,
       0,
       0,
       1,
       0,
       0,
       0,
       0,
       1
      ],
      "matrixAutoUpdate": true,
      "matrixWorld": [
       1,
       0,
       0,
       0,
       0,
       1,
       0,
       0,
       0,
       0,
       1,
       0,
       0,
       0,
       0,
       1
      ],
      "matrixWorldNeedsUpdate": true,
      "modelViewMatrix": [
       1,
       0,
       0,
       0,
       0,
       1,
       0,
       0,
       0,
       0,
       1,
       0,
       0,
       0,
       0,
       1
      ],
      "name": "",
      "normalMatrix": [
       1,
       0,
       0,
       0,
       1,
       0,
       0,
       0,
       1
      ],
      "position": [
       19.56626734882593,
       19.52610757946968,
       118.34056146943013
      ],
      "quaternion": [
       0,
       0,
       0,
       1
      ],
      "receiveShadow": false,
      "renderOrder": 0,
      "rotation": [
       0,
       0,
       0,
       "XYZ"
      ],
      "scale": [
       1,
       1,
       1
      ],
      "shadow": "IPY_MODEL_f478e2f8-2fca-4eee-ae2f-4734e6e69eef",
      "target": "IPY_MODEL_5f27645a-777a-4976-bca4-9d56f8fea3d5",
      "type": "DirectionalLight",
      "up": [
       0,
       1,
       0
      ],
      "visible": true
     }
    },
    "26658e529d884939a63a46946fb3b6ed": {
     "model_module": "@jupyter-widgets/controls",
     "model_module_version": "1.5.0",
     "model_name": "DescriptionStyleModel",
     "state": {
      "_model_module": "@jupyter-widgets/controls",
      "_model_module_version": "1.5.0",
      "_model_name": "DescriptionStyleModel",
      "_view_count": null,
      "_view_module": "@jupyter-widgets/base",
      "_view_module_version": "1.2.0",
      "_view_name": "StyleView",
      "description_width": ""
     }
    },
    "28e2959b55e843a6888ef9b6237fb6c0": {
     "model_module": "jupyter-threejs",
     "model_module_version": "^2.4.1",
     "model_name": "BufferGeometryModel",
     "state": {
      "MaxIndex": 65535,
      "_model_module": "jupyter-threejs",
      "_model_module_version": "^2.4.1",
      "_model_name": "BufferGeometryModel",
      "_ref_geometry": null,
      "_store_ref": false,
      "_view_count": null,
      "_view_module": null,
      "_view_module_version": "",
      "_view_name": null,
      "attributes": {
       "color": "IPY_MODEL_474056ac15dd4b3687dfd435a52ceca7",
       "index": "IPY_MODEL_48a99ce4d6e84123a293a091d5dc9bce",
       "position": "IPY_MODEL_0bd798a3dd084cb585a969b1fd106644"
      },
      "index": null,
      "morphAttributes": {},
      "name": "",
      "type": "BufferGeometry",
      "userData": {}
     }
    },
    "29255944e05e486e97462a0f2df09fd1": {
     "model_module": "@jupyter-widgets/controls",
     "model_module_version": "1.5.0",
     "model_name": "FloatProgressModel",
     "state": {
      "_dom_classes": [],
      "_model_module": "@jupyter-widgets/controls",
      "_model_module_version": "1.5.0",
      "_model_name": "FloatProgressModel",
      "_view_count": null,
      "_view_module": "@jupyter-widgets/controls",
      "_view_module_version": "1.5.0",
      "_view_name": "ProgressView",
      "bar_style": "success",
      "description": "",
      "description_tooltip": null,
      "layout": "IPY_MODEL_5b63cd9c94534986a87d072788c6a3f5",
      "max": 10000,
      "min": 0,
      "orientation": "horizontal",
      "style": "IPY_MODEL_43661a3d263e48b0a10aab2c375fbb50",
      "value": 10000
     }
    },
    "2cf64c8ba4f446b38cc2b1f92922cb60": {
     "model_module": "@jupyter-widgets/base",
     "model_module_version": "1.2.0",
     "model_name": "LayoutModel",
     "state": {
      "_model_module": "@jupyter-widgets/base",
      "_model_module_version": "1.2.0",
      "_model_name": "LayoutModel",
      "_view_count": null,
      "_view_module": "@jupyter-widgets/base",
      "_view_module_version": "1.2.0",
      "_view_name": "LayoutView",
      "align_content": null,
      "align_items": null,
      "align_self": null,
      "border": null,
      "bottom": null,
      "display": null,
      "flex": null,
      "flex_flow": null,
      "grid_area": null,
      "grid_auto_columns": null,
      "grid_auto_flow": null,
      "grid_auto_rows": null,
      "grid_column": null,
      "grid_gap": null,
      "grid_row": null,
      "grid_template_areas": null,
      "grid_template_columns": null,
      "grid_template_rows": null,
      "height": null,
      "justify_content": null,
      "justify_items": null,
      "left": null,
      "margin": null,
      "max_height": null,
      "max_width": null,
      "min_height": null,
      "min_width": null,
      "object_fit": null,
      "object_position": null,
      "order": null,
      "overflow": null,
      "overflow_x": null,
      "overflow_y": null,
      "padding": null,
      "right": null,
      "top": null,
      "visibility": null,
      "width": null
     }
    },
    "2eb48b41ecb94ef18aba4c9dce9fc3cd": {
     "model_module": "jupyter-threejs",
     "model_module_version": "^2.4.1",
     "model_name": "WebGLShadowMapModel",
     "state": {
      "_model_module": "jupyter-threejs",
      "_model_module_version": "^2.4.1",
      "_model_name": "WebGLShadowMapModel",
      "_view_count": null,
      "_view_module": null,
      "_view_module_version": "",
      "_view_name": null,
      "enabled": false,
      "type": "PCFShadowMap"
     }
    },
    "3038d1154fae492e8627438f9688abec": {
     "model_module": "@jupyter-widgets/controls",
     "model_module_version": "1.5.0",
     "model_name": "HTMLModel",
     "state": {
      "_dom_classes": [],
      "_model_module": "@jupyter-widgets/controls",
      "_model_module_version": "1.5.0",
      "_model_name": "HTMLModel",
      "_view_count": null,
      "_view_module": "@jupyter-widgets/controls",
      "_view_module_version": "1.5.0",
      "_view_name": "HTMLView",
      "description": "",
      "description_tooltip": null,
      "layout": "IPY_MODEL_99f4e4ad068e4cb3b50a11aa6de8318a",
      "placeholder": "​",
      "style": "IPY_MODEL_122eff20624a459a9878a4d05b198504",
      "value": " 10000/10000 [01:24&lt;00:00, 128.10it/s, loss=0.000689]"
     }
    },
    "31793eea58c6499a9cf5c2e546b99100": {
     "model_module": "jupyter-threejs",
     "model_module_version": "^2.4.1",
     "model_name": "BufferAttributeModel",
     "state": {
      "_model_module": "jupyter-threejs",
      "_model_module_version": "^2.4.1",
      "_model_name": "BufferAttributeModel",
      "_view_count": null,
      "_view_module": null,
      "_view_module_version": "",
      "_view_name": null,
      "array": {
       "dtype": "float32",
       "shape": [
        3177,
        3
       ]
      },
      "dynamic": false,
      "needsUpdate": false,
      "normalized": true,
      "version": 1
     }
    },
    "32dc21c1ea6e460597628818270577d0": {
     "model_module": "jupyter-threejs",
     "model_module_version": "^2.4.1",
     "model_name": "RendererModel",
     "state": {
      "_alpha": false,
      "_antialias": true,
      "_dom_classes": [],
      "_height": 600,
      "_model_module": "jupyter-threejs",
      "_model_module_version": "^2.4.1",
      "_model_name": "RendererModel",
      "_pause_autorender": false,
      "_view_count": null,
      "_view_module": "jupyter-threejs",
      "_view_module_version": "^2.4.1",
      "_view_name": "RendererView",
      "_webgl_version": 2,
      "_width": 600,
      "autoClear": true,
      "autoClearColor": true,
      "autoClearDepth": true,
      "autoClearStencil": true,
      "background": "black",
      "background_opacity": 1,
      "camera": "IPY_MODEL_f96246e78f1241d4a3bd704c5bce4122",
      "clearColor": "#000000",
      "clearOpacity": 1,
      "clippingPlanes": [],
      "controls": [
       "IPY_MODEL_d20d3179ed2146b5896cff8e44d6a8e8"
      ],
      "gammaFactor": 2,
      "gammaInput": false,
      "gammaOutput": false,
      "layout": "IPY_MODEL_e7411a12b6e74aa38b8993650bb01f9a",
      "localClippingEnabled": false,
      "maxMorphNormals": 4,
      "maxMorphTargets": 8,
      "physicallyCorrectLights": false,
      "scene": "IPY_MODEL_15da18c8b43446e6858cb894cf0f9bca",
      "shadowMap": "IPY_MODEL_1ad24d722d9e4bee94b8f27d3db788c8",
      "sortObject": true,
      "toneMapping": "LinearToneMapping",
      "toneMappingExposure": 1,
      "toneMappingWhitePoint": 1
     }
    },
    "32fcb6d5aae14d708c9257951e5b6b57": {
     "model_module": "jupyter-threejs",
     "model_module_version": "^2.4.1",
     "model_name": "DataTextureModel",
     "state": {
      "_model_module": "jupyter-threejs",
      "_model_module_version": "^2.4.1",
      "_model_name": "DataTextureModel",
      "_view_count": null,
      "_view_module": null,
      "_view_module_version": "",
      "_view_name": null,
      "anisotropy": 1,
      "data": {
       "dtype": "float32",
       "shape": [
        16,
        16,
        4
       ]
      },
      "encoding": "LinearEncoding",
      "flipY": false,
      "format": "RGBAFormat",
      "generateMipmaps": false,
      "magFilter": "NearestFilter",
      "mapping": "UVMapping",
      "minFilter": "NearestFilter",
      "name": "",
      "offset": [
       0,
       0
      ],
      "premultiplyAlpha": false,
      "repeat": [
       1,
       1
      ],
      "rotation": 0,
      "type": "FloatType",
      "unpackAlignment": 4,
      "version": 1,
      "wrapS": "ClampToEdgeWrapping",
      "wrapT": "ClampToEdgeWrapping"
     }
    },
    "334daf4803474cf6a3d88c5c2fefdb49": {
     "model_module": "jupyter-threejs",
     "model_module_version": "^2.4.1",
     "model_name": "WebGLShadowMapModel",
     "state": {
      "_model_module": "jupyter-threejs",
      "_model_module_version": "^2.4.1",
      "_model_name": "WebGLShadowMapModel",
      "_view_count": null,
      "_view_module": null,
      "_view_module_version": "",
      "_view_name": null,
      "enabled": false,
      "type": "PCFShadowMap"
     }
    },
    "391b74dbf597484d894f4849f0cc0373": {
     "model_module": "jupyter-threejs",
     "model_module_version": "^2.4.1",
     "model_name": "RendererModel",
     "state": {
      "_alpha": false,
      "_antialias": true,
      "_dom_classes": [],
      "_height": 600,
      "_model_module": "jupyter-threejs",
      "_model_module_version": "^2.4.1",
      "_model_name": "RendererModel",
      "_pause_autorender": false,
      "_view_count": null,
      "_view_module": "jupyter-threejs",
      "_view_module_version": "^2.4.1",
      "_view_name": "RendererView",
      "_webgl_version": 2,
      "_width": 600,
      "autoClear": true,
      "autoClearColor": true,
      "autoClearDepth": true,
      "autoClearStencil": true,
      "background": "black",
      "background_opacity": 1,
      "camera": "IPY_MODEL_73da99c3a634410489b3217005de4267",
      "clearColor": "#000000",
      "clearOpacity": 1,
      "clippingPlanes": [],
      "controls": [
       "IPY_MODEL_09afb5addb254c8eaa57ba17c4a17f6c"
      ],
      "gammaFactor": 2,
      "gammaInput": false,
      "gammaOutput": false,
      "layout": "IPY_MODEL_58878c7d0deb48ffa0ed8ffa8c7efb76",
      "localClippingEnabled": false,
      "maxMorphNormals": 4,
      "maxMorphTargets": 8,
      "physicallyCorrectLights": false,
      "scene": "IPY_MODEL_dbd12d44ada7410581f4f9a0532556ae",
      "shadowMap": "IPY_MODEL_2eb48b41ecb94ef18aba4c9dce9fc3cd",
      "sortObject": true,
      "toneMapping": "LinearToneMapping",
      "toneMappingExposure": 1,
      "toneMappingWhitePoint": 1
     }
    },
    "43661a3d263e48b0a10aab2c375fbb50": {
     "model_module": "@jupyter-widgets/controls",
     "model_module_version": "1.5.0",
     "model_name": "ProgressStyleModel",
     "state": {
      "_model_module": "@jupyter-widgets/controls",
      "_model_module_version": "1.5.0",
      "_model_name": "ProgressStyleModel",
      "_view_count": null,
      "_view_module": "@jupyter-widgets/base",
      "_view_module_version": "1.2.0",
      "_view_name": "StyleView",
      "bar_color": null,
      "description_width": ""
     }
    },
    "44ac3e738dd14856b0c4ebac02c4a6d8": {
     "model_module": "jupyter-threejs",
     "model_module_version": "^2.4.1",
     "model_name": "PerspectiveCameraModel",
     "state": {
      "_model_module": "jupyter-threejs",
      "_model_module_version": "^2.4.1",
      "_model_name": "PerspectiveCameraModel",
      "_view_count": null,
      "_view_module": null,
      "_view_module_version": "",
      "_view_name": null,
      "aspect": 1,
      "castShadow": false,
      "children": [
       "IPY_MODEL_e341313ad08d4122b0165faec7573670"
      ],
      "far": 2000,
      "focus": 89.5249348114381,
      "fov": 30,
      "frustumCulled": true,
      "matrix": [
       1,
       0,
       0,
       0,
       0,
       1,
       -7.936813774359969e-17,
       0,
       0,
       7.936813774359969e-17,
       1,
       0,
       19.5,
       18.427691280841834,
       104.95571972235538,
       1
      ],
      "matrixAutoUpdate": true,
      "matrixWorld": [
       1,
       0,
       0,
       0,
       0,
       1,
       -7.936813774359969e-17,
       0,
       0,
       7.936813774359969e-17,
       1,
       0,
       19.5,
       18.427691280841834,
       104.95571972235538,
       1
      ],
      "matrixWorldInverse": [
       1,
       0,
       0,
       0,
       0,
       1,
       7.936813774359969e-17,
       0,
       0,
       -7.936813774359969e-17,
       1,
       0,
       -19.5,
       -18.427691280841827,
       -104.95571972235538,
       1
      ],
      "matrixWorldNeedsUpdate": false,
      "modelViewMatrix": [
       1,
       0,
       0,
       0,
       0,
       1,
       0,
       0,
       0,
       0,
       1,
       0,
       0,
       0,
       0,
       1
      ],
      "name": "",
      "near": 0.1,
      "normalMatrix": [
       1,
       0,
       0,
       0,
       1,
       0,
       0,
       0,
       1
      ],
      "position": [
       20.382923435347532,
       -80.76347233687763,
       14.883349187568955
      ],
      "projectionMatrix": [
       3.7320508075688776,
       0,
       0,
       0,
       0,
       3.7320508075688776,
       0,
       0,
       0,
       0,
       -1.00010000500025,
       -1,
       0,
       0,
       -0.200010000500025,
       0
      ],
      "quaternion": [
       0.3420855575716154,
       0.6210771436875586,
       -0.6146064426147007,
       0.34568710358693355
      ],
      "receiveShadow": false,
      "renderOrder": 0,
      "rotation": [
       -7.936813774359969e-17,
       0,
       0,
       "XYZ"
      ],
      "scale": [
       1,
       1,
       1
      ],
      "type": "PerspectiveCamera",
      "up": [
       0,
       1,
       0
      ],
      "visible": true,
      "zoom": 1
     }
    },
    "474056ac15dd4b3687dfd435a52ceca7": {
     "model_module": "jupyter-threejs",
     "model_module_version": "^2.4.1",
     "model_name": "BufferAttributeModel",
     "state": {
      "_model_module": "jupyter-threejs",
      "_model_module_version": "^2.4.1",
      "_model_name": "BufferAttributeModel",
      "_view_count": null,
      "_view_module": null,
      "_view_module_version": "",
      "_view_name": null,
      "array": {
       "dtype": "float32",
       "shape": [
        6613,
        3
       ]
      },
      "dynamic": false,
      "needsUpdate": false,
      "normalized": true,
      "version": 1
     }
    },
    "48a99ce4d6e84123a293a091d5dc9bce": {
     "model_module": "jupyter-threejs",
     "model_module_version": "^2.4.1",
     "model_name": "BufferAttributeModel",
     "state": {
      "_model_module": "jupyter-threejs",
      "_model_module_version": "^2.4.1",
      "_model_name": "BufferAttributeModel",
      "_view_count": null,
      "_view_module": null,
      "_view_module_version": "",
      "_view_name": null,
      "array": {
       "dtype": "uint32",
       "shape": [
        39474
       ]
      },
      "dynamic": false,
      "needsUpdate": false,
      "normalized": false,
      "version": 1
     }
    },
    "492ff3d421e346a08c14ffcfe5936ed4": {
     "model_module": "@jupyter-widgets/controls",
     "model_module_version": "1.5.0",
     "model_name": "ProgressStyleModel",
     "state": {
      "_model_module": "@jupyter-widgets/controls",
      "_model_module_version": "1.5.0",
      "_model_name": "ProgressStyleModel",
      "_view_count": null,
      "_view_module": "@jupyter-widgets/base",
      "_view_module_version": "1.2.0",
      "_view_name": "StyleView",
      "bar_color": null,
      "description_width": ""
     }
    },
    "49da82c6bb59404ab91092e0d87c12d7": {
     "model_module": "jupyter-threejs",
     "model_module_version": "^2.4.1",
     "model_name": "DirectionalLightModel",
     "state": {
      "_model_module": "jupyter-threejs",
      "_model_module_version": "^2.4.1",
      "_model_name": "DirectionalLightModel",
      "_view_count": null,
      "_view_module": null,
      "_view_module_version": "",
      "_view_name": null,
      "castShadow": false,
      "children": [],
      "color": "white",
      "frustumCulled": true,
      "intensity": 0.6,
      "matrix": [
       1,
       0,
       0,
       0,
       0,
       1,
       0,
       0,
       0,
       0,
       1,
       0,
       0,
       0,
       0,
       1
      ],
      "matrixAutoUpdate": true,
      "matrixWorld": [
       1,
       0,
       0,
       0,
       0,
       1,
       0,
       0,
       0,
       0,
       1,
       0,
       0,
       0,
       0,
       1
      ],
      "matrixWorldNeedsUpdate": true,
      "modelViewMatrix": [
       1,
       0,
       0,
       0,
       0,
       1,
       0,
       0,
       0,
       0,
       1,
       0,
       0,
       0,
       0,
       1
      ],
      "name": "",
      "normalMatrix": [
       1,
       0,
       0,
       0,
       1,
       0,
       0,
       0,
       1
      ],
      "position": [
       18.959218978881836,
       16.47233337163925,
       98.343185685602
      ],
      "quaternion": [
       0,
       0,
       0,
       1
      ],
      "receiveShadow": false,
      "renderOrder": 0,
      "rotation": [
       0,
       0,
       0,
       "XYZ"
      ],
      "scale": [
       1,
       1,
       1
      ],
      "shadow": "IPY_MODEL_dfc72145-e8bb-41a2-9750-35bac5393df0",
      "target": "IPY_MODEL_a4212ac4-2852-469f-8fe0-c8ab0e4347b3",
      "type": "DirectionalLight",
      "up": [
       0,
       1,
       0
      ],
      "visible": true
     }
    },
    "4a39316fe18743639eae95ae2512c320": {
     "model_module": "@jupyter-widgets/base",
     "model_module_version": "1.2.0",
     "model_name": "LayoutModel",
     "state": {
      "_model_module": "@jupyter-widgets/base",
      "_model_module_version": "1.2.0",
      "_model_name": "LayoutModel",
      "_view_count": null,
      "_view_module": "@jupyter-widgets/base",
      "_view_module_version": "1.2.0",
      "_view_name": "LayoutView",
      "align_content": null,
      "align_items": null,
      "align_self": null,
      "border": null,
      "bottom": null,
      "display": null,
      "flex": null,
      "flex_flow": null,
      "grid_area": null,
      "grid_auto_columns": null,
      "grid_auto_flow": null,
      "grid_auto_rows": null,
      "grid_column": null,
      "grid_gap": null,
      "grid_row": null,
      "grid_template_areas": null,
      "grid_template_columns": null,
      "grid_template_rows": null,
      "height": null,
      "justify_content": null,
      "justify_items": null,
      "left": null,
      "margin": null,
      "max_height": null,
      "max_width": null,
      "min_height": null,
      "min_width": null,
      "object_fit": null,
      "object_position": null,
      "order": null,
      "overflow": null,
      "overflow_x": null,
      "overflow_y": null,
      "padding": null,
      "right": null,
      "top": null,
      "visibility": null,
      "width": null
     }
    },
    "4b9f628316c9498fb32a6fc5adaa4def": {
     "model_module": "jupyter-threejs",
     "model_module_version": "^2.4.1",
     "model_name": "AmbientLightModel",
     "state": {
      "_model_module": "jupyter-threejs",
      "_model_module_version": "^2.4.1",
      "_model_name": "AmbientLightModel",
      "_view_count": null,
      "_view_module": null,
      "_view_module_version": "",
      "_view_name": null,
      "castShadow": false,
      "children": [],
      "color": "#ffffff",
      "frustumCulled": true,
      "intensity": 0.5,
      "matrix": [
       1,
       0,
       0,
       0,
       0,
       1,
       0,
       0,
       0,
       0,
       1,
       0,
       0,
       0,
       0,
       1
      ],
      "matrixAutoUpdate": true,
      "matrixWorld": [
       1,
       0,
       0,
       0,
       0,
       1,
       0,
       0,
       0,
       0,
       1,
       0,
       0,
       0,
       0,
       1
      ],
      "matrixWorldNeedsUpdate": false,
      "modelViewMatrix": [
       1,
       0,
       0,
       0,
       0,
       1,
       0,
       0,
       0,
       0,
       1,
       0,
       0,
       0,
       0,
       1
      ],
      "name": "",
      "normalMatrix": [
       1,
       0,
       0,
       0,
       1,
       0,
       0,
       0,
       1
      ],
      "position": [
       0,
       0,
       0
      ],
      "quaternion": [
       0,
       0,
       0,
       1
      ],
      "receiveShadow": false,
      "renderOrder": 0,
      "rotation": [
       0,
       0,
       0,
       "XYZ"
      ],
      "scale": [
       1,
       1,
       1
      ],
      "type": "AmbientLight",
      "up": [
       0,
       1,
       0
      ],
      "visible": true
     }
    },
    "4d0f56e67ff14eba9aad0fc176f4e719": {
     "model_module": "jupyter-threejs",
     "model_module_version": "^2.4.1",
     "model_name": "BufferAttributeModel",
     "state": {
      "_model_module": "jupyter-threejs",
      "_model_module_version": "^2.4.1",
      "_model_name": "BufferAttributeModel",
      "_view_count": null,
      "_view_module": null,
      "_view_module_version": "",
      "_view_name": null,
      "array": {
       "dtype": "float32",
       "shape": [
        4780,
        3
       ]
      },
      "dynamic": false,
      "needsUpdate": false,
      "normalized": true,
      "version": 1
     }
    },
    "529ddc48de0941bbbfff3d70615ff8d3": {
     "model_module": "@jupyter-widgets/base",
     "model_module_version": "1.2.0",
     "model_name": "LayoutModel",
     "state": {
      "_model_module": "@jupyter-widgets/base",
      "_model_module_version": "1.2.0",
      "_model_name": "LayoutModel",
      "_view_count": null,
      "_view_module": "@jupyter-widgets/base",
      "_view_module_version": "1.2.0",
      "_view_name": "LayoutView",
      "align_content": null,
      "align_items": null,
      "align_self": null,
      "border": null,
      "bottom": null,
      "display": null,
      "flex": null,
      "flex_flow": null,
      "grid_area": null,
      "grid_auto_columns": null,
      "grid_auto_flow": null,
      "grid_auto_rows": null,
      "grid_column": null,
      "grid_gap": null,
      "grid_row": null,
      "grid_template_areas": null,
      "grid_template_columns": null,
      "grid_template_rows": null,
      "height": null,
      "justify_content": null,
      "justify_items": null,
      "left": null,
      "margin": null,
      "max_height": null,
      "max_width": null,
      "min_height": null,
      "min_width": null,
      "object_fit": null,
      "object_position": null,
      "order": null,
      "overflow": null,
      "overflow_x": null,
      "overflow_y": null,
      "padding": null,
      "right": null,
      "top": null,
      "visibility": null,
      "width": null
     }
    },
    "580bfdbf3d91487593d7075061a2dd85": {
     "model_module": "@jupyter-widgets/controls",
     "model_module_version": "1.5.0",
     "model_name": "FloatProgressModel",
     "state": {
      "_dom_classes": [],
      "_model_module": "@jupyter-widgets/controls",
      "_model_module_version": "1.5.0",
      "_model_name": "FloatProgressModel",
      "_view_count": null,
      "_view_module": "@jupyter-widgets/controls",
      "_view_module_version": "1.5.0",
      "_view_name": "ProgressView",
      "bar_style": "success",
      "description": "",
      "description_tooltip": null,
      "layout": "IPY_MODEL_c6afaf3678374b0fb25ff3dfd9b9b9f5",
      "max": 5000,
      "min": 0,
      "orientation": "horizontal",
      "style": "IPY_MODEL_5adb54f552ee4641bc9a8005dcc6331b",
      "value": 5000
     }
    },
    "58878c7d0deb48ffa0ed8ffa8c7efb76": {
     "model_module": "@jupyter-widgets/base",
     "model_module_version": "1.2.0",
     "model_name": "LayoutModel",
     "state": {
      "_model_module": "@jupyter-widgets/base",
      "_model_module_version": "1.2.0",
      "_model_name": "LayoutModel",
      "_view_count": null,
      "_view_module": "@jupyter-widgets/base",
      "_view_module_version": "1.2.0",
      "_view_name": "LayoutView",
      "align_content": null,
      "align_items": null,
      "align_self": null,
      "border": null,
      "bottom": null,
      "display": null,
      "flex": null,
      "flex_flow": null,
      "grid_area": null,
      "grid_auto_columns": null,
      "grid_auto_flow": null,
      "grid_auto_rows": null,
      "grid_column": null,
      "grid_gap": null,
      "grid_row": null,
      "grid_template_areas": null,
      "grid_template_columns": null,
      "grid_template_rows": null,
      "height": null,
      "justify_content": null,
      "justify_items": null,
      "left": null,
      "margin": null,
      "max_height": null,
      "max_width": null,
      "min_height": null,
      "min_width": null,
      "object_fit": null,
      "object_position": null,
      "order": null,
      "overflow": null,
      "overflow_x": null,
      "overflow_y": null,
      "padding": null,
      "right": null,
      "top": null,
      "visibility": null,
      "width": null
     }
    },
    "5adb54f552ee4641bc9a8005dcc6331b": {
     "model_module": "@jupyter-widgets/controls",
     "model_module_version": "1.5.0",
     "model_name": "ProgressStyleModel",
     "state": {
      "_model_module": "@jupyter-widgets/controls",
      "_model_module_version": "1.5.0",
      "_model_name": "ProgressStyleModel",
      "_view_count": null,
      "_view_module": "@jupyter-widgets/base",
      "_view_module_version": "1.2.0",
      "_view_name": "StyleView",
      "bar_color": null,
      "description_width": ""
     }
    },
    "5b63cd9c94534986a87d072788c6a3f5": {
     "model_module": "@jupyter-widgets/base",
     "model_module_version": "1.2.0",
     "model_name": "LayoutModel",
     "state": {
      "_model_module": "@jupyter-widgets/base",
      "_model_module_version": "1.2.0",
      "_model_name": "LayoutModel",
      "_view_count": null,
      "_view_module": "@jupyter-widgets/base",
      "_view_module_version": "1.2.0",
      "_view_name": "LayoutView",
      "align_content": null,
      "align_items": null,
      "align_self": null,
      "border": null,
      "bottom": null,
      "display": null,
      "flex": null,
      "flex_flow": null,
      "grid_area": null,
      "grid_auto_columns": null,
      "grid_auto_flow": null,
      "grid_auto_rows": null,
      "grid_column": null,
      "grid_gap": null,
      "grid_row": null,
      "grid_template_areas": null,
      "grid_template_columns": null,
      "grid_template_rows": null,
      "height": null,
      "justify_content": null,
      "justify_items": null,
      "left": null,
      "margin": null,
      "max_height": null,
      "max_width": null,
      "min_height": null,
      "min_width": null,
      "object_fit": null,
      "object_position": null,
      "order": null,
      "overflow": null,
      "overflow_x": null,
      "overflow_y": null,
      "padding": null,
      "right": null,
      "top": null,
      "visibility": null,
      "width": null
     }
    },
    "5cf9d8a7f8244396b95182325f948b20": {
     "model_module": "jupyter-threejs",
     "model_module_version": "^2.4.1",
     "model_name": "BufferGeometryModel",
     "state": {
      "MaxIndex": 65535,
      "_model_module": "jupyter-threejs",
      "_model_module_version": "^2.4.1",
      "_model_name": "BufferGeometryModel",
      "_ref_geometry": null,
      "_store_ref": false,
      "_view_count": null,
      "_view_module": null,
      "_view_module_version": "",
      "_view_name": null,
      "attributes": {
       "color": "IPY_MODEL_31793eea58c6499a9cf5c2e546b99100",
       "index": "IPY_MODEL_e214829b89954685acf6c145ed2f2ca0",
       "position": "IPY_MODEL_096cb49fc65448e7bef6e949e98071a3"
      },
      "index": null,
      "morphAttributes": {},
      "name": "",
      "type": "BufferGeometry",
      "userData": {}
     }
    },
    "6aa4f2df540342328a880e5761a52850": {
     "model_module": "jupyter-threejs",
     "model_module_version": "^2.4.1",
     "model_name": "AmbientLightModel",
     "state": {
      "_model_module": "jupyter-threejs",
      "_model_module_version": "^2.4.1",
      "_model_name": "AmbientLightModel",
      "_view_count": null,
      "_view_module": null,
      "_view_module_version": "",
      "_view_name": null,
      "castShadow": false,
      "children": [],
      "color": "#ffffff",
      "frustumCulled": true,
      "intensity": 0.5,
      "matrix": [
       1,
       0,
       0,
       0,
       0,
       1,
       0,
       0,
       0,
       0,
       1,
       0,
       0,
       0,
       0,
       1
      ],
      "matrixAutoUpdate": true,
      "matrixWorld": [
       1,
       0,
       0,
       0,
       0,
       1,
       0,
       0,
       0,
       0,
       1,
       0,
       0,
       0,
       0,
       1
      ],
      "matrixWorldNeedsUpdate": false,
      "modelViewMatrix": [
       1,
       0,
       0,
       0,
       0,
       1,
       0,
       0,
       0,
       0,
       1,
       0,
       0,
       0,
       0,
       1
      ],
      "name": "",
      "normalMatrix": [
       1,
       0,
       0,
       0,
       1,
       0,
       0,
       0,
       1
      ],
      "position": [
       0,
       0,
       0
      ],
      "quaternion": [
       0,
       0,
       0,
       1
      ],
      "receiveShadow": false,
      "renderOrder": 0,
      "rotation": [
       0,
       0,
       0,
       "XYZ"
      ],
      "scale": [
       1,
       1,
       1
      ],
      "type": "AmbientLight",
      "up": [
       0,
       1,
       0
      ],
      "visible": true
     }
    },
    "6b8801d6968a4dc8a599e286bad8e156": {
     "model_module": "jupyter-threejs",
     "model_module_version": "^2.4.1",
     "model_name": "BufferGeometryModel",
     "state": {
      "MaxIndex": 65535,
      "_model_module": "jupyter-threejs",
      "_model_module_version": "^2.4.1",
      "_model_name": "BufferGeometryModel",
      "_ref_geometry": null,
      "_store_ref": false,
      "_view_count": null,
      "_view_module": null,
      "_view_module_version": "",
      "_view_name": null,
      "attributes": {
       "color": "IPY_MODEL_9e390bb2a45045a0bea292300d4422b5",
       "index": "IPY_MODEL_8a8db73d67154ce5bd44bbeb846d7359",
       "position": "IPY_MODEL_927def9a13a14f00a008e7765fb9dd78"
      },
      "index": null,
      "morphAttributes": {},
      "name": "",
      "type": "BufferGeometry",
      "userData": {}
     }
    },
    "6bc487dc19884862a2d7412d87d04e54": {
     "model_module": "@jupyter-widgets/controls",
     "model_module_version": "1.5.0",
     "model_name": "DescriptionStyleModel",
     "state": {
      "_model_module": "@jupyter-widgets/controls",
      "_model_module_version": "1.5.0",
      "_model_name": "DescriptionStyleModel",
      "_view_count": null,
      "_view_module": "@jupyter-widgets/base",
      "_view_module_version": "1.2.0",
      "_view_name": "StyleView",
      "description_width": ""
     }
    },
    "6bc9b2fd29294397bfaa45ef111de96f": {
     "model_module": "jupyter-threejs",
     "model_module_version": "^2.4.1",
     "model_name": "BufferAttributeModel",
     "state": {
      "_model_module": "jupyter-threejs",
      "_model_module_version": "^2.4.1",
      "_model_name": "BufferAttributeModel",
      "_view_count": null,
      "_view_module": null,
      "_view_module_version": "",
      "_view_name": null,
      "array": {
       "dtype": "float32",
       "shape": [
        4780,
        3
       ]
      },
      "dynamic": false,
      "needsUpdate": false,
      "normalized": false,
      "version": 1
     }
    },
    "7291c1b7d2ca4391958376561a2e8d51": {
     "model_module": "jupyter-threejs",
     "model_module_version": "^2.4.1",
     "model_name": "BufferGeometryModel",
     "state": {
      "MaxIndex": 65535,
      "_model_module": "jupyter-threejs",
      "_model_module_version": "^2.4.1",
      "_model_name": "BufferGeometryModel",
      "_ref_geometry": null,
      "_store_ref": false,
      "_view_count": null,
      "_view_module": null,
      "_view_module_version": "",
      "_view_name": null,
      "attributes": {
       "color": "IPY_MODEL_4d0f56e67ff14eba9aad0fc176f4e719",
       "index": "IPY_MODEL_f6ddac9617d14a3995ef687f28439061",
       "position": "IPY_MODEL_6bc9b2fd29294397bfaa45ef111de96f"
      },
      "index": null,
      "morphAttributes": {},
      "name": "",
      "type": "BufferGeometry",
      "userData": {}
     }
    },
    "72d26aede05b4fe4bea5f10ff85dc31f": {
     "model_module": "@jupyter-widgets/controls",
     "model_module_version": "1.5.0",
     "model_name": "HBoxModel",
     "state": {
      "_dom_classes": [],
      "_model_module": "@jupyter-widgets/controls",
      "_model_module_version": "1.5.0",
      "_model_name": "HBoxModel",
      "_view_count": null,
      "_view_module": "@jupyter-widgets/controls",
      "_view_module_version": "1.5.0",
      "_view_name": "HBoxView",
      "box_style": "",
      "children": [
       "IPY_MODEL_8c004aa288324b8c8617fbc423480388",
       "IPY_MODEL_e6c32731ffd94a6f995b0ed0b6b1ffd0",
       "IPY_MODEL_1c090379b8b444bc939ad461faae49d6"
      ],
      "layout": "IPY_MODEL_1c434f0793934a709b4d5233440a170b"
     }
    },
    "73da99c3a634410489b3217005de4267": {
     "model_module": "jupyter-threejs",
     "model_module_version": "^2.4.1",
     "model_name": "PerspectiveCameraModel",
     "state": {
      "_model_module": "jupyter-threejs",
      "_model_module_version": "^2.4.1",
      "_model_name": "PerspectiveCameraModel",
      "_view_count": null,
      "_view_module": null,
      "_view_module_version": "",
      "_view_name": null,
      "aspect": 1,
      "castShadow": false,
      "children": [
       "IPY_MODEL_260d4b9064bf4e7f8940f6fdb2db7e60"
      ],
      "far": 2000,
      "focus": 99.64284761750142,
      "fov": 30,
      "frustumCulled": true,
      "matrix": [
       1,
       0,
       0,
       0,
       0,
       1,
       -7.130895520847192e-17,
       0,
       0,
       7.130895520847192e-17,
       1,
       0,
       19.56626734882593,
       19.526107579469688,
       118.34056146943013,
       1
      ],
      "matrixAutoUpdate": true,
      "matrixWorld": [
       1,
       0,
       0,
       0,
       0,
       1,
       -7.130895520847192e-17,
       0,
       0,
       7.130895520847192e-17,
       1,
       0,
       19.56626734882593,
       19.526107579469688,
       118.34056146943013,
       1
      ],
      "matrixWorldInverse": [
       1,
       0,
       0,
       0,
       0,
       1,
       7.130895520847192e-17,
       0,
       0,
       -7.130895520847192e-17,
       1,
       0,
       -19.56626734882593,
       -19.52610757946968,
       -118.34056146943013,
       1
      ],
      "matrixWorldNeedsUpdate": false,
      "modelViewMatrix": [
       1,
       0,
       0,
       0,
       0,
       1,
       0,
       0,
       0,
       0,
       1,
       0,
       0,
       0,
       0,
       1
      ],
      "name": "",
      "near": 0.1,
      "normalMatrix": [
       1,
       0,
       0,
       0,
       1,
       0,
       0,
       0,
       1
      ],
      "position": [
       19.56626734882593,
       19.526107579469688,
       118.34056146943013
      ],
      "projectionMatrix": [
       3.7320508075688776,
       0,
       0,
       0,
       0,
       3.7320508075688776,
       0,
       0,
       0,
       0,
       -1.00010000500025,
       -1,
       0,
       0,
       -0.200010000500025,
       0
      ],
      "quaternion": [
       -3.565447760423596e-17,
       0,
       0,
       1
      ],
      "receiveShadow": false,
      "renderOrder": 0,
      "rotation": [
       -7.130895520847192e-17,
       0,
       0,
       "XYZ"
      ],
      "scale": [
       1,
       1,
       1
      ],
      "type": "PerspectiveCamera",
      "up": [
       0,
       1,
       0
      ],
      "visible": true,
      "zoom": 1
     }
    },
    "7595d1d2d56640ad8a2b028d0af270f9": {
     "model_module": "@jupyter-widgets/controls",
     "model_module_version": "1.5.0",
     "model_name": "HBoxModel",
     "state": {
      "_dom_classes": [],
      "_model_module": "@jupyter-widgets/controls",
      "_model_module_version": "1.5.0",
      "_model_name": "HBoxModel",
      "_view_count": null,
      "_view_module": "@jupyter-widgets/controls",
      "_view_module_version": "1.5.0",
      "_view_name": "HBoxView",
      "box_style": "",
      "children": [
       "IPY_MODEL_ef4250deb7be4c5db17a28dc05566477",
       "IPY_MODEL_580bfdbf3d91487593d7075061a2dd85",
       "IPY_MODEL_de9fe104a3bf4d968e0b2a14fec64d3f"
      ],
      "layout": "IPY_MODEL_4a39316fe18743639eae95ae2512c320"
     }
    },
    "7c6c112f72ad4c05b603165b08978430": {
     "model_module": "jupyter-threejs",
     "model_module_version": "^2.4.1",
     "model_name": "PointsModel",
     "state": {
      "_model_module": "jupyter-threejs",
      "_model_module_version": "^2.4.1",
      "_model_name": "PointsModel",
      "_view_count": null,
      "_view_module": null,
      "_view_module_version": "",
      "_view_name": null,
      "castShadow": false,
      "children": [],
      "frustumCulled": true,
      "geometry": "IPY_MODEL_049c3d700d6e44a58fa1fb5198eb475b",
      "material": "IPY_MODEL_1c81f0a67a3c42ada4b4f7ba51004c20",
      "matrix": [
       1,
       0,
       0,
       0,
       0,
       1,
       0,
       0,
       0,
       0,
       1,
       0,
       0,
       0,
       0,
       1
      ],
      "matrixAutoUpdate": true,
      "matrixWorld": [
       1,
       0,
       0,
       0,
       0,
       1,
       0,
       0,
       0,
       0,
       1,
       0,
       0,
       0,
       0,
       1
      ],
      "matrixWorldNeedsUpdate": false,
      "modelViewMatrix": [
       1,
       0,
       0,
       0,
       0,
       1,
       0,
       0,
       0,
       0,
       1,
       0,
       0,
       0,
       0,
       1
      ],
      "name": "",
      "normalMatrix": [
       1,
       0,
       0,
       0,
       1,
       0,
       0,
       0,
       1
      ],
      "position": [
       0,
       0,
       0
      ],
      "quaternion": [
       0,
       0,
       0,
       1
      ],
      "receiveShadow": false,
      "renderOrder": 0,
      "rotation": [
       0,
       0,
       0,
       "XYZ"
      ],
      "scale": [
       1,
       1,
       1
      ],
      "type": "Points",
      "up": [
       0,
       1,
       0
      ],
      "visible": true
     }
    },
    "815fe0bfb3334b5ca394a067456dcc23": {
     "model_module": "jupyter-threejs",
     "model_module_version": "^2.4.1",
     "model_name": "MeshStandardMaterialModel",
     "state": {
      "_model_module": "jupyter-threejs",
      "_model_module_version": "^2.4.1",
      "_model_name": "MeshStandardMaterialModel",
      "_view_count": null,
      "_view_module": null,
      "_view_module_version": "",
      "_view_name": null,
      "alphaMap": null,
      "alphaTest": 0,
      "aoMap": null,
      "aoMapIntensity": 1,
      "blendDst": "OneMinusSrcAlphaFactor",
      "blendDstAlpha": 0,
      "blendEquation": "AddEquation",
      "blendEquationAlpha": 0,
      "blendSrc": "SrcAlphaFactor",
      "blendSrcAlpha": 0,
      "blending": "NormalBlending",
      "bumpMap": null,
      "bumpScale": 1,
      "clipIntersection": false,
      "clipShadows": false,
      "clippingPlanes": [],
      "color": "#ffffff",
      "colorWrite": true,
      "defines": {
       "STANDARD": ""
      },
      "depthFunc": "LessEqualDepth",
      "depthTest": true,
      "depthWrite": true,
      "displacementBias": 0,
      "displacementMap": null,
      "displacementScale": 1,
      "dithering": false,
      "emissive": "#000000",
      "emissiveIntensity": 1,
      "emissiveMap": null,
      "envMap": null,
      "envMapIntensity": 1,
      "flatShading": true,
      "fog": true,
      "lightMap": null,
      "lightMapIntensity": 1,
      "lights": true,
      "map": null,
      "metalness": 0.25,
      "metalnessMap": null,
      "morphNormals": false,
      "morphTargets": false,
      "name": "",
      "normalMap": null,
      "normalScale": [
       1,
       1
      ],
      "opacity": 1,
      "overdraw": 0,
      "polygonOffset": true,
      "polygonOffsetFactor": 1,
      "polygonOffsetUnits": 5,
      "precision": null,
      "premultipliedAlpha": false,
      "refractionRatio": 0.98,
      "roughness": 0.5,
      "roughnessMap": null,
      "shadowSide": null,
      "side": "DoubleSide",
      "skinning": false,
      "transparent": false,
      "type": "MeshStandardMaterial",
      "vertexColors": "VertexColors",
      "visible": true,
      "wireframe": false,
      "wireframeLinecap": "round",
      "wireframeLinejoin": "round",
      "wireframeLinewidth": 1
     }
    },
    "816c6ca394f945e99612d29c4504b9d6": {
     "model_module": "jupyter-threejs",
     "model_module_version": "^2.4.1",
     "model_name": "RendererModel",
     "state": {
      "_alpha": false,
      "_antialias": true,
      "_dom_classes": [],
      "_height": 600,
      "_model_module": "jupyter-threejs",
      "_model_module_version": "^2.4.1",
      "_model_name": "RendererModel",
      "_pause_autorender": false,
      "_view_count": null,
      "_view_module": "jupyter-threejs",
      "_view_module_version": "^2.4.1",
      "_view_name": "RendererView",
      "_webgl_version": 2,
      "_width": 600,
      "autoClear": true,
      "autoClearColor": true,
      "autoClearDepth": true,
      "autoClearStencil": true,
      "background": "black",
      "background_opacity": 1,
      "camera": "IPY_MODEL_44ac3e738dd14856b0c4ebac02c4a6d8",
      "clearColor": "#000000",
      "clearOpacity": 1,
      "clippingPlanes": [],
      "controls": [
       "IPY_MODEL_2488a84fc9504a1aa25132ae8f0da227"
      ],
      "gammaFactor": 2,
      "gammaInput": false,
      "gammaOutput": false,
      "layout": "IPY_MODEL_c399d60303c341e8bb6325c860ab4959",
      "localClippingEnabled": false,
      "maxMorphNormals": 4,
      "maxMorphTargets": 8,
      "physicallyCorrectLights": false,
      "scene": "IPY_MODEL_21d7ca720cbd4564a2a5570807da4f53",
      "shadowMap": "IPY_MODEL_d33f6725b97c40b594d90b8470126b85",
      "sortObject": true,
      "toneMapping": "LinearToneMapping",
      "toneMappingExposure": 1,
      "toneMappingWhitePoint": 1
     }
    },
    "85b7741de559492ea0b0ee731b808ee8": {
     "model_module": "jupyter-threejs",
     "model_module_version": "^2.4.1",
     "model_name": "OrbitControlsModel",
     "state": {
      "_model_module": "jupyter-threejs",
      "_model_module_version": "^2.4.1",
      "_model_name": "OrbitControlsModel",
      "_view_count": null,
      "_view_module": null,
      "_view_module_version": "",
      "_view_name": null,
      "autoRotate": false,
      "autoRotateSpeed": 2,
      "controlling": "IPY_MODEL_21cd72c937be45ffa1aa1ecd66565055",
      "dampingFactor": 0.25,
      "enableDamping": false,
      "enableKeys": true,
      "enablePan": true,
      "enableRotate": true,
      "enableZoom": true,
      "enabled": true,
      "keyPanSpeed": 7,
      "maxAzimuthAngle": "inf",
      "maxDistance": "inf",
      "maxPolarAngle": 3.141592653589793,
      "maxZoom": "inf",
      "minAzimuthAngle": "-inf",
      "minDistance": 0,
      "minPolarAngle": 0,
      "minZoom": 0,
      "panSpeed": 1,
      "rotateSpeed": 1,
      "screenSpacePanning": true,
      "target": [
       0.021650314331054688,
       21.444747924804688,
       -0.04210090637207031
      ],
      "zoomSpeed": 1
     }
    },
    "8884a15509704f418e3baf747c978f21": {
     "model_module": "jupyter-threejs",
     "model_module_version": "^2.4.1",
     "model_name": "AmbientLightModel",
     "state": {
      "_model_module": "jupyter-threejs",
      "_model_module_version": "^2.4.1",
      "_model_name": "AmbientLightModel",
      "_view_count": null,
      "_view_module": null,
      "_view_module_version": "",
      "_view_name": null,
      "castShadow": false,
      "children": [],
      "color": "#ffffff",
      "frustumCulled": true,
      "intensity": 0.5,
      "matrix": [
       1,
       0,
       0,
       0,
       0,
       1,
       0,
       0,
       0,
       0,
       1,
       0,
       0,
       0,
       0,
       1
      ],
      "matrixAutoUpdate": true,
      "matrixWorld": [
       1,
       0,
       0,
       0,
       0,
       1,
       0,
       0,
       0,
       0,
       1,
       0,
       0,
       0,
       0,
       1
      ],
      "matrixWorldNeedsUpdate": false,
      "modelViewMatrix": [
       1,
       0,
       0,
       0,
       0,
       1,
       0,
       0,
       0,
       0,
       1,
       0,
       0,
       0,
       0,
       1
      ],
      "name": "",
      "normalMatrix": [
       1,
       0,
       0,
       0,
       1,
       0,
       0,
       0,
       1
      ],
      "position": [
       0,
       0,
       0
      ],
      "quaternion": [
       0,
       0,
       0,
       1
      ],
      "receiveShadow": false,
      "renderOrder": 0,
      "rotation": [
       0,
       0,
       0,
       "XYZ"
      ],
      "scale": [
       1,
       1,
       1
      ],
      "type": "AmbientLight",
      "up": [
       0,
       1,
       0
      ],
      "visible": true
     }
    },
    "8a8db73d67154ce5bd44bbeb846d7359": {
     "model_module": "jupyter-threejs",
     "model_module_version": "^2.4.1",
     "model_name": "BufferAttributeModel",
     "state": {
      "_model_module": "jupyter-threejs",
      "_model_module_version": "^2.4.1",
      "_model_name": "BufferAttributeModel",
      "_view_count": null,
      "_view_module": null,
      "_view_module_version": "",
      "_view_name": null,
      "array": {
       "dtype": "uint32",
       "shape": [
        20022
       ]
      },
      "dynamic": false,
      "needsUpdate": false,
      "normalized": false,
      "version": 1
     }
    },
    "8c004aa288324b8c8617fbc423480388": {
     "model_module": "@jupyter-widgets/controls",
     "model_module_version": "1.5.0",
     "model_name": "HTMLModel",
     "state": {
      "_dom_classes": [],
      "_model_module": "@jupyter-widgets/controls",
      "_model_module_version": "1.5.0",
      "_model_name": "HTMLModel",
      "_view_count": null,
      "_view_module": "@jupyter-widgets/controls",
      "_view_module_version": "1.5.0",
      "_view_name": "HTMLView",
      "description": "",
      "description_tooltip": null,
      "layout": "IPY_MODEL_529ddc48de0941bbbfff3d70615ff8d3",
      "placeholder": "​",
      "style": "IPY_MODEL_6bc487dc19884862a2d7412d87d04e54",
      "value": "Training: 100%"
     }
    },
    "8ce06bf5a67840f79c0d6bde734f2ed4": {
     "model_module": "@jupyter-widgets/controls",
     "model_module_version": "1.5.0",
     "model_name": "HBoxModel",
     "state": {
      "_dom_classes": [],
      "_model_module": "@jupyter-widgets/controls",
      "_model_module_version": "1.5.0",
      "_model_name": "HBoxModel",
      "_view_count": null,
      "_view_module": "@jupyter-widgets/controls",
      "_view_module_version": "1.5.0",
      "_view_name": "HBoxView",
      "box_style": "",
      "children": [
       "IPY_MODEL_c4b4dfc8c710402bbcdbb44e506f7823",
       "IPY_MODEL_29255944e05e486e97462a0f2df09fd1",
       "IPY_MODEL_3038d1154fae492e8627438f9688abec"
      ],
      "layout": "IPY_MODEL_aa3d93019f41449a96ca8b627bba409f"
     }
    },
    "927def9a13a14f00a008e7765fb9dd78": {
     "model_module": "jupyter-threejs",
     "model_module_version": "^2.4.1",
     "model_name": "BufferAttributeModel",
     "state": {
      "_model_module": "jupyter-threejs",
      "_model_module_version": "^2.4.1",
      "_model_name": "BufferAttributeModel",
      "_view_count": null,
      "_view_module": null,
      "_view_module_version": "",
      "_view_name": null,
      "array": {
       "dtype": "float32",
       "shape": [
        3372,
        3
       ]
      },
      "dynamic": false,
      "needsUpdate": false,
      "normalized": false,
      "version": 1
     }
    },
    "94f637204a8847d5aa63c6cbba1d9584": {
     "model_module": "@jupyter-widgets/base",
     "model_module_version": "1.2.0",
     "model_name": "LayoutModel",
     "state": {
      "_model_module": "@jupyter-widgets/base",
      "_model_module_version": "1.2.0",
      "_model_name": "LayoutModel",
      "_view_count": null,
      "_view_module": "@jupyter-widgets/base",
      "_view_module_version": "1.2.0",
      "_view_name": "LayoutView",
      "align_content": null,
      "align_items": null,
      "align_self": null,
      "border": null,
      "bottom": null,
      "display": null,
      "flex": null,
      "flex_flow": null,
      "grid_area": null,
      "grid_auto_columns": null,
      "grid_auto_flow": null,
      "grid_auto_rows": null,
      "grid_column": null,
      "grid_gap": null,
      "grid_row": null,
      "grid_template_areas": null,
      "grid_template_columns": null,
      "grid_template_rows": null,
      "height": null,
      "justify_content": null,
      "justify_items": null,
      "left": null,
      "margin": null,
      "max_height": null,
      "max_width": null,
      "min_height": null,
      "min_width": null,
      "object_fit": null,
      "object_position": null,
      "order": null,
      "overflow": null,
      "overflow_x": null,
      "overflow_y": null,
      "padding": null,
      "right": null,
      "top": null,
      "visibility": null,
      "width": null
     }
    },
    "95271048ab31446b9402bf0aeda5b24d": {
     "model_module": "@jupyter-widgets/base",
     "model_module_version": "1.2.0",
     "model_name": "LayoutModel",
     "state": {
      "_model_module": "@jupyter-widgets/base",
      "_model_module_version": "1.2.0",
      "_model_name": "LayoutModel",
      "_view_count": null,
      "_view_module": "@jupyter-widgets/base",
      "_view_module_version": "1.2.0",
      "_view_name": "LayoutView",
      "align_content": null,
      "align_items": null,
      "align_self": null,
      "border": null,
      "bottom": null,
      "display": null,
      "flex": null,
      "flex_flow": null,
      "grid_area": null,
      "grid_auto_columns": null,
      "grid_auto_flow": null,
      "grid_auto_rows": null,
      "grid_column": null,
      "grid_gap": null,
      "grid_row": null,
      "grid_template_areas": null,
      "grid_template_columns": null,
      "grid_template_rows": null,
      "height": null,
      "justify_content": null,
      "justify_items": null,
      "left": null,
      "margin": null,
      "max_height": null,
      "max_width": null,
      "min_height": null,
      "min_width": null,
      "object_fit": null,
      "object_position": null,
      "order": null,
      "overflow": null,
      "overflow_x": null,
      "overflow_y": null,
      "padding": null,
      "right": null,
      "top": null,
      "visibility": null,
      "width": null
     }
    },
    "96642999f3d84e48b06360efda7b7d53": {
     "model_module": "jupyter-threejs",
     "model_module_version": "^2.4.1",
     "model_name": "MeshStandardMaterialModel",
     "state": {
      "_model_module": "jupyter-threejs",
      "_model_module_version": "^2.4.1",
      "_model_name": "MeshStandardMaterialModel",
      "_view_count": null,
      "_view_module": null,
      "_view_module_version": "",
      "_view_name": null,
      "alphaMap": null,
      "alphaTest": 0,
      "aoMap": null,
      "aoMapIntensity": 1,
      "blendDst": "OneMinusSrcAlphaFactor",
      "blendDstAlpha": 0,
      "blendEquation": "AddEquation",
      "blendEquationAlpha": 0,
      "blendSrc": "SrcAlphaFactor",
      "blendSrcAlpha": 0,
      "blending": "NormalBlending",
      "bumpMap": null,
      "bumpScale": 1,
      "clipIntersection": false,
      "clipShadows": false,
      "clippingPlanes": [],
      "color": "#ffffff",
      "colorWrite": true,
      "defines": {
       "STANDARD": ""
      },
      "depthFunc": "LessEqualDepth",
      "depthTest": true,
      "depthWrite": true,
      "displacementBias": 0,
      "displacementMap": null,
      "displacementScale": 1,
      "dithering": false,
      "emissive": "#000000",
      "emissiveIntensity": 1,
      "emissiveMap": null,
      "envMap": null,
      "envMapIntensity": 1,
      "flatShading": true,
      "fog": true,
      "lightMap": null,
      "lightMapIntensity": 1,
      "lights": true,
      "map": null,
      "metalness": 0.25,
      "metalnessMap": null,
      "morphNormals": false,
      "morphTargets": false,
      "name": "",
      "normalMap": null,
      "normalScale": [
       1,
       1
      ],
      "opacity": 1,
      "overdraw": 0,
      "polygonOffset": true,
      "polygonOffsetFactor": 1,
      "polygonOffsetUnits": 5,
      "precision": null,
      "premultipliedAlpha": false,
      "refractionRatio": 0.98,
      "roughness": 0.5,
      "roughnessMap": null,
      "shadowSide": null,
      "side": "DoubleSide",
      "skinning": false,
      "transparent": false,
      "type": "MeshStandardMaterial",
      "vertexColors": "VertexColors",
      "visible": true,
      "wireframe": false,
      "wireframeLinecap": "round",
      "wireframeLinejoin": "round",
      "wireframeLinewidth": 1
     }
    },
    "99f4e4ad068e4cb3b50a11aa6de8318a": {
     "model_module": "@jupyter-widgets/base",
     "model_module_version": "1.2.0",
     "model_name": "LayoutModel",
     "state": {
      "_model_module": "@jupyter-widgets/base",
      "_model_module_version": "1.2.0",
      "_model_name": "LayoutModel",
      "_view_count": null,
      "_view_module": "@jupyter-widgets/base",
      "_view_module_version": "1.2.0",
      "_view_name": "LayoutView",
      "align_content": null,
      "align_items": null,
      "align_self": null,
      "border": null,
      "bottom": null,
      "display": null,
      "flex": null,
      "flex_flow": null,
      "grid_area": null,
      "grid_auto_columns": null,
      "grid_auto_flow": null,
      "grid_auto_rows": null,
      "grid_column": null,
      "grid_gap": null,
      "grid_row": null,
      "grid_template_areas": null,
      "grid_template_columns": null,
      "grid_template_rows": null,
      "height": null,
      "justify_content": null,
      "justify_items": null,
      "left": null,
      "margin": null,
      "max_height": null,
      "max_width": null,
      "min_height": null,
      "min_width": null,
      "object_fit": null,
      "object_position": null,
      "order": null,
      "overflow": null,
      "overflow_x": null,
      "overflow_y": null,
      "padding": null,
      "right": null,
      "top": null,
      "visibility": null,
      "width": null
     }
    },
    "9e390bb2a45045a0bea292300d4422b5": {
     "model_module": "jupyter-threejs",
     "model_module_version": "^2.4.1",
     "model_name": "BufferAttributeModel",
     "state": {
      "_model_module": "jupyter-threejs",
      "_model_module_version": "^2.4.1",
      "_model_name": "BufferAttributeModel",
      "_view_count": null,
      "_view_module": null,
      "_view_module_version": "",
      "_view_name": null,
      "array": {
       "dtype": "float32",
       "shape": [
        3372,
        3
       ]
      },
      "dynamic": false,
      "needsUpdate": false,
      "normalized": true,
      "version": 1
     }
    },
    "a0d23a848b0149c7a86c7241181fee9b": {
     "model_module": "jupyter-threejs",
     "model_module_version": "^2.4.1",
     "model_name": "RendererModel",
     "state": {
      "_alpha": false,
      "_antialias": true,
      "_dom_classes": [],
      "_height": 600,
      "_model_module": "jupyter-threejs",
      "_model_module_version": "^2.4.1",
      "_model_name": "RendererModel",
      "_pause_autorender": false,
      "_view_count": null,
      "_view_module": "jupyter-threejs",
      "_view_module_version": "^2.4.1",
      "_view_name": "RendererView",
      "_webgl_version": 2,
      "_width": 600,
      "autoClear": true,
      "autoClearColor": true,
      "autoClearDepth": true,
      "autoClearStencil": true,
      "background": "black",
      "background_opacity": 1,
      "camera": "IPY_MODEL_21cd72c937be45ffa1aa1ecd66565055",
      "clearColor": "#000000",
      "clearOpacity": 1,
      "clippingPlanes": [],
      "controls": [
       "IPY_MODEL_85b7741de559492ea0b0ee731b808ee8"
      ],
      "gammaFactor": 2,
      "gammaInput": false,
      "gammaOutput": false,
      "layout": "IPY_MODEL_e18fcaef8e8f439f829be72913b09838",
      "localClippingEnabled": false,
      "maxMorphNormals": 4,
      "maxMorphTargets": 8,
      "physicallyCorrectLights": false,
      "scene": "IPY_MODEL_a40304a01ddc452e89133e17c21c09ab",
      "shadowMap": "IPY_MODEL_ba57353533c047878b8d58e10d940aa3",
      "sortObject": true,
      "toneMapping": "LinearToneMapping",
      "toneMappingExposure": 1,
      "toneMappingWhitePoint": 1
     }
    },
    "a40304a01ddc452e89133e17c21c09ab": {
     "model_module": "jupyter-threejs",
     "model_module_version": "^2.4.1",
     "model_name": "SceneModel",
     "state": {
      "_model_module": "jupyter-threejs",
      "_model_module_version": "^2.4.1",
      "_model_name": "SceneModel",
      "_view_count": null,
      "_view_module": null,
      "_view_module_version": "",
      "_view_name": null,
      "autoUpdate": true,
      "background": "#ffffff",
      "castShadow": false,
      "children": [
       "IPY_MODEL_21cd72c937be45ffa1aa1ecd66565055",
       "IPY_MODEL_bc4b6d21503f492c9f8d785886144744",
       "IPY_MODEL_7c6c112f72ad4c05b603165b08978430"
      ],
      "fog": null,
      "frustumCulled": true,
      "matrix": [
       1,
       0,
       0,
       0,
       0,
       1,
       0,
       0,
       0,
       0,
       1,
       0,
       0,
       0,
       0,
       1
      ],
      "matrixAutoUpdate": true,
      "matrixWorld": [
       1,
       0,
       0,
       0,
       0,
       1,
       0,
       0,
       0,
       0,
       1,
       0,
       0,
       0,
       0,
       1
      ],
      "matrixWorldNeedsUpdate": false,
      "modelViewMatrix": [
       1,
       0,
       0,
       0,
       0,
       1,
       0,
       0,
       0,
       0,
       1,
       0,
       0,
       0,
       0,
       1
      ],
      "name": "",
      "normalMatrix": [
       1,
       0,
       0,
       0,
       1,
       0,
       0,
       0,
       1
      ],
      "overrideMaterial": null,
      "position": [
       0,
       0,
       0
      ],
      "quaternion": [
       0,
       0,
       0,
       1
      ],
      "receiveShadow": false,
      "renderOrder": 0,
      "rotation": [
       0,
       0,
       0,
       "XYZ"
      ],
      "scale": [
       1,
       1,
       1
      ],
      "type": "Scene",
      "up": [
       0,
       1,
       0
      ],
      "visible": true
     }
    },
    "aa3d93019f41449a96ca8b627bba409f": {
     "model_module": "@jupyter-widgets/base",
     "model_module_version": "1.2.0",
     "model_name": "LayoutModel",
     "state": {
      "_model_module": "@jupyter-widgets/base",
      "_model_module_version": "1.2.0",
      "_model_name": "LayoutModel",
      "_view_count": null,
      "_view_module": "@jupyter-widgets/base",
      "_view_module_version": "1.2.0",
      "_view_name": "LayoutView",
      "align_content": null,
      "align_items": null,
      "align_self": null,
      "border": null,
      "bottom": null,
      "display": null,
      "flex": null,
      "flex_flow": null,
      "grid_area": null,
      "grid_auto_columns": null,
      "grid_auto_flow": null,
      "grid_auto_rows": null,
      "grid_column": null,
      "grid_gap": null,
      "grid_row": null,
      "grid_template_areas": null,
      "grid_template_columns": null,
      "grid_template_rows": null,
      "height": null,
      "justify_content": null,
      "justify_items": null,
      "left": null,
      "margin": null,
      "max_height": null,
      "max_width": null,
      "min_height": null,
      "min_width": null,
      "object_fit": null,
      "object_position": null,
      "order": null,
      "overflow": null,
      "overflow_x": null,
      "overflow_y": null,
      "padding": null,
      "right": null,
      "top": null,
      "visibility": null,
      "width": null
     }
    },
    "af00878bc86e4811880053a056956e85": {
     "model_module": "jupyter-threejs",
     "model_module_version": "^2.4.1",
     "model_name": "MeshModel",
     "state": {
      "_model_module": "jupyter-threejs",
      "_model_module_version": "^2.4.1",
      "_model_name": "MeshModel",
      "_view_count": null,
      "_view_module": null,
      "_view_module_version": "",
      "_view_name": null,
      "castShadow": false,
      "children": [],
      "drawMode": "TrianglesDrawMode",
      "frustumCulled": true,
      "geometry": "IPY_MODEL_7291c1b7d2ca4391958376561a2e8d51",
      "material": "IPY_MODEL_c2b1122c8cd640fcb0e9c4ca80674e8f",
      "matrix": [
       1,
       0,
       0,
       0,
       0,
       1,
       0,
       0,
       0,
       0,
       1,
       0,
       0,
       0,
       0,
       1
      ],
      "matrixAutoUpdate": true,
      "matrixWorld": [
       1,
       0,
       0,
       0,
       0,
       1,
       0,
       0,
       0,
       0,
       1,
       0,
       0,
       0,
       0,
       1
      ],
      "matrixWorldNeedsUpdate": false,
      "modelViewMatrix": [
       1,
       0,
       0,
       0,
       0,
       1,
       0,
       0,
       0,
       0,
       1,
       0,
       0,
       0,
       0,
       1
      ],
      "morphTargetInfluences": [],
      "name": "",
      "normalMatrix": [
       1,
       0,
       0,
       0,
       1,
       0,
       0,
       0,
       1
      ],
      "position": [
       0,
       0,
       0
      ],
      "quaternion": [
       0,
       0,
       0,
       1
      ],
      "receiveShadow": false,
      "renderOrder": 0,
      "rotation": [
       0,
       0,
       0,
       "XYZ"
      ],
      "scale": [
       1,
       1,
       1
      ],
      "type": "Mesh",
      "up": [
       0,
       1,
       0
      ],
      "visible": true
     }
    },
    "b5ab6562d2a74fecac72001b39875c2e": {
     "model_module": "@jupyter-widgets/controls",
     "model_module_version": "1.5.0",
     "model_name": "DescriptionStyleModel",
     "state": {
      "_model_module": "@jupyter-widgets/controls",
      "_model_module_version": "1.5.0",
      "_model_name": "DescriptionStyleModel",
      "_view_count": null,
      "_view_module": "@jupyter-widgets/base",
      "_view_module_version": "1.2.0",
      "_view_name": "StyleView",
      "description_width": ""
     }
    },
    "b5c05ae02b624062839e62062271caba": {
     "model_module": "jupyter-threejs",
     "model_module_version": "^2.4.1",
     "model_name": "MeshStandardMaterialModel",
     "state": {
      "_model_module": "jupyter-threejs",
      "_model_module_version": "^2.4.1",
      "_model_name": "MeshStandardMaterialModel",
      "_view_count": null,
      "_view_module": null,
      "_view_module_version": "",
      "_view_name": null,
      "alphaMap": null,
      "alphaTest": 0,
      "aoMap": null,
      "aoMapIntensity": 1,
      "blendDst": "OneMinusSrcAlphaFactor",
      "blendDstAlpha": 0,
      "blendEquation": "AddEquation",
      "blendEquationAlpha": 0,
      "blendSrc": "SrcAlphaFactor",
      "blendSrcAlpha": 0,
      "blending": "NormalBlending",
      "bumpMap": null,
      "bumpScale": 1,
      "clipIntersection": false,
      "clipShadows": false,
      "clippingPlanes": [],
      "color": "#ffffff",
      "colorWrite": true,
      "defines": {
       "STANDARD": ""
      },
      "depthFunc": "LessEqualDepth",
      "depthTest": true,
      "depthWrite": true,
      "displacementBias": 0,
      "displacementMap": null,
      "displacementScale": 1,
      "dithering": false,
      "emissive": "#000000",
      "emissiveIntensity": 1,
      "emissiveMap": null,
      "envMap": null,
      "envMapIntensity": 1,
      "flatShading": true,
      "fog": true,
      "lightMap": null,
      "lightMapIntensity": 1,
      "lights": true,
      "map": null,
      "metalness": 0.25,
      "metalnessMap": null,
      "morphNormals": false,
      "morphTargets": false,
      "name": "",
      "normalMap": null,
      "normalScale": [
       1,
       1
      ],
      "opacity": 1,
      "overdraw": 0,
      "polygonOffset": true,
      "polygonOffsetFactor": 1,
      "polygonOffsetUnits": 5,
      "precision": null,
      "premultipliedAlpha": false,
      "refractionRatio": 0.98,
      "roughness": 0.5,
      "roughnessMap": null,
      "shadowSide": null,
      "side": "DoubleSide",
      "skinning": false,
      "transparent": false,
      "type": "MeshStandardMaterial",
      "vertexColors": "VertexColors",
      "visible": true,
      "wireframe": false,
      "wireframeLinecap": "round",
      "wireframeLinejoin": "round",
      "wireframeLinewidth": 1
     }
    },
    "ba57353533c047878b8d58e10d940aa3": {
     "model_module": "jupyter-threejs",
     "model_module_version": "^2.4.1",
     "model_name": "WebGLShadowMapModel",
     "state": {
      "_model_module": "jupyter-threejs",
      "_model_module_version": "^2.4.1",
      "_model_name": "WebGLShadowMapModel",
      "_view_count": null,
      "_view_module": null,
      "_view_module_version": "",
      "_view_name": null,
      "enabled": false,
      "type": "PCFShadowMap"
     }
    },
    "bc4b6d21503f492c9f8d785886144744": {
     "model_module": "jupyter-threejs",
     "model_module_version": "^2.4.1",
     "model_name": "AmbientLightModel",
     "state": {
      "_model_module": "jupyter-threejs",
      "_model_module_version": "^2.4.1",
      "_model_name": "AmbientLightModel",
      "_view_count": null,
      "_view_module": null,
      "_view_module_version": "",
      "_view_name": null,
      "castShadow": false,
      "children": [],
      "color": "#ffffff",
      "frustumCulled": true,
      "intensity": 0.5,
      "matrix": [
       1,
       0,
       0,
       0,
       0,
       1,
       0,
       0,
       0,
       0,
       1,
       0,
       0,
       0,
       0,
       1
      ],
      "matrixAutoUpdate": true,
      "matrixWorld": [
       1,
       0,
       0,
       0,
       0,
       1,
       0,
       0,
       0,
       0,
       1,
       0,
       0,
       0,
       0,
       1
      ],
      "matrixWorldNeedsUpdate": false,
      "modelViewMatrix": [
       1,
       0,
       0,
       0,
       0,
       1,
       0,
       0,
       0,
       0,
       1,
       0,
       0,
       0,
       0,
       1
      ],
      "name": "",
      "normalMatrix": [
       1,
       0,
       0,
       0,
       1,
       0,
       0,
       0,
       1
      ],
      "position": [
       0,
       0,
       0
      ],
      "quaternion": [
       0,
       0,
       0,
       1
      ],
      "receiveShadow": false,
      "renderOrder": 0,
      "rotation": [
       0,
       0,
       0,
       "XYZ"
      ],
      "scale": [
       1,
       1,
       1
      ],
      "type": "AmbientLight",
      "up": [
       0,
       1,
       0
      ],
      "visible": true
     }
    },
    "bf4c052432734190aaafdf37332d6075": {
     "model_module": "jupyter-threejs",
     "model_module_version": "^2.4.1",
     "model_name": "BufferAttributeModel",
     "state": {
      "_model_module": "jupyter-threejs",
      "_model_module_version": "^2.4.1",
      "_model_name": "BufferAttributeModel",
      "_view_count": null,
      "_view_module": null,
      "_view_module_version": "",
      "_view_name": null,
      "array": {
       "dtype": "float32",
       "shape": [
        208145,
        3
       ]
      },
      "dynamic": false,
      "needsUpdate": false,
      "normalized": false,
      "version": 1
     }
    },
    "c2b1122c8cd640fcb0e9c4ca80674e8f": {
     "model_module": "jupyter-threejs",
     "model_module_version": "^2.4.1",
     "model_name": "MeshStandardMaterialModel",
     "state": {
      "_model_module": "jupyter-threejs",
      "_model_module_version": "^2.4.1",
      "_model_name": "MeshStandardMaterialModel",
      "_view_count": null,
      "_view_module": null,
      "_view_module_version": "",
      "_view_name": null,
      "alphaMap": null,
      "alphaTest": 0,
      "aoMap": null,
      "aoMapIntensity": 1,
      "blendDst": "OneMinusSrcAlphaFactor",
      "blendDstAlpha": 0,
      "blendEquation": "AddEquation",
      "blendEquationAlpha": 0,
      "blendSrc": "SrcAlphaFactor",
      "blendSrcAlpha": 0,
      "blending": "NormalBlending",
      "bumpMap": null,
      "bumpScale": 1,
      "clipIntersection": false,
      "clipShadows": false,
      "clippingPlanes": [],
      "color": "#ffffff",
      "colorWrite": true,
      "defines": {
       "STANDARD": ""
      },
      "depthFunc": "LessEqualDepth",
      "depthTest": true,
      "depthWrite": true,
      "displacementBias": 0,
      "displacementMap": null,
      "displacementScale": 1,
      "dithering": false,
      "emissive": "#000000",
      "emissiveIntensity": 1,
      "emissiveMap": null,
      "envMap": null,
      "envMapIntensity": 1,
      "flatShading": true,
      "fog": true,
      "lightMap": null,
      "lightMapIntensity": 1,
      "lights": true,
      "map": null,
      "metalness": 0.25,
      "metalnessMap": null,
      "morphNormals": false,
      "morphTargets": false,
      "name": "",
      "normalMap": null,
      "normalScale": [
       1,
       1
      ],
      "opacity": 1,
      "overdraw": 0,
      "polygonOffset": true,
      "polygonOffsetFactor": 1,
      "polygonOffsetUnits": 5,
      "precision": null,
      "premultipliedAlpha": false,
      "refractionRatio": 0.98,
      "roughness": 0.5,
      "roughnessMap": null,
      "shadowSide": null,
      "side": "DoubleSide",
      "skinning": false,
      "transparent": false,
      "type": "MeshStandardMaterial",
      "vertexColors": "VertexColors",
      "visible": true,
      "wireframe": false,
      "wireframeLinecap": "round",
      "wireframeLinejoin": "round",
      "wireframeLinewidth": 1
     }
    },
    "c399d60303c341e8bb6325c860ab4959": {
     "model_module": "@jupyter-widgets/base",
     "model_module_version": "1.2.0",
     "model_name": "LayoutModel",
     "state": {
      "_model_module": "@jupyter-widgets/base",
      "_model_module_version": "1.2.0",
      "_model_name": "LayoutModel",
      "_view_count": null,
      "_view_module": "@jupyter-widgets/base",
      "_view_module_version": "1.2.0",
      "_view_name": "LayoutView",
      "align_content": null,
      "align_items": null,
      "align_self": null,
      "border": null,
      "bottom": null,
      "display": null,
      "flex": null,
      "flex_flow": null,
      "grid_area": null,
      "grid_auto_columns": null,
      "grid_auto_flow": null,
      "grid_auto_rows": null,
      "grid_column": null,
      "grid_gap": null,
      "grid_row": null,
      "grid_template_areas": null,
      "grid_template_columns": null,
      "grid_template_rows": null,
      "height": null,
      "justify_content": null,
      "justify_items": null,
      "left": null,
      "margin": null,
      "max_height": null,
      "max_width": null,
      "min_height": null,
      "min_width": null,
      "object_fit": null,
      "object_position": null,
      "order": null,
      "overflow": null,
      "overflow_x": null,
      "overflow_y": null,
      "padding": null,
      "right": null,
      "top": null,
      "visibility": null,
      "width": null
     }
    },
    "c4b4dfc8c710402bbcdbb44e506f7823": {
     "model_module": "@jupyter-widgets/controls",
     "model_module_version": "1.5.0",
     "model_name": "HTMLModel",
     "state": {
      "_dom_classes": [],
      "_model_module": "@jupyter-widgets/controls",
      "_model_module_version": "1.5.0",
      "_model_name": "HTMLModel",
      "_view_count": null,
      "_view_module": "@jupyter-widgets/controls",
      "_view_module_version": "1.5.0",
      "_view_name": "HTMLView",
      "description": "",
      "description_tooltip": null,
      "layout": "IPY_MODEL_94f637204a8847d5aa63c6cbba1d9584",
      "placeholder": "​",
      "style": "IPY_MODEL_c83dae32f44448d187d3f27406846808",
      "value": "Training: 100%"
     }
    },
    "c6340c75041b460c8440f20699d7b6cb": {
     "model_module": "jupyter-threejs",
     "model_module_version": "^2.4.1",
     "model_name": "SceneModel",
     "state": {
      "_model_module": "jupyter-threejs",
      "_model_module_version": "^2.4.1",
      "_model_name": "SceneModel",
      "_view_count": null,
      "_view_module": null,
      "_view_module_version": "",
      "_view_name": null,
      "autoUpdate": true,
      "background": "#ffffff",
      "castShadow": false,
      "children": [
       "IPY_MODEL_fd86e89f2ae34840930e97b98257ee2d",
       "IPY_MODEL_6aa4f2df540342328a880e5761a52850",
       "IPY_MODEL_c6be0df512eb4da7af5e218b862fd1ae"
      ],
      "fog": null,
      "frustumCulled": true,
      "matrix": [
       1,
       0,
       0,
       0,
       0,
       1,
       0,
       0,
       0,
       0,
       1,
       0,
       0,
       0,
       0,
       1
      ],
      "matrixAutoUpdate": true,
      "matrixWorld": [
       1,
       0,
       0,
       0,
       0,
       1,
       0,
       0,
       0,
       0,
       1,
       0,
       0,
       0,
       0,
       1
      ],
      "matrixWorldNeedsUpdate": false,
      "modelViewMatrix": [
       1,
       0,
       0,
       0,
       0,
       1,
       0,
       0,
       0,
       0,
       1,
       0,
       0,
       0,
       0,
       1
      ],
      "name": "",
      "normalMatrix": [
       1,
       0,
       0,
       0,
       1,
       0,
       0,
       0,
       1
      ],
      "overrideMaterial": null,
      "position": [
       0,
       0,
       0
      ],
      "quaternion": [
       0,
       0,
       0,
       1
      ],
      "receiveShadow": false,
      "renderOrder": 0,
      "rotation": [
       0,
       0,
       0,
       "XYZ"
      ],
      "scale": [
       1,
       1,
       1
      ],
      "type": "Scene",
      "up": [
       0,
       1,
       0
      ],
      "visible": true
     }
    },
    "c6afaf3678374b0fb25ff3dfd9b9b9f5": {
     "model_module": "@jupyter-widgets/base",
     "model_module_version": "1.2.0",
     "model_name": "LayoutModel",
     "state": {
      "_model_module": "@jupyter-widgets/base",
      "_model_module_version": "1.2.0",
      "_model_name": "LayoutModel",
      "_view_count": null,
      "_view_module": "@jupyter-widgets/base",
      "_view_module_version": "1.2.0",
      "_view_name": "LayoutView",
      "align_content": null,
      "align_items": null,
      "align_self": null,
      "border": null,
      "bottom": null,
      "display": null,
      "flex": null,
      "flex_flow": null,
      "grid_area": null,
      "grid_auto_columns": null,
      "grid_auto_flow": null,
      "grid_auto_rows": null,
      "grid_column": null,
      "grid_gap": null,
      "grid_row": null,
      "grid_template_areas": null,
      "grid_template_columns": null,
      "grid_template_rows": null,
      "height": null,
      "justify_content": null,
      "justify_items": null,
      "left": null,
      "margin": null,
      "max_height": null,
      "max_width": null,
      "min_height": null,
      "min_width": null,
      "object_fit": null,
      "object_position": null,
      "order": null,
      "overflow": null,
      "overflow_x": null,
      "overflow_y": null,
      "padding": null,
      "right": null,
      "top": null,
      "visibility": null,
      "width": null
     }
    },
    "c6be0df512eb4da7af5e218b862fd1ae": {
     "model_module": "jupyter-threejs",
     "model_module_version": "^2.4.1",
     "model_name": "MeshModel",
     "state": {
      "_model_module": "jupyter-threejs",
      "_model_module_version": "^2.4.1",
      "_model_name": "MeshModel",
      "_view_count": null,
      "_view_module": null,
      "_view_module_version": "",
      "_view_name": null,
      "castShadow": false,
      "children": [],
      "drawMode": "TrianglesDrawMode",
      "frustumCulled": true,
      "geometry": "IPY_MODEL_6b8801d6968a4dc8a599e286bad8e156",
      "material": "IPY_MODEL_815fe0bfb3334b5ca394a067456dcc23",
      "matrix": [
       1,
       0,
       0,
       0,
       0,
       1,
       0,
       0,
       0,
       0,
       1,
       0,
       0,
       0,
       0,
       1
      ],
      "matrixAutoUpdate": true,
      "matrixWorld": [
       1,
       0,
       0,
       0,
       0,
       1,
       0,
       0,
       0,
       0,
       1,
       0,
       0,
       0,
       0,
       1
      ],
      "matrixWorldNeedsUpdate": false,
      "modelViewMatrix": [
       1,
       0,
       0,
       0,
       0,
       1,
       0,
       0,
       0,
       0,
       1,
       0,
       0,
       0,
       0,
       1
      ],
      "morphTargetInfluences": [],
      "name": "",
      "normalMatrix": [
       1,
       0,
       0,
       0,
       1,
       0,
       0,
       0,
       1
      ],
      "position": [
       0,
       0,
       0
      ],
      "quaternion": [
       0,
       0,
       0,
       1
      ],
      "receiveShadow": false,
      "renderOrder": 0,
      "rotation": [
       0,
       0,
       0,
       "XYZ"
      ],
      "scale": [
       1,
       1,
       1
      ],
      "type": "Mesh",
      "up": [
       0,
       1,
       0
      ],
      "visible": true
     }
    },
    "c83dae32f44448d187d3f27406846808": {
     "model_module": "@jupyter-widgets/controls",
     "model_module_version": "1.5.0",
     "model_name": "DescriptionStyleModel",
     "state": {
      "_model_module": "@jupyter-widgets/controls",
      "_model_module_version": "1.5.0",
      "_model_name": "DescriptionStyleModel",
      "_view_count": null,
      "_view_module": "@jupyter-widgets/base",
      "_view_module_version": "1.2.0",
      "_view_name": "StyleView",
      "description_width": ""
     }
    },
    "cbd0be1818c14d56b3653a1ead09fcf5": {
     "model_module": "jupyter-threejs",
     "model_module_version": "^2.4.1",
     "model_name": "MeshModel",
     "state": {
      "_model_module": "jupyter-threejs",
      "_model_module_version": "^2.4.1",
      "_model_name": "MeshModel",
      "_view_count": null,
      "_view_module": null,
      "_view_module_version": "",
      "_view_name": null,
      "castShadow": false,
      "children": [],
      "drawMode": "TrianglesDrawMode",
      "frustumCulled": true,
      "geometry": "IPY_MODEL_28e2959b55e843a6888ef9b6237fb6c0",
      "material": "IPY_MODEL_b5c05ae02b624062839e62062271caba",
      "matrix": [
       1,
       0,
       0,
       0,
       0,
       1,
       0,
       0,
       0,
       0,
       1,
       0,
       0,
       0,
       0,
       1
      ],
      "matrixAutoUpdate": true,
      "matrixWorld": [
       1,
       0,
       0,
       0,
       0,
       1,
       0,
       0,
       0,
       0,
       1,
       0,
       0,
       0,
       0,
       1
      ],
      "matrixWorldNeedsUpdate": false,
      "modelViewMatrix": [
       1,
       0,
       0,
       0,
       0,
       1,
       0,
       0,
       0,
       0,
       1,
       0,
       0,
       0,
       0,
       1
      ],
      "morphTargetInfluences": [],
      "name": "",
      "normalMatrix": [
       1,
       0,
       0,
       0,
       1,
       0,
       0,
       0,
       1
      ],
      "position": [
       0,
       0,
       0
      ],
      "quaternion": [
       0,
       0,
       0,
       1
      ],
      "receiveShadow": false,
      "renderOrder": 0,
      "rotation": [
       0,
       0,
       0,
       "XYZ"
      ],
      "scale": [
       1,
       1,
       1
      ],
      "type": "Mesh",
      "up": [
       0,
       1,
       0
      ],
      "visible": true
     }
    },
    "d20d3179ed2146b5896cff8e44d6a8e8": {
     "model_module": "jupyter-threejs",
     "model_module_version": "^2.4.1",
     "model_name": "OrbitControlsModel",
     "state": {
      "_model_module": "jupyter-threejs",
      "_model_module_version": "^2.4.1",
      "_model_name": "OrbitControlsModel",
      "_view_count": null,
      "_view_module": null,
      "_view_module_version": "",
      "_view_name": null,
      "autoRotate": false,
      "autoRotateSpeed": 2,
      "controlling": "IPY_MODEL_f96246e78f1241d4a3bd704c5bce4122",
      "dampingFactor": 0.25,
      "enableDamping": false,
      "enableKeys": true,
      "enablePan": true,
      "enableRotate": true,
      "enableZoom": true,
      "enabled": true,
      "keyPanSpeed": 7,
      "maxAzimuthAngle": "inf",
      "maxDistance": "inf",
      "maxPolarAngle": 3.141592653589793,
      "maxZoom": "inf",
      "minAzimuthAngle": "-inf",
      "minDistance": 0,
      "minPolarAngle": 0,
      "minZoom": 0,
      "panSpeed": 1,
      "rotateSpeed": 1,
      "screenSpacePanning": true,
      "target": [
       18.959218978881836,
       16.47233337163925,
       15.032747089862823
      ],
      "zoomSpeed": 1
     }
    },
    "d33f6725b97c40b594d90b8470126b85": {
     "model_module": "jupyter-threejs",
     "model_module_version": "^2.4.1",
     "model_name": "WebGLShadowMapModel",
     "state": {
      "_model_module": "jupyter-threejs",
      "_model_module_version": "^2.4.1",
      "_model_name": "WebGLShadowMapModel",
      "_view_count": null,
      "_view_module": null,
      "_view_module_version": "",
      "_view_name": null,
      "enabled": false,
      "type": "PCFShadowMap"
     }
    },
    "d71b0598ce5f4be1bf75021d13826ff1": {
     "model_module": "@jupyter-widgets/controls",
     "model_module_version": "1.5.0",
     "model_name": "DescriptionStyleModel",
     "state": {
      "_model_module": "@jupyter-widgets/controls",
      "_model_module_version": "1.5.0",
      "_model_name": "DescriptionStyleModel",
      "_view_count": null,
      "_view_module": "@jupyter-widgets/base",
      "_view_module_version": "1.2.0",
      "_view_name": "StyleView",
      "description_width": ""
     }
    },
    "dbd12d44ada7410581f4f9a0532556ae": {
     "model_module": "jupyter-threejs",
     "model_module_version": "^2.4.1",
     "model_name": "SceneModel",
     "state": {
      "_model_module": "jupyter-threejs",
      "_model_module_version": "^2.4.1",
      "_model_name": "SceneModel",
      "_view_count": null,
      "_view_module": null,
      "_view_module_version": "",
      "_view_name": null,
      "autoUpdate": true,
      "background": "#ffffff",
      "castShadow": false,
      "children": [
       "IPY_MODEL_73da99c3a634410489b3217005de4267",
       "IPY_MODEL_8884a15509704f418e3baf747c978f21",
       "IPY_MODEL_af00878bc86e4811880053a056956e85"
      ],
      "fog": null,
      "frustumCulled": true,
      "matrix": [
       1,
       0,
       0,
       0,
       0,
       1,
       0,
       0,
       0,
       0,
       1,
       0,
       0,
       0,
       0,
       1
      ],
      "matrixAutoUpdate": true,
      "matrixWorld": [
       1,
       0,
       0,
       0,
       0,
       1,
       0,
       0,
       0,
       0,
       1,
       0,
       0,
       0,
       0,
       1
      ],
      "matrixWorldNeedsUpdate": false,
      "modelViewMatrix": [
       1,
       0,
       0,
       0,
       0,
       1,
       0,
       0,
       0,
       0,
       1,
       0,
       0,
       0,
       0,
       1
      ],
      "name": "",
      "normalMatrix": [
       1,
       0,
       0,
       0,
       1,
       0,
       0,
       0,
       1
      ],
      "overrideMaterial": null,
      "position": [
       0,
       0,
       0
      ],
      "quaternion": [
       0,
       0,
       0,
       1
      ],
      "receiveShadow": false,
      "renderOrder": 0,
      "rotation": [
       0,
       0,
       0,
       "XYZ"
      ],
      "scale": [
       1,
       1,
       1
      ],
      "type": "Scene",
      "up": [
       0,
       1,
       0
      ],
      "visible": true
     }
    },
    "de9fe104a3bf4d968e0b2a14fec64d3f": {
     "model_module": "@jupyter-widgets/controls",
     "model_module_version": "1.5.0",
     "model_name": "HTMLModel",
     "state": {
      "_dom_classes": [],
      "_model_module": "@jupyter-widgets/controls",
      "_model_module_version": "1.5.0",
      "_model_name": "HTMLModel",
      "_view_count": null,
      "_view_module": "@jupyter-widgets/controls",
      "_view_module_version": "1.5.0",
      "_view_name": "HTMLView",
      "description": "",
      "description_tooltip": null,
      "layout": "IPY_MODEL_1533304550944d8d95be6c339fc5f52c",
      "placeholder": "​",
      "style": "IPY_MODEL_26658e529d884939a63a46946fb3b6ed",
      "value": " 5000/5000 [02:08&lt;00:00, 64.48it/s, loss=0.000423]"
     }
    },
    "e18fcaef8e8f439f829be72913b09838": {
     "model_module": "@jupyter-widgets/base",
     "model_module_version": "1.2.0",
     "model_name": "LayoutModel",
     "state": {
      "_model_module": "@jupyter-widgets/base",
      "_model_module_version": "1.2.0",
      "_model_name": "LayoutModel",
      "_view_count": null,
      "_view_module": "@jupyter-widgets/base",
      "_view_module_version": "1.2.0",
      "_view_name": "LayoutView",
      "align_content": null,
      "align_items": null,
      "align_self": null,
      "border": null,
      "bottom": null,
      "display": null,
      "flex": null,
      "flex_flow": null,
      "grid_area": null,
      "grid_auto_columns": null,
      "grid_auto_flow": null,
      "grid_auto_rows": null,
      "grid_column": null,
      "grid_gap": null,
      "grid_row": null,
      "grid_template_areas": null,
      "grid_template_columns": null,
      "grid_template_rows": null,
      "height": null,
      "justify_content": null,
      "justify_items": null,
      "left": null,
      "margin": null,
      "max_height": null,
      "max_width": null,
      "min_height": null,
      "min_width": null,
      "object_fit": null,
      "object_position": null,
      "order": null,
      "overflow": null,
      "overflow_x": null,
      "overflow_y": null,
      "padding": null,
      "right": null,
      "top": null,
      "visibility": null,
      "width": null
     }
    },
    "e214829b89954685acf6c145ed2f2ca0": {
     "model_module": "jupyter-threejs",
     "model_module_version": "^2.4.1",
     "model_name": "BufferAttributeModel",
     "state": {
      "_model_module": "jupyter-threejs",
      "_model_module_version": "^2.4.1",
      "_model_name": "BufferAttributeModel",
      "_view_count": null,
      "_view_module": null,
      "_view_module_version": "",
      "_view_name": null,
      "array": {
       "dtype": "uint32",
       "shape": [
        18864
       ]
      },
      "dynamic": false,
      "needsUpdate": false,
      "normalized": false,
      "version": 1
     }
    },
    "e341313ad08d4122b0165faec7573670": {
     "model_module": "jupyter-threejs",
     "model_module_version": "^2.4.1",
     "model_name": "DirectionalLightModel",
     "state": {
      "_model_module": "jupyter-threejs",
      "_model_module_version": "^2.4.1",
      "_model_name": "DirectionalLightModel",
      "_view_count": null,
      "_view_module": null,
      "_view_module_version": "",
      "_view_name": null,
      "castShadow": false,
      "children": [],
      "color": "white",
      "frustumCulled": true,
      "intensity": 0.6,
      "matrix": [
       1,
       0,
       0,
       0,
       0,
       1,
       0,
       0,
       0,
       0,
       1,
       0,
       0,
       0,
       0,
       1
      ],
      "matrixAutoUpdate": true,
      "matrixWorld": [
       1,
       0,
       0,
       0,
       0,
       1,
       0,
       0,
       0,
       0,
       1,
       0,
       0,
       0,
       0,
       1
      ],
      "matrixWorldNeedsUpdate": true,
      "modelViewMatrix": [
       1,
       0,
       0,
       0,
       0,
       1,
       0,
       0,
       0,
       0,
       1,
       0,
       0,
       0,
       0,
       1
      ],
      "name": "",
      "normalMatrix": [
       1,
       0,
       0,
       0,
       1,
       0,
       0,
       0,
       1
      ],
      "position": [
       19.5,
       18.427691280841827,
       104.95571972235538
      ],
      "quaternion": [
       0,
       0,
       0,
       1
      ],
      "receiveShadow": false,
      "renderOrder": 0,
      "rotation": [
       0,
       0,
       0,
       "XYZ"
      ],
      "scale": [
       1,
       1,
       1
      ],
      "shadow": "IPY_MODEL_57412789-c56b-4d0c-b561-33ca19160cd4",
      "target": "IPY_MODEL_db90d448-a8f1-4067-904d-c535f2b8c0f1",
      "type": "DirectionalLight",
      "up": [
       0,
       1,
       0
      ],
      "visible": true
     }
    },
    "e5b98d80b35c4ea4afc5a349a33dd33d": {
     "model_module": "jupyter-threejs",
     "model_module_version": "^2.4.1",
     "model_name": "MeshModel",
     "state": {
      "_model_module": "jupyter-threejs",
      "_model_module_version": "^2.4.1",
      "_model_name": "MeshModel",
      "_view_count": null,
      "_view_module": null,
      "_view_module_version": "",
      "_view_name": null,
      "castShadow": false,
      "children": [],
      "drawMode": "TrianglesDrawMode",
      "frustumCulled": true,
      "geometry": "IPY_MODEL_5cf9d8a7f8244396b95182325f948b20",
      "material": "IPY_MODEL_96642999f3d84e48b06360efda7b7d53",
      "matrix": [
       1,
       0,
       0,
       0,
       0,
       1,
       0,
       0,
       0,
       0,
       1,
       0,
       0,
       0,
       0,
       1
      ],
      "matrixAutoUpdate": true,
      "matrixWorld": [
       1,
       0,
       0,
       0,
       0,
       1,
       0,
       0,
       0,
       0,
       1,
       0,
       0,
       0,
       0,
       1
      ],
      "matrixWorldNeedsUpdate": false,
      "modelViewMatrix": [
       1,
       0,
       0,
       0,
       0,
       1,
       0,
       0,
       0,
       0,
       1,
       0,
       0,
       0,
       0,
       1
      ],
      "morphTargetInfluences": [],
      "name": "",
      "normalMatrix": [
       1,
       0,
       0,
       0,
       1,
       0,
       0,
       0,
       1
      ],
      "position": [
       0,
       0,
       0
      ],
      "quaternion": [
       0,
       0,
       0,
       1
      ],
      "receiveShadow": false,
      "renderOrder": 0,
      "rotation": [
       0,
       0,
       0,
       "XYZ"
      ],
      "scale": [
       1,
       1,
       1
      ],
      "type": "Mesh",
      "up": [
       0,
       1,
       0
      ],
      "visible": true
     }
    },
    "e6c32731ffd94a6f995b0ed0b6b1ffd0": {
     "model_module": "@jupyter-widgets/controls",
     "model_module_version": "1.5.0",
     "model_name": "FloatProgressModel",
     "state": {
      "_dom_classes": [],
      "_model_module": "@jupyter-widgets/controls",
      "_model_module_version": "1.5.0",
      "_model_name": "FloatProgressModel",
      "_view_count": null,
      "_view_module": "@jupyter-widgets/controls",
      "_view_module_version": "1.5.0",
      "_view_name": "ProgressView",
      "bar_style": "success",
      "description": "",
      "description_tooltip": null,
      "layout": "IPY_MODEL_95271048ab31446b9402bf0aeda5b24d",
      "max": 5000,
      "min": 0,
      "orientation": "horizontal",
      "style": "IPY_MODEL_492ff3d421e346a08c14ffcfe5936ed4",
      "value": 5000
     }
    },
    "e7411a12b6e74aa38b8993650bb01f9a": {
     "model_module": "@jupyter-widgets/base",
     "model_module_version": "1.2.0",
     "model_name": "LayoutModel",
     "state": {
      "_model_module": "@jupyter-widgets/base",
      "_model_module_version": "1.2.0",
      "_model_name": "LayoutModel",
      "_view_count": null,
      "_view_module": "@jupyter-widgets/base",
      "_view_module_version": "1.2.0",
      "_view_name": "LayoutView",
      "align_content": null,
      "align_items": null,
      "align_self": null,
      "border": null,
      "bottom": null,
      "display": null,
      "flex": null,
      "flex_flow": null,
      "grid_area": null,
      "grid_auto_columns": null,
      "grid_auto_flow": null,
      "grid_auto_rows": null,
      "grid_column": null,
      "grid_gap": null,
      "grid_row": null,
      "grid_template_areas": null,
      "grid_template_columns": null,
      "grid_template_rows": null,
      "height": null,
      "justify_content": null,
      "justify_items": null,
      "left": null,
      "margin": null,
      "max_height": null,
      "max_width": null,
      "min_height": null,
      "min_width": null,
      "object_fit": null,
      "object_position": null,
      "order": null,
      "overflow": null,
      "overflow_x": null,
      "overflow_y": null,
      "padding": null,
      "right": null,
      "top": null,
      "visibility": null,
      "width": null
     }
    },
    "e78d9c9c6024421d8ebf899dfe9ed253": {
     "model_module": "jupyter-threejs",
     "model_module_version": "^2.4.1",
     "model_name": "RendererModel",
     "state": {
      "_alpha": false,
      "_antialias": true,
      "_dom_classes": [],
      "_height": 600,
      "_model_module": "jupyter-threejs",
      "_model_module_version": "^2.4.1",
      "_model_name": "RendererModel",
      "_pause_autorender": false,
      "_view_count": null,
      "_view_module": "jupyter-threejs",
      "_view_module_version": "^2.4.1",
      "_view_name": "RendererView",
      "_webgl_version": 2,
      "_width": 600,
      "autoClear": true,
      "autoClearColor": true,
      "autoClearDepth": true,
      "autoClearStencil": true,
      "background": "black",
      "background_opacity": 1,
      "camera": "IPY_MODEL_fd86e89f2ae34840930e97b98257ee2d",
      "clearColor": "#000000",
      "clearOpacity": 1,
      "clippingPlanes": [],
      "controls": [
       "IPY_MODEL_00eb5a564a8142fd8aaa5a1bfe279867"
      ],
      "gammaFactor": 2,
      "gammaInput": false,
      "gammaOutput": false,
      "layout": "IPY_MODEL_2cf64c8ba4f446b38cc2b1f92922cb60",
      "localClippingEnabled": false,
      "maxMorphNormals": 4,
      "maxMorphTargets": 8,
      "physicallyCorrectLights": false,
      "scene": "IPY_MODEL_c6340c75041b460c8440f20699d7b6cb",
      "shadowMap": "IPY_MODEL_334daf4803474cf6a3d88c5c2fefdb49",
      "sortObject": true,
      "toneMapping": "LinearToneMapping",
      "toneMappingExposure": 1,
      "toneMappingWhitePoint": 1
     }
    },
    "ef4250deb7be4c5db17a28dc05566477": {
     "model_module": "@jupyter-widgets/controls",
     "model_module_version": "1.5.0",
     "model_name": "HTMLModel",
     "state": {
      "_dom_classes": [],
      "_model_module": "@jupyter-widgets/controls",
      "_model_module_version": "1.5.0",
      "_model_name": "HTMLModel",
      "_view_count": null,
      "_view_module": "@jupyter-widgets/controls",
      "_view_module_version": "1.5.0",
      "_view_name": "HTMLView",
      "description": "",
      "description_tooltip": null,
      "layout": "IPY_MODEL_1c626e98e1a0446e8d70b53d74e0958f",
      "placeholder": "​",
      "style": "IPY_MODEL_d71b0598ce5f4be1bf75021d13826ff1",
      "value": "Training: 100%"
     }
    },
    "f6ddac9617d14a3995ef687f28439061": {
     "model_module": "jupyter-threejs",
     "model_module_version": "^2.4.1",
     "model_name": "BufferAttributeModel",
     "state": {
      "_model_module": "jupyter-threejs",
      "_model_module_version": "^2.4.1",
      "_model_name": "BufferAttributeModel",
      "_view_count": null,
      "_view_module": null,
      "_view_module_version": "",
      "_view_name": null,
      "array": {
       "dtype": "uint32",
       "shape": [
        28668
       ]
      },
      "dynamic": false,
      "needsUpdate": false,
      "normalized": false,
      "version": 1
     }
    },
    "f96246e78f1241d4a3bd704c5bce4122": {
     "model_module": "jupyter-threejs",
     "model_module_version": "^2.4.1",
     "model_name": "PerspectiveCameraModel",
     "state": {
      "_model_module": "jupyter-threejs",
      "_model_module_version": "^2.4.1",
      "_model_name": "PerspectiveCameraModel",
      "_view_count": null,
      "_view_module": null,
      "_view_module_version": "",
      "_view_name": null,
      "aspect": 1,
      "castShadow": false,
      "children": [
       "IPY_MODEL_49da82c6bb59404ab91092e0d87c12d7"
      ],
      "far": 2000,
      "focus": 83.31043859573917,
      "fov": 30,
      "frustumCulled": true,
      "matrix": [
       1,
       0,
       0,
       0,
       0,
       1,
       -4.264428010083962e-17,
       0,
       0,
       4.264428010083962e-17,
       1,
       0,
       18.959218978881836,
       16.472333371639255,
       98.343185685602,
       1
      ],
      "matrixAutoUpdate": true,
      "matrixWorld": [
       1,
       0,
       0,
       0,
       0,
       1,
       -4.264428010083962e-17,
       0,
       0,
       4.264428010083962e-17,
       1,
       0,
       18.959218978881836,
       16.472333371639255,
       98.343185685602,
       1
      ],
      "matrixWorldInverse": [
       1,
       0,
       0,
       0,
       0,
       1,
       4.264428010083962e-17,
       0,
       0,
       -4.264428010083962e-17,
       1,
       0,
       -18.959218978881836,
       -16.47233337163925,
       -98.343185685602,
       1
      ],
      "matrixWorldNeedsUpdate": false,
      "modelViewMatrix": [
       1,
       0,
       0,
       0,
       0,
       1,
       0,
       0,
       0,
       0,
       1,
       0,
       0,
       0,
       0,
       1
      ],
      "name": "",
      "near": 0.1,
      "normalMatrix": [
       1,
       0,
       0,
       0,
       1,
       0,
       0,
       0,
       1
      ],
      "position": [
       31.831329090400175,
       -65.0175895768844,
       26.622847095258457
      ],
      "projectionMatrix": [
       3.7320508075688776,
       0,
       0,
       0,
       0,
       3.7320508075688776,
       0,
       0,
       0,
       0,
       -1.00010000500025,
       -1,
       0,
       0,
       -0.200010000500025,
       0
      ],
      "quaternion": [
       0.5749131396136554,
       0.31609361153197446,
       -0.2559678212822491,
       0.7099578755928138
      ],
      "receiveShadow": false,
      "renderOrder": 0,
      "rotation": [
       -4.264428010083962e-17,
       0,
       0,
       "XYZ"
      ],
      "scale": [
       1,
       1,
       1
      ],
      "type": "PerspectiveCamera",
      "up": [
       0,
       1,
       0
      ],
      "visible": true,
      "zoom": 1
     }
    },
    "fb0e1201299146d0907726ba0a1671b8": {
     "model_module": "jupyter-threejs",
     "model_module_version": "^2.4.1",
     "model_name": "DirectionalLightModel",
     "state": {
      "_model_module": "jupyter-threejs",
      "_model_module_version": "^2.4.1",
      "_model_name": "DirectionalLightModel",
      "_view_count": null,
      "_view_module": null,
      "_view_module_version": "",
      "_view_name": null,
      "castShadow": false,
      "children": [],
      "color": "white",
      "frustumCulled": true,
      "intensity": 0.6,
      "matrix": [
       1,
       0,
       0,
       0,
       0,
       1,
       0,
       0,
       0,
       0,
       1,
       0,
       0,
       0,
       0,
       1
      ],
      "matrixAutoUpdate": true,
      "matrixWorld": [
       1,
       0,
       0,
       0,
       0,
       1,
       0,
       0,
       0,
       0,
       1,
       0,
       0,
       0,
       0,
       1
      ],
      "matrixWorldNeedsUpdate": true,
      "modelViewMatrix": [
       1,
       0,
       0,
       0,
       0,
       1,
       0,
       0,
       0,
       0,
       1,
       0,
       0,
       0,
       0,
       1
      ],
      "name": "",
      "normalMatrix": [
       1,
       0,
       0,
       0,
       1,
       0,
       0,
       0,
       1
      ],
      "position": [
       0.021650314331054688,
       21.444747924804688,
       342.955479493203
      ],
      "quaternion": [
       0,
       0,
       0,
       1
      ],
      "receiveShadow": false,
      "renderOrder": 0,
      "rotation": [
       0,
       0,
       0,
       "XYZ"
      ],
      "scale": [
       1,
       1,
       1
      ],
      "shadow": "IPY_MODEL_648c0713-3da2-4f66-ac3f-a20cc0f211e6",
      "target": "IPY_MODEL_0ad486d4-583d-4e67-b11a-fec060310aa0",
      "type": "DirectionalLight",
      "up": [
       0,
       1,
       0
      ],
      "visible": true
     }
    },
    "fd86e89f2ae34840930e97b98257ee2d": {
     "model_module": "jupyter-threejs",
     "model_module_version": "^2.4.1",
     "model_name": "PerspectiveCameraModel",
     "state": {
      "_model_module": "jupyter-threejs",
      "_model_module_version": "^2.4.1",
      "_model_name": "PerspectiveCameraModel",
      "_view_count": null,
      "_view_module": null,
      "_view_module_version": "",
      "_view_name": null,
      "aspect": 1,
      "castShadow": false,
      "children": [
       "IPY_MODEL_07b60692e5db42c4b77a5bc9e5696c6b"
      ],
      "far": 2000,
      "focus": 86.09200421115203,
      "fov": 30,
      "frustumCulled": true,
      "matrix": [
       1,
       0,
       0,
       0,
       0,
       1,
       -4.126647661828154e-17,
       0,
       0,
       4.126647661828154e-17,
       1,
       0,
       19.5,
       16.319141387939457,
       100.80268201371474,
       1
      ],
      "matrixAutoUpdate": true,
      "matrixWorld": [
       1,
       0,
       0,
       0,
       0,
       1,
       -4.126647661828154e-17,
       0,
       0,
       4.126647661828154e-17,
       1,
       0,
       19.5,
       16.319141387939457,
       100.80268201371474,
       1
      ],
      "matrixWorldInverse": [
       1,
       0,
       0,
       0,
       0,
       1,
       4.126647661828154e-17,
       0,
       0,
       -4.126647661828154e-17,
       1,
       0,
       -19.5,
       -16.319141387939453,
       -100.80268201371474,
       1
      ],
      "matrixWorldNeedsUpdate": false,
      "modelViewMatrix": [
       1,
       0,
       0,
       0,
       0,
       1,
       0,
       0,
       0,
       0,
       1,
       0,
       0,
       0,
       0,
       1
      ],
      "name": "",
      "near": 0.1,
      "normalMatrix": [
       1,
       0,
       0,
       0,
       1,
       0,
       0,
       0,
       1
      ],
      "position": [
       21.00455405074875,
       -127.4623379039908,
       14.77373730094787
      ],
      "projectionMatrix": [
       3.7320508075688776,
       0,
       0,
       0,
       0,
       3.7320508075688776,
       0,
       0,
       0,
       0,
       -1.00010000500025,
       -1,
       0,
       0,
       -0.200010000500025,
       0
      ],
      "quaternion": [
       0.5076820646545949,
       0.49197524723284136,
       -0.48684959610807865,
       0.5130270442263577
      ],
      "receiveShadow": false,
      "renderOrder": 0,
      "rotation": [
       -4.126647661828154e-17,
       0,
       0,
       "XYZ"
      ],
      "scale": [
       1,
       1,
       1
      ],
      "type": "PerspectiveCamera",
      "up": [
       0,
       1,
       0
      ],
      "visible": true,
      "zoom": 1
     }
    }
   }
  }
 },
 "nbformat": 4,
 "nbformat_minor": 5
}
